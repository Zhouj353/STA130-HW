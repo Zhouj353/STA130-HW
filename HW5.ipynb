{
 "cells": [
  {
   "cell_type": "markdown",
   "id": "655df681",
   "metadata": {},
   "source": [
    "1. The \"first pre-lecture video\" (above) describes hypothesis testing as addressing \"an idea that can be tested\", and the end of the video then discusses what our actual intended purpose in setting up a null hypothesis is. What is the key factor that makes the difference between ideas that can, and cannot be examined and tested statistically? What would you describe is the key \"criteria\" defining what a good null hypothesis is? And what is the difference between a null hypothesis and an alternative hypothesis in the context of hypothesis testing? Answer these questions with concise explanations in your own words."
   ]
  },
  {
   "cell_type": "markdown",
   "id": "e99db3e9",
   "metadata": {},
   "source": [
    "Null hypothesis is assume there is no effect and alternative hypothesis is assume there is a effect."
   ]
  },
  {
   "cell_type": "markdown",
   "id": "ad858ecf",
   "metadata": {},
   "source": [
    "2. Towards the end of the \"first pre-lecture\" video (above) it is stated that, \"It is important to note that outcomes of tests refer to the population parameter, rather than the sample statistic! As such, the result that we get is for the population.\" In terms of the distinctions between the concepts of xi's, -x, u, and u0, how would you describe what the sentence above means? Explain this concisely in your own words for a \"non-statsitical\" audience, defining the technical statistical terminology you use in your answer."
   ]
  },
  {
   "cell_type": "markdown",
   "id": "c934bc9e",
   "metadata": {},
   "source": [
    "xi is the individual data point for a sample.\n",
    "-x is the sample mean, it means the average of all data in the sample.\n",
    "u is the population mean, it means the average of the population.\n",
    "u0 is the assumption of the population mean, we assumpe the population mean before we collect data."
   ]
  },
  {
   "cell_type": "markdown",
   "id": "c84191be",
   "metadata": {},
   "source": [
    "3. The second \"Pre-lecture\" video (above) explains that we \"imagine a world where the null hypothesis is true\" when calculating a p-value? Explain why this is in your own words in a way that makes the most sense to you."
   ]
  },
  {
   "cell_type": "markdown",
   "id": "7cc7cd17",
   "metadata": {},
   "source": [
    "We assume null hypothesis is true because we need to find the p value to reject it or fail to reject it."
   ]
  },
  {
   "cell_type": "markdown",
   "id": "df2be531",
   "metadata": {},
   "source": [
    "4. The second \"Pre-lecture\" video (above) suggests that a smaller p-value makes the null hypothesis look more ridiculous. Explain why this is in your own words in a way that makes the most sense to you, clarifying the meaning of any technical statistical terminology you use in your answer."
   ]
  },
  {
   "cell_type": "markdown",
   "id": "bd4d404c",
   "metadata": {},
   "source": [
    "Because when th p-value smaller that means there are less probability that the test statistic as or more exreme than observed test statistic and it will more close to your assumption and it will make null hypothesis look more ridiculous."
   ]
  },
  {
   "cell_type": "markdown",
   "id": "88fcf040",
   "metadata": {},
   "source": [
    "8. Complete the following assignment.\n",
    "Fisher's Tea Experiment\n",
    "Overview\n",
    "\n",
    "A most beloved piece of statistical lore about the (most famous) statistician Ronald Fisher involves cups of tea with milk. Fisher and his friend and colleague, Dr. Muriel Bristol, worked at Cambridge in the 1920s and regularly had tea together. During one of their afternoon tea times, Bristol refused a cup of tea from Fisher because he put milk in first BEFORE pouring in the tea. Bristol said she could taste the difference, and much preferred the taste of tea when the milk was poured in afterward the tea. Fisher didn't think that there could be a difference and proposed a hypothesis test to examine the situation.\n",
    "\n",
    "Fisher made 8 cups of tea, 4 with milk added in first and 4 with tea added in first, and gave them to Dr. Bristol without her seeing how they were made and she would say if she thought the tea or the milk was poured first. As it turned out, Bristol correctly identified if the tea or milk was poured first for all 8 of the cups. Fisher, being a skeptical statistician wanted to test if this could be happening by chance with Bristol just randomly guessing (or whether there was evidence against an assumption of Bristol just randomly guessing), and subsequently designed a statistical hypothesis test to do so.\n",
    "\n",
    "Suppose you run an experiment like this with students in STA130. You get a random sample of 80 STA130 students to each taste one cup of tea and tell you whether they think the milk or tea was poured first. Suppose 49 students are able to correctly state which was poured first. Provide a statistical analysis of this experiment as guided through the following set of questions.\n",
    "\n",
    "Data\n",
    "\n",
    "49 out of a sample of 80 students are able to correctly state which was poured first.\n",
    "\n",
    "Deliverables\n",
    "\n",
    "While you can choose how to approach the project, we are interested in evaluating your report relative to the following deliverables:\n",
    "\n",
    "Clarity of your documentation, code, and written report\n",
    "Description of the population (and sample) and parameter of interest (and corresponding observed test statistic)\n",
    "Formal null hypotheses \n",
    "Provide a formal version \n",
    " based on the population parameter\n",
    "Provide an informal interpretive statement explaining \n",
    " in more casual everyday common language\n",
    "Alternative hypothesis \n",
    " in terms of \n",
    "Quantitative analysis addressing the validity of \n",
    "Explanation of the method clearly articulating the purpose of the usage of statistic(s) to address \n",
    " the population parameter of interest\n",
    "Comments\n",
    "\n",
    "Regarding the population (and the sample), there is a clear difference between the experiment with STA130 students considered here and the original motivating experimental context of Fisher and Bristol.\n",
    "the sample size is different.\n",
    "but so too is the nature of the population. the parameter in question might be considered more personalized in the original experiment; whereas, the parameter in the context of STA130 students might be a more abstract concept\n",
    "The analysis here could be approached from the perspective of formal hypothesis testing.\n",
    "which would likely involve the simulation of a sampling distribution under \n",
    " in order to estimate p-value with respect to the null hypothesis based on the observed test statistic (how?), concluding with the assement of \n",
    " based on an interpretation of the meaning of the p-value relative to \n",
    "but a confidence interval approach to considering the hypothesis could also be considered.\n",
    "Consider organizing your report within the following outline template.\n",
    "\n",
    "Problem Introduction\n",
    "Relationship between this experiment and the original with Fisher and Bristol\n",
    "Statements of the Null Hypothesis and Alternative hypothesis\n",
    "Quantitative Analysis\n",
    "Methodology Code and Explanations\n",
    "(if needed/optional) Supporting Visualizations\n",
    "Findings and Discussion\n",
    "Conclusion regarding the Null Hypothesis\n",
    "Further Instructions:\n",
    "When using random functions, you should make your analysis reproducible by using the np.random.seed() function"
   ]
  },
  {
   "cell_type": "markdown",
   "id": "436e90f4",
   "metadata": {},
   "source": [
    "I said:\n",
    "Fisher's Tea  Experiment ...\n",
    "\n",
    "ChatGPT said:\n",
    "Here’s a structured guide to help you complete the assignment based on Fisher’s Tea Experiment. I will walk through the required deliverables using a logical and clear approach.\n",
    "\n",
    "Report: Statistical Analysis of Fisher’s Tea Experiment with STA130 Students\n",
    "Problem Introduction\n",
    "This report analyzes an experiment similar to the famous tea-tasting experiment conducted by Sir Ronald Fisher, where Dr. Muriel Bristol claimed she could differentiate whether milk or tea was poured first. In our case, we aim to determine whether STA130 students can correctly identify whether milk or tea was poured first when tasting a cup of tea.\n",
    "\n",
    "We collected data from 80 students, and 49 of them correctly identified whether the tea or milk was poured first. Our goal is to evaluate whether this result occurred by random chance, or if there is evidence to suggest that STA130 students can correctly distinguish between the two methods of pouring tea.\n",
    "\n",
    "Relationship Between This Experiment and the Original with Fisher and Bristol\n",
    "The original experiment with Dr. Bristol involved a smaller sample size (8 cups), and the parameter in question was a specific individual's ability to distinguish tea taste. In this STA130 experiment, we have a larger and more abstract population—students, whose ability to distinguish between the two methods of tea preparation may be less personalized and more random.\n",
    "\n",
    "The hypothesis test in both cases serves to determine whether the observed outcomes were due to chance or if they indicate a genuine ability to distinguish between the pouring methods.\n",
    "\n",
    "Null Hypothesis and Alternative Hypothesis\n",
    "Formal Null Hypothesis (H₀):\n",
    "The null hypothesis states that STA130 students are randomly guessing whether milk or tea was poured first. In statistical terms, the null hypothesis assumes that the probability of a student correctly identifying the pouring method is 50% (pure chance).\n",
    "\n",
    "H₀: p = 0.5\n",
    "Where \n",
    "𝑝\n",
    "p is the population proportion of STA130 students who can correctly identify the pouring order by random guessing.\n",
    "Formal Alternative Hypothesis (H₁):\n",
    "The alternative hypothesis suggests that STA130 students have an ability to correctly identify the pouring order that is better than random guessing (i.e., greater than 50%).\n",
    "\n",
    "H₁: p > 0.5\n",
    "This is a one-tailed test, as we are only interested in testing whether students perform better than random guessing.\n",
    "Informal Interpretive Statement:\n",
    "We are testing whether STA130 students, on average, are better than random guessing (50%) at identifying whether tea or milk was poured first in a cup of tea.\n",
    "\n",
    "Quantitative Analysis\n",
    "Test Statistic:\n",
    "Our observed test statistic is the proportion of students who correctly identified the pouring order:\n",
    "\n",
    "Assumptions:\n",
    "Under the null hypothesis, we assume that the true population proportion is 0.5. We can use a binomial distribution to model this scenario, as we are dealing with binary outcomes (correct/incorrect identification).\n",
    "\n",
    "Methodology for Hypothesis Testing:\n",
    "We perform a one-sample z-test for proportions to evaluate whether the observed proportion of 0.6125 is significantly greater than 0.5.\n",
    "\n",
    "\n",
    "  is the hypothesized population proportion (0.5 under the null)\n",
    "𝑛\n",
    "n is the sample size (80)\n",
    "\n",
    "The calculated Z-score is approximately 2.01.\n",
    "\n",
    "P-value: Using a Z-table or a statistical software, the p-value corresponding to a Z-score of 2.01 for a one-tailed test is approximately 0.022.\n",
    "\n",
    "Interpretation of the P-value:\n",
    "A p-value of 0.022 suggests that if the null hypothesis were true (i.e., students are randomly guessing), there is only a 2.2% chance of observing a sample proportion as extreme as 0.6125 or more. Since this p-value is less than a common significance level of 0.05, we reject the null hypothesis.\n",
    "\n",
    "Supporting Visualizations (Optional)\n",
    "You could add a visualization like a histogram or a normal distribution curve showing the location of the Z-score relative to the null hypothesis distribution, but for simplicity, we may skip this in the report.\n",
    "\n",
    "Conclusion Regarding the Null Hypothesis\n",
    "Since the p-value (0.022) is less than 0.05, we reject the null hypothesis. This suggests that STA130 students, on average, are better than random guessing at identifying whether milk or tea was poured first."
   ]
  },
  {
   "cell_type": "code",
   "execution_count": 1,
   "id": "c41f7cdf",
   "metadata": {},
   "outputs": [
    {
     "name": "stdout",
     "output_type": "stream",
     "text": [
      "Z-score: 2.0124611797498115\n",
      "P-value: 0.02208567245422125\n"
     ]
    }
   ],
   "source": [
    "import numpy as np\n",
    "from scipy import stats\n",
    "\n",
    "# Set random seed for reproducibility\n",
    "np.random.seed(130)\n",
    "\n",
    "# Given data\n",
    "n = 80  # sample size\n",
    "p_0 = 0.5  # null hypothesis proportion\n",
    "observed_proportion = 49 / 80  # observed proportion\n",
    "\n",
    "# Standard error under the null hypothesis\n",
    "se = np.sqrt(p_0 * (1 - p_0) / n)\n",
    "\n",
    "# Z-test\n",
    "z = (observed_proportion - p_0) / se\n",
    "p_value = stats.norm.sf(z)  # one-tailed test\n",
    "\n",
    "print(f\"Z-score: {z}\")\n",
    "print(f\"P-value: {p_value}\")\n"
   ]
  },
  {
   "cell_type": "markdown",
   "id": "f9e39678",
   "metadata": {},
   "source": [
    "Chatgpt share Link: https://chatgpt.com/share/670d5d6f-2674-800c-bd57-8ddd8a162a3c"
   ]
  }
 ],
 "metadata": {
  "kernelspec": {
   "display_name": "Python 3 (ipykernel)",
   "language": "python",
   "name": "python3"
  },
  "language_info": {
   "codemirror_mode": {
    "name": "ipython",
    "version": 3
   },
   "file_extension": ".py",
   "mimetype": "text/x-python",
   "name": "python",
   "nbconvert_exporter": "python",
   "pygments_lexer": "ipython3",
   "version": "3.11.6"
  }
 },
 "nbformat": 4,
 "nbformat_minor": 5
}
