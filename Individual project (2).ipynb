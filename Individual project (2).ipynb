{
 "cells": [
  {
   "cell_type": "markdown",
   "id": "ac2ab990",
   "metadata": {},
   "source": [
    "Individual Proposals (due Mon Nov04, immediately upon return from Reading Week)\n",
    "[This is worth 2 course points, 11% of the project grade]\n",
    "\n",
    "Each student will individually suggest three (3) distinct analyses that they plan to use to explore the CSCS data\n",
    "\n",
    "Describe (a) the variables you plan to explore, and (b) the analysis you plan to perform\n",
    "Describe (a) the possible results your analysis may produce, and (b) how this could be relevant for the objectives of the course project\n",
    "Include your results if you have already completed an analysis\n",
    "Your TUT TA will review each students individual submission and create 6 groups of 3-4 students from your TUT (not students from other TUTs) based on the interests expressed in these proposals, and/or previously observed during TUT. If students have preferences about which team members they'd like to work with, they should include these along with their submitted proposals. Ideally students who are \"more actively engaged\" in the courese will be grouped together, while students demonstrating \"less course participation\" will form their own group.\n",
    "\n",
    "All project assignment requirements are independent of group size. All groups, regardless of size, will be evaluated according to the same rubric. Given the nature of the Course Project and its objectives, it would be possible for even a single student to accel with respect to the rubrics of the Course Project.\n",
    "There is a (recommended but optional) \"Current Course Project Capability Level\" section which guides students in applying the course topics from each week to the course project data. By Mon Nov04 students will have had exposure to the topics of Data Summarization, Visualization, Confidence Intervals, Hypothesis Testing, and Simple Linear regression, any combination of which would be appropriate choices for the proposed analyses. Student proposals don't necessarily have to be based on three different categories but a diverse proposal considering different approaches to exploring the project dataset likely would be. By Mon Nov04 students will not yet have enountered Mulitple Linear Regression or Decision Tree Classification, but they are welcome to propose analyses based on these methodologies if they are sufficiently familiar with these methodologies to do so sensibly. Students are also encouraged to integrate the considerations of the (recommended but optional) \"Ethical Profesionalism Considerations\" into their proposals. Addressing \"ethics\" in these proposals is not a required aspect of this assignment, but demonstrating an awareness of these perspectives within the proposal will certainly be viewed favorably at this stage in the coure project.\n",
    "\n",
    "\n"
   ]
  },
  {
   "cell_type": "markdown",
   "id": "8124e114",
   "metadata": {},
   "source": [
    "1. "
   ]
  },
  {
   "cell_type": "markdown",
   "id": "b2a1bdfb",
   "metadata": {},
   "source": [
    "Research Question 1: Find the relationship between social connection and happiness.\n",
    "\n",
    "Variables: \n",
    "1. Social connection, such as time spent with family and friedns. We can know how many time they spent in the social connection. \n",
    "2. Happiness, such as how happy they feel when they spent more time with their family and friends. We can know the difference of happiness between how many time they spent in social conncetion.\n",
    "\n",
    "Analysis: Use the statistics about mean, median,and distribution to make a bar chart or box plot to find the relationship between social interaction and happiness.\n",
    "\n",
    "Expected Outcome: Social interaction will have a positive improvement for self-happiness.\n",
    "\n",
    "Relevance: If social interaction have a positive improvement for self-happiness, we should spend more attentions on social interaction.\n",
    "\n",
    "\n"
   ]
  },
  {
   "cell_type": "markdown",
   "id": "7ecebe38",
   "metadata": {},
   "source": [
    "2. "
   ]
  },
  {
   "cell_type": "markdown",
   "id": "ec4f3df1",
   "metadata": {},
   "source": [
    "Research Question 2: Find the relationship between physical health and social interaction.\n",
    "\n",
    "Variables:\n",
    "1. Social connection, such as time spent with family and friedns. We can know how many time they spent in the social connection. \n",
    "2. Physical health scores, such as do they lower their blood pressure when they have a social interaction. \n",
    "\n",
    "Analysis: Use the statistics about mean, median,and distribution to make a bar chart or box plot to find the relationship between social interaction and physical health scores.\n",
    "\n",
    "Expected Outcome: There is a difference in physical health scores between highly social groups and less social groups.\n",
    "\n",
    "Relevance:  If social interaction have a positive improvement for physical health, we should spend more attentions on social interaction.\n",
    "\n",
    "\n"
   ]
  },
  {
   "cell_type": "markdown",
   "id": "cc6e21fc",
   "metadata": {},
   "source": [
    "3. "
   ]
  },
  {
   "cell_type": "markdown",
   "id": "d1071793",
   "metadata": {},
   "source": [
    "Research Question 3: Find the relationship between feeling of lonely and social interaction.\n",
    "\n",
    "Variables: \n",
    "1. Social connection, such as time spent with family and friedns. We can know how many time they spent in the social connection.\n",
    "2. lonliness, such as how lonely they feel when they spent less time with their family and friends.\n",
    "\n",
    "Analysis: Use the statistics about mean, median,and distribution to make a bar chart or box plot to find the relationship between social interaction and the level of feeling of lonely.\n",
    "\n",
    "Expected Outcome: People who have more social interaction will have less feeling of lonely.\n",
    "\n",
    "Relevance: If social interaction have a positive improvement for the feeling of lonely, we should spend more attentions on social interaction.\n",
    "\n",
    "\n"
   ]
  },
  {
   "cell_type": "markdown",
   "id": "2b334d6f",
   "metadata": {},
   "source": [
    "... "
   ]
  },
  {
   "cell_type": "markdown",
   "id": "f8001a75",
   "metadata": {},
   "source": [
    "I want to group with Yi Guo, Joshua Chen, and Jie Lue."
   ]
  }
 ],
 "metadata": {
  "kernelspec": {
   "display_name": "Python 3 (ipykernel)",
   "language": "python",
   "name": "python3"
  },
  "language_info": {
   "codemirror_mode": {
    "name": "ipython",
    "version": 3
   },
   "file_extension": ".py",
   "mimetype": "text/x-python",
   "name": "python",
   "nbconvert_exporter": "python",
   "pygments_lexer": "ipython3",
   "version": "3.11.6"
  }
 },
 "nbformat": 4,
 "nbformat_minor": 5
}
