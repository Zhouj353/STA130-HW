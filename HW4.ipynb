{
 "cells": [
  {
   "cell_type": "markdown",
   "id": "728957f0",
   "metadata": {},
   "source": [
    "1. The \"Pre-lecture\" video (above) mentioned the \"standard error of the mean\" as being the \"standard deviation\" of the distribution bootstrapped means. What is the difference between the \"standard error of the mean\" and the \"standard deviation\" of the original data? What distinct ideas do each of these capture? Explain this concisely in your own words."
   ]
  },
  {
   "cell_type": "markdown",
   "id": "f2b69961",
   "metadata": {},
   "source": [
    "I said:\n",
    "The \"Pre-lecture\" video (above) mentioned the \"standard error of the mean\" as being the \"standard deviation\" of the distribution bootstrapped means. What is the difference between the \"standard error of the mean\" and the \"standard deviation\" of the original data? What distinct ideas do each of these capture? Explain this concisely in your own words.\n",
    "\n",
    "ChatGPT said:\n",
    "The \"standard deviation\" of the original data measures how spread out the individual data points are within the dataset. It quantifies the variability of individual observations.\n",
    "\n",
    "The \"standard error of the mean\" (SEM), on the other hand, measures how much the sample mean (average) is expected to vary from sample to sample if we were to repeatedly take samples from the population. It quantifies the variability of the mean itself and is calculated as the standard deviation of the sampling distribution of the mean.\n",
    "\n",
    "In essence:\n",
    "\n",
    "Standard Deviation captures the variability within the data.\n",
    "Standard Error of the Mean captures the variability of the sample mean if we were to repeatedly sample from the same population.\n",
    "The SEM is typically smaller than the standard deviation because it represents the spread of sample means rather than individual data points.\n",
    "\n",
    "My explaination:\n",
    "Standard Deviation is to find the different in the data and the calculation and Standard Error of the Mean is to run many times of the data and find the different of every data's mean."
   ]
  },
  {
   "cell_type": "markdown",
   "id": "9db01558",
   "metadata": {},
   "source": [
    "2. The \"Pre-lecture\" video (above) suggested that the \"standard error of the mean\" could be used to create a confidence interval, but didn't describe exactly how to do this. How can we use the \"standard error of the mean\" to create a 95% confidence interval which \"covers 95% of the bootstrapped sample means\"? Explain this concisely in your own words."
   ]
  },
  {
   "cell_type": "markdown",
   "id": "377c021b",
   "metadata": {},
   "source": [
    "I said:\n",
    "The \"Pre-lecture\" video (above) suggested that the \"standard error of the mean\" could be used to create a confidence interval, but didn't describe exactly how to do this. How can we use the \"standard error of the mean\" to create a 95% confidence interval which \"covers 95% of the bootstrapped sample means\"? Explain this concisely in your own words.\n",
    "\n",
    "ChatGPT said:\n",
    "To create a 95% confidence interval using the standard error of the mean (SEM), we can use the formula:\n",
    "\n",
    "Confidence Interval = Sample Mean ± (Critical Value * SEM)\n",
    "\n",
    "Sample Mean: Calculate the mean of the original sample.\n",
    "SEM: Calculate the standard error of the mean.\n",
    "Critical Value: For a 95% confidence interval, the critical value is typically 1.96 (assuming a normal distribution).\n",
    "Thus, the 95% confidence interval is given by:\n",
    "\n",
    "Lower Bound = Sample Mean - (1.96 * SEM)\n",
    "Upper Bound = Sample Mean + (1.96 * SEM)\n",
    "\n",
    "This interval captures the range within which 95% of the bootstrapped sample means are expected to fall.\n",
    "\n",
    "I said：\n",
    "why is not 95\n",
    "\n",
    "ChatGPT said:\n",
    "The value 1.96 (rather than 95) is used because it corresponds to the number of standard errors needed to capture 95% of the distribution of sample means in a standard normal distribution (also known as a Z-distribution).\n",
    "\n",
    "In a standard normal distribution:\n",
    "\n",
    "95% of the data falls within ±1.96 standard deviations from the mean.\n",
    "This means that if we take the sample mean and add or subtract 1.96 times the SEM, it will give us a range that covers 95% of the potential sample means, forming the 95% confidence interval. Thus, 1.96 is a constant multiplier derived from the properties of the standard normal distribution, and it ensures the desired 95% coverage.\n",
    "\n",
    "My eaxplaination:\n",
    "We can use Sample Mean ± (1.96*SEM)"
   ]
  },
  {
   "cell_type": "markdown",
   "id": "11936423",
   "metadata": {},
   "source": [
    "3. Creating the \"sample mean plus and minus about 2 times the standard error\" confidence interval addressed in the previous problem should indeed cover approximately 95% of the bootstrapped sample means. Alternatively, how do we create a 95% bootstrapped confidence interval using the bootstrapped means (without using their standard deviation to estimate the standard error of the mean)? Explain this concisely in your own words."
   ]
  },
  {
   "cell_type": "markdown",
   "id": "59ed553d",
   "metadata": {},
   "source": [
    "We can run the sample 100 times and arrange them from smallest to biggest. Then find the data from 2.5% to 97.5%."
   ]
  },
  {
   "cell_type": "markdown",
   "id": "08751c82",
   "metadata": {},
   "source": [
    "4. The \"Pre-lecture\" video (above) mentioned that bootstrap confidence intervals could apply to other statistics of the sample, such as the \"median\". Work with a ChatBot to create code to produce a 95% bootstrap confidence interval for a population mean based on a sample that you have and comment the code to demonstrate how the code can be changed to produce a 95% bootstrap confidence interval for different population parameter (other than the population mean, such as the population median)."
   ]
  },
  {
   "cell_type": "code",
   "execution_count": 1,
   "id": "53a17d6a",
   "metadata": {},
   "outputs": [
    {
     "name": "stdout",
     "output_type": "stream",
     "text": [
      "95% Bootstrap Confidence Interval for the Mean: (7.8, 18.4)\n",
      "95% Bootstrap Confidence Interval for the Median: (5.0, 20.0)\n"
     ]
    }
   ],
   "source": [
    "import numpy as np\n",
    "\n",
    "# Step 1: Define the original sample data\n",
    "sample = [2, 3, 5, 7, 11, 13, 17, 19, 23, 29]  # Replace with your own sample data\n",
    "\n",
    "# Step 2: Define a function to perform bootstrapping and calculate the confidence interval\n",
    "def bootstrap_confidence_interval(data, stat_function=np.mean, n_bootstrap=1000, confidence_level=0.95):\n",
    "    \"\"\"\n",
    "    Calculates the bootstrap confidence interval for a specified statistic.\n",
    "\n",
    "    Parameters:\n",
    "    - data: array-like, original sample data\n",
    "    - stat_function: function, the statistic to be calculated (e.g., np.mean or np.median)\n",
    "    - n_bootstrap: int, number of bootstrap samples\n",
    "    - confidence_level: float, the confidence level for the interval\n",
    "\n",
    "    Returns:\n",
    "    - tuple: lower and upper bounds of the confidence interval\n",
    "    \"\"\"\n",
    "    # Step 3: Generate bootstrap samples and calculate the statistic for each sample\n",
    "    bootstrap_stats = [\n",
    "        stat_function(np.random.choice(data, size=len(data), replace=True))\n",
    "        for _ in range(n_bootstrap)\n",
    "    ]\n",
    "    \n",
    "    # Step 4: Calculate the percentiles for the specified confidence level\n",
    "    lower_bound = np.percentile(bootstrap_stats, (1 - confidence_level) / 2 * 100)\n",
    "    upper_bound = np.percentile(bootstrap_stats, (1 + confidence_level) / 2 * 100)\n",
    "    \n",
    "    return lower_bound, upper_bound\n",
    "\n",
    "# Step 5: Calculate the 95% confidence interval for the mean\n",
    "mean_conf_interval = bootstrap_confidence_interval(sample, stat_function=np.mean)\n",
    "print(f\"95% Bootstrap Confidence Interval for the Mean: {mean_conf_interval}\")\n",
    "\n",
    "# Step 6: Calculate the 95% confidence interval for the median\n",
    "median_conf_interval = bootstrap_confidence_interval(sample, stat_function=np.median)\n",
    "print(f\"95% Bootstrap Confidence Interval for the Median: {median_conf_interval}\")\n"
   ]
  },
  {
   "cell_type": "markdown",
   "id": "1dfc7ca1",
   "metadata": {},
   "source": [
    "5. The previous question addresses making a confidence interval for a population parameter based on a sample statistic. Why do we need to distinguish between the role of the popualation parameter and the sample sample statistic when it comes to confidence intervals? Explain this concisely in your own words."
   ]
  },
  {
   "cell_type": "markdown",
   "id": "56face31",
   "metadata": {},
   "source": [
    "I said:\n",
    "The previous question addresses making a confidence interval for a population parameter based on a sample statistic. Why do we need to distinguish between the role of the popualation parameter and the sample sample statistic when it comes to confidence intervals? Explain this concisely in your own words.\n",
    "\n",
    "ChatGPT said:\n",
    "We distinguish between the population parameter and the sample statistic because:\n",
    "\n",
    "Population Parameter: This is a fixed, true value that describes some characteristic of the entire population (e.g., population mean or median). However, it is usually unknown because we cannot access the entire population.\n",
    "\n",
    "Sample Statistic: This is an estimate of the population parameter based on a sample of data. It varies depending on which sample we take from the population.\n",
    "\n",
    "Confidence intervals are constructed around the sample statistic to provide a range of plausible values for the unknown population parameter. This distinction is crucial because we are using the variability in the sample statistic (e.g., through bootstrapping) to make inferences about the fixed but unknown population parameter.\n",
    "\n",
    "I said:\n",
    "what do you mean\n",
    "\n",
    "ChatGPT said:\n",
    "Let me clarify:\n",
    "\n",
    "When we talk about confidence intervals, we need to distinguish between two things:\n",
    "\n",
    "Population Parameter: This is the true value we want to estimate (e.g., the population mean, median, etc.). It’s fixed and does not change, but it is usually unknown because we can’t measure the entire population.\n",
    "\n",
    "Sample Statistic: This is an estimate of the population parameter calculated from a sample of data (e.g., the sample mean or median). It varies depending on the sample we take because different samples can produce different values.\n",
    "\n",
    "The reason we make this distinction is that the confidence interval is calculated using the sample statistic, but it’s used to make inferences about the unknown population parameter.\n",
    "\n",
    "In other words, we’re using the sample (which is just a small subset of the population) to estimate and draw conclusions about the entire population. Confidence intervals tell us how confident we are that our sample-based estimate (sample statistic) captures the true population value (population parameter).\n",
    "\n",
    "My explaination:\n",
    "Population Parameter is a fixed value and we do not know. Sample statistics is what we find from the population parameter."
   ]
  },
  {
   "cell_type": "markdown",
   "id": "20d8dff9",
   "metadata": {},
   "source": [
    "6. Provide written answers explaining the answers to the following questions in an informal manner of a conversation with a friend with little experience with statistics."
   ]
  },
  {
   "cell_type": "markdown",
   "id": "6b9ec673",
   "metadata": {},
   "source": [
    "1)What is the process of bootstrapping?\n",
    "\n",
    "The process of bootstrapping is to regenerate the sample lots of times.\n",
    "\n",
    "2)What is the main purpose of bootstrapping?\n",
    "\n",
    "The main purpose of bootstrapping is to find the distribution from the sample.\n",
    "\n",
    "3)If you had a (hypothesized) guess about what the average of a population was, and you had a sample of size n from that population, how could you use bootstrapping to assess whether or not your (hypothesized) guess might be plausible?\n",
    "\n",
    "I will use n to run 1000 times and find the distribution of average of population. If it has a small distribution then my hypothesized might be plausible."
   ]
  },
  {
   "cell_type": "markdown",
   "id": "f3d06b97",
   "metadata": {},
   "source": [
    "7. The \"Pre-lecture\" video (above) introduced hypothesis testing by saying that \"the confidence interval covers zero, so we cannot reject the hypothesis that the drug is [on average] not doing anything\". This conclusion could be referred to as \"failing to reject the null hypothesis\", where the term \"null\" refers to the concept of \"no effect [on average]\". Why does a confidence interval overlapping zero \"fail to reject the null hypothesis\" when the observed sample mean statistic itself is not zero? Alternatively, what would lead to the opposite conclusion in this context; namely, instead choosing \"to reject the null hypothesis\"? Explain the answers to these questions concisely in your own words."
   ]
  },
  {
   "cell_type": "markdown",
   "id": "78517f15",
   "metadata": {},
   "source": [
    "Because when the observed sample mean statistic itself is not zero, it might have varibility that makes the confidence interval \"fail to reject the null hypothesis\"."
   ]
  },
  {
   "cell_type": "markdown",
   "id": "44de4a31",
   "metadata": {},
   "source": [
    "8. Complete the following assignment.\n",
    "Vaccine Data Analysis Assignment"
   ]
  },
  {
   "cell_type": "code",
   "execution_count": null,
   "id": "aa779884",
   "metadata": {},
   "outputs": [],
   "source": [
    "import numpy as np\n",
    "import pandas as pd\n",
    "import matplotlib.pyplot as plt\n",
    "\n",
    "# Set random seed for reproducibility\n",
    "np.random.seed(42)\n",
    "\n",
    "# Create a CSV file with the given data and read it\n",
    "data = {\n",
    "    'PatientID': [1, 2, 3, 4, 5, 6, 7, 8, 9, 10],\n",
    "    'Age': [45, 34, 29, 52, 37, 41, 33, 48, 26, 39],\n",
    "    'Gender': ['M', 'F', 'M', 'F', 'M', 'F', 'M', 'F', 'M', 'F'],\n",
    "    'InitialHealthScore': [84, 78, 83, 81, 81, 80, 79, 85, 76, 83],\n",
    "    'FinalHealthScore': [86, 86, 80, 86, 84, 86, 86, 82, 83, 84]\n",
    "}\n",
    "df = pd.DataFrame(data)\n",
    "\n",
    "# Calculate the difference between Final and Initial Health Scores\n",
    "df['HealthScoreDifference'] = df['FinalHealthScore'] - df['InitialHealthScore']\n",
    "\n",
    "# Initial visualization of Health Scores Before and After Vaccination\n",
    "plt.figure(figsize=(10, 5))\n",
    "plt.plot(df['PatientID'], df['InitialHealthScore'], marker='o', label='Initial Health Score')\n",
    "plt.plot(df['PatientID'], df['FinalHealthScore'], marker='o', label='Final Health Score')\n",
    "plt.xlabel('Patient ID')\n",
    "plt.ylabel('Health Score')\n",
    "plt.title('Health Scores Before and After Vaccination')\n",
    "plt.legend()\n",
    "plt.grid()\n",
    "plt.show()\n",
    "\n",
    "# Visualization of Health Score Differences\n",
    "plt.figure(figsize=(6, 4))\n",
    "plt.hist(df['HealthScoreDifference'], bins=5, edgecolor='black')\n",
    "plt.xlabel('Health Score Difference (Final - Initial)')\n",
    "plt.ylabel('Frequency')\n",
    "plt.title('Distribution of Health Score Differences')\n",
    "plt.grid()\n",
    "plt.show()\n",
    "\n",
    "# Bootstrapping to get the empirical distribution of mean differences\n",
    "n_iterations = 1000  # Number of bootstrap samples\n",
    "boot_means = []\n",
    "for _ in range(n_iterations):\n",
    "    boot_sample = df['HealthScoreDifference'].sample(frac=1, replace=True)\n",
    "    boot_means.append(np.mean(boot_sample))\n",
    "\n",
    "# Compute 95% confidence interval for the bootstrap mean differences\n",
    "lower_bound = np.percentile(boot_means, 2.5)\n",
    "upper_bound = np.percentile(boot_means, 97.5)\n",
    "mean_diff_observed = np.mean(df['HealthScoreDifference'])\n",
    "\n",
    "print(f\"Observed Mean Difference: {mean_diff_observed}\")\n",
    "print(f\"95% Confidence Interval: [{lower_bound}, {upper_bound}]\")\n",
    "\n",
    "# Visualization of the Bootstrap Distribution\n",
    "plt.figure(figsize=(8, 5))\n",
    "plt.hist(boot_means, bins=30, edgecolor='black')\n",
    "plt.axvline(mean_diff_observed, color='red', linestyle='dashed', linewidth=2, label='Observed Mean Difference')\n",
    "plt.axvline(lower_bound, color='blue', linestyle='dashed', linewidth=2, label='95% CI Lower Bound')\n",
    "plt.axvline(upper_bound, color='blue', linestyle='dashed', linewidth=2, label='95% CI Upper Bound')\n",
    "plt.xlabel('Mean Difference of Health Scores')\n",
    "plt.ylabel('Frequency')\n",
    "plt.title('Bootstrap Distribution of Mean Differences')\n",
    "plt.legend()\n",
    "plt.grid()\n",
    "plt.show()\n"
   ]
  },
  {
   "cell_type": "markdown",
   "id": "65e4e50c",
   "metadata": {},
   "source": [
    "9. Have you reviewed the course wiki-textbook and interacted with a ChatBot (or, if that wasn't sufficient, real people in the course piazza discussion board or TA office hours) to help you understand all the material in the tutorial and lecture that you didn't quite follow when you first saw it?"
   ]
  },
  {
   "cell_type": "markdown",
   "id": "a89679b7",
   "metadata": {},
   "source": [
    "Yes, I do not understand what is standard error of the mean at the first time and I use ChatGPT to help me understand about it."
   ]
  }
 ],
 "metadata": {
  "kernelspec": {
   "display_name": "Python 3 (ipykernel)",
   "language": "python",
   "name": "python3"
  },
  "language_info": {
   "codemirror_mode": {
    "name": "ipython",
    "version": 3
   },
   "file_extension": ".py",
   "mimetype": "text/x-python",
   "name": "python",
   "nbconvert_exporter": "python",
   "pygments_lexer": "ipython3",
   "version": "3.11.6"
  }
 },
 "nbformat": 4,
 "nbformat_minor": 5
}
