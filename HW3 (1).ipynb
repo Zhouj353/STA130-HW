{
 "cells": [
  {
   "cell_type": "code",
   "execution_count": null,
   "id": "31bc5f18",
   "metadata": {},
   "outputs": [],
   "source": [
    "1. Use fig.add_[h/v]line() and fig.add_[h/v]rect() to mark, respspectively, location (mean and median) and scale \n",
    "(range, interquartile range, and a range defined by two standard deviations away from the mean in both directions) of \n",
    "flipper_length_mm for each species onto plotly histograms of flipper_length_mm for each species in the penguins dataset.\n"
   ]
  },
  {
   "cell_type": "code",
   "execution_count": 8,
   "id": "a4a96503",
   "metadata": {},
   "outputs": [
    {
     "data": {
      "application/vnd.plotly.v1+json": {
       "config": {
        "plotlyServerURL": "https://plot.ly"
       },
       "data": [
        {
         "alignmentgroup": "True",
         "bingroup": "x",
         "hovertemplate": "Flipper Length (mm)=%{x}<br>count=%{y}<extra></extra>",
         "legendgroup": "",
         "marker": {
          "color": "#636efa",
          "pattern": {
           "shape": ""
          }
         },
         "name": "",
         "nbinsx": 30,
         "offsetgroup": "",
         "orientation": "v",
         "showlegend": false,
         "type": "histogram",
         "x": [
          181,
          186,
          195,
          193,
          190,
          181,
          195,
          193,
          190,
          186,
          180,
          182,
          191,
          198,
          185,
          195,
          197,
          184,
          194,
          174,
          180,
          189,
          185,
          180,
          187,
          183,
          187,
          172,
          180,
          178,
          178,
          188,
          184,
          195,
          196,
          190,
          180,
          181,
          184,
          182,
          195,
          186,
          196,
          185,
          190,
          182,
          179,
          190,
          191,
          186,
          188,
          190,
          200,
          187,
          191,
          186,
          193,
          181,
          194,
          185,
          195,
          185,
          192,
          184,
          192,
          195,
          188,
          190,
          198,
          190,
          190,
          196,
          197,
          190,
          195,
          191,
          184,
          187,
          195,
          189,
          196,
          187,
          193,
          191,
          194,
          190,
          189,
          189,
          190,
          202,
          205,
          185,
          186,
          187,
          208,
          190,
          196,
          178,
          192,
          192,
          203,
          183,
          190,
          193,
          184,
          199,
          190,
          181,
          197,
          198,
          191,
          193,
          197,
          191,
          196,
          188,
          199,
          189,
          189,
          187,
          198,
          176,
          202,
          186,
          199,
          191,
          195,
          191,
          210,
          190,
          197,
          193,
          199,
          187,
          190,
          191,
          200,
          185,
          193,
          193,
          187,
          188,
          190,
          192,
          185,
          190,
          184,
          195,
          193,
          187,
          201
         ],
         "xaxis": "x",
         "yaxis": "y"
        }
       ],
       "layout": {
        "annotations": [
         {
          "showarrow": false,
          "text": "Mean",
          "x": 189.95364238410596,
          "xanchor": "left",
          "xref": "x",
          "y": 1,
          "yanchor": "top",
          "yref": "y domain"
         },
         {
          "showarrow": false,
          "text": "Median",
          "x": 190,
          "xanchor": "right",
          "xref": "x",
          "y": 1,
          "yanchor": "top",
          "yref": "y domain"
         },
         {
          "showarrow": false,
          "text": "Range",
          "x": 210,
          "xanchor": "right",
          "xref": "x",
          "y": 1,
          "yanchor": "top",
          "yref": "y domain"
         },
         {
          "showarrow": false,
          "text": "IQR",
          "x": 195,
          "xanchor": "right",
          "xref": "x",
          "y": 1,
          "yanchor": "top",
          "yref": "y domain"
         },
         {
          "showarrow": false,
          "text": "±2σ",
          "x": 203.03255721848856,
          "xanchor": "right",
          "xref": "x",
          "y": 1,
          "yanchor": "top",
          "yref": "y domain"
         }
        ],
        "barmode": "relative",
        "legend": {
         "tracegroupgap": 0
        },
        "shapes": [
         {
          "line": {
           "color": "blue",
           "dash": "dash"
          },
          "type": "line",
          "x0": 189.95364238410596,
          "x1": 189.95364238410596,
          "xref": "x",
          "y0": 0,
          "y1": 1,
          "yref": "y domain"
         },
         {
          "line": {
           "color": "green",
           "dash": "dot"
          },
          "type": "line",
          "x0": 190,
          "x1": 190,
          "xref": "x",
          "y0": 0,
          "y1": 1,
          "yref": "y domain"
         },
         {
          "fillcolor": "purple",
          "line": {
           "width": 0
          },
          "opacity": 0.1,
          "type": "rect",
          "x0": 172,
          "x1": 210,
          "xref": "x",
          "y0": 0,
          "y1": 1,
          "yref": "y domain"
         },
         {
          "fillcolor": "orange",
          "line": {
           "width": 0
          },
          "opacity": 0.2,
          "type": "rect",
          "x0": 186,
          "x1": 195,
          "xref": "x",
          "y0": 0,
          "y1": 1,
          "yref": "y domain"
         },
         {
          "fillcolor": "red",
          "line": {
           "width": 0
          },
          "opacity": 0.1,
          "type": "rect",
          "x0": 176.87472754972336,
          "x1": 203.03255721848856,
          "xref": "x",
          "y0": 0,
          "y1": 1,
          "yref": "y domain"
         }
        ],
        "template": {
         "data": {
          "bar": [
           {
            "error_x": {
             "color": "#2a3f5f"
            },
            "error_y": {
             "color": "#2a3f5f"
            },
            "marker": {
             "line": {
              "color": "#E5ECF6",
              "width": 0.5
             },
             "pattern": {
              "fillmode": "overlay",
              "size": 10,
              "solidity": 0.2
             }
            },
            "type": "bar"
           }
          ],
          "barpolar": [
           {
            "marker": {
             "line": {
              "color": "#E5ECF6",
              "width": 0.5
             },
             "pattern": {
              "fillmode": "overlay",
              "size": 10,
              "solidity": 0.2
             }
            },
            "type": "barpolar"
           }
          ],
          "carpet": [
           {
            "aaxis": {
             "endlinecolor": "#2a3f5f",
             "gridcolor": "white",
             "linecolor": "white",
             "minorgridcolor": "white",
             "startlinecolor": "#2a3f5f"
            },
            "baxis": {
             "endlinecolor": "#2a3f5f",
             "gridcolor": "white",
             "linecolor": "white",
             "minorgridcolor": "white",
             "startlinecolor": "#2a3f5f"
            },
            "type": "carpet"
           }
          ],
          "choropleth": [
           {
            "colorbar": {
             "outlinewidth": 0,
             "ticks": ""
            },
            "type": "choropleth"
           }
          ],
          "contour": [
           {
            "colorbar": {
             "outlinewidth": 0,
             "ticks": ""
            },
            "colorscale": [
             [
              0,
              "#0d0887"
             ],
             [
              0.1111111111111111,
              "#46039f"
             ],
             [
              0.2222222222222222,
              "#7201a8"
             ],
             [
              0.3333333333333333,
              "#9c179e"
             ],
             [
              0.4444444444444444,
              "#bd3786"
             ],
             [
              0.5555555555555556,
              "#d8576b"
             ],
             [
              0.6666666666666666,
              "#ed7953"
             ],
             [
              0.7777777777777778,
              "#fb9f3a"
             ],
             [
              0.8888888888888888,
              "#fdca26"
             ],
             [
              1,
              "#f0f921"
             ]
            ],
            "type": "contour"
           }
          ],
          "contourcarpet": [
           {
            "colorbar": {
             "outlinewidth": 0,
             "ticks": ""
            },
            "type": "contourcarpet"
           }
          ],
          "heatmap": [
           {
            "colorbar": {
             "outlinewidth": 0,
             "ticks": ""
            },
            "colorscale": [
             [
              0,
              "#0d0887"
             ],
             [
              0.1111111111111111,
              "#46039f"
             ],
             [
              0.2222222222222222,
              "#7201a8"
             ],
             [
              0.3333333333333333,
              "#9c179e"
             ],
             [
              0.4444444444444444,
              "#bd3786"
             ],
             [
              0.5555555555555556,
              "#d8576b"
             ],
             [
              0.6666666666666666,
              "#ed7953"
             ],
             [
              0.7777777777777778,
              "#fb9f3a"
             ],
             [
              0.8888888888888888,
              "#fdca26"
             ],
             [
              1,
              "#f0f921"
             ]
            ],
            "type": "heatmap"
           }
          ],
          "heatmapgl": [
           {
            "colorbar": {
             "outlinewidth": 0,
             "ticks": ""
            },
            "colorscale": [
             [
              0,
              "#0d0887"
             ],
             [
              0.1111111111111111,
              "#46039f"
             ],
             [
              0.2222222222222222,
              "#7201a8"
             ],
             [
              0.3333333333333333,
              "#9c179e"
             ],
             [
              0.4444444444444444,
              "#bd3786"
             ],
             [
              0.5555555555555556,
              "#d8576b"
             ],
             [
              0.6666666666666666,
              "#ed7953"
             ],
             [
              0.7777777777777778,
              "#fb9f3a"
             ],
             [
              0.8888888888888888,
              "#fdca26"
             ],
             [
              1,
              "#f0f921"
             ]
            ],
            "type": "heatmapgl"
           }
          ],
          "histogram": [
           {
            "marker": {
             "pattern": {
              "fillmode": "overlay",
              "size": 10,
              "solidity": 0.2
             }
            },
            "type": "histogram"
           }
          ],
          "histogram2d": [
           {
            "colorbar": {
             "outlinewidth": 0,
             "ticks": ""
            },
            "colorscale": [
             [
              0,
              "#0d0887"
             ],
             [
              0.1111111111111111,
              "#46039f"
             ],
             [
              0.2222222222222222,
              "#7201a8"
             ],
             [
              0.3333333333333333,
              "#9c179e"
             ],
             [
              0.4444444444444444,
              "#bd3786"
             ],
             [
              0.5555555555555556,
              "#d8576b"
             ],
             [
              0.6666666666666666,
              "#ed7953"
             ],
             [
              0.7777777777777778,
              "#fb9f3a"
             ],
             [
              0.8888888888888888,
              "#fdca26"
             ],
             [
              1,
              "#f0f921"
             ]
            ],
            "type": "histogram2d"
           }
          ],
          "histogram2dcontour": [
           {
            "colorbar": {
             "outlinewidth": 0,
             "ticks": ""
            },
            "colorscale": [
             [
              0,
              "#0d0887"
             ],
             [
              0.1111111111111111,
              "#46039f"
             ],
             [
              0.2222222222222222,
              "#7201a8"
             ],
             [
              0.3333333333333333,
              "#9c179e"
             ],
             [
              0.4444444444444444,
              "#bd3786"
             ],
             [
              0.5555555555555556,
              "#d8576b"
             ],
             [
              0.6666666666666666,
              "#ed7953"
             ],
             [
              0.7777777777777778,
              "#fb9f3a"
             ],
             [
              0.8888888888888888,
              "#fdca26"
             ],
             [
              1,
              "#f0f921"
             ]
            ],
            "type": "histogram2dcontour"
           }
          ],
          "mesh3d": [
           {
            "colorbar": {
             "outlinewidth": 0,
             "ticks": ""
            },
            "type": "mesh3d"
           }
          ],
          "parcoords": [
           {
            "line": {
             "colorbar": {
              "outlinewidth": 0,
              "ticks": ""
             }
            },
            "type": "parcoords"
           }
          ],
          "pie": [
           {
            "automargin": true,
            "type": "pie"
           }
          ],
          "scatter": [
           {
            "fillpattern": {
             "fillmode": "overlay",
             "size": 10,
             "solidity": 0.2
            },
            "type": "scatter"
           }
          ],
          "scatter3d": [
           {
            "line": {
             "colorbar": {
              "outlinewidth": 0,
              "ticks": ""
             }
            },
            "marker": {
             "colorbar": {
              "outlinewidth": 0,
              "ticks": ""
             }
            },
            "type": "scatter3d"
           }
          ],
          "scattercarpet": [
           {
            "marker": {
             "colorbar": {
              "outlinewidth": 0,
              "ticks": ""
             }
            },
            "type": "scattercarpet"
           }
          ],
          "scattergeo": [
           {
            "marker": {
             "colorbar": {
              "outlinewidth": 0,
              "ticks": ""
             }
            },
            "type": "scattergeo"
           }
          ],
          "scattergl": [
           {
            "marker": {
             "colorbar": {
              "outlinewidth": 0,
              "ticks": ""
             }
            },
            "type": "scattergl"
           }
          ],
          "scattermapbox": [
           {
            "marker": {
             "colorbar": {
              "outlinewidth": 0,
              "ticks": ""
             }
            },
            "type": "scattermapbox"
           }
          ],
          "scatterpolar": [
           {
            "marker": {
             "colorbar": {
              "outlinewidth": 0,
              "ticks": ""
             }
            },
            "type": "scatterpolar"
           }
          ],
          "scatterpolargl": [
           {
            "marker": {
             "colorbar": {
              "outlinewidth": 0,
              "ticks": ""
             }
            },
            "type": "scatterpolargl"
           }
          ],
          "scatterternary": [
           {
            "marker": {
             "colorbar": {
              "outlinewidth": 0,
              "ticks": ""
             }
            },
            "type": "scatterternary"
           }
          ],
          "surface": [
           {
            "colorbar": {
             "outlinewidth": 0,
             "ticks": ""
            },
            "colorscale": [
             [
              0,
              "#0d0887"
             ],
             [
              0.1111111111111111,
              "#46039f"
             ],
             [
              0.2222222222222222,
              "#7201a8"
             ],
             [
              0.3333333333333333,
              "#9c179e"
             ],
             [
              0.4444444444444444,
              "#bd3786"
             ],
             [
              0.5555555555555556,
              "#d8576b"
             ],
             [
              0.6666666666666666,
              "#ed7953"
             ],
             [
              0.7777777777777778,
              "#fb9f3a"
             ],
             [
              0.8888888888888888,
              "#fdca26"
             ],
             [
              1,
              "#f0f921"
             ]
            ],
            "type": "surface"
           }
          ],
          "table": [
           {
            "cells": {
             "fill": {
              "color": "#EBF0F8"
             },
             "line": {
              "color": "white"
             }
            },
            "header": {
             "fill": {
              "color": "#C8D4E3"
             },
             "line": {
              "color": "white"
             }
            },
            "type": "table"
           }
          ]
         },
         "layout": {
          "annotationdefaults": {
           "arrowcolor": "#2a3f5f",
           "arrowhead": 0,
           "arrowwidth": 1
          },
          "autotypenumbers": "strict",
          "coloraxis": {
           "colorbar": {
            "outlinewidth": 0,
            "ticks": ""
           }
          },
          "colorscale": {
           "diverging": [
            [
             0,
             "#8e0152"
            ],
            [
             0.1,
             "#c51b7d"
            ],
            [
             0.2,
             "#de77ae"
            ],
            [
             0.3,
             "#f1b6da"
            ],
            [
             0.4,
             "#fde0ef"
            ],
            [
             0.5,
             "#f7f7f7"
            ],
            [
             0.6,
             "#e6f5d0"
            ],
            [
             0.7,
             "#b8e186"
            ],
            [
             0.8,
             "#7fbc41"
            ],
            [
             0.9,
             "#4d9221"
            ],
            [
             1,
             "#276419"
            ]
           ],
           "sequential": [
            [
             0,
             "#0d0887"
            ],
            [
             0.1111111111111111,
             "#46039f"
            ],
            [
             0.2222222222222222,
             "#7201a8"
            ],
            [
             0.3333333333333333,
             "#9c179e"
            ],
            [
             0.4444444444444444,
             "#bd3786"
            ],
            [
             0.5555555555555556,
             "#d8576b"
            ],
            [
             0.6666666666666666,
             "#ed7953"
            ],
            [
             0.7777777777777778,
             "#fb9f3a"
            ],
            [
             0.8888888888888888,
             "#fdca26"
            ],
            [
             1,
             "#f0f921"
            ]
           ],
           "sequentialminus": [
            [
             0,
             "#0d0887"
            ],
            [
             0.1111111111111111,
             "#46039f"
            ],
            [
             0.2222222222222222,
             "#7201a8"
            ],
            [
             0.3333333333333333,
             "#9c179e"
            ],
            [
             0.4444444444444444,
             "#bd3786"
            ],
            [
             0.5555555555555556,
             "#d8576b"
            ],
            [
             0.6666666666666666,
             "#ed7953"
            ],
            [
             0.7777777777777778,
             "#fb9f3a"
            ],
            [
             0.8888888888888888,
             "#fdca26"
            ],
            [
             1,
             "#f0f921"
            ]
           ]
          },
          "colorway": [
           "#636efa",
           "#EF553B",
           "#00cc96",
           "#ab63fa",
           "#FFA15A",
           "#19d3f3",
           "#FF6692",
           "#B6E880",
           "#FF97FF",
           "#FECB52"
          ],
          "font": {
           "color": "#2a3f5f"
          },
          "geo": {
           "bgcolor": "white",
           "lakecolor": "white",
           "landcolor": "#E5ECF6",
           "showlakes": true,
           "showland": true,
           "subunitcolor": "white"
          },
          "hoverlabel": {
           "align": "left"
          },
          "hovermode": "closest",
          "mapbox": {
           "style": "light"
          },
          "paper_bgcolor": "white",
          "plot_bgcolor": "#E5ECF6",
          "polar": {
           "angularaxis": {
            "gridcolor": "white",
            "linecolor": "white",
            "ticks": ""
           },
           "bgcolor": "#E5ECF6",
           "radialaxis": {
            "gridcolor": "white",
            "linecolor": "white",
            "ticks": ""
           }
          },
          "scene": {
           "xaxis": {
            "backgroundcolor": "#E5ECF6",
            "gridcolor": "white",
            "gridwidth": 2,
            "linecolor": "white",
            "showbackground": true,
            "ticks": "",
            "zerolinecolor": "white"
           },
           "yaxis": {
            "backgroundcolor": "#E5ECF6",
            "gridcolor": "white",
            "gridwidth": 2,
            "linecolor": "white",
            "showbackground": true,
            "ticks": "",
            "zerolinecolor": "white"
           },
           "zaxis": {
            "backgroundcolor": "#E5ECF6",
            "gridcolor": "white",
            "gridwidth": 2,
            "linecolor": "white",
            "showbackground": true,
            "ticks": "",
            "zerolinecolor": "white"
           }
          },
          "shapedefaults": {
           "line": {
            "color": "#2a3f5f"
           }
          },
          "ternary": {
           "aaxis": {
            "gridcolor": "white",
            "linecolor": "white",
            "ticks": ""
           },
           "baxis": {
            "gridcolor": "white",
            "linecolor": "white",
            "ticks": ""
           },
           "bgcolor": "#E5ECF6",
           "caxis": {
            "gridcolor": "white",
            "linecolor": "white",
            "ticks": ""
           }
          },
          "title": {
           "x": 0.05
          },
          "xaxis": {
           "automargin": true,
           "gridcolor": "white",
           "linecolor": "white",
           "ticks": "",
           "title": {
            "standoff": 15
           },
           "zerolinecolor": "white",
           "zerolinewidth": 2
          },
          "yaxis": {
           "automargin": true,
           "gridcolor": "white",
           "linecolor": "white",
           "ticks": "",
           "title": {
            "standoff": 15
           },
           "zerolinecolor": "white",
           "zerolinewidth": 2
          }
         }
        },
        "title": {
         "text": "Adelie - Flipper Length Distribution"
        },
        "xaxis": {
         "anchor": "y",
         "domain": [
          0,
          1
         ],
         "title": {
          "text": "Flipper Length (mm)"
         }
        },
        "yaxis": {
         "anchor": "x",
         "domain": [
          0,
          1
         ],
         "title": {
          "text": "count"
         }
        }
       }
      },
      "text/html": [
       "<div>                            <div id=\"15f6c169-077c-4f94-a0f6-a526f056c701\" class=\"plotly-graph-div\" style=\"height:525px; width:100%;\"></div>            <script type=\"text/javascript\">                require([\"plotly\"], function(Plotly) {                    window.PLOTLYENV=window.PLOTLYENV || {};                                    if (document.getElementById(\"15f6c169-077c-4f94-a0f6-a526f056c701\")) {                    Plotly.newPlot(                        \"15f6c169-077c-4f94-a0f6-a526f056c701\",                        [{\"alignmentgroup\":\"True\",\"bingroup\":\"x\",\"hovertemplate\":\"Flipper Length (mm)=%{x}\\u003cbr\\u003ecount=%{y}\\u003cextra\\u003e\\u003c\\u002fextra\\u003e\",\"legendgroup\":\"\",\"marker\":{\"color\":\"#636efa\",\"pattern\":{\"shape\":\"\"}},\"name\":\"\",\"nbinsx\":30,\"offsetgroup\":\"\",\"orientation\":\"v\",\"showlegend\":false,\"x\":[181.0,186.0,195.0,193.0,190.0,181.0,195.0,193.0,190.0,186.0,180.0,182.0,191.0,198.0,185.0,195.0,197.0,184.0,194.0,174.0,180.0,189.0,185.0,180.0,187.0,183.0,187.0,172.0,180.0,178.0,178.0,188.0,184.0,195.0,196.0,190.0,180.0,181.0,184.0,182.0,195.0,186.0,196.0,185.0,190.0,182.0,179.0,190.0,191.0,186.0,188.0,190.0,200.0,187.0,191.0,186.0,193.0,181.0,194.0,185.0,195.0,185.0,192.0,184.0,192.0,195.0,188.0,190.0,198.0,190.0,190.0,196.0,197.0,190.0,195.0,191.0,184.0,187.0,195.0,189.0,196.0,187.0,193.0,191.0,194.0,190.0,189.0,189.0,190.0,202.0,205.0,185.0,186.0,187.0,208.0,190.0,196.0,178.0,192.0,192.0,203.0,183.0,190.0,193.0,184.0,199.0,190.0,181.0,197.0,198.0,191.0,193.0,197.0,191.0,196.0,188.0,199.0,189.0,189.0,187.0,198.0,176.0,202.0,186.0,199.0,191.0,195.0,191.0,210.0,190.0,197.0,193.0,199.0,187.0,190.0,191.0,200.0,185.0,193.0,193.0,187.0,188.0,190.0,192.0,185.0,190.0,184.0,195.0,193.0,187.0,201.0],\"xaxis\":\"x\",\"yaxis\":\"y\",\"type\":\"histogram\"}],                        {\"template\":{\"data\":{\"histogram2dcontour\":[{\"type\":\"histogram2dcontour\",\"colorbar\":{\"outlinewidth\":0,\"ticks\":\"\"},\"colorscale\":[[0.0,\"#0d0887\"],[0.1111111111111111,\"#46039f\"],[0.2222222222222222,\"#7201a8\"],[0.3333333333333333,\"#9c179e\"],[0.4444444444444444,\"#bd3786\"],[0.5555555555555556,\"#d8576b\"],[0.6666666666666666,\"#ed7953\"],[0.7777777777777778,\"#fb9f3a\"],[0.8888888888888888,\"#fdca26\"],[1.0,\"#f0f921\"]]}],\"choropleth\":[{\"type\":\"choropleth\",\"colorbar\":{\"outlinewidth\":0,\"ticks\":\"\"}}],\"histogram2d\":[{\"type\":\"histogram2d\",\"colorbar\":{\"outlinewidth\":0,\"ticks\":\"\"},\"colorscale\":[[0.0,\"#0d0887\"],[0.1111111111111111,\"#46039f\"],[0.2222222222222222,\"#7201a8\"],[0.3333333333333333,\"#9c179e\"],[0.4444444444444444,\"#bd3786\"],[0.5555555555555556,\"#d8576b\"],[0.6666666666666666,\"#ed7953\"],[0.7777777777777778,\"#fb9f3a\"],[0.8888888888888888,\"#fdca26\"],[1.0,\"#f0f921\"]]}],\"heatmap\":[{\"type\":\"heatmap\",\"colorbar\":{\"outlinewidth\":0,\"ticks\":\"\"},\"colorscale\":[[0.0,\"#0d0887\"],[0.1111111111111111,\"#46039f\"],[0.2222222222222222,\"#7201a8\"],[0.3333333333333333,\"#9c179e\"],[0.4444444444444444,\"#bd3786\"],[0.5555555555555556,\"#d8576b\"],[0.6666666666666666,\"#ed7953\"],[0.7777777777777778,\"#fb9f3a\"],[0.8888888888888888,\"#fdca26\"],[1.0,\"#f0f921\"]]}],\"heatmapgl\":[{\"type\":\"heatmapgl\",\"colorbar\":{\"outlinewidth\":0,\"ticks\":\"\"},\"colorscale\":[[0.0,\"#0d0887\"],[0.1111111111111111,\"#46039f\"],[0.2222222222222222,\"#7201a8\"],[0.3333333333333333,\"#9c179e\"],[0.4444444444444444,\"#bd3786\"],[0.5555555555555556,\"#d8576b\"],[0.6666666666666666,\"#ed7953\"],[0.7777777777777778,\"#fb9f3a\"],[0.8888888888888888,\"#fdca26\"],[1.0,\"#f0f921\"]]}],\"contourcarpet\":[{\"type\":\"contourcarpet\",\"colorbar\":{\"outlinewidth\":0,\"ticks\":\"\"}}],\"contour\":[{\"type\":\"contour\",\"colorbar\":{\"outlinewidth\":0,\"ticks\":\"\"},\"colorscale\":[[0.0,\"#0d0887\"],[0.1111111111111111,\"#46039f\"],[0.2222222222222222,\"#7201a8\"],[0.3333333333333333,\"#9c179e\"],[0.4444444444444444,\"#bd3786\"],[0.5555555555555556,\"#d8576b\"],[0.6666666666666666,\"#ed7953\"],[0.7777777777777778,\"#fb9f3a\"],[0.8888888888888888,\"#fdca26\"],[1.0,\"#f0f921\"]]}],\"surface\":[{\"type\":\"surface\",\"colorbar\":{\"outlinewidth\":0,\"ticks\":\"\"},\"colorscale\":[[0.0,\"#0d0887\"],[0.1111111111111111,\"#46039f\"],[0.2222222222222222,\"#7201a8\"],[0.3333333333333333,\"#9c179e\"],[0.4444444444444444,\"#bd3786\"],[0.5555555555555556,\"#d8576b\"],[0.6666666666666666,\"#ed7953\"],[0.7777777777777778,\"#fb9f3a\"],[0.8888888888888888,\"#fdca26\"],[1.0,\"#f0f921\"]]}],\"mesh3d\":[{\"type\":\"mesh3d\",\"colorbar\":{\"outlinewidth\":0,\"ticks\":\"\"}}],\"scatter\":[{\"fillpattern\":{\"fillmode\":\"overlay\",\"size\":10,\"solidity\":0.2},\"type\":\"scatter\"}],\"parcoords\":[{\"type\":\"parcoords\",\"line\":{\"colorbar\":{\"outlinewidth\":0,\"ticks\":\"\"}}}],\"scatterpolargl\":[{\"type\":\"scatterpolargl\",\"marker\":{\"colorbar\":{\"outlinewidth\":0,\"ticks\":\"\"}}}],\"bar\":[{\"error_x\":{\"color\":\"#2a3f5f\"},\"error_y\":{\"color\":\"#2a3f5f\"},\"marker\":{\"line\":{\"color\":\"#E5ECF6\",\"width\":0.5},\"pattern\":{\"fillmode\":\"overlay\",\"size\":10,\"solidity\":0.2}},\"type\":\"bar\"}],\"scattergeo\":[{\"type\":\"scattergeo\",\"marker\":{\"colorbar\":{\"outlinewidth\":0,\"ticks\":\"\"}}}],\"scatterpolar\":[{\"type\":\"scatterpolar\",\"marker\":{\"colorbar\":{\"outlinewidth\":0,\"ticks\":\"\"}}}],\"histogram\":[{\"marker\":{\"pattern\":{\"fillmode\":\"overlay\",\"size\":10,\"solidity\":0.2}},\"type\":\"histogram\"}],\"scattergl\":[{\"type\":\"scattergl\",\"marker\":{\"colorbar\":{\"outlinewidth\":0,\"ticks\":\"\"}}}],\"scatter3d\":[{\"type\":\"scatter3d\",\"line\":{\"colorbar\":{\"outlinewidth\":0,\"ticks\":\"\"}},\"marker\":{\"colorbar\":{\"outlinewidth\":0,\"ticks\":\"\"}}}],\"scattermapbox\":[{\"type\":\"scattermapbox\",\"marker\":{\"colorbar\":{\"outlinewidth\":0,\"ticks\":\"\"}}}],\"scatterternary\":[{\"type\":\"scatterternary\",\"marker\":{\"colorbar\":{\"outlinewidth\":0,\"ticks\":\"\"}}}],\"scattercarpet\":[{\"type\":\"scattercarpet\",\"marker\":{\"colorbar\":{\"outlinewidth\":0,\"ticks\":\"\"}}}],\"carpet\":[{\"aaxis\":{\"endlinecolor\":\"#2a3f5f\",\"gridcolor\":\"white\",\"linecolor\":\"white\",\"minorgridcolor\":\"white\",\"startlinecolor\":\"#2a3f5f\"},\"baxis\":{\"endlinecolor\":\"#2a3f5f\",\"gridcolor\":\"white\",\"linecolor\":\"white\",\"minorgridcolor\":\"white\",\"startlinecolor\":\"#2a3f5f\"},\"type\":\"carpet\"}],\"table\":[{\"cells\":{\"fill\":{\"color\":\"#EBF0F8\"},\"line\":{\"color\":\"white\"}},\"header\":{\"fill\":{\"color\":\"#C8D4E3\"},\"line\":{\"color\":\"white\"}},\"type\":\"table\"}],\"barpolar\":[{\"marker\":{\"line\":{\"color\":\"#E5ECF6\",\"width\":0.5},\"pattern\":{\"fillmode\":\"overlay\",\"size\":10,\"solidity\":0.2}},\"type\":\"barpolar\"}],\"pie\":[{\"automargin\":true,\"type\":\"pie\"}]},\"layout\":{\"autotypenumbers\":\"strict\",\"colorway\":[\"#636efa\",\"#EF553B\",\"#00cc96\",\"#ab63fa\",\"#FFA15A\",\"#19d3f3\",\"#FF6692\",\"#B6E880\",\"#FF97FF\",\"#FECB52\"],\"font\":{\"color\":\"#2a3f5f\"},\"hovermode\":\"closest\",\"hoverlabel\":{\"align\":\"left\"},\"paper_bgcolor\":\"white\",\"plot_bgcolor\":\"#E5ECF6\",\"polar\":{\"bgcolor\":\"#E5ECF6\",\"angularaxis\":{\"gridcolor\":\"white\",\"linecolor\":\"white\",\"ticks\":\"\"},\"radialaxis\":{\"gridcolor\":\"white\",\"linecolor\":\"white\",\"ticks\":\"\"}},\"ternary\":{\"bgcolor\":\"#E5ECF6\",\"aaxis\":{\"gridcolor\":\"white\",\"linecolor\":\"white\",\"ticks\":\"\"},\"baxis\":{\"gridcolor\":\"white\",\"linecolor\":\"white\",\"ticks\":\"\"},\"caxis\":{\"gridcolor\":\"white\",\"linecolor\":\"white\",\"ticks\":\"\"}},\"coloraxis\":{\"colorbar\":{\"outlinewidth\":0,\"ticks\":\"\"}},\"colorscale\":{\"sequential\":[[0.0,\"#0d0887\"],[0.1111111111111111,\"#46039f\"],[0.2222222222222222,\"#7201a8\"],[0.3333333333333333,\"#9c179e\"],[0.4444444444444444,\"#bd3786\"],[0.5555555555555556,\"#d8576b\"],[0.6666666666666666,\"#ed7953\"],[0.7777777777777778,\"#fb9f3a\"],[0.8888888888888888,\"#fdca26\"],[1.0,\"#f0f921\"]],\"sequentialminus\":[[0.0,\"#0d0887\"],[0.1111111111111111,\"#46039f\"],[0.2222222222222222,\"#7201a8\"],[0.3333333333333333,\"#9c179e\"],[0.4444444444444444,\"#bd3786\"],[0.5555555555555556,\"#d8576b\"],[0.6666666666666666,\"#ed7953\"],[0.7777777777777778,\"#fb9f3a\"],[0.8888888888888888,\"#fdca26\"],[1.0,\"#f0f921\"]],\"diverging\":[[0,\"#8e0152\"],[0.1,\"#c51b7d\"],[0.2,\"#de77ae\"],[0.3,\"#f1b6da\"],[0.4,\"#fde0ef\"],[0.5,\"#f7f7f7\"],[0.6,\"#e6f5d0\"],[0.7,\"#b8e186\"],[0.8,\"#7fbc41\"],[0.9,\"#4d9221\"],[1,\"#276419\"]]},\"xaxis\":{\"gridcolor\":\"white\",\"linecolor\":\"white\",\"ticks\":\"\",\"title\":{\"standoff\":15},\"zerolinecolor\":\"white\",\"automargin\":true,\"zerolinewidth\":2},\"yaxis\":{\"gridcolor\":\"white\",\"linecolor\":\"white\",\"ticks\":\"\",\"title\":{\"standoff\":15},\"zerolinecolor\":\"white\",\"automargin\":true,\"zerolinewidth\":2},\"scene\":{\"xaxis\":{\"backgroundcolor\":\"#E5ECF6\",\"gridcolor\":\"white\",\"linecolor\":\"white\",\"showbackground\":true,\"ticks\":\"\",\"zerolinecolor\":\"white\",\"gridwidth\":2},\"yaxis\":{\"backgroundcolor\":\"#E5ECF6\",\"gridcolor\":\"white\",\"linecolor\":\"white\",\"showbackground\":true,\"ticks\":\"\",\"zerolinecolor\":\"white\",\"gridwidth\":2},\"zaxis\":{\"backgroundcolor\":\"#E5ECF6\",\"gridcolor\":\"white\",\"linecolor\":\"white\",\"showbackground\":true,\"ticks\":\"\",\"zerolinecolor\":\"white\",\"gridwidth\":2}},\"shapedefaults\":{\"line\":{\"color\":\"#2a3f5f\"}},\"annotationdefaults\":{\"arrowcolor\":\"#2a3f5f\",\"arrowhead\":0,\"arrowwidth\":1},\"geo\":{\"bgcolor\":\"white\",\"landcolor\":\"#E5ECF6\",\"subunitcolor\":\"white\",\"showland\":true,\"showlakes\":true,\"lakecolor\":\"white\"},\"title\":{\"x\":0.05},\"mapbox\":{\"style\":\"light\"}}},\"xaxis\":{\"anchor\":\"y\",\"domain\":[0.0,1.0],\"title\":{\"text\":\"Flipper Length (mm)\"}},\"yaxis\":{\"anchor\":\"x\",\"domain\":[0.0,1.0],\"title\":{\"text\":\"count\"}},\"legend\":{\"tracegroupgap\":0},\"title\":{\"text\":\"Adelie - Flipper Length Distribution\"},\"barmode\":\"relative\",\"shapes\":[{\"line\":{\"color\":\"blue\",\"dash\":\"dash\"},\"type\":\"line\",\"x0\":189.95364238410596,\"x1\":189.95364238410596,\"xref\":\"x\",\"y0\":0,\"y1\":1,\"yref\":\"y domain\"},{\"line\":{\"color\":\"green\",\"dash\":\"dot\"},\"type\":\"line\",\"x0\":190.0,\"x1\":190.0,\"xref\":\"x\",\"y0\":0,\"y1\":1,\"yref\":\"y domain\"},{\"fillcolor\":\"purple\",\"line\":{\"width\":0},\"opacity\":0.1,\"type\":\"rect\",\"x0\":172.0,\"x1\":210.0,\"xref\":\"x\",\"y0\":0,\"y1\":1,\"yref\":\"y domain\"},{\"fillcolor\":\"orange\",\"line\":{\"width\":0},\"opacity\":0.2,\"type\":\"rect\",\"x0\":186.0,\"x1\":195.0,\"xref\":\"x\",\"y0\":0,\"y1\":1,\"yref\":\"y domain\"},{\"fillcolor\":\"red\",\"line\":{\"width\":0},\"opacity\":0.1,\"type\":\"rect\",\"x0\":176.87472754972336,\"x1\":203.03255721848856,\"xref\":\"x\",\"y0\":0,\"y1\":1,\"yref\":\"y domain\"}],\"annotations\":[{\"showarrow\":false,\"text\":\"Mean\",\"x\":189.95364238410596,\"xanchor\":\"left\",\"xref\":\"x\",\"y\":1,\"yanchor\":\"top\",\"yref\":\"y domain\"},{\"showarrow\":false,\"text\":\"Median\",\"x\":190.0,\"xanchor\":\"right\",\"xref\":\"x\",\"y\":1,\"yanchor\":\"top\",\"yref\":\"y domain\"},{\"showarrow\":false,\"text\":\"Range\",\"x\":210.0,\"xanchor\":\"right\",\"xref\":\"x\",\"y\":1,\"yanchor\":\"top\",\"yref\":\"y domain\"},{\"showarrow\":false,\"text\":\"IQR\",\"x\":195.0,\"xanchor\":\"right\",\"xref\":\"x\",\"y\":1,\"yanchor\":\"top\",\"yref\":\"y domain\"},{\"showarrow\":false,\"text\":\"\\u00b12\\u03c3\",\"x\":203.03255721848856,\"xanchor\":\"right\",\"xref\":\"x\",\"y\":1,\"yanchor\":\"top\",\"yref\":\"y domain\"}]},                        {\"responsive\": true}                    ).then(function(){\n",
       "                            \n",
       "var gd = document.getElementById('15f6c169-077c-4f94-a0f6-a526f056c701');\n",
       "var x = new MutationObserver(function (mutations, observer) {{\n",
       "        var display = window.getComputedStyle(gd).display;\n",
       "        if (!display || display === 'none') {{\n",
       "            console.log([gd, 'removed!']);\n",
       "            Plotly.purge(gd);\n",
       "            observer.disconnect();\n",
       "        }}\n",
       "}});\n",
       "\n",
       "// Listen for the removal of the full notebook cells\n",
       "var notebookContainer = gd.closest('#notebook-container');\n",
       "if (notebookContainer) {{\n",
       "    x.observe(notebookContainer, {childList: true});\n",
       "}}\n",
       "\n",
       "// Listen for the clearing of the current output cell\n",
       "var outputEl = gd.closest('.output');\n",
       "if (outputEl) {{\n",
       "    x.observe(outputEl, {childList: true});\n",
       "}}\n",
       "\n",
       "                        })                };                });            </script>        </div>"
      ]
     },
     "metadata": {},
     "output_type": "display_data"
    },
    {
     "data": {
      "application/vnd.plotly.v1+json": {
       "config": {
        "plotlyServerURL": "https://plot.ly"
       },
       "data": [
        {
         "alignmentgroup": "True",
         "bingroup": "x",
         "hovertemplate": "Flipper Length (mm)=%{x}<br>count=%{y}<extra></extra>",
         "legendgroup": "",
         "marker": {
          "color": "#636efa",
          "pattern": {
           "shape": ""
          }
         },
         "name": "",
         "nbinsx": 30,
         "offsetgroup": "",
         "orientation": "v",
         "showlegend": false,
         "type": "histogram",
         "x": [
          192,
          196,
          193,
          188,
          197,
          198,
          178,
          197,
          195,
          198,
          193,
          194,
          185,
          201,
          190,
          201,
          197,
          181,
          190,
          195,
          181,
          191,
          187,
          193,
          195,
          197,
          200,
          200,
          191,
          205,
          187,
          201,
          187,
          203,
          195,
          199,
          195,
          210,
          192,
          205,
          210,
          187,
          196,
          196,
          196,
          201,
          190,
          212,
          187,
          198,
          199,
          201,
          193,
          203,
          187,
          197,
          191,
          203,
          202,
          194,
          206,
          189,
          195,
          207,
          202,
          193,
          210,
          198
         ],
         "xaxis": "x",
         "yaxis": "y"
        }
       ],
       "layout": {
        "annotations": [
         {
          "showarrow": false,
          "text": "Mean",
          "x": 195.8235294117647,
          "xanchor": "left",
          "xref": "x",
          "y": 1,
          "yanchor": "top",
          "yref": "y domain"
         },
         {
          "showarrow": false,
          "text": "Median",
          "x": 196,
          "xanchor": "right",
          "xref": "x",
          "y": 1,
          "yanchor": "top",
          "yref": "y domain"
         },
         {
          "showarrow": false,
          "text": "Range",
          "x": 212,
          "xanchor": "right",
          "xref": "x",
          "y": 1,
          "yanchor": "top",
          "yref": "y domain"
         },
         {
          "showarrow": false,
          "text": "IQR",
          "x": 201,
          "xanchor": "right",
          "xref": "x",
          "y": 1,
          "yanchor": "top",
          "yref": "y domain"
         },
         {
          "showarrow": false,
          "text": "±2σ",
          "x": 210.08731792892098,
          "xanchor": "right",
          "xref": "x",
          "y": 1,
          "yanchor": "top",
          "yref": "y domain"
         }
        ],
        "barmode": "relative",
        "legend": {
         "tracegroupgap": 0
        },
        "shapes": [
         {
          "line": {
           "color": "blue",
           "dash": "dash"
          },
          "type": "line",
          "x0": 195.8235294117647,
          "x1": 195.8235294117647,
          "xref": "x",
          "y0": 0,
          "y1": 1,
          "yref": "y domain"
         },
         {
          "line": {
           "color": "green",
           "dash": "dot"
          },
          "type": "line",
          "x0": 196,
          "x1": 196,
          "xref": "x",
          "y0": 0,
          "y1": 1,
          "yref": "y domain"
         },
         {
          "fillcolor": "purple",
          "line": {
           "width": 0
          },
          "opacity": 0.1,
          "type": "rect",
          "x0": 178,
          "x1": 212,
          "xref": "x",
          "y0": 0,
          "y1": 1,
          "yref": "y domain"
         },
         {
          "fillcolor": "orange",
          "line": {
           "width": 0
          },
          "opacity": 0.2,
          "type": "rect",
          "x0": 191,
          "x1": 201,
          "xref": "x",
          "y0": 0,
          "y1": 1,
          "yref": "y domain"
         },
         {
          "fillcolor": "red",
          "line": {
           "width": 0
          },
          "opacity": 0.1,
          "type": "rect",
          "x0": 181.5597408946084,
          "x1": 210.08731792892098,
          "xref": "x",
          "y0": 0,
          "y1": 1,
          "yref": "y domain"
         }
        ],
        "template": {
         "data": {
          "bar": [
           {
            "error_x": {
             "color": "#2a3f5f"
            },
            "error_y": {
             "color": "#2a3f5f"
            },
            "marker": {
             "line": {
              "color": "#E5ECF6",
              "width": 0.5
             },
             "pattern": {
              "fillmode": "overlay",
              "size": 10,
              "solidity": 0.2
             }
            },
            "type": "bar"
           }
          ],
          "barpolar": [
           {
            "marker": {
             "line": {
              "color": "#E5ECF6",
              "width": 0.5
             },
             "pattern": {
              "fillmode": "overlay",
              "size": 10,
              "solidity": 0.2
             }
            },
            "type": "barpolar"
           }
          ],
          "carpet": [
           {
            "aaxis": {
             "endlinecolor": "#2a3f5f",
             "gridcolor": "white",
             "linecolor": "white",
             "minorgridcolor": "white",
             "startlinecolor": "#2a3f5f"
            },
            "baxis": {
             "endlinecolor": "#2a3f5f",
             "gridcolor": "white",
             "linecolor": "white",
             "minorgridcolor": "white",
             "startlinecolor": "#2a3f5f"
            },
            "type": "carpet"
           }
          ],
          "choropleth": [
           {
            "colorbar": {
             "outlinewidth": 0,
             "ticks": ""
            },
            "type": "choropleth"
           }
          ],
          "contour": [
           {
            "colorbar": {
             "outlinewidth": 0,
             "ticks": ""
            },
            "colorscale": [
             [
              0,
              "#0d0887"
             ],
             [
              0.1111111111111111,
              "#46039f"
             ],
             [
              0.2222222222222222,
              "#7201a8"
             ],
             [
              0.3333333333333333,
              "#9c179e"
             ],
             [
              0.4444444444444444,
              "#bd3786"
             ],
             [
              0.5555555555555556,
              "#d8576b"
             ],
             [
              0.6666666666666666,
              "#ed7953"
             ],
             [
              0.7777777777777778,
              "#fb9f3a"
             ],
             [
              0.8888888888888888,
              "#fdca26"
             ],
             [
              1,
              "#f0f921"
             ]
            ],
            "type": "contour"
           }
          ],
          "contourcarpet": [
           {
            "colorbar": {
             "outlinewidth": 0,
             "ticks": ""
            },
            "type": "contourcarpet"
           }
          ],
          "heatmap": [
           {
            "colorbar": {
             "outlinewidth": 0,
             "ticks": ""
            },
            "colorscale": [
             [
              0,
              "#0d0887"
             ],
             [
              0.1111111111111111,
              "#46039f"
             ],
             [
              0.2222222222222222,
              "#7201a8"
             ],
             [
              0.3333333333333333,
              "#9c179e"
             ],
             [
              0.4444444444444444,
              "#bd3786"
             ],
             [
              0.5555555555555556,
              "#d8576b"
             ],
             [
              0.6666666666666666,
              "#ed7953"
             ],
             [
              0.7777777777777778,
              "#fb9f3a"
             ],
             [
              0.8888888888888888,
              "#fdca26"
             ],
             [
              1,
              "#f0f921"
             ]
            ],
            "type": "heatmap"
           }
          ],
          "heatmapgl": [
           {
            "colorbar": {
             "outlinewidth": 0,
             "ticks": ""
            },
            "colorscale": [
             [
              0,
              "#0d0887"
             ],
             [
              0.1111111111111111,
              "#46039f"
             ],
             [
              0.2222222222222222,
              "#7201a8"
             ],
             [
              0.3333333333333333,
              "#9c179e"
             ],
             [
              0.4444444444444444,
              "#bd3786"
             ],
             [
              0.5555555555555556,
              "#d8576b"
             ],
             [
              0.6666666666666666,
              "#ed7953"
             ],
             [
              0.7777777777777778,
              "#fb9f3a"
             ],
             [
              0.8888888888888888,
              "#fdca26"
             ],
             [
              1,
              "#f0f921"
             ]
            ],
            "type": "heatmapgl"
           }
          ],
          "histogram": [
           {
            "marker": {
             "pattern": {
              "fillmode": "overlay",
              "size": 10,
              "solidity": 0.2
             }
            },
            "type": "histogram"
           }
          ],
          "histogram2d": [
           {
            "colorbar": {
             "outlinewidth": 0,
             "ticks": ""
            },
            "colorscale": [
             [
              0,
              "#0d0887"
             ],
             [
              0.1111111111111111,
              "#46039f"
             ],
             [
              0.2222222222222222,
              "#7201a8"
             ],
             [
              0.3333333333333333,
              "#9c179e"
             ],
             [
              0.4444444444444444,
              "#bd3786"
             ],
             [
              0.5555555555555556,
              "#d8576b"
             ],
             [
              0.6666666666666666,
              "#ed7953"
             ],
             [
              0.7777777777777778,
              "#fb9f3a"
             ],
             [
              0.8888888888888888,
              "#fdca26"
             ],
             [
              1,
              "#f0f921"
             ]
            ],
            "type": "histogram2d"
           }
          ],
          "histogram2dcontour": [
           {
            "colorbar": {
             "outlinewidth": 0,
             "ticks": ""
            },
            "colorscale": [
             [
              0,
              "#0d0887"
             ],
             [
              0.1111111111111111,
              "#46039f"
             ],
             [
              0.2222222222222222,
              "#7201a8"
             ],
             [
              0.3333333333333333,
              "#9c179e"
             ],
             [
              0.4444444444444444,
              "#bd3786"
             ],
             [
              0.5555555555555556,
              "#d8576b"
             ],
             [
              0.6666666666666666,
              "#ed7953"
             ],
             [
              0.7777777777777778,
              "#fb9f3a"
             ],
             [
              0.8888888888888888,
              "#fdca26"
             ],
             [
              1,
              "#f0f921"
             ]
            ],
            "type": "histogram2dcontour"
           }
          ],
          "mesh3d": [
           {
            "colorbar": {
             "outlinewidth": 0,
             "ticks": ""
            },
            "type": "mesh3d"
           }
          ],
          "parcoords": [
           {
            "line": {
             "colorbar": {
              "outlinewidth": 0,
              "ticks": ""
             }
            },
            "type": "parcoords"
           }
          ],
          "pie": [
           {
            "automargin": true,
            "type": "pie"
           }
          ],
          "scatter": [
           {
            "fillpattern": {
             "fillmode": "overlay",
             "size": 10,
             "solidity": 0.2
            },
            "type": "scatter"
           }
          ],
          "scatter3d": [
           {
            "line": {
             "colorbar": {
              "outlinewidth": 0,
              "ticks": ""
             }
            },
            "marker": {
             "colorbar": {
              "outlinewidth": 0,
              "ticks": ""
             }
            },
            "type": "scatter3d"
           }
          ],
          "scattercarpet": [
           {
            "marker": {
             "colorbar": {
              "outlinewidth": 0,
              "ticks": ""
             }
            },
            "type": "scattercarpet"
           }
          ],
          "scattergeo": [
           {
            "marker": {
             "colorbar": {
              "outlinewidth": 0,
              "ticks": ""
             }
            },
            "type": "scattergeo"
           }
          ],
          "scattergl": [
           {
            "marker": {
             "colorbar": {
              "outlinewidth": 0,
              "ticks": ""
             }
            },
            "type": "scattergl"
           }
          ],
          "scattermapbox": [
           {
            "marker": {
             "colorbar": {
              "outlinewidth": 0,
              "ticks": ""
             }
            },
            "type": "scattermapbox"
           }
          ],
          "scatterpolar": [
           {
            "marker": {
             "colorbar": {
              "outlinewidth": 0,
              "ticks": ""
             }
            },
            "type": "scatterpolar"
           }
          ],
          "scatterpolargl": [
           {
            "marker": {
             "colorbar": {
              "outlinewidth": 0,
              "ticks": ""
             }
            },
            "type": "scatterpolargl"
           }
          ],
          "scatterternary": [
           {
            "marker": {
             "colorbar": {
              "outlinewidth": 0,
              "ticks": ""
             }
            },
            "type": "scatterternary"
           }
          ],
          "surface": [
           {
            "colorbar": {
             "outlinewidth": 0,
             "ticks": ""
            },
            "colorscale": [
             [
              0,
              "#0d0887"
             ],
             [
              0.1111111111111111,
              "#46039f"
             ],
             [
              0.2222222222222222,
              "#7201a8"
             ],
             [
              0.3333333333333333,
              "#9c179e"
             ],
             [
              0.4444444444444444,
              "#bd3786"
             ],
             [
              0.5555555555555556,
              "#d8576b"
             ],
             [
              0.6666666666666666,
              "#ed7953"
             ],
             [
              0.7777777777777778,
              "#fb9f3a"
             ],
             [
              0.8888888888888888,
              "#fdca26"
             ],
             [
              1,
              "#f0f921"
             ]
            ],
            "type": "surface"
           }
          ],
          "table": [
           {
            "cells": {
             "fill": {
              "color": "#EBF0F8"
             },
             "line": {
              "color": "white"
             }
            },
            "header": {
             "fill": {
              "color": "#C8D4E3"
             },
             "line": {
              "color": "white"
             }
            },
            "type": "table"
           }
          ]
         },
         "layout": {
          "annotationdefaults": {
           "arrowcolor": "#2a3f5f",
           "arrowhead": 0,
           "arrowwidth": 1
          },
          "autotypenumbers": "strict",
          "coloraxis": {
           "colorbar": {
            "outlinewidth": 0,
            "ticks": ""
           }
          },
          "colorscale": {
           "diverging": [
            [
             0,
             "#8e0152"
            ],
            [
             0.1,
             "#c51b7d"
            ],
            [
             0.2,
             "#de77ae"
            ],
            [
             0.3,
             "#f1b6da"
            ],
            [
             0.4,
             "#fde0ef"
            ],
            [
             0.5,
             "#f7f7f7"
            ],
            [
             0.6,
             "#e6f5d0"
            ],
            [
             0.7,
             "#b8e186"
            ],
            [
             0.8,
             "#7fbc41"
            ],
            [
             0.9,
             "#4d9221"
            ],
            [
             1,
             "#276419"
            ]
           ],
           "sequential": [
            [
             0,
             "#0d0887"
            ],
            [
             0.1111111111111111,
             "#46039f"
            ],
            [
             0.2222222222222222,
             "#7201a8"
            ],
            [
             0.3333333333333333,
             "#9c179e"
            ],
            [
             0.4444444444444444,
             "#bd3786"
            ],
            [
             0.5555555555555556,
             "#d8576b"
            ],
            [
             0.6666666666666666,
             "#ed7953"
            ],
            [
             0.7777777777777778,
             "#fb9f3a"
            ],
            [
             0.8888888888888888,
             "#fdca26"
            ],
            [
             1,
             "#f0f921"
            ]
           ],
           "sequentialminus": [
            [
             0,
             "#0d0887"
            ],
            [
             0.1111111111111111,
             "#46039f"
            ],
            [
             0.2222222222222222,
             "#7201a8"
            ],
            [
             0.3333333333333333,
             "#9c179e"
            ],
            [
             0.4444444444444444,
             "#bd3786"
            ],
            [
             0.5555555555555556,
             "#d8576b"
            ],
            [
             0.6666666666666666,
             "#ed7953"
            ],
            [
             0.7777777777777778,
             "#fb9f3a"
            ],
            [
             0.8888888888888888,
             "#fdca26"
            ],
            [
             1,
             "#f0f921"
            ]
           ]
          },
          "colorway": [
           "#636efa",
           "#EF553B",
           "#00cc96",
           "#ab63fa",
           "#FFA15A",
           "#19d3f3",
           "#FF6692",
           "#B6E880",
           "#FF97FF",
           "#FECB52"
          ],
          "font": {
           "color": "#2a3f5f"
          },
          "geo": {
           "bgcolor": "white",
           "lakecolor": "white",
           "landcolor": "#E5ECF6",
           "showlakes": true,
           "showland": true,
           "subunitcolor": "white"
          },
          "hoverlabel": {
           "align": "left"
          },
          "hovermode": "closest",
          "mapbox": {
           "style": "light"
          },
          "paper_bgcolor": "white",
          "plot_bgcolor": "#E5ECF6",
          "polar": {
           "angularaxis": {
            "gridcolor": "white",
            "linecolor": "white",
            "ticks": ""
           },
           "bgcolor": "#E5ECF6",
           "radialaxis": {
            "gridcolor": "white",
            "linecolor": "white",
            "ticks": ""
           }
          },
          "scene": {
           "xaxis": {
            "backgroundcolor": "#E5ECF6",
            "gridcolor": "white",
            "gridwidth": 2,
            "linecolor": "white",
            "showbackground": true,
            "ticks": "",
            "zerolinecolor": "white"
           },
           "yaxis": {
            "backgroundcolor": "#E5ECF6",
            "gridcolor": "white",
            "gridwidth": 2,
            "linecolor": "white",
            "showbackground": true,
            "ticks": "",
            "zerolinecolor": "white"
           },
           "zaxis": {
            "backgroundcolor": "#E5ECF6",
            "gridcolor": "white",
            "gridwidth": 2,
            "linecolor": "white",
            "showbackground": true,
            "ticks": "",
            "zerolinecolor": "white"
           }
          },
          "shapedefaults": {
           "line": {
            "color": "#2a3f5f"
           }
          },
          "ternary": {
           "aaxis": {
            "gridcolor": "white",
            "linecolor": "white",
            "ticks": ""
           },
           "baxis": {
            "gridcolor": "white",
            "linecolor": "white",
            "ticks": ""
           },
           "bgcolor": "#E5ECF6",
           "caxis": {
            "gridcolor": "white",
            "linecolor": "white",
            "ticks": ""
           }
          },
          "title": {
           "x": 0.05
          },
          "xaxis": {
           "automargin": true,
           "gridcolor": "white",
           "linecolor": "white",
           "ticks": "",
           "title": {
            "standoff": 15
           },
           "zerolinecolor": "white",
           "zerolinewidth": 2
          },
          "yaxis": {
           "automargin": true,
           "gridcolor": "white",
           "linecolor": "white",
           "ticks": "",
           "title": {
            "standoff": 15
           },
           "zerolinecolor": "white",
           "zerolinewidth": 2
          }
         }
        },
        "title": {
         "text": "Chinstrap - Flipper Length Distribution"
        },
        "xaxis": {
         "anchor": "y",
         "domain": [
          0,
          1
         ],
         "title": {
          "text": "Flipper Length (mm)"
         }
        },
        "yaxis": {
         "anchor": "x",
         "domain": [
          0,
          1
         ],
         "title": {
          "text": "count"
         }
        }
       }
      },
      "text/html": [
       "<div>                            <div id=\"7d72405c-005e-47f5-9853-ea471fdc5dd5\" class=\"plotly-graph-div\" style=\"height:525px; width:100%;\"></div>            <script type=\"text/javascript\">                require([\"plotly\"], function(Plotly) {                    window.PLOTLYENV=window.PLOTLYENV || {};                                    if (document.getElementById(\"7d72405c-005e-47f5-9853-ea471fdc5dd5\")) {                    Plotly.newPlot(                        \"7d72405c-005e-47f5-9853-ea471fdc5dd5\",                        [{\"alignmentgroup\":\"True\",\"bingroup\":\"x\",\"hovertemplate\":\"Flipper Length (mm)=%{x}\\u003cbr\\u003ecount=%{y}\\u003cextra\\u003e\\u003c\\u002fextra\\u003e\",\"legendgroup\":\"\",\"marker\":{\"color\":\"#636efa\",\"pattern\":{\"shape\":\"\"}},\"name\":\"\",\"nbinsx\":30,\"offsetgroup\":\"\",\"orientation\":\"v\",\"showlegend\":false,\"x\":[192.0,196.0,193.0,188.0,197.0,198.0,178.0,197.0,195.0,198.0,193.0,194.0,185.0,201.0,190.0,201.0,197.0,181.0,190.0,195.0,181.0,191.0,187.0,193.0,195.0,197.0,200.0,200.0,191.0,205.0,187.0,201.0,187.0,203.0,195.0,199.0,195.0,210.0,192.0,205.0,210.0,187.0,196.0,196.0,196.0,201.0,190.0,212.0,187.0,198.0,199.0,201.0,193.0,203.0,187.0,197.0,191.0,203.0,202.0,194.0,206.0,189.0,195.0,207.0,202.0,193.0,210.0,198.0],\"xaxis\":\"x\",\"yaxis\":\"y\",\"type\":\"histogram\"}],                        {\"template\":{\"data\":{\"histogram2dcontour\":[{\"type\":\"histogram2dcontour\",\"colorbar\":{\"outlinewidth\":0,\"ticks\":\"\"},\"colorscale\":[[0.0,\"#0d0887\"],[0.1111111111111111,\"#46039f\"],[0.2222222222222222,\"#7201a8\"],[0.3333333333333333,\"#9c179e\"],[0.4444444444444444,\"#bd3786\"],[0.5555555555555556,\"#d8576b\"],[0.6666666666666666,\"#ed7953\"],[0.7777777777777778,\"#fb9f3a\"],[0.8888888888888888,\"#fdca26\"],[1.0,\"#f0f921\"]]}],\"choropleth\":[{\"type\":\"choropleth\",\"colorbar\":{\"outlinewidth\":0,\"ticks\":\"\"}}],\"histogram2d\":[{\"type\":\"histogram2d\",\"colorbar\":{\"outlinewidth\":0,\"ticks\":\"\"},\"colorscale\":[[0.0,\"#0d0887\"],[0.1111111111111111,\"#46039f\"],[0.2222222222222222,\"#7201a8\"],[0.3333333333333333,\"#9c179e\"],[0.4444444444444444,\"#bd3786\"],[0.5555555555555556,\"#d8576b\"],[0.6666666666666666,\"#ed7953\"],[0.7777777777777778,\"#fb9f3a\"],[0.8888888888888888,\"#fdca26\"],[1.0,\"#f0f921\"]]}],\"heatmap\":[{\"type\":\"heatmap\",\"colorbar\":{\"outlinewidth\":0,\"ticks\":\"\"},\"colorscale\":[[0.0,\"#0d0887\"],[0.1111111111111111,\"#46039f\"],[0.2222222222222222,\"#7201a8\"],[0.3333333333333333,\"#9c179e\"],[0.4444444444444444,\"#bd3786\"],[0.5555555555555556,\"#d8576b\"],[0.6666666666666666,\"#ed7953\"],[0.7777777777777778,\"#fb9f3a\"],[0.8888888888888888,\"#fdca26\"],[1.0,\"#f0f921\"]]}],\"heatmapgl\":[{\"type\":\"heatmapgl\",\"colorbar\":{\"outlinewidth\":0,\"ticks\":\"\"},\"colorscale\":[[0.0,\"#0d0887\"],[0.1111111111111111,\"#46039f\"],[0.2222222222222222,\"#7201a8\"],[0.3333333333333333,\"#9c179e\"],[0.4444444444444444,\"#bd3786\"],[0.5555555555555556,\"#d8576b\"],[0.6666666666666666,\"#ed7953\"],[0.7777777777777778,\"#fb9f3a\"],[0.8888888888888888,\"#fdca26\"],[1.0,\"#f0f921\"]]}],\"contourcarpet\":[{\"type\":\"contourcarpet\",\"colorbar\":{\"outlinewidth\":0,\"ticks\":\"\"}}],\"contour\":[{\"type\":\"contour\",\"colorbar\":{\"outlinewidth\":0,\"ticks\":\"\"},\"colorscale\":[[0.0,\"#0d0887\"],[0.1111111111111111,\"#46039f\"],[0.2222222222222222,\"#7201a8\"],[0.3333333333333333,\"#9c179e\"],[0.4444444444444444,\"#bd3786\"],[0.5555555555555556,\"#d8576b\"],[0.6666666666666666,\"#ed7953\"],[0.7777777777777778,\"#fb9f3a\"],[0.8888888888888888,\"#fdca26\"],[1.0,\"#f0f921\"]]}],\"surface\":[{\"type\":\"surface\",\"colorbar\":{\"outlinewidth\":0,\"ticks\":\"\"},\"colorscale\":[[0.0,\"#0d0887\"],[0.1111111111111111,\"#46039f\"],[0.2222222222222222,\"#7201a8\"],[0.3333333333333333,\"#9c179e\"],[0.4444444444444444,\"#bd3786\"],[0.5555555555555556,\"#d8576b\"],[0.6666666666666666,\"#ed7953\"],[0.7777777777777778,\"#fb9f3a\"],[0.8888888888888888,\"#fdca26\"],[1.0,\"#f0f921\"]]}],\"mesh3d\":[{\"type\":\"mesh3d\",\"colorbar\":{\"outlinewidth\":0,\"ticks\":\"\"}}],\"scatter\":[{\"fillpattern\":{\"fillmode\":\"overlay\",\"size\":10,\"solidity\":0.2},\"type\":\"scatter\"}],\"parcoords\":[{\"type\":\"parcoords\",\"line\":{\"colorbar\":{\"outlinewidth\":0,\"ticks\":\"\"}}}],\"scatterpolargl\":[{\"type\":\"scatterpolargl\",\"marker\":{\"colorbar\":{\"outlinewidth\":0,\"ticks\":\"\"}}}],\"bar\":[{\"error_x\":{\"color\":\"#2a3f5f\"},\"error_y\":{\"color\":\"#2a3f5f\"},\"marker\":{\"line\":{\"color\":\"#E5ECF6\",\"width\":0.5},\"pattern\":{\"fillmode\":\"overlay\",\"size\":10,\"solidity\":0.2}},\"type\":\"bar\"}],\"scattergeo\":[{\"type\":\"scattergeo\",\"marker\":{\"colorbar\":{\"outlinewidth\":0,\"ticks\":\"\"}}}],\"scatterpolar\":[{\"type\":\"scatterpolar\",\"marker\":{\"colorbar\":{\"outlinewidth\":0,\"ticks\":\"\"}}}],\"histogram\":[{\"marker\":{\"pattern\":{\"fillmode\":\"overlay\",\"size\":10,\"solidity\":0.2}},\"type\":\"histogram\"}],\"scattergl\":[{\"type\":\"scattergl\",\"marker\":{\"colorbar\":{\"outlinewidth\":0,\"ticks\":\"\"}}}],\"scatter3d\":[{\"type\":\"scatter3d\",\"line\":{\"colorbar\":{\"outlinewidth\":0,\"ticks\":\"\"}},\"marker\":{\"colorbar\":{\"outlinewidth\":0,\"ticks\":\"\"}}}],\"scattermapbox\":[{\"type\":\"scattermapbox\",\"marker\":{\"colorbar\":{\"outlinewidth\":0,\"ticks\":\"\"}}}],\"scatterternary\":[{\"type\":\"scatterternary\",\"marker\":{\"colorbar\":{\"outlinewidth\":0,\"ticks\":\"\"}}}],\"scattercarpet\":[{\"type\":\"scattercarpet\",\"marker\":{\"colorbar\":{\"outlinewidth\":0,\"ticks\":\"\"}}}],\"carpet\":[{\"aaxis\":{\"endlinecolor\":\"#2a3f5f\",\"gridcolor\":\"white\",\"linecolor\":\"white\",\"minorgridcolor\":\"white\",\"startlinecolor\":\"#2a3f5f\"},\"baxis\":{\"endlinecolor\":\"#2a3f5f\",\"gridcolor\":\"white\",\"linecolor\":\"white\",\"minorgridcolor\":\"white\",\"startlinecolor\":\"#2a3f5f\"},\"type\":\"carpet\"}],\"table\":[{\"cells\":{\"fill\":{\"color\":\"#EBF0F8\"},\"line\":{\"color\":\"white\"}},\"header\":{\"fill\":{\"color\":\"#C8D4E3\"},\"line\":{\"color\":\"white\"}},\"type\":\"table\"}],\"barpolar\":[{\"marker\":{\"line\":{\"color\":\"#E5ECF6\",\"width\":0.5},\"pattern\":{\"fillmode\":\"overlay\",\"size\":10,\"solidity\":0.2}},\"type\":\"barpolar\"}],\"pie\":[{\"automargin\":true,\"type\":\"pie\"}]},\"layout\":{\"autotypenumbers\":\"strict\",\"colorway\":[\"#636efa\",\"#EF553B\",\"#00cc96\",\"#ab63fa\",\"#FFA15A\",\"#19d3f3\",\"#FF6692\",\"#B6E880\",\"#FF97FF\",\"#FECB52\"],\"font\":{\"color\":\"#2a3f5f\"},\"hovermode\":\"closest\",\"hoverlabel\":{\"align\":\"left\"},\"paper_bgcolor\":\"white\",\"plot_bgcolor\":\"#E5ECF6\",\"polar\":{\"bgcolor\":\"#E5ECF6\",\"angularaxis\":{\"gridcolor\":\"white\",\"linecolor\":\"white\",\"ticks\":\"\"},\"radialaxis\":{\"gridcolor\":\"white\",\"linecolor\":\"white\",\"ticks\":\"\"}},\"ternary\":{\"bgcolor\":\"#E5ECF6\",\"aaxis\":{\"gridcolor\":\"white\",\"linecolor\":\"white\",\"ticks\":\"\"},\"baxis\":{\"gridcolor\":\"white\",\"linecolor\":\"white\",\"ticks\":\"\"},\"caxis\":{\"gridcolor\":\"white\",\"linecolor\":\"white\",\"ticks\":\"\"}},\"coloraxis\":{\"colorbar\":{\"outlinewidth\":0,\"ticks\":\"\"}},\"colorscale\":{\"sequential\":[[0.0,\"#0d0887\"],[0.1111111111111111,\"#46039f\"],[0.2222222222222222,\"#7201a8\"],[0.3333333333333333,\"#9c179e\"],[0.4444444444444444,\"#bd3786\"],[0.5555555555555556,\"#d8576b\"],[0.6666666666666666,\"#ed7953\"],[0.7777777777777778,\"#fb9f3a\"],[0.8888888888888888,\"#fdca26\"],[1.0,\"#f0f921\"]],\"sequentialminus\":[[0.0,\"#0d0887\"],[0.1111111111111111,\"#46039f\"],[0.2222222222222222,\"#7201a8\"],[0.3333333333333333,\"#9c179e\"],[0.4444444444444444,\"#bd3786\"],[0.5555555555555556,\"#d8576b\"],[0.6666666666666666,\"#ed7953\"],[0.7777777777777778,\"#fb9f3a\"],[0.8888888888888888,\"#fdca26\"],[1.0,\"#f0f921\"]],\"diverging\":[[0,\"#8e0152\"],[0.1,\"#c51b7d\"],[0.2,\"#de77ae\"],[0.3,\"#f1b6da\"],[0.4,\"#fde0ef\"],[0.5,\"#f7f7f7\"],[0.6,\"#e6f5d0\"],[0.7,\"#b8e186\"],[0.8,\"#7fbc41\"],[0.9,\"#4d9221\"],[1,\"#276419\"]]},\"xaxis\":{\"gridcolor\":\"white\",\"linecolor\":\"white\",\"ticks\":\"\",\"title\":{\"standoff\":15},\"zerolinecolor\":\"white\",\"automargin\":true,\"zerolinewidth\":2},\"yaxis\":{\"gridcolor\":\"white\",\"linecolor\":\"white\",\"ticks\":\"\",\"title\":{\"standoff\":15},\"zerolinecolor\":\"white\",\"automargin\":true,\"zerolinewidth\":2},\"scene\":{\"xaxis\":{\"backgroundcolor\":\"#E5ECF6\",\"gridcolor\":\"white\",\"linecolor\":\"white\",\"showbackground\":true,\"ticks\":\"\",\"zerolinecolor\":\"white\",\"gridwidth\":2},\"yaxis\":{\"backgroundcolor\":\"#E5ECF6\",\"gridcolor\":\"white\",\"linecolor\":\"white\",\"showbackground\":true,\"ticks\":\"\",\"zerolinecolor\":\"white\",\"gridwidth\":2},\"zaxis\":{\"backgroundcolor\":\"#E5ECF6\",\"gridcolor\":\"white\",\"linecolor\":\"white\",\"showbackground\":true,\"ticks\":\"\",\"zerolinecolor\":\"white\",\"gridwidth\":2}},\"shapedefaults\":{\"line\":{\"color\":\"#2a3f5f\"}},\"annotationdefaults\":{\"arrowcolor\":\"#2a3f5f\",\"arrowhead\":0,\"arrowwidth\":1},\"geo\":{\"bgcolor\":\"white\",\"landcolor\":\"#E5ECF6\",\"subunitcolor\":\"white\",\"showland\":true,\"showlakes\":true,\"lakecolor\":\"white\"},\"title\":{\"x\":0.05},\"mapbox\":{\"style\":\"light\"}}},\"xaxis\":{\"anchor\":\"y\",\"domain\":[0.0,1.0],\"title\":{\"text\":\"Flipper Length (mm)\"}},\"yaxis\":{\"anchor\":\"x\",\"domain\":[0.0,1.0],\"title\":{\"text\":\"count\"}},\"legend\":{\"tracegroupgap\":0},\"title\":{\"text\":\"Chinstrap - Flipper Length Distribution\"},\"barmode\":\"relative\",\"shapes\":[{\"line\":{\"color\":\"blue\",\"dash\":\"dash\"},\"type\":\"line\",\"x0\":195.8235294117647,\"x1\":195.8235294117647,\"xref\":\"x\",\"y0\":0,\"y1\":1,\"yref\":\"y domain\"},{\"line\":{\"color\":\"green\",\"dash\":\"dot\"},\"type\":\"line\",\"x0\":196.0,\"x1\":196.0,\"xref\":\"x\",\"y0\":0,\"y1\":1,\"yref\":\"y domain\"},{\"fillcolor\":\"purple\",\"line\":{\"width\":0},\"opacity\":0.1,\"type\":\"rect\",\"x0\":178.0,\"x1\":212.0,\"xref\":\"x\",\"y0\":0,\"y1\":1,\"yref\":\"y domain\"},{\"fillcolor\":\"orange\",\"line\":{\"width\":0},\"opacity\":0.2,\"type\":\"rect\",\"x0\":191.0,\"x1\":201.0,\"xref\":\"x\",\"y0\":0,\"y1\":1,\"yref\":\"y domain\"},{\"fillcolor\":\"red\",\"line\":{\"width\":0},\"opacity\":0.1,\"type\":\"rect\",\"x0\":181.5597408946084,\"x1\":210.08731792892098,\"xref\":\"x\",\"y0\":0,\"y1\":1,\"yref\":\"y domain\"}],\"annotations\":[{\"showarrow\":false,\"text\":\"Mean\",\"x\":195.8235294117647,\"xanchor\":\"left\",\"xref\":\"x\",\"y\":1,\"yanchor\":\"top\",\"yref\":\"y domain\"},{\"showarrow\":false,\"text\":\"Median\",\"x\":196.0,\"xanchor\":\"right\",\"xref\":\"x\",\"y\":1,\"yanchor\":\"top\",\"yref\":\"y domain\"},{\"showarrow\":false,\"text\":\"Range\",\"x\":212.0,\"xanchor\":\"right\",\"xref\":\"x\",\"y\":1,\"yanchor\":\"top\",\"yref\":\"y domain\"},{\"showarrow\":false,\"text\":\"IQR\",\"x\":201.0,\"xanchor\":\"right\",\"xref\":\"x\",\"y\":1,\"yanchor\":\"top\",\"yref\":\"y domain\"},{\"showarrow\":false,\"text\":\"\\u00b12\\u03c3\",\"x\":210.08731792892098,\"xanchor\":\"right\",\"xref\":\"x\",\"y\":1,\"yanchor\":\"top\",\"yref\":\"y domain\"}]},                        {\"responsive\": true}                    ).then(function(){\n",
       "                            \n",
       "var gd = document.getElementById('7d72405c-005e-47f5-9853-ea471fdc5dd5');\n",
       "var x = new MutationObserver(function (mutations, observer) {{\n",
       "        var display = window.getComputedStyle(gd).display;\n",
       "        if (!display || display === 'none') {{\n",
       "            console.log([gd, 'removed!']);\n",
       "            Plotly.purge(gd);\n",
       "            observer.disconnect();\n",
       "        }}\n",
       "}});\n",
       "\n",
       "// Listen for the removal of the full notebook cells\n",
       "var notebookContainer = gd.closest('#notebook-container');\n",
       "if (notebookContainer) {{\n",
       "    x.observe(notebookContainer, {childList: true});\n",
       "}}\n",
       "\n",
       "// Listen for the clearing of the current output cell\n",
       "var outputEl = gd.closest('.output');\n",
       "if (outputEl) {{\n",
       "    x.observe(outputEl, {childList: true});\n",
       "}}\n",
       "\n",
       "                        })                };                });            </script>        </div>"
      ]
     },
     "metadata": {},
     "output_type": "display_data"
    },
    {
     "data": {
      "application/vnd.plotly.v1+json": {
       "config": {
        "plotlyServerURL": "https://plot.ly"
       },
       "data": [
        {
         "alignmentgroup": "True",
         "bingroup": "x",
         "hovertemplate": "Flipper Length (mm)=%{x}<br>count=%{y}<extra></extra>",
         "legendgroup": "",
         "marker": {
          "color": "#636efa",
          "pattern": {
           "shape": ""
          }
         },
         "name": "",
         "nbinsx": 30,
         "offsetgroup": "",
         "orientation": "v",
         "showlegend": false,
         "type": "histogram",
         "x": [
          211,
          230,
          210,
          218,
          215,
          210,
          211,
          219,
          209,
          215,
          214,
          216,
          214,
          213,
          210,
          217,
          210,
          221,
          209,
          222,
          218,
          215,
          213,
          215,
          215,
          215,
          216,
          215,
          210,
          220,
          222,
          209,
          207,
          230,
          220,
          220,
          213,
          219,
          208,
          208,
          208,
          225,
          210,
          216,
          222,
          217,
          210,
          225,
          213,
          215,
          210,
          220,
          210,
          225,
          217,
          220,
          208,
          220,
          208,
          224,
          208,
          221,
          214,
          231,
          219,
          230,
          214,
          229,
          220,
          223,
          216,
          221,
          221,
          217,
          216,
          230,
          209,
          220,
          215,
          223,
          212,
          221,
          212,
          224,
          212,
          228,
          218,
          218,
          212,
          230,
          218,
          228,
          212,
          224,
          214,
          226,
          216,
          222,
          203,
          225,
          219,
          228,
          215,
          228,
          216,
          215,
          210,
          219,
          208,
          209,
          216,
          229,
          213,
          230,
          217,
          230,
          217,
          222,
          214,
          215,
          222,
          212,
          213
         ],
         "xaxis": "x",
         "yaxis": "y"
        }
       ],
       "layout": {
        "annotations": [
         {
          "showarrow": false,
          "text": "Mean",
          "x": 217.1869918699187,
          "xanchor": "left",
          "xref": "x",
          "y": 1,
          "yanchor": "top",
          "yref": "y domain"
         },
         {
          "showarrow": false,
          "text": "Median",
          "x": 216,
          "xanchor": "right",
          "xref": "x",
          "y": 1,
          "yanchor": "top",
          "yref": "y domain"
         },
         {
          "showarrow": false,
          "text": "Range",
          "x": 231,
          "xanchor": "right",
          "xref": "x",
          "y": 1,
          "yanchor": "top",
          "yref": "y domain"
         },
         {
          "showarrow": false,
          "text": "IQR",
          "x": 221,
          "xanchor": "right",
          "xref": "x",
          "y": 1,
          "yanchor": "top",
          "yref": "y domain"
         },
         {
          "showarrow": false,
          "text": "±2σ",
          "x": 230.1569435072666,
          "xanchor": "right",
          "xref": "x",
          "y": 1,
          "yanchor": "top",
          "yref": "y domain"
         }
        ],
        "barmode": "relative",
        "legend": {
         "tracegroupgap": 0
        },
        "shapes": [
         {
          "line": {
           "color": "blue",
           "dash": "dash"
          },
          "type": "line",
          "x0": 217.1869918699187,
          "x1": 217.1869918699187,
          "xref": "x",
          "y0": 0,
          "y1": 1,
          "yref": "y domain"
         },
         {
          "line": {
           "color": "green",
           "dash": "dot"
          },
          "type": "line",
          "x0": 216,
          "x1": 216,
          "xref": "x",
          "y0": 0,
          "y1": 1,
          "yref": "y domain"
         },
         {
          "fillcolor": "purple",
          "line": {
           "width": 0
          },
          "opacity": 0.1,
          "type": "rect",
          "x0": 203,
          "x1": 231,
          "xref": "x",
          "y0": 0,
          "y1": 1,
          "yref": "y domain"
         },
         {
          "fillcolor": "orange",
          "line": {
           "width": 0
          },
          "opacity": 0.2,
          "type": "rect",
          "x0": 212,
          "x1": 221,
          "xref": "x",
          "y0": 0,
          "y1": 1,
          "yref": "y domain"
         },
         {
          "fillcolor": "red",
          "line": {
           "width": 0
          },
          "opacity": 0.1,
          "type": "rect",
          "x0": 204.2170402325708,
          "x1": 230.1569435072666,
          "xref": "x",
          "y0": 0,
          "y1": 1,
          "yref": "y domain"
         }
        ],
        "template": {
         "data": {
          "bar": [
           {
            "error_x": {
             "color": "#2a3f5f"
            },
            "error_y": {
             "color": "#2a3f5f"
            },
            "marker": {
             "line": {
              "color": "#E5ECF6",
              "width": 0.5
             },
             "pattern": {
              "fillmode": "overlay",
              "size": 10,
              "solidity": 0.2
             }
            },
            "type": "bar"
           }
          ],
          "barpolar": [
           {
            "marker": {
             "line": {
              "color": "#E5ECF6",
              "width": 0.5
             },
             "pattern": {
              "fillmode": "overlay",
              "size": 10,
              "solidity": 0.2
             }
            },
            "type": "barpolar"
           }
          ],
          "carpet": [
           {
            "aaxis": {
             "endlinecolor": "#2a3f5f",
             "gridcolor": "white",
             "linecolor": "white",
             "minorgridcolor": "white",
             "startlinecolor": "#2a3f5f"
            },
            "baxis": {
             "endlinecolor": "#2a3f5f",
             "gridcolor": "white",
             "linecolor": "white",
             "minorgridcolor": "white",
             "startlinecolor": "#2a3f5f"
            },
            "type": "carpet"
           }
          ],
          "choropleth": [
           {
            "colorbar": {
             "outlinewidth": 0,
             "ticks": ""
            },
            "type": "choropleth"
           }
          ],
          "contour": [
           {
            "colorbar": {
             "outlinewidth": 0,
             "ticks": ""
            },
            "colorscale": [
             [
              0,
              "#0d0887"
             ],
             [
              0.1111111111111111,
              "#46039f"
             ],
             [
              0.2222222222222222,
              "#7201a8"
             ],
             [
              0.3333333333333333,
              "#9c179e"
             ],
             [
              0.4444444444444444,
              "#bd3786"
             ],
             [
              0.5555555555555556,
              "#d8576b"
             ],
             [
              0.6666666666666666,
              "#ed7953"
             ],
             [
              0.7777777777777778,
              "#fb9f3a"
             ],
             [
              0.8888888888888888,
              "#fdca26"
             ],
             [
              1,
              "#f0f921"
             ]
            ],
            "type": "contour"
           }
          ],
          "contourcarpet": [
           {
            "colorbar": {
             "outlinewidth": 0,
             "ticks": ""
            },
            "type": "contourcarpet"
           }
          ],
          "heatmap": [
           {
            "colorbar": {
             "outlinewidth": 0,
             "ticks": ""
            },
            "colorscale": [
             [
              0,
              "#0d0887"
             ],
             [
              0.1111111111111111,
              "#46039f"
             ],
             [
              0.2222222222222222,
              "#7201a8"
             ],
             [
              0.3333333333333333,
              "#9c179e"
             ],
             [
              0.4444444444444444,
              "#bd3786"
             ],
             [
              0.5555555555555556,
              "#d8576b"
             ],
             [
              0.6666666666666666,
              "#ed7953"
             ],
             [
              0.7777777777777778,
              "#fb9f3a"
             ],
             [
              0.8888888888888888,
              "#fdca26"
             ],
             [
              1,
              "#f0f921"
             ]
            ],
            "type": "heatmap"
           }
          ],
          "heatmapgl": [
           {
            "colorbar": {
             "outlinewidth": 0,
             "ticks": ""
            },
            "colorscale": [
             [
              0,
              "#0d0887"
             ],
             [
              0.1111111111111111,
              "#46039f"
             ],
             [
              0.2222222222222222,
              "#7201a8"
             ],
             [
              0.3333333333333333,
              "#9c179e"
             ],
             [
              0.4444444444444444,
              "#bd3786"
             ],
             [
              0.5555555555555556,
              "#d8576b"
             ],
             [
              0.6666666666666666,
              "#ed7953"
             ],
             [
              0.7777777777777778,
              "#fb9f3a"
             ],
             [
              0.8888888888888888,
              "#fdca26"
             ],
             [
              1,
              "#f0f921"
             ]
            ],
            "type": "heatmapgl"
           }
          ],
          "histogram": [
           {
            "marker": {
             "pattern": {
              "fillmode": "overlay",
              "size": 10,
              "solidity": 0.2
             }
            },
            "type": "histogram"
           }
          ],
          "histogram2d": [
           {
            "colorbar": {
             "outlinewidth": 0,
             "ticks": ""
            },
            "colorscale": [
             [
              0,
              "#0d0887"
             ],
             [
              0.1111111111111111,
              "#46039f"
             ],
             [
              0.2222222222222222,
              "#7201a8"
             ],
             [
              0.3333333333333333,
              "#9c179e"
             ],
             [
              0.4444444444444444,
              "#bd3786"
             ],
             [
              0.5555555555555556,
              "#d8576b"
             ],
             [
              0.6666666666666666,
              "#ed7953"
             ],
             [
              0.7777777777777778,
              "#fb9f3a"
             ],
             [
              0.8888888888888888,
              "#fdca26"
             ],
             [
              1,
              "#f0f921"
             ]
            ],
            "type": "histogram2d"
           }
          ],
          "histogram2dcontour": [
           {
            "colorbar": {
             "outlinewidth": 0,
             "ticks": ""
            },
            "colorscale": [
             [
              0,
              "#0d0887"
             ],
             [
              0.1111111111111111,
              "#46039f"
             ],
             [
              0.2222222222222222,
              "#7201a8"
             ],
             [
              0.3333333333333333,
              "#9c179e"
             ],
             [
              0.4444444444444444,
              "#bd3786"
             ],
             [
              0.5555555555555556,
              "#d8576b"
             ],
             [
              0.6666666666666666,
              "#ed7953"
             ],
             [
              0.7777777777777778,
              "#fb9f3a"
             ],
             [
              0.8888888888888888,
              "#fdca26"
             ],
             [
              1,
              "#f0f921"
             ]
            ],
            "type": "histogram2dcontour"
           }
          ],
          "mesh3d": [
           {
            "colorbar": {
             "outlinewidth": 0,
             "ticks": ""
            },
            "type": "mesh3d"
           }
          ],
          "parcoords": [
           {
            "line": {
             "colorbar": {
              "outlinewidth": 0,
              "ticks": ""
             }
            },
            "type": "parcoords"
           }
          ],
          "pie": [
           {
            "automargin": true,
            "type": "pie"
           }
          ],
          "scatter": [
           {
            "fillpattern": {
             "fillmode": "overlay",
             "size": 10,
             "solidity": 0.2
            },
            "type": "scatter"
           }
          ],
          "scatter3d": [
           {
            "line": {
             "colorbar": {
              "outlinewidth": 0,
              "ticks": ""
             }
            },
            "marker": {
             "colorbar": {
              "outlinewidth": 0,
              "ticks": ""
             }
            },
            "type": "scatter3d"
           }
          ],
          "scattercarpet": [
           {
            "marker": {
             "colorbar": {
              "outlinewidth": 0,
              "ticks": ""
             }
            },
            "type": "scattercarpet"
           }
          ],
          "scattergeo": [
           {
            "marker": {
             "colorbar": {
              "outlinewidth": 0,
              "ticks": ""
             }
            },
            "type": "scattergeo"
           }
          ],
          "scattergl": [
           {
            "marker": {
             "colorbar": {
              "outlinewidth": 0,
              "ticks": ""
             }
            },
            "type": "scattergl"
           }
          ],
          "scattermapbox": [
           {
            "marker": {
             "colorbar": {
              "outlinewidth": 0,
              "ticks": ""
             }
            },
            "type": "scattermapbox"
           }
          ],
          "scatterpolar": [
           {
            "marker": {
             "colorbar": {
              "outlinewidth": 0,
              "ticks": ""
             }
            },
            "type": "scatterpolar"
           }
          ],
          "scatterpolargl": [
           {
            "marker": {
             "colorbar": {
              "outlinewidth": 0,
              "ticks": ""
             }
            },
            "type": "scatterpolargl"
           }
          ],
          "scatterternary": [
           {
            "marker": {
             "colorbar": {
              "outlinewidth": 0,
              "ticks": ""
             }
            },
            "type": "scatterternary"
           }
          ],
          "surface": [
           {
            "colorbar": {
             "outlinewidth": 0,
             "ticks": ""
            },
            "colorscale": [
             [
              0,
              "#0d0887"
             ],
             [
              0.1111111111111111,
              "#46039f"
             ],
             [
              0.2222222222222222,
              "#7201a8"
             ],
             [
              0.3333333333333333,
              "#9c179e"
             ],
             [
              0.4444444444444444,
              "#bd3786"
             ],
             [
              0.5555555555555556,
              "#d8576b"
             ],
             [
              0.6666666666666666,
              "#ed7953"
             ],
             [
              0.7777777777777778,
              "#fb9f3a"
             ],
             [
              0.8888888888888888,
              "#fdca26"
             ],
             [
              1,
              "#f0f921"
             ]
            ],
            "type": "surface"
           }
          ],
          "table": [
           {
            "cells": {
             "fill": {
              "color": "#EBF0F8"
             },
             "line": {
              "color": "white"
             }
            },
            "header": {
             "fill": {
              "color": "#C8D4E3"
             },
             "line": {
              "color": "white"
             }
            },
            "type": "table"
           }
          ]
         },
         "layout": {
          "annotationdefaults": {
           "arrowcolor": "#2a3f5f",
           "arrowhead": 0,
           "arrowwidth": 1
          },
          "autotypenumbers": "strict",
          "coloraxis": {
           "colorbar": {
            "outlinewidth": 0,
            "ticks": ""
           }
          },
          "colorscale": {
           "diverging": [
            [
             0,
             "#8e0152"
            ],
            [
             0.1,
             "#c51b7d"
            ],
            [
             0.2,
             "#de77ae"
            ],
            [
             0.3,
             "#f1b6da"
            ],
            [
             0.4,
             "#fde0ef"
            ],
            [
             0.5,
             "#f7f7f7"
            ],
            [
             0.6,
             "#e6f5d0"
            ],
            [
             0.7,
             "#b8e186"
            ],
            [
             0.8,
             "#7fbc41"
            ],
            [
             0.9,
             "#4d9221"
            ],
            [
             1,
             "#276419"
            ]
           ],
           "sequential": [
            [
             0,
             "#0d0887"
            ],
            [
             0.1111111111111111,
             "#46039f"
            ],
            [
             0.2222222222222222,
             "#7201a8"
            ],
            [
             0.3333333333333333,
             "#9c179e"
            ],
            [
             0.4444444444444444,
             "#bd3786"
            ],
            [
             0.5555555555555556,
             "#d8576b"
            ],
            [
             0.6666666666666666,
             "#ed7953"
            ],
            [
             0.7777777777777778,
             "#fb9f3a"
            ],
            [
             0.8888888888888888,
             "#fdca26"
            ],
            [
             1,
             "#f0f921"
            ]
           ],
           "sequentialminus": [
            [
             0,
             "#0d0887"
            ],
            [
             0.1111111111111111,
             "#46039f"
            ],
            [
             0.2222222222222222,
             "#7201a8"
            ],
            [
             0.3333333333333333,
             "#9c179e"
            ],
            [
             0.4444444444444444,
             "#bd3786"
            ],
            [
             0.5555555555555556,
             "#d8576b"
            ],
            [
             0.6666666666666666,
             "#ed7953"
            ],
            [
             0.7777777777777778,
             "#fb9f3a"
            ],
            [
             0.8888888888888888,
             "#fdca26"
            ],
            [
             1,
             "#f0f921"
            ]
           ]
          },
          "colorway": [
           "#636efa",
           "#EF553B",
           "#00cc96",
           "#ab63fa",
           "#FFA15A",
           "#19d3f3",
           "#FF6692",
           "#B6E880",
           "#FF97FF",
           "#FECB52"
          ],
          "font": {
           "color": "#2a3f5f"
          },
          "geo": {
           "bgcolor": "white",
           "lakecolor": "white",
           "landcolor": "#E5ECF6",
           "showlakes": true,
           "showland": true,
           "subunitcolor": "white"
          },
          "hoverlabel": {
           "align": "left"
          },
          "hovermode": "closest",
          "mapbox": {
           "style": "light"
          },
          "paper_bgcolor": "white",
          "plot_bgcolor": "#E5ECF6",
          "polar": {
           "angularaxis": {
            "gridcolor": "white",
            "linecolor": "white",
            "ticks": ""
           },
           "bgcolor": "#E5ECF6",
           "radialaxis": {
            "gridcolor": "white",
            "linecolor": "white",
            "ticks": ""
           }
          },
          "scene": {
           "xaxis": {
            "backgroundcolor": "#E5ECF6",
            "gridcolor": "white",
            "gridwidth": 2,
            "linecolor": "white",
            "showbackground": true,
            "ticks": "",
            "zerolinecolor": "white"
           },
           "yaxis": {
            "backgroundcolor": "#E5ECF6",
            "gridcolor": "white",
            "gridwidth": 2,
            "linecolor": "white",
            "showbackground": true,
            "ticks": "",
            "zerolinecolor": "white"
           },
           "zaxis": {
            "backgroundcolor": "#E5ECF6",
            "gridcolor": "white",
            "gridwidth": 2,
            "linecolor": "white",
            "showbackground": true,
            "ticks": "",
            "zerolinecolor": "white"
           }
          },
          "shapedefaults": {
           "line": {
            "color": "#2a3f5f"
           }
          },
          "ternary": {
           "aaxis": {
            "gridcolor": "white",
            "linecolor": "white",
            "ticks": ""
           },
           "baxis": {
            "gridcolor": "white",
            "linecolor": "white",
            "ticks": ""
           },
           "bgcolor": "#E5ECF6",
           "caxis": {
            "gridcolor": "white",
            "linecolor": "white",
            "ticks": ""
           }
          },
          "title": {
           "x": 0.05
          },
          "xaxis": {
           "automargin": true,
           "gridcolor": "white",
           "linecolor": "white",
           "ticks": "",
           "title": {
            "standoff": 15
           },
           "zerolinecolor": "white",
           "zerolinewidth": 2
          },
          "yaxis": {
           "automargin": true,
           "gridcolor": "white",
           "linecolor": "white",
           "ticks": "",
           "title": {
            "standoff": 15
           },
           "zerolinecolor": "white",
           "zerolinewidth": 2
          }
         }
        },
        "title": {
         "text": "Gentoo - Flipper Length Distribution"
        },
        "xaxis": {
         "anchor": "y",
         "domain": [
          0,
          1
         ],
         "title": {
          "text": "Flipper Length (mm)"
         }
        },
        "yaxis": {
         "anchor": "x",
         "domain": [
          0,
          1
         ],
         "title": {
          "text": "count"
         }
        }
       }
      },
      "text/html": [
       "<div>                            <div id=\"a7cabdac-25a7-4016-8a05-635f61dfee55\" class=\"plotly-graph-div\" style=\"height:525px; width:100%;\"></div>            <script type=\"text/javascript\">                require([\"plotly\"], function(Plotly) {                    window.PLOTLYENV=window.PLOTLYENV || {};                                    if (document.getElementById(\"a7cabdac-25a7-4016-8a05-635f61dfee55\")) {                    Plotly.newPlot(                        \"a7cabdac-25a7-4016-8a05-635f61dfee55\",                        [{\"alignmentgroup\":\"True\",\"bingroup\":\"x\",\"hovertemplate\":\"Flipper Length (mm)=%{x}\\u003cbr\\u003ecount=%{y}\\u003cextra\\u003e\\u003c\\u002fextra\\u003e\",\"legendgroup\":\"\",\"marker\":{\"color\":\"#636efa\",\"pattern\":{\"shape\":\"\"}},\"name\":\"\",\"nbinsx\":30,\"offsetgroup\":\"\",\"orientation\":\"v\",\"showlegend\":false,\"x\":[211.0,230.0,210.0,218.0,215.0,210.0,211.0,219.0,209.0,215.0,214.0,216.0,214.0,213.0,210.0,217.0,210.0,221.0,209.0,222.0,218.0,215.0,213.0,215.0,215.0,215.0,216.0,215.0,210.0,220.0,222.0,209.0,207.0,230.0,220.0,220.0,213.0,219.0,208.0,208.0,208.0,225.0,210.0,216.0,222.0,217.0,210.0,225.0,213.0,215.0,210.0,220.0,210.0,225.0,217.0,220.0,208.0,220.0,208.0,224.0,208.0,221.0,214.0,231.0,219.0,230.0,214.0,229.0,220.0,223.0,216.0,221.0,221.0,217.0,216.0,230.0,209.0,220.0,215.0,223.0,212.0,221.0,212.0,224.0,212.0,228.0,218.0,218.0,212.0,230.0,218.0,228.0,212.0,224.0,214.0,226.0,216.0,222.0,203.0,225.0,219.0,228.0,215.0,228.0,216.0,215.0,210.0,219.0,208.0,209.0,216.0,229.0,213.0,230.0,217.0,230.0,217.0,222.0,214.0,215.0,222.0,212.0,213.0],\"xaxis\":\"x\",\"yaxis\":\"y\",\"type\":\"histogram\"}],                        {\"template\":{\"data\":{\"histogram2dcontour\":[{\"type\":\"histogram2dcontour\",\"colorbar\":{\"outlinewidth\":0,\"ticks\":\"\"},\"colorscale\":[[0.0,\"#0d0887\"],[0.1111111111111111,\"#46039f\"],[0.2222222222222222,\"#7201a8\"],[0.3333333333333333,\"#9c179e\"],[0.4444444444444444,\"#bd3786\"],[0.5555555555555556,\"#d8576b\"],[0.6666666666666666,\"#ed7953\"],[0.7777777777777778,\"#fb9f3a\"],[0.8888888888888888,\"#fdca26\"],[1.0,\"#f0f921\"]]}],\"choropleth\":[{\"type\":\"choropleth\",\"colorbar\":{\"outlinewidth\":0,\"ticks\":\"\"}}],\"histogram2d\":[{\"type\":\"histogram2d\",\"colorbar\":{\"outlinewidth\":0,\"ticks\":\"\"},\"colorscale\":[[0.0,\"#0d0887\"],[0.1111111111111111,\"#46039f\"],[0.2222222222222222,\"#7201a8\"],[0.3333333333333333,\"#9c179e\"],[0.4444444444444444,\"#bd3786\"],[0.5555555555555556,\"#d8576b\"],[0.6666666666666666,\"#ed7953\"],[0.7777777777777778,\"#fb9f3a\"],[0.8888888888888888,\"#fdca26\"],[1.0,\"#f0f921\"]]}],\"heatmap\":[{\"type\":\"heatmap\",\"colorbar\":{\"outlinewidth\":0,\"ticks\":\"\"},\"colorscale\":[[0.0,\"#0d0887\"],[0.1111111111111111,\"#46039f\"],[0.2222222222222222,\"#7201a8\"],[0.3333333333333333,\"#9c179e\"],[0.4444444444444444,\"#bd3786\"],[0.5555555555555556,\"#d8576b\"],[0.6666666666666666,\"#ed7953\"],[0.7777777777777778,\"#fb9f3a\"],[0.8888888888888888,\"#fdca26\"],[1.0,\"#f0f921\"]]}],\"heatmapgl\":[{\"type\":\"heatmapgl\",\"colorbar\":{\"outlinewidth\":0,\"ticks\":\"\"},\"colorscale\":[[0.0,\"#0d0887\"],[0.1111111111111111,\"#46039f\"],[0.2222222222222222,\"#7201a8\"],[0.3333333333333333,\"#9c179e\"],[0.4444444444444444,\"#bd3786\"],[0.5555555555555556,\"#d8576b\"],[0.6666666666666666,\"#ed7953\"],[0.7777777777777778,\"#fb9f3a\"],[0.8888888888888888,\"#fdca26\"],[1.0,\"#f0f921\"]]}],\"contourcarpet\":[{\"type\":\"contourcarpet\",\"colorbar\":{\"outlinewidth\":0,\"ticks\":\"\"}}],\"contour\":[{\"type\":\"contour\",\"colorbar\":{\"outlinewidth\":0,\"ticks\":\"\"},\"colorscale\":[[0.0,\"#0d0887\"],[0.1111111111111111,\"#46039f\"],[0.2222222222222222,\"#7201a8\"],[0.3333333333333333,\"#9c179e\"],[0.4444444444444444,\"#bd3786\"],[0.5555555555555556,\"#d8576b\"],[0.6666666666666666,\"#ed7953\"],[0.7777777777777778,\"#fb9f3a\"],[0.8888888888888888,\"#fdca26\"],[1.0,\"#f0f921\"]]}],\"surface\":[{\"type\":\"surface\",\"colorbar\":{\"outlinewidth\":0,\"ticks\":\"\"},\"colorscale\":[[0.0,\"#0d0887\"],[0.1111111111111111,\"#46039f\"],[0.2222222222222222,\"#7201a8\"],[0.3333333333333333,\"#9c179e\"],[0.4444444444444444,\"#bd3786\"],[0.5555555555555556,\"#d8576b\"],[0.6666666666666666,\"#ed7953\"],[0.7777777777777778,\"#fb9f3a\"],[0.8888888888888888,\"#fdca26\"],[1.0,\"#f0f921\"]]}],\"mesh3d\":[{\"type\":\"mesh3d\",\"colorbar\":{\"outlinewidth\":0,\"ticks\":\"\"}}],\"scatter\":[{\"fillpattern\":{\"fillmode\":\"overlay\",\"size\":10,\"solidity\":0.2},\"type\":\"scatter\"}],\"parcoords\":[{\"type\":\"parcoords\",\"line\":{\"colorbar\":{\"outlinewidth\":0,\"ticks\":\"\"}}}],\"scatterpolargl\":[{\"type\":\"scatterpolargl\",\"marker\":{\"colorbar\":{\"outlinewidth\":0,\"ticks\":\"\"}}}],\"bar\":[{\"error_x\":{\"color\":\"#2a3f5f\"},\"error_y\":{\"color\":\"#2a3f5f\"},\"marker\":{\"line\":{\"color\":\"#E5ECF6\",\"width\":0.5},\"pattern\":{\"fillmode\":\"overlay\",\"size\":10,\"solidity\":0.2}},\"type\":\"bar\"}],\"scattergeo\":[{\"type\":\"scattergeo\",\"marker\":{\"colorbar\":{\"outlinewidth\":0,\"ticks\":\"\"}}}],\"scatterpolar\":[{\"type\":\"scatterpolar\",\"marker\":{\"colorbar\":{\"outlinewidth\":0,\"ticks\":\"\"}}}],\"histogram\":[{\"marker\":{\"pattern\":{\"fillmode\":\"overlay\",\"size\":10,\"solidity\":0.2}},\"type\":\"histogram\"}],\"scattergl\":[{\"type\":\"scattergl\",\"marker\":{\"colorbar\":{\"outlinewidth\":0,\"ticks\":\"\"}}}],\"scatter3d\":[{\"type\":\"scatter3d\",\"line\":{\"colorbar\":{\"outlinewidth\":0,\"ticks\":\"\"}},\"marker\":{\"colorbar\":{\"outlinewidth\":0,\"ticks\":\"\"}}}],\"scattermapbox\":[{\"type\":\"scattermapbox\",\"marker\":{\"colorbar\":{\"outlinewidth\":0,\"ticks\":\"\"}}}],\"scatterternary\":[{\"type\":\"scatterternary\",\"marker\":{\"colorbar\":{\"outlinewidth\":0,\"ticks\":\"\"}}}],\"scattercarpet\":[{\"type\":\"scattercarpet\",\"marker\":{\"colorbar\":{\"outlinewidth\":0,\"ticks\":\"\"}}}],\"carpet\":[{\"aaxis\":{\"endlinecolor\":\"#2a3f5f\",\"gridcolor\":\"white\",\"linecolor\":\"white\",\"minorgridcolor\":\"white\",\"startlinecolor\":\"#2a3f5f\"},\"baxis\":{\"endlinecolor\":\"#2a3f5f\",\"gridcolor\":\"white\",\"linecolor\":\"white\",\"minorgridcolor\":\"white\",\"startlinecolor\":\"#2a3f5f\"},\"type\":\"carpet\"}],\"table\":[{\"cells\":{\"fill\":{\"color\":\"#EBF0F8\"},\"line\":{\"color\":\"white\"}},\"header\":{\"fill\":{\"color\":\"#C8D4E3\"},\"line\":{\"color\":\"white\"}},\"type\":\"table\"}],\"barpolar\":[{\"marker\":{\"line\":{\"color\":\"#E5ECF6\",\"width\":0.5},\"pattern\":{\"fillmode\":\"overlay\",\"size\":10,\"solidity\":0.2}},\"type\":\"barpolar\"}],\"pie\":[{\"automargin\":true,\"type\":\"pie\"}]},\"layout\":{\"autotypenumbers\":\"strict\",\"colorway\":[\"#636efa\",\"#EF553B\",\"#00cc96\",\"#ab63fa\",\"#FFA15A\",\"#19d3f3\",\"#FF6692\",\"#B6E880\",\"#FF97FF\",\"#FECB52\"],\"font\":{\"color\":\"#2a3f5f\"},\"hovermode\":\"closest\",\"hoverlabel\":{\"align\":\"left\"},\"paper_bgcolor\":\"white\",\"plot_bgcolor\":\"#E5ECF6\",\"polar\":{\"bgcolor\":\"#E5ECF6\",\"angularaxis\":{\"gridcolor\":\"white\",\"linecolor\":\"white\",\"ticks\":\"\"},\"radialaxis\":{\"gridcolor\":\"white\",\"linecolor\":\"white\",\"ticks\":\"\"}},\"ternary\":{\"bgcolor\":\"#E5ECF6\",\"aaxis\":{\"gridcolor\":\"white\",\"linecolor\":\"white\",\"ticks\":\"\"},\"baxis\":{\"gridcolor\":\"white\",\"linecolor\":\"white\",\"ticks\":\"\"},\"caxis\":{\"gridcolor\":\"white\",\"linecolor\":\"white\",\"ticks\":\"\"}},\"coloraxis\":{\"colorbar\":{\"outlinewidth\":0,\"ticks\":\"\"}},\"colorscale\":{\"sequential\":[[0.0,\"#0d0887\"],[0.1111111111111111,\"#46039f\"],[0.2222222222222222,\"#7201a8\"],[0.3333333333333333,\"#9c179e\"],[0.4444444444444444,\"#bd3786\"],[0.5555555555555556,\"#d8576b\"],[0.6666666666666666,\"#ed7953\"],[0.7777777777777778,\"#fb9f3a\"],[0.8888888888888888,\"#fdca26\"],[1.0,\"#f0f921\"]],\"sequentialminus\":[[0.0,\"#0d0887\"],[0.1111111111111111,\"#46039f\"],[0.2222222222222222,\"#7201a8\"],[0.3333333333333333,\"#9c179e\"],[0.4444444444444444,\"#bd3786\"],[0.5555555555555556,\"#d8576b\"],[0.6666666666666666,\"#ed7953\"],[0.7777777777777778,\"#fb9f3a\"],[0.8888888888888888,\"#fdca26\"],[1.0,\"#f0f921\"]],\"diverging\":[[0,\"#8e0152\"],[0.1,\"#c51b7d\"],[0.2,\"#de77ae\"],[0.3,\"#f1b6da\"],[0.4,\"#fde0ef\"],[0.5,\"#f7f7f7\"],[0.6,\"#e6f5d0\"],[0.7,\"#b8e186\"],[0.8,\"#7fbc41\"],[0.9,\"#4d9221\"],[1,\"#276419\"]]},\"xaxis\":{\"gridcolor\":\"white\",\"linecolor\":\"white\",\"ticks\":\"\",\"title\":{\"standoff\":15},\"zerolinecolor\":\"white\",\"automargin\":true,\"zerolinewidth\":2},\"yaxis\":{\"gridcolor\":\"white\",\"linecolor\":\"white\",\"ticks\":\"\",\"title\":{\"standoff\":15},\"zerolinecolor\":\"white\",\"automargin\":true,\"zerolinewidth\":2},\"scene\":{\"xaxis\":{\"backgroundcolor\":\"#E5ECF6\",\"gridcolor\":\"white\",\"linecolor\":\"white\",\"showbackground\":true,\"ticks\":\"\",\"zerolinecolor\":\"white\",\"gridwidth\":2},\"yaxis\":{\"backgroundcolor\":\"#E5ECF6\",\"gridcolor\":\"white\",\"linecolor\":\"white\",\"showbackground\":true,\"ticks\":\"\",\"zerolinecolor\":\"white\",\"gridwidth\":2},\"zaxis\":{\"backgroundcolor\":\"#E5ECF6\",\"gridcolor\":\"white\",\"linecolor\":\"white\",\"showbackground\":true,\"ticks\":\"\",\"zerolinecolor\":\"white\",\"gridwidth\":2}},\"shapedefaults\":{\"line\":{\"color\":\"#2a3f5f\"}},\"annotationdefaults\":{\"arrowcolor\":\"#2a3f5f\",\"arrowhead\":0,\"arrowwidth\":1},\"geo\":{\"bgcolor\":\"white\",\"landcolor\":\"#E5ECF6\",\"subunitcolor\":\"white\",\"showland\":true,\"showlakes\":true,\"lakecolor\":\"white\"},\"title\":{\"x\":0.05},\"mapbox\":{\"style\":\"light\"}}},\"xaxis\":{\"anchor\":\"y\",\"domain\":[0.0,1.0],\"title\":{\"text\":\"Flipper Length (mm)\"}},\"yaxis\":{\"anchor\":\"x\",\"domain\":[0.0,1.0],\"title\":{\"text\":\"count\"}},\"legend\":{\"tracegroupgap\":0},\"title\":{\"text\":\"Gentoo - Flipper Length Distribution\"},\"barmode\":\"relative\",\"shapes\":[{\"line\":{\"color\":\"blue\",\"dash\":\"dash\"},\"type\":\"line\",\"x0\":217.1869918699187,\"x1\":217.1869918699187,\"xref\":\"x\",\"y0\":0,\"y1\":1,\"yref\":\"y domain\"},{\"line\":{\"color\":\"green\",\"dash\":\"dot\"},\"type\":\"line\",\"x0\":216.0,\"x1\":216.0,\"xref\":\"x\",\"y0\":0,\"y1\":1,\"yref\":\"y domain\"},{\"fillcolor\":\"purple\",\"line\":{\"width\":0},\"opacity\":0.1,\"type\":\"rect\",\"x0\":203.0,\"x1\":231.0,\"xref\":\"x\",\"y0\":0,\"y1\":1,\"yref\":\"y domain\"},{\"fillcolor\":\"orange\",\"line\":{\"width\":0},\"opacity\":0.2,\"type\":\"rect\",\"x0\":212.0,\"x1\":221.0,\"xref\":\"x\",\"y0\":0,\"y1\":1,\"yref\":\"y domain\"},{\"fillcolor\":\"red\",\"line\":{\"width\":0},\"opacity\":0.1,\"type\":\"rect\",\"x0\":204.2170402325708,\"x1\":230.1569435072666,\"xref\":\"x\",\"y0\":0,\"y1\":1,\"yref\":\"y domain\"}],\"annotations\":[{\"showarrow\":false,\"text\":\"Mean\",\"x\":217.1869918699187,\"xanchor\":\"left\",\"xref\":\"x\",\"y\":1,\"yanchor\":\"top\",\"yref\":\"y domain\"},{\"showarrow\":false,\"text\":\"Median\",\"x\":216.0,\"xanchor\":\"right\",\"xref\":\"x\",\"y\":1,\"yanchor\":\"top\",\"yref\":\"y domain\"},{\"showarrow\":false,\"text\":\"Range\",\"x\":231.0,\"xanchor\":\"right\",\"xref\":\"x\",\"y\":1,\"yanchor\":\"top\",\"yref\":\"y domain\"},{\"showarrow\":false,\"text\":\"IQR\",\"x\":221.0,\"xanchor\":\"right\",\"xref\":\"x\",\"y\":1,\"yanchor\":\"top\",\"yref\":\"y domain\"},{\"showarrow\":false,\"text\":\"\\u00b12\\u03c3\",\"x\":230.1569435072666,\"xanchor\":\"right\",\"xref\":\"x\",\"y\":1,\"yanchor\":\"top\",\"yref\":\"y domain\"}]},                        {\"responsive\": true}                    ).then(function(){\n",
       "                            \n",
       "var gd = document.getElementById('a7cabdac-25a7-4016-8a05-635f61dfee55');\n",
       "var x = new MutationObserver(function (mutations, observer) {{\n",
       "        var display = window.getComputedStyle(gd).display;\n",
       "        if (!display || display === 'none') {{\n",
       "            console.log([gd, 'removed!']);\n",
       "            Plotly.purge(gd);\n",
       "            observer.disconnect();\n",
       "        }}\n",
       "}});\n",
       "\n",
       "// Listen for the removal of the full notebook cells\n",
       "var notebookContainer = gd.closest('#notebook-container');\n",
       "if (notebookContainer) {{\n",
       "    x.observe(notebookContainer, {childList: true});\n",
       "}}\n",
       "\n",
       "// Listen for the clearing of the current output cell\n",
       "var outputEl = gd.closest('.output');\n",
       "if (outputEl) {{\n",
       "    x.observe(outputEl, {childList: true});\n",
       "}}\n",
       "\n",
       "                        })                };                });            </script>        </div>"
      ]
     },
     "metadata": {},
     "output_type": "display_data"
    }
   ],
   "source": [
    "import plotly.express as px\n",
    "import plotly.graph_objects as go\n",
    "import seaborn as sns\n",
    "import numpy as np\n",
    "\n",
    "# Load the penguins dataset\n",
    "penguins = sns.load_dataset('penguins')\n",
    "\n",
    "# Loop over species to create separate histograms for each\n",
    "species_list = penguins['species'].unique()\n",
    "\n",
    "# Create an empty list to store figures\n",
    "figs = []\n",
    "\n",
    "for species in species_list:\n",
    "    # Filter data for the current species\n",
    "    species_data = penguins[penguins['species'] == species]['flipper_length_mm'].dropna()\n",
    "    \n",
    "    # Calculate location and scale statistics\n",
    "    mean_flipper = species_data.mean()\n",
    "    median_flipper = species_data.median()\n",
    "    min_flipper = species_data.min()\n",
    "    max_flipper = species_data.max()\n",
    "    q1_flipper = species_data.quantile(0.25)\n",
    "    q3_flipper = species_data.quantile(0.75)\n",
    "    std_flipper = species_data.std()\n",
    "    \n",
    "    # Create the histogram\n",
    "    fig = px.histogram(species_data, \n",
    "                       x=species_data, \n",
    "                       nbins=30, \n",
    "                       title=f'{species} - Flipper Length Distribution',\n",
    "                       labels={'x': 'Flipper Length (mm)', 'y': 'Count'})\n",
    "    \n",
    "    # Add mean and median lines\n",
    "    fig.add_vline(x=mean_flipper, line_dash=\"dash\", line_color=\"blue\", annotation_text=\"Mean\", annotation_position=\"top right\")\n",
    "    fig.add_vline(x=median_flipper, line_dash=\"dot\", line_color=\"green\", annotation_text=\"Median\", annotation_position=\"top left\")\n",
    "    \n",
    "    # Add range (min to max) rectangle\n",
    "    fig.add_vrect(x0=min_flipper, x1=max_flipper, fillcolor=\"purple\", opacity=0.1, line_width=0, annotation_text=\"Range\")\n",
    "    \n",
    "    # Add IQR (Q1 to Q3) rectangle\n",
    "    fig.add_vrect(x0=q1_flipper, x1=q3_flipper, fillcolor=\"orange\", opacity=0.2, line_width=0, annotation_text=\"IQR\")\n",
    "    \n",
    "    # Add ±2 standard deviation rectangle\n",
    "    fig.add_vrect(x0=mean_flipper - 2*std_flipper, \n",
    "                  x1=mean_flipper + 2*std_flipper, \n",
    "                  fillcolor=\"red\", \n",
    "                  opacity=0.1, \n",
    "                  line_width=0, \n",
    "                  annotation_text=\"±2σ\")\n",
    "    \n",
    "    # Append figure to list\n",
    "    figs.append(fig)\n",
    "\n",
    "# Show each figure for the species\n",
    "for fig in figs:\n",
    "    fig.show()\n"
   ]
  },
  {
   "cell_type": "code",
   "execution_count": 2,
   "id": "27b28878",
   "metadata": {
    "scrolled": true
   },
   "outputs": [
    {
     "ename": "SyntaxError",
     "evalue": "invalid syntax (3947361729.py, line 1)",
     "output_type": "error",
     "traceback": [
      "\u001b[0;36m  Cell \u001b[0;32mIn[2], line 1\u001b[0;36m\u001b[0m\n\u001b[0;31m    2. Transition your ChatBot session from the previous problem to repeat the previous problem, but this time using seaborn kernel\u001b[0m\n\u001b[0m       ^\u001b[0m\n\u001b[0;31mSyntaxError\u001b[0m\u001b[0;31m:\u001b[0m invalid syntax\n"
     ]
    }
   ],
   "source": [
    "2. Transition your ChatBot session from the previous problem to repeat the previous problem, but this time using seaborn kernel\n",
    "density estimation (KDE) plots to produce the desired figures organized in row of three plots\n",
    "\n"
   ]
  },
  {
   "cell_type": "code",
   "execution_count": 3,
   "id": "a19be754",
   "metadata": {},
   "outputs": [
    {
     "data": {
      "image/png": "[encoded data removed]",
      "text/plain": [
       "<Figure size 1800x600 with 3 Axes>"
      ]
     },
     "metadata": {},
     "output_type": "display_data"
    }
   ],
   "source": [
    "import seaborn as sns\n",
    "import matplotlib.pyplot as plt\n",
    "import numpy as np\n",
    "\n",
    "# Load the penguins dataset\n",
    "penguins = sns.load_dataset('penguins')\n",
    "\n",
    "# Set up the matplotlib figure and axes\n",
    "fig, axes = plt.subplots(1, 3, figsize=(18, 6))  # 1 row, 3 columns for 3 species\n",
    "\n",
    "# List of species\n",
    "species_list = penguins['species'].unique()\n",
    "\n",
    "# Loop through each species to plot KDE\n",
    "for i, species in enumerate(species_list):\n",
    "    # Filter data for the current species\n",
    "    species_data = penguins[penguins['species'] == species]['flipper_length_mm'].dropna()\n",
    "    \n",
    "    # Calculate location and scale statistics\n",
    "    mean_flipper = species_data.mean()\n",
    "    median_flipper = species_data.median()\n",
    "    min_flipper = species_data.min()\n",
    "    max_flipper = species_data.max()\n",
    "    q1_flipper = species_data.quantile(0.25)\n",
    "    q3_flipper = species_data.quantile(0.75)\n",
    "    std_flipper = species_data.std()\n",
    "    \n",
    "    # Plot the KDE\n",
    "    sns.kdeplot(species_data, ax=axes[i], fill=True, color='skyblue')\n",
    "    axes[i].set_title(f'{species} - Flipper Length KDE')\n",
    "    axes[i].set_xlabel('Flipper Length (mm)')\n",
    "    axes[i].set_ylabel('Density')\n",
    "    \n",
    "    # Add vertical lines for mean and median\n",
    "    axes[i].axvline(mean_flipper, color='blue', linestyle='--', label='Mean')\n",
    "    axes[i].axvline(median_flipper, color='green', linestyle=':', label='Median')\n",
    "    \n",
    "    # Add shaded areas for range, IQR, and ±2σ\n",
    "    axes[i].axvspan(min_flipper, max_flipper, alpha=0.1, color='purple', label='Range')\n",
    "    axes[i].axvspan(q1_flipper, q3_flipper, alpha=0.2, color='orange', label='IQR')\n",
    "    axes[i].axvspan(mean_flipper - 2*std_flipper, mean_flipper + 2*std_flipper, alpha=0.1, color='red', label='±2σ')\n",
    "    \n",
    "    # Add legend to each plot\n",
    "    axes[i].legend()\n",
    "\n",
    "# Adjust layout for better spacing\n",
    "plt.tight_layout()\n",
    "\n",
    "# Show the plot\n",
    "plt.show()\n"
   ]
  },
  {
   "cell_type": "code",
   "execution_count": null,
   "id": "3533291e",
   "metadata": {},
   "outputs": [],
   "source": [
    "3. Search online for some images of box plots, histograms, and kernel density estimators (perhaps for the same data set); \n",
    "describe to a ChatBot what you think the contrasting descriptions of these three \"data distribution\" visualization methods are;\n",
    "and then see if the ChatBot agrees and what \"pros and cons\" list of these three \"data distribution\" visualization methods your \n",
    "ChatBot can come up with; finally, describe your preference for one or the other and your rationale for this preference"
   ]
  },
  {
   "cell_type": "code",
   "execution_count": null,
   "id": "10a3a7ac",
   "metadata": {},
   "outputs": [],
   "source": [
    "I said: \n",
    "box plot's size is like a box and histograms looks like a rectangle and kernel density Estimation is like a shape of linear function,\n",
    "am I right?\n",
    "\n",
    "ChatGPT said:\n",
    "\n",
    "Your descriptions are close, but they can be refined to better match the visual characteristics of each type of plot:\n",
    "\n",
    "Box Plot:\n",
    "\n",
    "The size and shape of a box plot are indeed like a rectangular \"box,\" with additional lines (called \"whiskers\") extending \n",
    "from either end. The main \"box\" represents the interquartile range (IQR), while the whiskers indicate the range of the data, \n",
    "excluding outliers. The line inside the box represents the median value.\n",
    "Histogram:\n",
    "\n",
    "Histograms look like a series of adjacent rectangles (or bars) that represent the frequency of observations within specified bins. \n",
    "The width of each bar is determined by the bin width, and the height corresponds to the number of observations in that range.\n",
    "Kernel Density Estimation (KDE):\n",
    "\n",
    "The KDE plot is not a linear function but rather a smooth curve that represents a continuous estimate of the data's probability \n",
    "density. Its shape depends on the data and the choice of the kernel's bandwidth, which can cause the curve to be narrower or broader.\n",
    "The curve can take various shapes depending on the underlying data distribution (e.g., bell-shaped, multimodal, etc.).\n",
    "\n",
    "Summary:\n",
    "Box Plot: Like a rectangular box with whiskers—good for summary statistics.\n",
    "Histogram: Series of adjacent rectangles representing frequency distributions—good for observing frequency and shape.\n",
    "KDE: Smooth, continuous curve—good for observing distribution shape without discrete bins.\n",
    "Let me know if you'd like to dive deeper into any specific aspect or need further clarification!\n",
    "\n",
    "\n",
    "I said：\n",
    "\n",
    "pros and cons of these 3\n",
    "\n",
    "\n",
    "ChatGPT said:\n",
    "    \n",
    "Box Plot\n",
    "\n",
    "Pros:\n",
    "\n",
    "Efficient Summary: Shows multiple key statistics (median, quartiles, range, and outliers) in a single compact visualization.\n",
    "Great for Comparisons: Allows easy side-by-side comparison of distributions across different groups.\n",
    "Robust to Outliers: Clearly indicates outliers and can handle skewed distributions without distorting the main summary.\n",
    "\n",
    "Cons:\n",
    "\n",
    "Lacks Distribution Shape: Does not reveal the underlying distribution shape, such as modality (bimodal or unimodal).\n",
    "Over-simplification: By focusing on quartiles and medians, it can hide important details like gaps, peaks, or valleys in the data.\n",
    "Limited to Numeric Data: Not suitable for non-numeric or categorical data.\n",
    "\n",
    "Histogram\n",
    "\n",
    "Pros:\n",
    "\n",
    "Shows Distribution Shape: Useful for showing the frequency and shape of the data distribution, making it easy to identify skewness\n",
    "and modality.\n",
    "Visually Intuitive: Straightforward to create and interpret, making it a good starting point for understanding data distribution.\n",
    "Can Handle Large Datasets: Works well with larger datasets to show the underlying patterns more clearly.\n",
    "\n",
    "Cons:\n",
    "\n",
    "Bin Sensitivity: The appearance of the histogram can be drastically affected by the choice of bin width, which might hide or \n",
    "overemphasize certain patterns​(Modeling Life).\n",
    "Difficult Comparisons: Not ideal for comparing multiple distributions directly, as overlaying histograms can become cluttered.\n",
    "Discrete Representation: Shows data in discrete bins, which might not be as smooth as the actual underlying distribution.\n",
    "\n",
    "Kernel Density Estimation (KDE)\n",
    "\n",
    "Pros:\n",
    "\n",
    "Smooth Visualization: Provides a smooth estimate of the data distribution, which is not restricted by discrete bins.\n",
    "Highlights Modality: Can clearly show peaks, valleys, and overall shape, making it ideal for identifying multimodal distributions.\n",
    "Good for Comparisons: Multiple KDE curves can be overlaid in the same plot, allowing easy comparison of distributions.\n",
    "\n",
    "Cons:\n",
    "\n",
    "Bandwidth Sensitivity: The appearance of the KDE depends heavily on the choice of bandwidth; too small a bandwidth can overfit\n",
    "noise, while too large a bandwidth can oversmooth the distribution​(Modeling Life).\n",
    "Difficult with Small Data: Can be misleading or unstable with small sample sizes, as the smooth curve might not accurately represent\n",
    "the data.\n",
    "Less Intuitive: Compared to histograms, interpreting the area under a KDE curve as density might be less intuitive for some users.\n",
    "\n",
    "Use Case Summary\n",
    "Box Plot: Best for quick comparison and summary of multiple groups when the detailed shape of the distribution is not critical.\n",
    "Histogram: Ideal for understanding frequency distribution and identifying skewness, modality, or general shape in a single group.\n",
    "KDE: Suitable for a smooth visualization of the distribution shape, especially when overlaying multiple distributions.\n",
    "These visualizations have their unique strengths and limitations, and the choice between them depends on the context and data\n",
    "analysis needs.\n",
    "\n",
    "My preference:\n",
    "\n",
    "I prefer Box Plots because it is easier to see the maximum, medium and the outlier. That can make me know about is this data has a lot\n",
    "of outliers that make the data inaccurate or it is a efficent data for me."
   ]
  },
  {
   "cell_type": "code",
   "execution_count": null,
   "id": "c886c78e",
   "metadata": {},
   "outputs": [],
   "source": [
    "4. Run the code below and look at the resulting figure of distrubutions and then answer the following questions\n",
    "1)Which datasets have similar means and similar variances\n",
    "2)Which datasets have similar means but quite different variances\n",
    "3)Which datasets have similar variances but quite different means\n",
    "4)Which datasets have quite different means and quite different variances"
   ]
  },
  {
   "cell_type": "code",
   "execution_count": 2,
   "id": "46e718d6",
   "metadata": {},
   "outputs": [
    {
     "data": {
      "application/vnd.plotly.v1+json": {
       "config": {
        "plotlyServerURL": "https://plot.ly"
       },
       "data": [
        {
         "marker": {
          "line": {
           "color": "black",
           "width": 1
          }
         },
         "name": "A",
         "nbinsx": 30,
         "type": "histogram",
         "x": [
          2.8097431245405193,
          8.63580674018521,
          1.6973544864380075,
          5.897435604620731,
          4.847374073962245,
          3.5359624570221526,
          0.23038745553902396,
          7.822046345858454,
          3.1092248525751645,
          1.9538603237016972,
          8.166942230602478,
          2.0399088597371504,
          6.849623100660908,
          9.286334161350485,
          9.006419859724856,
          5.119290687256025,
          7.880886101237198,
          2.2199545812832744,
          3.544153384286547,
          0.32181827242689476,
          7.309012223569942,
          4.573500581374744,
          1.4242133098254617,
          6.567728328312192,
          8.98127562135006,
          1.4474812735450904,
          8.395195738948907,
          9.079073060251776,
          8.192666624818685,
          8.06299751381793,
          9.222945136232044,
          5.0290094590920855,
          2.8938528654955444,
          2.002353007609922,
          5.36489936471114,
          9.108521799493834,
          8.162368220203224,
          5.3928797224173906,
          7.395230147325396,
          8.220395729863236,
          4.817155726457056,
          4.186449101773593,
          7.608584404307502,
          0.5096877570951264,
          0.3229461591122118,
          1.1739052559484375,
          5.7349334757828965,
          2.6999365287040433,
          4.831805902977509,
          9.673299059761517,
          8.729927371796792,
          1.617069842227048,
          6.9764038498840275,
          8.990360789438926,
          4.016730824159808,
          7.291728629660589,
          6.327556127485976,
          4.469268302283958,
          1.2751928892237163,
          7.26653235268749,
          0.9093616374772739,
          5.412450108324186,
          9.888996146670767,
          0.5204893379686282,
          3.226025970602712,
          7.159905937293713,
          6.1268569715015495,
          0.2888266060072542,
          3.393657454057456,
          7.7269027616426005,
          0.9003518339604988,
          0.3215662954320053,
          1.5358438907101657,
          0.5058526038368272,
          1.2059406254375526,
          2.1607308096601785,
          0.1110716067677453,
          2.5198760880677042,
          9.368142941805907,
          5.366066429415895,
          6.694980265613173,
          6.6807087126328,
          4.617281870078318,
          7.918595769510364,
          2.353917546956236,
          5.271278120426076,
          4.934300171917682,
          0.28199038508870844,
          5.926436858508906,
          5.314481622159207,
          0.6518227843339541,
          5.166991905618376,
          3.9079717281351964,
          8.0545208306067,
          1.455537854528448,
          8.442312037520477,
          6.841128692799727,
          7.65646862883151,
          1.2736224224769965,
          1.1646866727449012,
          2.682416917397709,
          1.3645573816030931,
          8.597930484137715,
          5.759752151143035,
          4.090070146320991,
          6.513205245653527,
          2.7556392334805304,
          6.668172230633913,
          1.7340713689304088,
          2.486537444720489,
          3.2686106907342727,
          8.023190002168217,
          4.418241334608873,
          5.861987320044162,
          4.848169365525209,
          2.352029155917892,
          5.318040571118251,
          7.297058431175173,
          3.8233866641966587,
          6.086122744074032,
          5.890395157879757,
          7.308472305161993,
          3.055702501904758,
          7.3338599558043125,
          9.793188715828453,
          0.794219657553733,
          2.7394889334786052,
          1.7359433029902738,
          9.212341949613995,
          2.133192885420346,
          8.057396053579584,
          2.246535127977931,
          8.501287592758244,
          8.790857109432302,
          2.152206369973099,
          7.14429923652983,
          1.5202215127352636,
          1.3218595684552759,
          8.651898890127374,
          9.28222094493671,
          1.6452125261524708,
          7.8864323539954295,
          1.5329449241369897,
          9.034398423789714,
          0.002156071061015785,
          5.444009869683384,
          9.605171647498933,
          7.360629903530086,
          1.7747010542726571,
          3.5169672524583317,
          0.01562730968755255,
          7.586808942665165,
          3.940001743972105,
          5.852440216718634,
          4.409845812774159,
          8.197045570412548,
          9.89547414705379,
          9.560652908295985,
          1.108718844732186,
          0.7785521974196197,
          2.5473356247303913,
          9.94367219843778,
          8.728366565321938,
          4.035386451252135,
          1.3323489252212428,
          5.870765594503174,
          7.751068708855623,
          8.378439409880624,
          9.154984804142302,
          3.6810663306934446,
          1.6590200556921475,
          7.730724167763557,
          4.814961688614995,
          6.111448004954305,
          3.90061938447365,
          6.283695384111639,
          6.2921781255008655,
          5.544825400406291,
          9.228705763633373,
          0.0746554877065686,
          5.139879762043945,
          9.948468375777566,
          2.179583224509263,
          9.054691899583435,
          1.7399702734783407,
          6.061733266891557,
          3.236854154329587,
          7.942859485054232,
          9.316080620325241,
          9.852572356256209,
          2.0523084368448528,
          2.927785262738851,
          8.646097111259976,
          0.6275922734754136,
          2.556271882847916,
          3.100088909477674,
          7.652414623757976,
          0.4489669445599387,
          1.5916809583062885,
          0.7088810749355545,
          1.548396323956942,
          5.765123358156541,
          0.4188877056918472,
          0.5261039685786773,
          5.937153002257967,
          5.722417261367169,
          8.866233590476213,
          9.733780073949394,
          6.049150113077637,
          4.69106413550927,
          4.617741309106088,
          3.511718533925101,
          1.5571325151460613,
          7.033789964215701,
          3.767039144644233,
          1.240315926636718,
          6.558828053195814,
          1.8017643857855248,
          2.514940774481728,
          9.362463534723409,
          2.2915257898330266,
          2.383701398350422,
          7.518770539835476,
          8.402091213645978,
          2.9313464889362892,
          8.790625333471851,
          6.6146975234868135,
          5.287878631052902,
          3.73310351840178,
          4.225848252633941,
          6.240819180379455,
          9.683592237518347,
          0.41034032257099007,
          4.1376546414994,
          0.3700364714877702,
          7.8743335391699105,
          3.7291877361119905,
          6.56547552892043,
          0.29257020412826185,
          3.4169397248468645,
          8.027209493071371,
          5.472729473517775,
          8.661342072436062,
          7.205479384970673,
          3.0912023017696386,
          3.532148495157028,
          3.838349775072152,
          1.3659712748448405,
          8.977421512637141,
          9.486907703140806,
          6.509266855428239,
          4.762994292306591,
          8.322805812267989,
          8.345974541103944,
          8.134714664590245,
          9.399974953178592,
          0.8155551806720229,
          1.8054863659538423,
          3.3943170239907294,
          3.2633092466123403,
          9.00659513991547,
          7.969341496922706,
          2.2422636463351964,
          0.11134325801448908,
          6.631595904142296,
          2.9625363206818847,
          9.316001601750143,
          9.32084944572212,
          2.7450174112974093,
          2.8635158275287242,
          8.256342419407256,
          3.7760511523162976,
          3.4963864952612966,
          5.030826436550444,
          9.597449657194426,
          8.39245935072068,
          0.25537559979155855,
          0.12571333150595887,
          1.102658604649206,
          7.114389566456988,
          0.373892611430342,
          2.744631794450356,
          1.9414224142266645,
          0.7087465261095582,
          2.3666403175666617,
          3.3489892399061483,
          7.921349690054087,
          4.787842889140499,
          3.832303597719532,
          4.0061108131120715,
          2.624109131155495,
          8.031770087307017,
          9.806177016521278,
          1.7273285017497508,
          5.934309716530057,
          8.82901214900383,
          9.39098075670579,
          9.175489497095256,
          9.3936600500023,
          4.833181699996734,
          2.9455051087465476,
          9.592348215845734,
          2.979975388802256,
          3.453314531929709,
          2.5135636877464806,
          3.913905990712042,
          0.47151051767742147,
          3.132028963837473,
          5.837664548055147,
          1.6983812358228434,
          6.090529285418374,
          0.3935351646899654,
          1.5169453932995491,
          6.767801933332727,
          1.5550189126473468,
          6.127957662863923,
          6.609537895558772,
          0.711713843833186,
          8.603674171245242,
          1.7536845767668119,
          6.4473137380407,
          9.506313909208062,
          8.631229096829635,
          0.34840739213952254,
          1.9463706387728341,
          2.173986447563739,
          0.9333779934816977,
          3.0107318061807575,
          7.7133524699247396,
          4.475052754296085,
          2.8505784458504504,
          8.354397130866241,
          4.7420763811250755,
          5.354973336474478,
          4.0877970132608965,
          4.10084338419704,
          1.0081256971595431,
          2.7000623767404894,
          4.577776664050904,
          0.11556253810780404,
          7.1771394365163586,
          9.573965513708819,
          7.778553172262354,
          8.656795513417222,
          4.116759822714817,
          2.523270476381272,
          5.542828375835207,
          3.2413696097886424,
          3.1000769031781603,
          1.5617263152684269,
          0.017016598731369736,
          0.1812737433960876,
          0.627137520649107,
          4.140745992071761,
          7.043798059707327,
          7.029155521295841,
          3.008406000171834,
          7.5867698830722095,
          9.790538325410603,
          6.004883858359294,
          0.8551235249115119,
          7.949758844162364,
          7.0810822074531465,
          5.096384208701182,
          7.375028006672322,
          0.053024404922035195,
          1.379119491581663,
          3.611423929396451,
          2.426250269197422,
          0.33749497134910933,
          5.420246999914847,
          7.8995643353036415,
          8.135828228105154,
          6.820344064170239,
          6.7188899743610335,
          5.2665696239324795,
          6.717205488508187,
          5.434210035623609,
          8.977910698988241,
          8.534460654566745,
          7.148035947476936,
          6.784271188940868,
          6.900907458899454,
          7.982998623068614,
          1.3021202472486926,
          7.724409155528166,
          5.358686459373024,
          9.621760234954769,
          9.038077962796907,
          8.804129163972842,
          6.905112776641856,
          9.766086795784663,
          4.705475786394205,
          8.36727606944175,
          3.099525388600828,
          8.197657178960439,
          1.2849066373029239,
          1.8627865034630542,
          6.511874665477287,
          6.581177306280598,
          3.285005688688043,
          4.273915245175958,
          8.230626622333409,
          1.7495203441927765,
          7.933207517158687,
          7.209168728267429,
          8.005711424928402,
          1.677620792842096,
          6.556167970172798,
          9.482093151154274,
          5.741801357229343,
          8.950197402753348,
          2.4642977540846713,
          5.3969921100567,
          9.253577652390408,
          8.099927374270639,
          7.967954020200365,
          4.435541139386597,
          4.274615272084183,
          8.403538831118338,
          9.55486492678705,
          0.3318171723333718,
          5.6584184476889625,
          7.018313543607729,
          5.915742559162947,
          8.892961784511758,
          6.148344016205507,
          8.301639151685,
          3.594162829038927,
          7.301038589855439,
          8.542206076461039,
          2.2669566202481892,
          7.762804909744977,
          1.1429504394132706,
          1.2876776508111798,
          8.268292523563247,
          7.698910367241752,
          0.45438268437076657,
          3.3844355256714254,
          3.4113043185568745,
          7.81036659086022,
          9.315513819184856,
          7.419478849558336,
          3.200186818817227,
          5.2952268038989985,
          4.658203886278718,
          6.883318851392631,
          2.990176662661821,
          9.345015757250799,
          5.421454444153495,
          6.356428480236655,
          7.814251694405944,
          2.8172641647225314,
          4.513474567276798,
          4.802033501225555,
          4.296632923337479,
          5.9217540612118995,
          3.3469673435032377,
          5.136643469886476,
          0.584630079726588,
          8.822618351792501,
          3.8214897705557496,
          3.5602035822128055,
          5.4237082268929,
          3.7183561313297164,
          8.36310048779477,
          7.929499943384145,
          8.077577666624636,
          0.9828527646653973,
          8.940374664182471,
          8.44521964450586,
          2.6873728930885497,
          3.0391786795460973,
          4.243778048969449,
          7.252502318313273,
          6.102947270240127,
          7.722066218276797,
          7.621645721107754,
          8.617103061851013,
          7.820538945666611,
          9.652039373494896,
          5.308457346857814,
          7.754492815266082,
          1.1893261737294936,
          4.9724752024405925,
          8.008790219557778,
          5.232327815399672,
          2.5658881847917603,
          7.850524828425655,
          9.683439019610384,
          5.640045523304639,
          3.7230329333628873,
          7.419466471360697,
          7.579290419023904,
          8.303253960430512,
          4.813464193900411,
          7.994658500930953,
          6.380422230028209,
          3.4116921698530067,
          3.3629858645750277,
          1.2008837891757929,
          4.339013520514592,
          8.91513422618149,
          2.573228603363582,
          1.1810554972646825,
          8.738783524495002,
          9.77380498672257,
          4.996355598835836,
          7.110233174672002,
          0.20002776489706608,
          4.127445790919193,
          1.7330244393271,
          8.55474245603458,
          0.4217264381734309,
          3.17073127204063,
          9.846998084155736,
          2.693039042799481,
          7.22817124351018,
          1.4729100687090413,
          9.517038238813608,
          1.8182119207761682,
          6.583615166322851,
          2.153829196121122,
          1.2227967102584536,
          5.88742690418901,
          8.212158403103977,
          7.807067188878581,
          0.31707319003675627,
          2.30771060790796,
          4.723194011599081,
          7.717608600468081,
          4.410158779487348,
          6.600571824255295,
          7.347259781476031,
          6.976634594625951,
          4.275829674828412,
          6.052203982558934,
          7.090374328023815,
          7.777272458861408,
          5.489390050530587,
          3.950062348898722,
          0.43633444384153286,
          6.7117354110225405,
          9.747725993114093,
          2.3436656385150654,
          9.894344089284186,
          9.965841908082943,
          0.23321921105493248,
          6.870790630380142,
          1.925539326768031,
          5.894330547049927,
          2.347967911829052,
          9.906835795142173,
          2.6063139003010063,
          9.637408223916475,
          8.724095317234516,
          7.39903815688287,
          0.8272210335504648,
          3.932161772674607,
          1.0989884537988226,
          9.477308587798523,
          4.940442575164251,
          1.428142930530496,
          6.801375496115337,
          7.246822003181088,
          9.989306550587555,
          9.193337479735117,
          4.187866354578045,
          4.969820679494521,
          7.57647159570085,
          4.9890177551587565,
          5.004014303181666,
          4.230601365065658,
          0.07849600342686447,
          7.251358885484274,
          0.9938804438886395,
          6.191306007342579,
          8.648363019652596,
          0.9328107110121109,
          3.767907686085551,
          2.7940222304105644,
          7.532390029529829,
          1.1533920676479492,
          6.717953028017783,
          3.465042237363666,
          4.418542484350079,
          7.8726894384557955,
          7.490658063011509,
          1.2272452427875347,
          2.819609005867969,
          1.9367756647519707,
          3.7252199797891263,
          9.560472350346558,
          4.589377118494678,
          3.531768330191688,
          3.9505728112182026,
          0.9817584825015024,
          6.477120681184268,
          2.433693386124199,
          7.810996645701831,
          8.91619721752092,
          4.5877875981106335,
          4.875904634580613,
          6.804950651511186,
          2.145660178888428,
          4.435176785578612,
          6.835314051435644,
          9.81619982531926,
          6.5101080953203585,
          2.6655965826249375,
          4.654265746156135,
          4.10857183648273,
          5.162138728167714,
          7.049368764241706,
          2.48341380382033,
          6.725238769562822,
          6.948635053683388,
          1.260981814470843,
          7.841905402603297,
          4.144729490539673,
          5.717927606814632,
          9.82792878068481,
          4.231425644962519,
          0.7191082635046941,
          8.899067659636728,
          1.2056585673424214,
          5.005250287601422,
          8.006490514084815,
          8.07181993464469,
          4.540012435161957,
          7.9809151563088685,
          0.16720619776214085,
          1.885155739813248,
          6.423086342940961,
          4.4428723872488725,
          2.598971184848422,
          0.6191368320972435,
          7.918119867922581,
          3.1398095061301303,
          5.103527428917513,
          7.182937636076993,
          7.806336053560571,
          2.304656743038076,
          1.6314668270122124,
          6.497431038781569,
          1.4162757690994565,
          8.978267481434228,
          6.8009526291287745,
          2.58698118533398,
          5.219556357517957,
          3.5025662655658554,
          7.863415970281423,
          2.7117150387596434,
          4.4065448156940725,
          1.0730702361168531,
          0.785967568000655,
          5.550598134033619,
          0.45128661905151746,
          7.884663148596006,
          1.7205854708667578,
          8.333577467759394,
          7.445534959606176,
          0.6245710763559309,
          4.255803982284506,
          3.481297765584946,
          7.352100542971316,
          6.247161593631331,
          9.427236269091848,
          3.094678995006576,
          1.6012082242213832,
          8.169116282237889,
          7.776248658569518,
          7.561768530633463,
          3.3671160194190906,
          2.9430030291179357,
          1.5169405479221443,
          1.844784781061014,
          8.990592565357705,
          3.394896757543824,
          2.256913483178411,
          2.2519172102036897,
          0.41767345258635236,
          2.3108783517125007,
          1.7106436225939126,
          6.949430473954312,
          4.719438658161643,
          1.5799269260866688,
          4.972313948856797,
          4.152920335057935,
          2.2277490419537704,
          2.755708360659337,
          4.841534496368291,
          5.9157457748134785,
          5.171911143417765,
          2.3983425203822515,
          9.033249577703701,
          1.686834031219211,
          6.811034834980559,
          5.971975659237706,
          2.292201301191823,
          1.0355921743438545,
          2.628977180483738,
          9.231915737167352,
          6.454203166216722,
          7.288704337753741,
          8.264372213184744,
          0.5599336002215483,
          7.961988523326004,
          3.9754663821002723,
          8.236748866975615,
          0.8073983423516395,
          8.939388594509136,
          9.49181244025356,
          8.154015886433383,
          4.769152020870797,
          4.282501936649583,
          1.3300348836879017,
          3.0473670160276347,
          0.7026219423034208,
          6.220960557835962,
          8.099436500062371,
          3.45572166156198,
          9.824184320989675,
          0.849113285931693,
          8.976180011358373,
          5.654247748977589,
          1.48803030369275,
          0.7059348287520129,
          5.317558242538097,
          5.504715328207532,
          9.255930131874727,
          6.221508225844426,
          0.668129466548173,
          3.764710322717142,
          5.829787982854903,
          1.0557012073247385,
          2.157095824999523,
          0.699939301692698,
          6.946506689544513,
          2.7039151321178956,
          4.876497584089796,
          4.810262824748674,
          1.5946778328213762,
          3.097656457302538,
          9.58524811985463,
          4.726850725403188,
          7.172554005586553,
          6.47957224815463,
          9.092727658262383,
          2.0269654091976785,
          1.3969218348411683,
          4.546082840617417,
          4.243064263523845,
          3.791770249647348,
          5.407544758762598,
          0.16118289334049907,
          0.30834341946266997,
          0.7152205217040963,
          5.155931656519943,
          4.59748196548643,
          1.3030759798347313,
          2.383492738827171,
          4.657388734177968,
          8.389732962559698,
          8.427743478297039,
          4.711078448904615,
          2.7064639239910013,
          3.1339120210367923,
          9.112910017048893,
          4.0419988497466175,
          7.765360838507476,
          6.551620709754547,
          7.089750114505541,
          9.476837579690065,
          1.444528294215074,
          2.5804597949787746,
          8.734014960019241,
          3.127666111798609,
          6.634373967978665,
          9.839453025236377,
          9.836645370800976,
          1.6900322007992108,
          0.7581743721886192,
          9.20952878987807,
          9.398890839316703,
          8.050035275699132,
          6.291345716953187,
          6.589510016149271,
          6.247853295385129,
          6.887026722117263,
          4.358664795740307,
          5.24098636743283,
          0.33482148043141313,
          6.847894745921668,
          0.19646000553388165,
          6.700304704895097,
          9.087919349785468,
          7.5467972516769555,
          0.7187732476113395,
          2.826041599864989,
          9.391884813865634,
          4.26530984944173,
          4.537228845407711,
          6.029891743012346,
          4.1678007081497235,
          2.6491681333131876,
          5.545594768276052,
          9.559300464994484,
          6.331538817675114,
          8.673197119989432,
          2.1741824590667234,
          1.4968398173056474,
          3.8500880948871465,
          9.803957723143233,
          7.39341059695449,
          8.192661360947108,
          8.12856367735932,
          8.430760982056329,
          0.5697613616834007,
          9.29743916267668,
          9.671947444887454,
          2.4301153562572866,
          7.8252647545513065,
          5.675403830395661,
          7.2176359055782955,
          5.827804270244697,
          0.7066575823175958,
          9.309171573623509,
          7.193284792604299,
          1.448785408402028,
          8.691845435650329,
          7.07269562000615,
          5.838765654853129,
          1.1151838111994605,
          4.350604435636631,
          9.56009248598547,
          2.2991798160734325,
          1.211741273297613,
          5.4690514419025895,
          3.3622145995886052,
          2.140620515318341,
          5.710045144390134,
          1.2614923037421,
          2.155779984030841,
          7.42247766650312,
          9.179869349472135,
          9.296564361997781,
          4.13892084376545,
          8.968865404706834,
          7.461547353797341,
          4.556215040495345,
          8.914823180002276,
          0.5185107270867462,
          4.9011220017918085,
          9.063917809142854,
          3.501025369656224,
          5.807722147335095,
          6.482871158591968,
          1.6779434663581638,
          9.110071277218516,
          9.89336507814852,
          3.392161483831967,
          7.789648793206384,
          0.6268756397947195,
          6.20375298572291,
          0.12344197318122307,
          9.225132186945391,
          1.466538213208578,
          9.528821137587627,
          6.491730275724251,
          8.150601515928933,
          3.227872340877748,
          6.637129223996741,
          2.6049222008565875,
          1.139545991860006,
          4.408724809829283,
          8.270554275372,
          6.582473896548228,
          2.450657015192764,
          3.1940203167332983,
          3.318778122420377,
          5.753094594415222,
          4.756767908873743,
          8.493310799048071,
          2.247614290637844,
          1.4534187512088326,
          3.505878995595263,
          1.9112630618548498,
          5.565199614581493,
          1.5987667446883813,
          8.600335672130045,
          7.195755652513408,
          2.7933197657822117,
          1.0959070857274156,
          7.544966585864282,
          8.374423644017462,
          9.178634376320288,
          0.3326825291949298,
          7.433642578764061,
          0.8925669884164811,
          1.8883597803877983,
          4.803786228371505,
          6.630282790251163,
          3.514465644072237,
          0.14848092415276515,
          2.8566931966489815,
          3.1765554649025485,
          8.006103957826594,
          3.11960322613257,
          5.737298060955695,
          2.942351938210873,
          0.621319097241958,
          9.766156821221347,
          0.10297869313204755,
          3.3398235358172434,
          3.517520180575373,
          7.5054479946082715,
          3.7239871516219427,
          6.2827877093686,
          7.367259409968149,
          4.86417344025524,
          6.70719028718291,
          0.08108107054555114,
          1.866793359719201,
          0.8778196982379227,
          5.527611489123055,
          9.171356761033788,
          4.602699098789444,
          3.6830928161990952,
          7.135518390585018,
          8.905030419580566,
          3.2342252411596517,
          8.985413694879757,
          5.046160720367889,
          3.8969080285641655,
          1.6408209242944383,
          6.692866438392212,
          3.9391178262966453,
          3.468145289098058,
          2.274609972242798,
          0.31075774159324054,
          9.237206736596548,
          6.233152771680822,
          3.449301869113354,
          6.319758044208931,
          3.2316366071487135,
          7.886194406412182,
          8.2220575139408,
          7.787517917506397,
          4.330637975407001,
          3.0039576897131703,
          9.552116431998284,
          6.9972760037727175,
          1.823396910538042,
          3.69819345975988,
          0.33061950210584445,
          2.0201232518542165,
          0.1152035380207328,
          5.137108371283529,
          5.188824988535909,
          2.9679300924954175,
          4.906812608245237,
          2.0436691957527486,
          4.502938413173317,
          6.153183399999166,
          9.831095705887154,
          0.14453473746476542,
          4.074051565533951,
          2.7473338638785916,
          9.5913779338543,
          8.812567815299166,
          1.5483746712633295,
          7.317038152974574,
          9.951781021826344,
          6.135590409056812,
          0.7793672889824044,
          7.805241471015464,
          4.303226279631249,
          0.3917225640004329,
          8.661096424172625,
          7.031125824911156,
          5.803143940458366,
          6.809352477885778,
          6.406625800667154,
          6.9839993930948765,
          3.199460940973272,
          6.18787075030027,
          4.364501928691648,
          4.0314506822338645,
          0.7094558516022487,
          0.7048695986706166,
          9.235189680092073,
          8.390711924306835,
          7.391113396755223,
          7.519523453534872,
          4.660891604281253,
          8.588858090609433,
          0.032546279289332736,
          2.155980551729173,
          1.8594332458879492,
          8.401305778217436,
          8.123832710474337,
          5.000706063218256,
          8.157612373586504,
          7.569353239074771,
          8.88934067021593,
          8.633096580563185,
          7.641227796011218,
          3.2597317142173035,
          8.679964601472122,
          1.9637243240404634,
          2.3580965864846415,
          0.47438843735050695,
          2.358564875236163,
          0.35807284530578354,
          2.5036209142711585,
          5.7377095691918045,
          9.748958978984412,
          9.975259034645687,
          4.2090162155781865,
          3.259174147208711,
          5.78391099477151,
          3.699713925787229,
          0.5963263398929641,
          1.8735829951767247,
          8.990477788517635,
          8.559638954479002,
          9.423901058799466,
          6.607030511572481,
          1.4419148587003505,
          5.794972778769934,
          1.3601586376002495,
          5.580908992005503,
          7.520536711931679,
          1.2566258535529384,
          0.5647540304854881,
          8.717362308532891,
          3.2944298174967193,
          7.641138885268176,
          1.3191694876488325,
          7.823486607798111,
          7.5653062653630885,
          5.548420184715854,
          6.697499588144666,
          8.477920094670402,
          0.10797625896551533,
          8.554060127728224,
          9.560319145854415,
          6.704527822641319,
          7.50107866736366,
          5.181563267385878,
          4.062099865435189,
          6.911059550850574,
          7.427330263786099,
          2.388776086825658,
          5.488802321336211,
          1.9822857350117595,
          5.427794835353954,
          2.9619585165792195,
          7.795491447102153,
          9.33664655913434,
          3.516769990841031,
          2.665743754964567,
          6.46553757791785,
          9.812198735894723,
          9.358933534955362,
          8.483697835364993,
          5.399290783133671,
          4.156093668456052,
          1.7247702498483886,
          3.634352718441206,
          7.011891142384943,
          6.734304596134665,
          6.911960991938066,
          1.605951607045335,
          7.792518431990274,
          9.10636976825577,
          3.9443852308837037,
          8.036290074464448,
          3.9445791809603747,
          1.7375738078032588,
          0.15111580400170688,
          0.5763687133383844,
          9.13724439476345,
          2.077590992210221,
          6.849662678153228,
          8.23852453363784,
          2.67454467881222,
          9.702396876109832,
          3.6362325889788005,
          5.812438196414529,
          8.389265414479551,
          5.273389789709677,
          7.214197006726306,
          6.8354869851849145,
          7.44246290084377,
          0.2541481178965843,
          1.4050075361673409,
          3.6708791101876814,
          1.5743581306814536,
          7.440255054368404,
          2.094459052666784,
          6.016896683010544,
          4.507818341447742,
          0.17578035092254418,
          8.273067521918634,
          8.723401185189521,
          3.9214817558874016,
          7.1067281460374065,
          3.383757696980373,
          4.64215292751483,
          4.9421937102147755,
          1.945067014199624,
          1.2026649607651385,
          2.5061380022171442,
          4.8392797478991145,
          2.058267195608731,
          6.530946732839543,
          8.1621551321606,
          6.696819954877035,
          7.250896069469127,
          0.6088894887248864,
          1.600769280290012,
          5.827496297494255,
          8.785735055905699,
          7.516648149745815,
          6.3511801752833,
          2.8527832106986617,
          2.47357620670949,
          9.392932418923907,
          2.4369278060234176,
          6.216561818854213,
          3.6444791682594255,
          2.2360840562352227,
          8.798545630812688,
          3.346961349079063,
          4.23370316604231,
          0.8076618929740653,
          2.0178849264018215,
          8.604577613820307,
          6.784396641307072,
          3.7183680024703514,
          2.632002130706118,
          8.998003462930138,
          5.572804019802598,
          4.678735618747407,
          1.4215971819464979,
          6.980560427092328,
          8.268692792453487,
          9.831295266307055,
          5.342816938515764,
          2.43519039807126,
          9.493238434358513,
          6.846833599879899,
          4.916912228141372,
          8.596918297715998,
          8.332869305815754,
          9.049723009282525,
          8.338164657954025,
          0.6416833046172787,
          9.506242134412725,
          9.606230481911432,
          4.681593535007034,
          7.028975685144286,
          3.594454547020499,
          6.83394195223081,
          3.821804891566339,
          0.21591658785971468,
          4.093428680669314,
          3.478772390278465,
          6.041437088581354,
          1.7291383991361653,
          8.933098374415788,
          3.2887828247794957,
          9.803839167343197,
          7.731210623469494,
          0.23089389944441652,
          8.42334376769347,
          5.185792497428099,
          2.29582816317755,
          0.36335337335867024,
          6.456319550368745,
          2.9918943546396157,
          9.807889184302393,
          8.189684769396305,
          5.460400980036379,
          4.72584447000224,
          5.129950177350491,
          1.9575853156032208,
          9.955453466495426,
          5.805012260084551,
          8.95146338422764,
          5.396745311483344,
          3.945375282610769,
          3.831547197524637,
          7.568507353539365,
          2.789835583366862,
          3.5284503973385273,
          5.123216116493904,
          5.734519637554936,
          0.823159403912922,
          5.403736631344074,
          8.810122562464922,
          6.322329454640321,
          2.034729471539225,
          7.92525868813121,
          3.4921833450363016,
          2.737991963366686,
          2.0551004620813185,
          2.410074688886384,
          4.617711553772149,
          3.247922216993576,
          5.02058409772428,
          3.2821008222669725,
          1.2747710570110449,
          9.83854078614227,
          8.339762474840644,
          6.692996410715453,
          0.8220688747440286,
          3.809229345365802,
          3.086175332901031,
          5.085167710368075,
          3.86700303006676,
          3.362627349392194,
          0.34578369898890626,
          6.318729803388472,
          4.8751561856741805,
          3.1837573561834374,
          8.51701194811686,
          3.8993678101617557,
          5.3998946157352385,
          7.3543926339038475,
          5.90818953672244,
          4.754216832428141,
          0.8257084185440366,
          4.418879019443266,
          4.912381804056448,
          6.473975102040602,
          0.9030138714217584,
          2.2349662432446915,
          0.3887156704030137,
          1.7894886831008072,
          3.7660724318992633,
          8.743857522238638,
          8.654182850147423,
          5.014049033074148,
          1.661501620148037,
          4.475704055830843,
          6.269187642636833,
          5.525818146964405,
          4.685679597014996,
          6.330196801980442,
          3.6920178964745434,
          2.2613071232294657,
          6.974042189188864,
          5.408313264693491,
          3.4381820562393948,
          1.1064076565862513,
          2.504096681516147,
          0.5513462479331932,
          2.4651181762747965,
          0.995025217306984,
          9.076055529808698,
          3.3124736177450176,
          4.766137322015716,
          4.178500150137674,
          0.7221583376187224,
          6.397164375299589,
          0.1944563596693638,
          4.743874281101191,
          9.997029360011869,
          8.830708751287816,
          8.307340450805974,
          5.512077287285692,
          9.064629411658586,
          0.4500026959716408,
          9.936901504322854,
          5.3946952085646585,
          7.838121258750846,
          2.822097161016676,
          6.253989405793322,
          2.591392208276977,
          7.604542569988446,
          3.590962013543584,
          6.512451908581659,
          2.0853381285311423,
          2.3609216852671633,
          5.008992933412374,
          0.39869943992058343,
          1.2225969462576247,
          9.216121297679639,
          9.390202248220847,
          5.76145365788461,
          0.0662847551898782,
          4.979884870561239,
          9.757838447084591,
          2.5813476376015423,
          7.040203208697308,
          1.322611583136416,
          2.608281171813079,
          5.447159657678238,
          1.9447575562120456,
          8.258741654300207,
          8.279995875543026,
          1.4722004663324972,
          7.000023112446055,
          4.135137263831471,
          1.6949713992978954,
          7.735707614942657,
          9.68268971024389,
          7.5702866364031,
          3.997427582549543,
          0.10532203666989814,
          6.835568621855746,
          7.3817610362550905,
          4.150550534350118,
          2.434276255761029,
          1.1479378692759212,
          5.114813530839478,
          0.7715857341101262,
          9.562129838635096,
          6.742802123160343,
          0.46274156162362967,
          2.7347033087389896,
          8.32827000859904,
          3.6139902898873166,
          5.345389515090035,
          4.902391639491653,
          6.361898124449583,
          1.5631935981791634,
          7.809599418640935,
          9.857517835624511,
          3.8246628699082184,
          6.127851609495893,
          9.7126245219566,
          9.850701542726325,
          2.216957835613722,
          9.116116348000888,
          0.593617737727834,
          5.222877336302187,
          6.198685836914365,
          6.874459297709969,
          3.5647251366955137,
          3.008361929269178,
          1.96591271518047,
          5.12714580871214,
          7.695646459376212,
          1.144728504600917,
          9.364112128879254,
          6.331526723297393,
          9.999822015119928,
          0.28462088488836246,
          4.905451073335937,
          3.8040167068164776,
          1.7304351190349077,
          7.371501336962702,
          2.386500309122254,
          2.217322666030711,
          6.588322768546658,
          1.1843214639575872,
          9.391370931834928,
          7.386173176916783,
          9.984789796252246,
          4.759500015557382,
          4.313691547461048,
          7.383878749764578,
          7.704930829401625,
          2.5001082611049585,
          9.667541650315103,
          1.784405248904053,
          0.3514565516638879,
          9.217363819461237,
          8.614398496496861,
          0.8230159460576658,
          5.099874163012227,
          5.261331085786423,
          9.876753201895657,
          9.08760777795729,
          5.585094635327491,
          2.190048900000389,
          3.662229496574615,
          1.1473644905802194,
          9.176569089474288,
          7.928920781383914,
          4.481837999044301,
          3.9464101075010163,
          9.15429444809091,
          4.477108106939007,
          6.729597457043202,
          6.588698428635233,
          6.384360923333206,
          4.08178254004543,
          1.1430683418199494,
          9.623478067453647,
          9.597364701914918,
          0.3348041443076477,
          4.425418334313608,
          8.380089176279228,
          6.055179374812417,
          6.244834043760081,
          7.9026611629796655,
          0.08123334681814476,
          0.31322836716927704,
          4.652507915515259,
          0.6115978231811625,
          1.9532849576906752,
          3.1705488547609963,
          7.023673073291441,
          0.08032248456937952,
          3.8312557644516265,
          5.338512851919305,
          9.993785332256127,
          5.693624549762425,
          1.3908263476865068,
          4.79546015136313,
          6.755258369714868,
          6.738336636329876,
          8.949146137296891,
          2.9022470083394603,
          8.441526619867844,
          7.090325444335134,
          3.6136705022309537,
          7.201628484999455,
          2.214218961170501,
          7.128279098558325,
          5.107088064345957,
          1.6481583507268227,
          1.4467844494045412,
          6.6842765146841,
          9.040182705013374,
          6.343574061286975,
          6.005733899952702,
          9.549490610640646,
          7.470338886594665,
          4.663941174671221,
          1.0001195948700903,
          3.3874871504162063,
          1.6092511919319774,
          0.9555934037092284,
          5.206290570765293,
          6.698424995625832,
          0.6152238220004025,
          5.193134022445359,
          2.1605727352439508,
          5.85750294010513,
          6.0926490379399425,
          4.218579196076318,
          8.743545914839633,
          6.303897847864228,
          3.9094946720177437,
          8.061184330714708,
          2.2318005059866506,
          2.595771805771955,
          2.4564631601358355,
          7.24617403096251,
          7.509303766268114,
          1.129745402602218,
          3.152204945517946,
          8.945915266387871,
          2.2212116894501777,
          4.183762045574667,
          3.0840899304719316,
          2.905767840898105,
          9.21330456374126,
          8.226014934736321,
          9.807515863026333,
          6.39433536888223,
          8.735945745464582,
          1.6583341780378202,
          9.520653624276509,
          1.3897204362255922,
          2.1202801408304905,
          6.721441671239451,
          6.121832552539149,
          6.6204946535042755,
          9.072530290622652,
          4.727687134926449,
          2.702613895676981,
          5.98130159651947,
          4.51599524389032,
          0.5468629457426499,
          9.849537500508458,
          5.863883072933084,
          6.074078490419408,
          9.472999253274073,
          7.431704913883003,
          9.042992186417553,
          8.342090639874659,
          1.7174536596540957,
          7.8975527558439165,
          4.555163094509746,
          5.025781820933959,
          5.1022516792315695,
          8.458555763450125,
          5.182226531002731,
          1.11120600095448,
          3.700413887721118,
          8.96786051614415,
          6.953187317480798,
          6.7952492995942935
         ],
         "xaxis": "x",
         "xbins": {
          "end": 10,
          "start": 0
         },
         "yaxis": "y"
        },
        {
         "marker": {
          "line": {
           "color": "black",
           "width": 1
          }
         },
         "name": "B",
         "nbinsx": 15,
         "type": "histogram",
         "x": [
          4.841420931010966,
          7.010168526191677,
          6.429528138185225,
          5.468258142172303,
          3.31047477816349,
          3.624715398618957,
          8.449341776406827,
          5.7437667079611066,
          6.475131334133006,
          5.871399198351354,
          6.216182843818099,
          6.348032035976477,
          4.571382503688931,
          6.472610880528684,
          5.848545412642452,
          5.373245759706934,
          4.59980838491801,
          3.647658594627943,
          4.539244322249851,
          4.254204882273111,
          5.532696551621249,
          6.440181596893442,
          5.517453684669446,
          7.603439107565264,
          3.6373827639090552,
          4.934514371369666,
          4.084171970273562,
          5.331936422173876,
          2.9205995383961385,
          3.750304418792873,
          3.5714948174790986,
          4.4852430403499035,
          8.051883304954567,
          2.493466221825524,
          7.6308693378721415,
          7.113405901562558,
          1.8418027279523912,
          6.459960551296436,
          5.122600932449751,
          3.8916578937363306,
          5.829858308315957,
          6.174737854979077,
          7.037165445816223,
          3.116014870859354,
          3.9894670303260624,
          6.023087895616468,
          4.477135503851958,
          5.3835233081402505,
          5.425332047112266,
          6.668904366087077,
          5.458855605796623,
          5.081848589230468,
          4.632863459960665,
          5.622845227924481,
          6.5073191903894365,
          6.297171071377273,
          5.641037336651211,
          4.762368439260067,
          1.8470328458790624,
          6.153218299587888,
          3.1503464517022364,
          4.51135666833741,
          4.279687705439663,
          4.600360737556233,
          6.348744522427842,
          5.998687937987241,
          5.671183722608452,
          6.201433940058273,
          3.5145595027813017,
          4.4259178361791935,
          3.156289942360599,
          5.782335387416657,
          2.690103424277099,
          3.50351489379465,
          3.3244460192631275,
          4.988427721493146,
          3.8479572398578736,
          6.239619697743075,
          2.620363822334816,
          4.319244683174243,
          6.099828776407533,
          4.248982132165508,
          5.620984403684246,
          5.3163738665098315,
          4.96185510542973,
          6.124209322873511,
          2.5518903585114723,
          3.781908932123426,
          5.353411909949128,
          4.292062691947937,
          2.904111349666671,
          4.210863961589391,
          3.6182057653974673,
          4.522717459398066,
          2.9120729834895203,
          5.57244639156507,
          5.7341400789498405,
          3.6940567700197726,
          6.999162934292534,
          6.283300825930882,
          3.432099907986496,
          3.0838594108041986,
          3.343043469472935,
          4.38209857335333,
          6.786640721615319,
          4.918246892437182,
          3.7897996445927093,
          4.3337369394959335,
          3.561174442703095,
          4.791805074457628,
          5.170738175620911,
          5.3747667888167925,
          5.529971120923738,
          7.003319697173788,
          5.879835496455754,
          5.474630846193126,
          8.063156945902751,
          4.946274995712424,
          5.7736189038143975,
          2.0554889385859734,
          4.228643678374423,
          4.655817206325338,
          5.5915313261057245,
          7.6254657922982245,
          2.5163455987718617,
          6.0468590237618605,
          5.657749392251219,
          7.798180505272811,
          3.1574664896133156,
          4.942406237208827,
          3.056250725230583,
          7.553500747273996,
          5.8940281253926265,
          5.2081979290123295,
          6.594316893826879,
          2.911523152135582,
          6.47813771882791,
          5.509487497512295,
          7.114484476532735,
          4.455501419353274,
          5.883654525580867,
          2.467348315942846,
          4.9476117717433175,
          5.239845893539292,
          4.740961695909434,
          5.298822921408428,
          4.197261104169442,
          5.945199433863563,
          7.7285447553348945,
          7.650834185589687,
          4.761691866817363,
          4.819988865439409,
          2.966211491057542,
          7.361833118814495,
          4.702242759361323,
          7.656053000062759,
          5.534431626062307,
          3.9559461158370866,
          6.543255192797232,
          4.5328784855077915,
          4.812049051235721,
          5.22006168083736,
          6.4511948883862695,
          5.510584519234824,
          4.36432486768076,
          2.1206420454173127,
          3.1933505081511693,
          5.118693499639125,
          7.5438594074181555,
          3.1457503347402893,
          4.338470346685356,
          6.874320952339906,
          2.347798416763547,
          7.310127829627041,
          3.790075020995001,
          2.871805043949685,
          5.133060920793774,
          6.712258327588456,
          6.8552528762372145,
          7.57102339435172,
          4.2836985772184795,
          6.222189059059574,
          6.638489386023997,
          4.16759504865515,
          2.9495059348978856,
          5.793417681199893,
          3.9011038986615842,
          4.046902911201441,
          3.6055732873891446,
          7.136666640287267,
          6.109091182925598,
          3.083676993231017,
          3.9041858133621163,
          7.063634324367733,
          4.520547330261357,
          5.706357477992956,
          3.4756958589138676,
          8.374989786606124,
          5.63481683202287,
          1.2680165688700837,
          3.323503357009876,
          7.715949444767113,
          1.078998060771017,
          6.125987989040894,
          5.854447018150617,
          3.5045699784826145,
          5.152234526651988,
          3.67444435719156,
          7.283885220083223,
          6.06773651520371,
          4.107048176123121,
          5.485270181745923,
          8.733727361597975,
          4.113870655632393,
          5.3455764381827855,
          3.910418451126471,
          6.457020527943103,
          6.465557687610946,
          6.242821030398202,
          6.955832753454189,
          8.37943844343272,
          4.736974242630677,
          4.775165089735149,
          5.17656599312502,
          5.126955588365836,
          1.7222305707265502,
          4.441642878057369,
          5.011555098252468,
          4.754489400379601,
          5.5772045455273815,
          5.8898165010809365,
          5.155724572837168,
          4.549552582002723,
          -0.2074453995008012,
          3.9072868171930253,
          5.810243724937993,
          2.792793319982847,
          5.995027594849985,
          4.042472918565654,
          6.365202042972836,
          3.8142719963162546,
          3.400885279840296,
          6.795346070624498,
          4.606359254430067,
          7.537839518624507,
          7.3188004279081085,
          6.076299265763236,
          3.5757182455313496,
          4.684244017579492,
          4.325973166944138,
          5.494329744444059,
          5.779018163028677,
          4.591593033780191,
          5.529319318812839,
          4.801722952045085,
          5.370131265824546,
          4.425265653642531,
          4.450589296906766,
          4.933128012866057,
          3.007197342012924,
          3.248010444695665,
          6.479610171484263,
          3.3531296771267276,
          5.022321293030212,
          5.229400301939767,
          4.320709855110782,
          6.029908662612193,
          3.0893087095352185,
          4.676710257235794,
          4.233304297642893,
          4.525887116549832,
          6.424578596832138,
          2.4857148143465517,
          3.6543265059371293,
          3.4087764357828463,
          5.148190837962148,
          7.06314580781727,
          4.971239717431411,
          4.842087192272999,
          7.7883720958104,
          4.046995007065988,
          4.262832058582574,
          5.116024516177872,
          1.612461529760111,
          5.686654025822144,
          6.495118951907983,
          5.746157001757105,
          4.896478197589682,
          5.179784983226815,
          4.992901265293231,
          5.747434084372386,
          3.578055305027874,
          1.2696371131684199,
          5.62124915474408,
          4.151035761841937,
          4.238120892318764,
          5.574946792042631,
          6.243639241154472,
          6.035344457010282,
          4.652370579379896,
          3.2026846675419542,
          6.451945329784287,
          5.271089968878679,
          4.078928739932389,
          4.5252732099511395,
          3.2944392403409473,
          2.867581936458075,
          5.362352219559658,
          3.908525564252276,
          4.553898065066706,
          6.106690167427711,
          7.22943302100302,
          4.796720368408259,
          8.827950396100892,
          6.066468212269134,
          2.455764763226925,
          1.2832142904749078,
          2.590738284899123,
          4.9666358729842255,
          7.015608669820545,
          3.77615658102071,
          6.4297470312200495,
          7.666590050741277,
          6.031254772062486,
          4.2383189110411745,
          7.07526285126658,
          5.842765454382131,
          6.815492868164181,
          3.6164507003420754,
          3.9015706505620256,
          5.0635432255551,
          6.050826207402585,
          5.866000459877795,
          9.77612285958292,
          7.008923890691416,
          5.811953656793319,
          5.592120574880028,
          4.358277364304492,
          3.825015078060914,
          5.00901893313161,
          6.275846601689799,
          4.505161558116148,
          5.030075751504273,
          4.4207336156249415,
          5.526922312231455,
          6.01361565409996,
          4.5941044082985085,
          5.956548046980648,
          7.110686600716112,
          4.861744013458718,
          5.425691850172831,
          5.493967884641349,
          3.8227133441116825,
          3.54654711842334,
          3.2911875009408913,
          4.957756770932683,
          2.999768763644335,
          5.7139767498622005,
          5.007130851212856,
          2.2729890028719426,
          4.351055012084519,
          6.590336687465351,
          6.361782233828514,
          4.74999855207191,
          4.010930757352069,
          2.582629648128851,
          6.025405422733857,
          5.121923287702328,
          6.15420143503737,
          8.11377578333805,
          8.503477678436877,
          5.648749577627993,
          5.193523824646013,
          3.867947874739876,
          6.098772588715811,
          2.0843564377042014,
          6.015988013822206,
          5.527574460846942,
          6.046627146996032,
          4.306768821184744,
          6.013635343975,
          4.362670587107193,
          5.459970191163778,
          5.108881214523828,
          8.89653289757846,
          6.577162696982617,
          6.705232344932979,
          2.3218955903338783,
          4.4220561593602365,
          2.9509823519730105,
          3.305738127807592,
          7.417922009750934,
          2.947625589832418,
          5.074209157017584,
          5.391801958458629,
          4.39238730104115,
          5.416364008206171,
          3.870622963961895,
          5.008131111439021,
          3.8486191647848047,
          2.710038861245617,
          5.646924399321025,
          3.6285074777167616,
          4.3630784717598345,
          4.846030225985203,
          3.072004266745679,
          3.709833472946416,
          4.638878429677582,
          4.865196418634192,
          6.827359042789584,
          4.521902173416567,
          5.4866281582586165,
          4.7361112382043,
          4.841875649825803,
          6.082091430548061,
          6.331781203904344,
          4.86812877153475,
          5.910439878072608,
          3.158249394470283,
          2.340632900389133,
          3.5980619505046842,
          4.832056881571496,
          6.310085872135909,
          3.6395879496619834,
          4.752144461791715,
          4.739596014974008,
          6.379456919522243,
          6.912261278948256,
          6.81714643271782,
          5.839091851644705,
          5.33155153953966,
          6.040698410983662,
          6.191089152172035,
          3.3622932971263033,
          5.490632198085659,
          6.110243213477407,
          5.612983889079256,
          4.368909711394307,
          6.3093730291001755,
          4.569819883181841,
          3.4329298418054,
          3.08013130604184,
          6.4704376095224365,
          4.931851995682943,
          6.343721171692273,
          3.897538554505363,
          4.474148135029014,
          4.842113055035202,
          3.72855248996458,
          5.559418124101008,
          6.839749199898852,
          5.079253580916371,
          4.691247939281225,
          3.778049291222934,
          3.4436642760812335,
          3.7024149272560942,
          5.527822491400089,
          6.500797405309027,
          3.9126223329632515,
          2.9087033043971315,
          5.91329230547686,
          2.449679529523438,
          5.834389676495175,
          4.096185251620562,
          7.718879921513116,
          4.63432365426059,
          6.398044956620379,
          2.550237777670171,
          6.398398304121658,
          4.995182866400511,
          5.824915732732661,
          3.9773282219961965,
          5.809803950627618,
          6.249714145581022,
          4.221467552024725,
          7.606636555036856,
          3.668948701790029,
          7.627747791167275,
          5.24320805273523,
          5.669609468032228,
          5.179872050170002,
          4.270002122172065,
          7.971329584763943,
          3.3496688876060894,
          5.128390057139383,
          5.16822243933473,
          7.213288001318177,
          4.509539596390317,
          4.836884103707167,
          4.629079763390514,
          4.768632460483684,
          4.915475290409876,
          5.182818340180748,
          3.153382538112629,
          3.0267140374044423,
          5.798697977063854,
          5.08449973271464,
          5.66249830625233,
          6.460914525025857,
          4.891028998914347,
          5.851286621006484,
          4.485140983570731,
          5.167981944894811,
          5.631307493349413,
          3.257913355756454,
          5.877640941433946,
          6.338620792194039,
          4.9501023327693705,
          3.437714143178907,
          3.9838904113817257,
          2.315708937564232,
          5.812613752203317,
          5.000917655841651,
          5.345289908602022,
          3.620810134669404,
          4.456537836570746,
          8.298144987029538,
          6.269292901376118,
          4.039019479891549,
          2.59937070464738,
          4.610386562956901,
          3.9181096172614214,
          4.171261292709069,
          5.228284812457406,
          5.089032129718167,
          4.747285359713498,
          3.9998688532536506,
          3.610683113871895,
          5.909166047793739,
          5.1409836687207076,
          3.4367607634296817,
          3.716889698287117,
          3.4798173595439814,
          7.863212896039939,
          5.363671642301558,
          4.938615724635063,
          5.641549369833945,
          4.286511968619033,
          7.845195529515372,
          6.708068589082315,
          5.8712062412193555,
          5.209910617857074,
          5.71375807111769,
          7.237066254960137,
          7.266772468456852,
          6.183507076489301,
          6.795704885827936,
          7.1601864695504,
          7.592121877801066,
          5.801815401892647,
          6.514483059359094,
          5.848452514715038,
          4.678253199895482,
          7.404751823594926,
          4.621295223346678,
          4.624392685985831,
          4.165312970601143,
          4.361162061865117,
          6.136561168451123,
          5.9686453811404245,
          6.014324834307545,
          5.701395546148898,
          3.9642009247219034,
          3.475575035661352,
          6.636984729158597,
          5.214920549420941,
          7.337317854847489,
          5.475146383616172,
          5.8001165928995535,
          4.335562017367032,
          2.9990199037810314,
          5.297915072591145,
          4.097894128564726,
          6.73450022370328,
          5.438337729188436,
          6.517776784557705,
          9.039144209724375,
          2.831949864563413,
          3.0286159198138973,
          4.328608443398079,
          5.6302493271793965,
          3.0391591681318535,
          3.643198586536073,
          6.500058410336244,
          4.212839348752885,
          4.268950893740702,
          7.2296594933874765,
          3.9614668151082513,
          4.1479801547753485,
          7.1791492720797905,
          5.858535279017682,
          7.223158550236308,
          4.076196382924015,
          8.107519719268938,
          4.401896489937265,
          5.801504000267589,
          4.763764272242135,
          6.308802122002618,
          6.10479336499445,
          5.721661643958791,
          5.661464844693671,
          5.3057595798570665,
          8.598227128837783,
          6.199717319378571,
          5.1425335432683665,
          5.343865362389858,
          5.837289103637837,
          7.534647283288855,
          4.136984784439651,
          5.1157840801360654,
          5.311780176210071,
          6.0098755464408775,
          4.822910977346288,
          4.110432505931179,
          6.69937441164144,
          3.721584024869653,
          4.018562687625488,
          5.147075898246965,
          5.888460910054783,
          3.7947234651526163,
          2.854151972564528,
          6.031270611397279,
          4.237469050854146,
          3.30377787607026,
          6.17750607706888,
          5.15207777047865,
          7.088197724288415,
          5.542495154448933,
          4.454080347540333,
          3.877370084815114,
          4.581228365657189,
          4.590647696919708,
          8.58792589185644,
          4.1052967540101175,
          4.909841268814636,
          4.407775125451842,
          5.781283154387226,
          4.741556414428567,
          3.8239942666270648,
          2.520533513518628,
          8.997393877348042,
          3.654441032689546,
          4.352778328447913,
          4.003889957112993,
          6.559618871683018,
          1.896156830940627,
          3.844427781197063,
          6.202418091722273,
          5.599805914762383,
          5.106663591069715,
          3.8610218553468942,
          5.705090147457394,
          4.925068509687091,
          6.170058528103377,
          5.808401495551174,
          5.398888647914634,
          5.5984773224212345,
          6.129028966533355,
          3.6844024673416946,
          4.553761697945999,
          5.004690820189634,
          2.754529314173607,
          3.468369985633573,
          6.417949907315438,
          6.479537301652748,
          4.571690879261106,
          5.726763112948934,
          3.679321887471999,
          4.302665871389645,
          3.477004277070895,
          3.392145830743166,
          5.882034955377317,
          5.344720675813819,
          4.949846635975976,
          5.281210183929233,
          4.827649183560097,
          6.243118022824371,
          5.437339026674581,
          4.698214209486047,
          5.321667049575314,
          5.070187241374472,
          5.52969357225785,
          5.10608226397309,
          5.2369102649878725,
          2.2105790735570134,
          7.657852052195024,
          5.289399008137639,
          3.0569223537548993,
          4.747369196021623,
          5.7498401393311305,
          6.4600526626798835,
          3.2573122445212275,
          5.053107352690842,
          7.104711709619149,
          4.150479120681436,
          6.604635290574779,
          3.4808472381150843,
          3.1431829953140564,
          5.333311524421218,
          3.512676658497197,
          2.7855917329929163,
          1.5175102827845124,
          3.213346483131035,
          8.072495221031783,
          3.8427398519464235,
          4.81958098889072,
          5.964367303416974,
          2.791716804149234,
          4.487688092347732,
          4.760535727557266,
          6.2940369896814286,
          5.518304624166621,
          7.617427683789095,
          6.2468159373088366,
          7.102531172794983,
          6.68290446363089,
          6.677758630711141,
          2.322733240356057,
          5.9373820170951035,
          4.501807427742835,
          3.068728598628864,
          7.404985254874337,
          5.800091616241399,
          3.09253135664146,
          7.358647935605978,
          4.2626251884912705,
          2.425021609635527,
          4.238245037837847,
          4.877693970539051,
          6.429251273970132,
          4.10412412996983,
          7.09346064266662,
          7.622235739304829,
          6.989568164709501,
          3.4816010435264797,
          4.211991824102487,
          6.293032610157613,
          7.3355960266802125,
          4.878179945065116,
          5.16450808370218,
          7.36169147154741,
          5.881307215719711,
          3.4902025580057527,
          4.090246667067175,
          6.451675159337386,
          4.015937716642498,
          3.561651983643833,
          1.8127274735929815,
          2.9053000965614917,
          7.667547036198754,
          5.069292037083628,
          3.492070602136572,
          5.801816814628909,
          7.464881008042066,
          5.020025269911503,
          3.1309862735272525,
          6.308397508456334,
          4.970787142551214,
          5.4372470209844925,
          3.223264421500105,
          4.801644831825215,
          4.341626040612172,
          2.6898718071947716,
          5.773992426214766,
          3.0500200791589727,
          5.167751674294901,
          3.347023324057458,
          5.452527487347141,
          3.412625444303568,
          2.9931442077195793,
          2.418964977663321,
          5.646902893093849,
          7.712113815569281,
          5.616451645245808,
          3.747318685738403,
          5.339007511087917,
          6.53309976567091,
          5.619623332003612,
          2.164592979014496,
          7.008486941052524,
          5.496886360420851,
          3.5548795498057837,
          3.405583923455272,
          2.7440738721364184,
          6.034335835234978,
          2.565766038557491,
          5.729089969154912,
          6.4087417609809805,
          4.338368565843542,
          5.807976635639275,
          5.989225489001131,
          3.899810205608649,
          4.34565623588455,
          5.912934954409041,
          2.514807799712324,
          4.564589486250214,
          5.3491382717717775,
          8.30324112209483,
          3.973745442592459,
          5.95393055772112,
          3.074815597704493,
          4.497386977604865,
          7.361251897639226,
          8.226540308854013,
          4.7539630727102855,
          3.6733133123787933,
          5.177099274460838,
          4.509699514139919,
          1.9850415390998348,
          4.0504786525198595,
          5.786096689073042,
          3.8011654137274613,
          4.233000839846991,
          3.9566725213399945,
          6.134880869751214,
          3.2396291585604953,
          2.3233710758283124,
          5.346840397300669,
          7.219257884887539,
          4.46672271485587,
          4.260476161086209,
          5.780912972627582,
          4.959746021224513,
          5.841145983398345,
          3.024545704372553,
          4.544003677716616,
          6.411034431777263,
          3.793087481972684,
          5.509591402145826,
          0.8040875274940023,
          7.552723404217733,
          6.441792678332905,
          5.1872919822939965,
          3.3261896449495865,
          5.118695679467742,
          4.0473615438806165,
          3.10881974899685,
          4.65014389218871,
          7.328677884880262,
          5.786837987972247,
          4.306833852343798,
          2.6737428748973393,
          5.931634160046745,
          6.823184450892028,
          4.717802367153313,
          4.240643366802017,
          4.278927941369815,
          3.1953617057216883,
          5.135357421196061,
          4.391973669355981,
          4.110220552703861,
          5.453450961170748,
          3.697216478933157,
          6.7299569833536435,
          2.6486527842977887,
          1.6370247962350462,
          3.082017119733414,
          6.696944374003129,
          5.583087328682217,
          5.930961504849924,
          4.451311430365865,
          4.039074193012001,
          8.231509967847154,
          4.344732258856232,
          3.3865162663122965,
          3.070596580929258,
          4.146309974686906,
          3.902339697974308,
          4.087279615039714,
          2.928715150340805,
          6.07356200697849,
          4.545811906233686,
          4.60629551525572,
          4.845980168469508,
          3.7812552814401257,
          3.84799179684548,
          3.858516975343496,
          3.928849312162094,
          6.017414536896627,
          8.45395871748336,
          1.4503976431144947,
          5.556264006623476,
          9.681830627418181,
          6.767594904221778,
          5.648877014860005,
          6.379049302862237,
          4.843354017450248,
          6.363776052387647,
          3.8234876641854685,
          4.9376958461891505,
          6.399632025085122,
          5.725503450399647,
          6.086361651613564,
          4.567269542526696,
          4.7181433628227625,
          2.5065473732540604,
          5.346792591797811,
          5.929993515814931,
          3.1105890682052264,
          3.759723409715801,
          4.722192739516031,
          6.001678031069495,
          3.4045054760958964,
          7.009643884990799,
          6.30575951957463,
          1.8941171701180153,
          5.678030800445269,
          5.6651108719908585,
          5.400418421391283,
          5.848121417755045,
          4.847839312659426,
          7.9502695009048905,
          7.0150183793498675,
          5.346555004052369,
          4.345118087398906,
          2.2144613177136567,
          5.263425980439469,
          3.9709075471405573,
          6.759194740243265,
          6.644706165427353,
          8.291375828466403,
          6.621669756398409,
          3.236286797132211,
          4.264258058110309,
          3.178001057290044,
          6.808567071777668,
          5.2377611980104275,
          5.116066796757207,
          4.130737935243691,
          7.753329916486201,
          5.592118047571683,
          2.4642846155209157,
          4.148237929449422,
          5.900092043229594,
          5.691723263085487,
          4.464554257923079,
          5.670815927313763,
          6.471235618447444,
          4.50624077452368,
          5.527272855129621,
          5.606696790230495,
          2.915685835600189,
          4.128572617283934,
          6.3364325316834575,
          4.601138540121426,
          2.834109152106453,
          4.147286180435788,
          6.483520190793471,
          2.749337434365898,
          1.3647252310054458,
          2.953739006259961,
          6.115035398413714,
          4.098332857671778,
          5.5166461301671665,
          6.129232373063824,
          6.133355006836238,
          6.729767508468571,
          2.0803920956254727,
          4.410457746769069,
          6.219922520418898,
          7.123544223419392,
          3.948941638790692,
          2.9460830140845418,
          3.2509489313295403,
          4.865997972424324,
          6.207689290013573,
          4.405132947131173,
          4.292305721756479,
          4.335583564642954,
          4.325954998043985,
          4.922299546934372,
          5.326189012222228,
          3.816882277160608,
          5.64561323866036,
          5.319603222760957,
          2.357795812286043,
          1.909287726031236,
          5.898610309485272,
          8.099542017953397,
          3.3116365220402413,
          5.799922692102836,
          6.524862275766564,
          5.507551163336914,
          3.3862031678955016,
          4.178929197023228,
          6.6019649706660015,
          6.160738464133,
          5.946156341456152,
          3.589657526491428,
          7.000589692009732,
          4.458898761888777,
          5.08477869743352,
          5.045688125556981,
          4.00440686479579,
          4.939315849708103,
          5.009410030354346,
          2.5025180987443547,
          4.443068519464997,
          4.720396598353363,
          4.718903741635217,
          4.824389748825672,
          6.292836739811904,
          5.0166443791945365,
          4.941631897394085,
          5.703003732131003,
          4.839047888733604,
          6.070434405646882,
          7.181410417470605,
          3.986428741355769,
          7.584937097337036,
          4.28201074198657,
          3.8450247603586285,
          7.155589843358536,
          4.4745702641529945,
          3.9208840825108053,
          3.0200046428587903,
          5.284907767229101,
          2.367370014041131,
          4.680456754678877,
          3.7211384366350826,
          3.0151053401146086,
          4.957026988861393,
          4.121804044175354,
          3.590030052956724,
          5.865222332555576,
          2.9862368965567736,
          5.209780825433,
          2.09844992199601,
          2.881340575083315,
          4.521492067654531,
          5.489152564210727,
          4.8739123288888875,
          5.389516420950011,
          5.425351506869792,
          3.375273723872443,
          4.663588998018221,
          4.818736363245674,
          7.031680249761105,
          3.4427912325466545,
          6.586891309063591,
          6.265119134880109,
          4.167674512652422,
          6.234890008573971,
          2.111377527951681,
          5.391373778811924,
          6.9239101538247905,
          5.585458204987475,
          4.756189154768723,
          6.27807090733781,
          5.674978832361242,
          5.702097326900859,
          5.5406844963504165,
          4.0989693266029334,
          5.541135442888374,
          3.692692298687953,
          3.5514000130282453,
          6.972674370696351,
          7.125378580096271,
          5.50565705782615,
          4.266090805208181,
          4.191882523976902,
          5.38605285163835,
          3.737525295762956,
          3.1947873273335405,
          4.546523973776086,
          4.536814525907937,
          4.679857787911415,
          5.755294554740971,
          5.790864465519456,
          3.4921919191144624,
          6.49654263446313,
          3.2886547351344646,
          4.009537747839038,
          3.1468454697652795,
          2.965389186607558,
          6.324509044543544,
          6.029978739021093,
          5.448107687947257,
          4.723847743846639,
          4.895601720147825,
          3.8181572583899097,
          7.423414594706078,
          3.0850740975749957,
          5.055623910900107,
          6.300444304943378,
          5.378431422296935,
          2.3758587863747476,
          5.315700526154365,
          3.238132279367833,
          4.141678486710382,
          4.649836141822028,
          6.810274894691433,
          2.4318269970851394,
          3.6565233698722386,
          8.634545234889906,
          5.532924246764301,
          6.301778970184795,
          4.792333267603182,
          5.819032934252435,
          4.923965290849832,
          5.723846106065424,
          5.860778575034505,
          4.047265880563412,
          6.2912215996078515,
          3.561576807277594,
          3.6748635075165548,
          6.501467827801369,
          5.6609325161161586,
          5.221363611030176,
          5.470823998003386,
          7.095006724638156,
          9.19421819167552,
          3.5304051745545633,
          6.846950851707568,
          3.7575581149557817,
          2.815935000605373,
          5.950415560831112,
          3.325631861114702,
          6.6567992224804655,
          4.388457730262125,
          4.512195383017609,
          5.8241105955497465,
          2.9034778218929387,
          4.509507620811503,
          6.130073026433836,
          2.6164356202572634,
          4.865483569726169,
          8.823271420292567,
          7.597236977105098,
          3.204359731649801,
          3.0679329233196615,
          6.456497269459794,
          6.495310532687685,
          6.100067831066593,
          5.271287500100558,
          6.835844273510148,
          4.6532485875758365,
          2.3181190043658857,
          6.820786695176165,
          5.943396117949467,
          5.7937140009767365,
          5.095829491488799,
          6.414422128111412,
          3.256953371068029,
          6.760359911861164,
          4.685344438320379,
          6.851221534784966,
          6.015927787680924,
          4.479596946549082,
          6.182561370310605,
          3.3588407133225835,
          4.5804800131518775,
          2.9627267277946263,
          5.983279802717013,
          5.879874796810633,
          5.641204449134813,
          5.011030842834887,
          3.763671113258641,
          5.805288442679095,
          5.164871556620282,
          3.5432676955021636,
          4.461583629860229,
          5.386980473142851,
          7.251505582642827,
          3.0407601348905424,
          6.308649042883743,
          4.178260914257665,
          6.303201856633375,
          7.830408333756858,
          5.612920582426174,
          4.326347377056928,
          6.355773607130926,
          5.769770803163562,
          5.148750982467616,
          6.586962241385901,
          5.06102212731723,
          5.9712996094414095,
          3.9210229206651412,
          5.130294179972369,
          2.966244058373113,
          4.168074667960374,
          5.788219644869955,
          5.540873352515423,
          5.8761514412360984,
          7.727883400177985,
          3.066044415359442,
          6.9593506808158985,
          4.473645257688785,
          4.860371433676233,
          4.418341510085728,
          5.509859304670478,
          4.370676991104989,
          4.642768561169911,
          9.216802986195212,
          4.764932540172384,
          3.726297145093572,
          5.174038844308649,
          7.195844383365053,
          2.048623681599169,
          3.7113698601833853,
          4.87042086615303,
          6.339049085334273,
          4.866000868890277,
          6.186089975942991,
          5.860210267874022,
          6.387968439451276,
          6.501218937298123,
          3.728477924746331,
          4.111085380814164,
          3.2965868185025995,
          7.51206234037922,
          4.304794144620939,
          2.663381587710098,
          4.722904770572644,
          3.6696927711722873,
          5.728300860509135,
          4.6855186822892625,
          1.6608342085852676,
          7.371770533723098,
          2.540855970784199,
          5.4654235767004495,
          4.811394688406741,
          1.6166975619448665,
          5.210199226404546,
          6.147522508951459,
          4.635223578433875,
          6.493000507972358,
          2.9721612308700287,
          6.257336247249392,
          1.4691361797447682,
          2.0952547083696675,
          3.3924810188931436,
          6.317948309479457,
          3.652428089140537,
          7.226674645374816,
          6.4851604196817645,
          7.481214709367294,
          7.450217905522695,
          4.588301798087007,
          2.9724048236963574,
          6.794043879786243,
          5.780024516150117,
          4.84073966188484,
          4.843722517044865,
          6.336840039110053,
          3.732384870279259,
          4.606277578332134,
          6.310904286573469,
          5.192691400295404,
          4.954788885378375,
          3.808295930430982,
          3.7224618196716266,
          3.133883096466145,
          5.0022627054561175,
          3.765377421625379,
          3.8274575946637617,
          6.433820254454762,
          4.441586165788602,
          3.4456007599569705,
          7.260229147316567,
          7.203473292296898,
          6.365549371337195,
          3.3165259430008422,
          1.2587664771438316,
          7.076606929917273,
          5.757033093404361,
          5.157516083380578,
          5.0537898860213755,
          4.5848083460831,
          4.371502173204562,
          4.179497596715974,
          6.837954209459548,
          6.171752033669246,
          4.935083821169503,
          5.803071464819218,
          4.478420767288804,
          6.730351142015573,
          3.9622885070900344,
          5.610904877536863,
          5.829437507920317,
          4.861404281561879,
          7.786492290089601,
          4.661880090222709,
          6.933734075422253,
          6.777161962268646,
          2.4407666026421224,
          5.659536572376737,
          3.3065305715434445,
          3.9032667629658215,
          4.778405275875939,
          5.620328566173732,
          4.726263466970704,
          4.526344601715063,
          5.519691932556679,
          3.1341853045951984,
          4.735638039130454,
          7.709771445673007,
          5.990463755710639,
          4.646710102584842,
          5.23212656072965,
          5.609596664139887,
          6.746856664438628,
          3.974356638479498,
          3.3039220831918037,
          4.856473854529864,
          3.763265091960329,
          4.427515395141992,
          5.719796557448434,
          3.8499056342122433,
          6.688267242216457,
          3.29335171091237,
          3.733437772954189,
          8.113736045748144,
          6.519214339087645,
          5.222418893031629,
          4.474140572463666,
          5.458272622184344,
          2.7001902923085837,
          4.856603090505519,
          7.22547747649358,
          6.632295327818288,
          4.709972153664915,
          4.586537524282156,
          4.546638421008468,
          2.5960603031210168,
          4.526146446385549,
          5.924995013089819,
          4.268838522527907,
          6.815539387700512,
          5.349100744253853,
          2.0085564626476424,
          5.586075263959285,
          2.6774943795231354,
          5.0291940846187835,
          7.784257991231446,
          4.942932030997588,
          3.6725471943056354,
          6.999050620733577,
          4.162944235548745,
          3.0721527843195187,
          4.628263278860003,
          8.344293594117776,
          5.769031640704664,
          6.897171104748352,
          6.665868208262586,
          3.985460544372437,
          2.997845609637828,
          3.067795975175361,
          5.724333611336248,
          4.446236774426625,
          2.08093859677989,
          6.457874449809694,
          5.960733980284248,
          4.070561607503587,
          4.018130278691341,
          5.2387310212082205,
          4.31049137581793,
          4.522232292442755,
          4.6939999575538245,
          6.622444042460746,
          4.407015787814455,
          5.267695382176277,
          5.024719893796008,
          4.816809418841366,
          5.754261055418294,
          2.809136353053222,
          5.490616895811427,
          4.397171176321496,
          4.670812879996758,
          4.8167789417599005,
          5.154873594644784,
          7.286823183887893,
          6.410498423648498,
          3.4138094514272677,
          5.200863779333215,
          3.679579608485758,
          6.477422077137646,
          5.767249984355035,
          3.8786537123980547,
          4.19032660975832,
          3.73508003275208,
          3.2443005955309214,
          2.69353023596713,
          5.830233953615715,
          6.402833594947042,
          5.486207834675088,
          5.005499822582423,
          3.152591327674424,
          3.610521075000239,
          6.833624885362786,
          6.5173672487040575,
          1.5671622254218462,
          4.977336062280186,
          5.777584801172498,
          2.0823382935460493,
          6.41805233762263,
          6.803609435864818,
          5.313458710077907,
          5.192876140952784,
          3.7133697527047955,
          3.9942762407990777,
          4.967986057304743,
          3.5082167091396284,
          3.231406739364745,
          5.903109867516764,
          3.695720185359667,
          4.6763715281483735,
          5.2122971620383245,
          6.143493081067347,
          5.921391214974585,
          4.026529160488089,
          5.09774137974427,
          4.400546704145565,
          6.493619778797904,
          2.550518834458487,
          3.9702777528983377,
          5.62233390018752,
          6.033895938135179,
          2.760648348005036,
          7.791441181728886,
          4.253306654529816,
          3.9639586701894958,
          3.81132875027382,
          5.913817390136938,
          4.647867223224373,
          5.1005073113146855,
          4.585977227268749,
          4.664934026528568,
          3.480605585632032,
          6.561910993966236,
          6.9323411471253,
          5.837259260280724,
          3.8068409637775407,
          5.066849617308818,
          6.219117833742831,
          3.1675187872467885,
          3.200275566648297,
          3.5871508004187476,
          1.7847970255980847,
          2.71867536307753,
          5.387063127585923,
          4.928387255621111,
          2.786808339988945,
          4.8630235080133835,
          6.447719585012736,
          4.069433908186637,
          3.2214512512760907,
          7.643496522776304,
          3.2549238483559395,
          5.038881604327151,
          5.450453516711574,
          5.386887662982455,
          3.6484335087254722,
          4.499780054304423,
          6.182865189529789,
          5.64112821213708,
          4.176628255271685,
          5.869169381913499,
          1.5496510758398845,
          4.604422808172824,
          4.830338151343106,
          3.328725373863489,
          3.302990437219595,
          6.862511915236008,
          5.421010706740908,
          4.334192684717201,
          5.815095809052357,
          3.9114369420021013,
          3.945469229218151,
          4.683267288412476,
          4.189813367656941,
          4.972393485710446,
          4.795091610606384,
          4.370016844137459,
          3.086206413150024,
          4.37293604102887,
          1.8904536673646195,
          5.109212830766868,
          5.084947799606908,
          7.7875733230499815,
          3.9859288020426855,
          6.050233368855738,
          6.911257698482073,
          5.4813553308504295,
          6.090365735547507,
          6.3093518870724274,
          5.954449902155027,
          4.9019150436978975,
          5.120039644479687,
          6.5437462863630556,
          5.773275934865468,
          2.281858608376518,
          3.6006462594472,
          4.315401236031625,
          3.964135324063885,
          5.817928804721826,
          1.9814564117972928,
          6.053633317159978,
          5.449474869396727,
          4.783827846117638
         ],
         "xaxis": "x2",
         "xbins": {
          "end": 10,
          "start": 0
         },
         "yaxis": "y2"
        },
        {
         "marker": {
          "line": {
           "color": "black",
           "width": 1
          }
         },
         "name": "C",
         "nbinsx": 45,
         "type": "histogram",
         "x": [
          1.7809967245864535,
          2.5003055966085554,
          1.7495131939231028,
          1.6163493854895248,
          2.480076834482417,
          2.1164285814832082,
          1.9521043984065167,
          1.851973065719077,
          1.5498042927573425,
          2.0687073047308457,
          1.5761117923473615,
          2.0707505289230492,
          1.9536137309741561,
          2.2780490939166658,
          2.002926863978518,
          1.710553456154679,
          2.655677822281188,
          2.510421029905542,
          1.558780827361832,
          1.9779581779616937,
          2.0203040854914334,
          2.326917003133512,
          1.968110434070793,
          2.300700018698068,
          2.2396850779407034,
          2.2409570765634017,
          1.7388264002258815,
          2.3609385188935086,
          2.5624111245147367,
          2.2974905764675055,
          1.9810844319761711,
          2.055469076683648,
          1.6032389958952271,
          1.648824089157221,
          1.7339301314935727,
          2.193458362330391,
          1.96253050034519,
          1.9037055015491893,
          1.7216952808702168,
          1.7343839535907102,
          1.756957526927443,
          2.0236029145149534,
          2.2037735759373906,
          2.1091089066990736,
          2.0745937121568727,
          1.9218979526051296,
          2.24428047957867,
          1.9066796402939017,
          1.9736438683015014,
          2.291728235154083,
          1.8022990908490768,
          1.7872483804917012,
          2.018265641619637,
          1.9600838779162881,
          1.9908864446325862,
          1.8365917708358146,
          2.0660951691422493,
          1.8870171554350654,
          1.8340342755836199,
          1.7390814564489114,
          2.174459331570098,
          1.7371644519561902,
          2.0038818440359574,
          1.9554342376566254,
          1.9525020373329682,
          1.5426626703201802,
          2.053712060123276,
          2.1306765702314543,
          2.1952693736571076,
          1.5337320760180895,
          2.278838561843026,
          1.8782782183105957,
          2.0181866183122925,
          2.089483224443801,
          1.8916584591849412,
          1.7149475754542995,
          2.0626416330205766,
          1.835172517567792,
          1.9570634544030463,
          2.0549007385056686,
          1.9311027641266962,
          1.878437068620025,
          2.371168178693216,
          1.7503976889530553,
          2.313379863575022,
          1.7840056786164857,
          2.5280495277423336,
          1.8234282498838719,
          2.124984324536793,
          1.8681479617155858,
          2.46739932419369,
          1.3495035856533755,
          2.6676255638165003,
          1.9517436435165019,
          1.9860664269068986,
          1.7354730745019915,
          1.7094918314159793,
          2.0547235158414203,
          2.168152741285985,
          1.6594468870455437,
          2.131394239489735,
          2.003601287674332,
          2.0634569686670323,
          2.2354577419663846,
          1.8018487616705985,
          1.8873708490208438,
          2.0298692896100365,
          1.5992234152975993,
          2.1068856500560256,
          2.1037935305279625,
          1.9383380723379606,
          2.2321935008242306,
          2.534850862277093,
          2.08473545570386,
          2.0095530236024333,
          2.340716778140193,
          2.0436937614450836,
          1.7922387274957168,
          2.061560771295248,
          1.6345797586924258,
          1.806084337059598,
          2.8017156006312063,
          2.2613368272510166,
          1.5616626917389524,
          2.2936256336438974,
          2.2977109831802323,
          1.9545732240008487,
          1.6434441664893087,
          2.1508404164530335,
          2.3060166091829744,
          1.746627783088611,
          1.935426216219538,
          1.907546491133526,
          1.7520003333863445,
          1.9658072300158715,
          1.978731129481495,
          1.8894625182465414,
          2.2778024238839274,
          1.6475136822114822,
          2.0306869562533576,
          2.3296453172641627,
          1.610656380819226,
          1.7446048124017104,
          1.9870151466167096,
          1.7398880182302991,
          1.7116601652299042,
          2.247938040926757,
          2.015494697431087,
          2.119990888666506,
          2.287812643882938,
          2.0986290375580334,
          2.081233924515843,
          1.9532262463241814,
          1.727609390592687,
          2.2371607588718603,
          1.6514760266842385,
          1.9301665294600248,
          2.3130041699801236,
          2.326620468775219,
          2.1395353511838886,
          2.6084280746766444,
          1.8540363409606313,
          2.2688173854798217,
          1.9621275334026802,
          2.3787014573263825,
          2.3159282238063845,
          1.7595016323331931,
          1.681560370772028,
          1.7595529164151085,
          2.2877986091481364,
          2.298579389354951,
          2.2977636954152953,
          2.169696947412022,
          1.544570153061196,
          2.1961421774849477,
          1.989631275495045,
          1.7169860689718188,
          2.0356782722214586,
          1.5792415705477365,
          1.9226185388616999,
          1.6123403574014423,
          2.3883827305627525,
          2.0368393463844354,
          1.575978036118347,
          2.379208996724163,
          1.936997635216276,
          2.236691113171953,
          2.2965300944393503,
          2.101071932606468,
          1.7362463331584186,
          2.297090607542523,
          1.6986018505364062,
          2.073047323576625,
          1.8804535979019192,
          2.3271862503464438,
          2.3324262045187565,
          1.8138866008357524,
          2.0491425855219467,
          2.209169090216706,
          1.8646805575968703,
          1.5754646835156993,
          1.9881728998897898,
          1.4787145641656432,
          1.6009279358999864,
          2.1197946547599353,
          2.134587628809415,
          1.8023820714371663,
          1.6838699633450591,
          2.0237743723702906,
          2.326779229786266,
          2.0518130230104394,
          2.3362451765737795,
          1.9580406845378395,
          1.918714767020874,
          2.014073973169773,
          2.0907349722189257,
          1.906510838951782,
          1.874410174755818,
          2.17254076669332,
          1.9152363548521818,
          2.255773241632187,
          2.1281388889185933,
          1.756725155827538,
          1.9860701512181484,
          1.9639772984078592,
          2.1910891220781163,
          2.0346446495000903,
          1.67872184222032,
          1.845104486391045,
          2.743019527451262,
          2.043497754532737,
          2.4326260141097733,
          2.4728369811677497,
          2.099635265398821,
          1.8856272353426542,
          2.008491666166501,
          1.5985419473279707,
          2.090111260129626,
          1.6117969811442037,
          1.714707129275701,
          2.2997118124658784,
          1.8802748951977832,
          2.1213962826208896,
          1.9594526011912545,
          2.230028641663841,
          1.752711481697626,
          2.2719834049364183,
          1.908883533107381,
          1.8866952590740371,
          2.23120030451089,
          1.9638795080922606,
          1.663128340172817,
          1.6710707022078934,
          2.2740025518877003,
          1.8828352194815816,
          1.7875892312994668,
          1.8860790545072559,
          2.666247117648362,
          2.000491204724821,
          2.0140601011977957,
          1.7991605397342205,
          2.4449810437840775,
          1.9811732693236321,
          1.8140322006192235,
          2.2367259434969826,
          2.138055908172587,
          1.8993270387616858,
          2.003515079033969,
          1.9041875772275658,
          2.003825168282015,
          1.942725243943018,
          1.734662630151829,
          2.2637814362606288,
          2.576492988838127,
          2.2467821483872474,
          2.043731725314335,
          2.147411111483057,
          1.8730784829220297,
          1.8977619712119174,
          1.9028690794496281,
          1.9927230451137432,
          1.996292193743923,
          1.9162029369987699,
          1.9494150903655072,
          2.0907096401404104,
          2.1527728261125234,
          1.654605845173955,
          1.782139567882336,
          2.0197412904663823,
          1.5720595864126066,
          1.9409698315653006,
          2.1978911497309643,
          2.175569493174343,
          2.056072704629157,
          1.77826451510919,
          2.0864117265326967,
          2.233719769044177,
          2.1057879118245935,
          1.6874391405414748,
          2.030947138208434,
          2.1634988046979107,
          1.9656843066203369,
          1.770400669637011,
          2.11974262910338,
          2.0550208885756365,
          2.084702090928718,
          1.7964617092526953,
          1.811509256481455,
          1.515832007127357,
          1.7820401728108946,
          1.867519185669061,
          2.219981561996939,
          2.0313432548221186,
          1.68747544579213,
          1.8850089264473777,
          2.1351945019040883,
          2.3460303348529346,
          2.063207567083593,
          1.865139501984569,
          1.8492263872928167,
          1.79479270072922,
          1.5812818968252482,
          1.7385769569798772,
          2.297427428755011,
          1.5950749109416562,
          2.1148319283800965,
          1.77293559076233,
          1.6773169813728037,
          2.0217936508610355,
          1.7217467189922875,
          1.553063746971369,
          1.5727785223226607,
          1.9545611994517842,
          1.8490243880377304,
          1.9491783243729877,
          1.8346383112728608,
          1.8769551812210674,
          1.9885295295381678,
          1.910605004255405,
          1.7452103327258777,
          2.164557077881935,
          1.8370113791077827,
          1.5764553072814367,
          2.2948183718321298,
          1.812661255505586,
          2.0801705430841686,
          1.6976654376220786,
          2.216180583335837,
          1.898293668578908,
          2.324914931119268,
          2.254971102988494,
          1.7523619947886608,
          2.404247970938993,
          1.7322979712467004,
          1.829372927484117,
          1.934181064404765,
          2.135590083178767,
          2.1471985521199444,
          1.906798667060266,
          2.1517031322477367,
          2.2521133679393732,
          2.01487118371736,
          2.1720634155204475,
          1.6112814748402728,
          2.336727722288544,
          2.053102332966668,
          2.404069346685955,
          1.8726649188610163,
          1.5627055062063375,
          1.5231287361934398,
          2.2348994038966365,
          1.9751934797851392,
          1.696218001946997,
          1.7703761255229091,
          2.514246555068096,
          2.424493307668513,
          2.3308998570838453,
          2.5250325091047254,
          1.9749643753021588,
          1.8954241197221415,
          1.5098435240755548,
          2.167065176484379,
          1.7233727547214657,
          1.6530488975835986,
          2.0711027498992274,
          1.7205133464895934,
          1.954795808338995,
          2.0993992632977445,
          1.8872985500324084,
          1.6919191151240454,
          2.1071260994489314,
          1.8322388079433698,
          2.274193602772827,
          2.0866849567515007,
          2.085629834365439,
          2.2507274566480016,
          2.2270587757878126,
          2.0211066744598782,
          2.2008149778738275,
          1.9728901687195943,
          1.7423137613807098,
          1.9204911750640774,
          2.3393522199923704,
          2.1278594347651225,
          2.2713066921826313,
          2.1057042158083075,
          2.236811519960087,
          1.814244980921841,
          1.3309790815708011,
          1.672282269132717,
          1.9245303133337277,
          2.3313749507756776,
          1.6787052063225567,
          1.7489701891905516,
          2.0938380478428864,
          2.166305747024515,
          2.1002644775024724,
          1.8531730237246622,
          2.0229601835102624,
          1.8059826958173013,
          1.928283472622169,
          1.9547763581886852,
          2.4688036184415947,
          2.18503043257148,
          1.6941420768676236,
          2.248828464586062,
          1.8921083529119505,
          1.7002624597598748,
          2.210143877395011,
          1.8528759764620872,
          1.9384880483955524,
          2.0566041133722366,
          1.9397679373804517,
          1.7599031094260114,
          2.033993247757191,
          2.0476654634885927,
          1.9383419167009859,
          2.222439901819351,
          2.139629953613824,
          2.0989350390566694,
          2.6688458407524736,
          2.2710002957508415,
          2.310979427283917,
          1.9094629228712174,
          2.0788775824453913,
          2.2354120919322313,
          1.6114111316406785,
          2.1091046810020657,
          2.1539878374582613,
          2.0462767920150733,
          1.9581420283393876,
          2.250934653204744,
          1.5139077294598622,
          1.855949143918902,
          1.8564795009175796,
          2.079136697400254,
          2.3885577736134485,
          2.536002049033172,
          2.1403494698829486,
          2.1992724117416986,
          2.2371500057987777,
          1.895169100867269,
          1.8900455514131471,
          1.650732212536148,
          1.949972404806121,
          1.6355513129131996,
          2.0433221735226823,
          2.1688403901649105,
          2.0832683827699374,
          2.429600666943977,
          1.8714707338435186,
          2.0480132100321526,
          2.1245507812928706,
          2.1397121462009183,
          2.32067878901064,
          2.00807310608054,
          1.780477015955705,
          2.0334092748537813,
          2.0741975640541526,
          2.121179152757923,
          1.688417635784495,
          1.6249664284551317,
          2.092277556253181,
          2.3222195954721725,
          1.913934952764263,
          2.266779409141042,
          2.3993113804441486,
          2.0692676899409608,
          2.2843107897342723,
          2.4379345507360006,
          2.010621646079422,
          1.7292816265923228,
          2.0888572869236044,
          2.0757757745815777,
          1.8747727553142375,
          2.1223744868262555,
          1.8144447668104173,
          1.9907949152662332,
          2.174263536008798,
          2.0451718947709634,
          1.8877594650073464,
          2.2970384084021074,
          2.101298787004266,
          2.1627728415153844,
          1.9648251088272413,
          1.8162740754776534,
          1.5078079155604964,
          2.1259139737652024,
          2.0625505323301563,
          2.1706814059257535,
          2.508660958021098,
          2.2755264179898145,
          2.0863013966829014,
          2.1596085217145045,
          1.9654786356618978,
          2.138949937626224,
          1.8184972211427073,
          1.804238262405129,
          1.7884498870679804,
          1.9942948211357097,
          2.0590261723131724,
          2.010598551792192,
          2.1986316872793092,
          1.978418282043931,
          2.155902994130972,
          2.3056042004991357,
          2.359481095400966,
          1.625164180249155,
          1.739159279427163,
          1.7283628082726397,
          1.9578895997902785,
          2.100500171414741,
          2.159708484841205,
          1.6177278030333935,
          1.6852456678287955,
          1.9342934350435632,
          1.5914923632387767,
          2.5827051909938015,
          1.762927262279286,
          2.2432893135392975,
          1.8960712952145697,
          2.0457067590459266,
          2.545168528058322,
          2.024234713394957,
          1.9043939969819303,
          1.916472101186626,
          2.0320559673050016,
          1.534881641443308,
          1.8410957022447723,
          1.771541511623743,
          1.7993730443133187,
          1.9911704298478938,
          1.879229285683572,
          1.945271545416086,
          1.737726286989108,
          2.4831212448020596,
          1.9280896564506995,
          1.9056869913735957,
          2.0430452447076424,
          2.225415921341446,
          1.8683205378811927,
          1.9819145418135056,
          1.9386883274566125,
          2.1470199156477183,
          1.9339979480782263,
          2.279198919863448,
          2.061374449259715,
          1.9464733391330722,
          2.298427758746008,
          1.7359387044534431,
          1.818893038516793,
          1.8864425634151845,
          2.0757962545337088,
          2.259546611042152,
          1.9435415598191275,
          2.1439612560434997,
          1.8276591982367445,
          2.1924302253852646,
          2.1079835289096125,
          2.6583694384150345,
          1.2239374772015112,
          1.53824552689547,
          1.7289135798503437,
          2.0644698790982488,
          2.2389553961470705,
          1.9831349860084728,
          1.654474028541774,
          2.026767601106611,
          1.887972050722584,
          2.052325263563302,
          1.8418451389898718,
          1.5782940951125033,
          2.0617182022990743,
          1.7116668190375472,
          1.7642685950995038,
          1.4438234253558888,
          1.8777150035044479,
          1.5598751064727066,
          2.067458014286632,
          1.873315820833923,
          1.8426975572920266,
          2.1422462078666946,
          2.1758219544833195,
          1.871261003980855,
          1.9617693392772162,
          2.039972856280613,
          1.9555431881924452,
          1.34289806013069,
          2.2839234374450443,
          2.102172432630232,
          1.7624419316775919,
          2.1847542019442487,
          1.6963636609491448,
          2.0075286999544497,
          2.0070187258403496,
          2.1663276632825004,
          2.0856757053273145,
          2.3079806516553476,
          1.755494725029619,
          1.7871417833683023,
          2.2785892067706692,
          1.8238439966823081,
          2.2795075615378364,
          2.2318027559116786,
          2.4998892345315555,
          2.151660530797113,
          1.9073372872152798,
          1.9043228562825434,
          2.2274930356126657,
          2.0747021918293282,
          1.676513987449787,
          2.3884910166369697,
          2.1674439221769517,
          1.8818342323091617,
          2.082668287381623,
          1.9452098752129967,
          2.092111549007404,
          1.862591433349006,
          2.2121430741925927,
          2.166985629801596,
          2.2425239207463292,
          1.9856974065898085,
          2.020400491902266,
          2.064615727364651,
          1.7839302274352442,
          1.5120357945284546,
          1.532388234916125,
          2.190089799063482,
          1.8012342021602674,
          2.3263734342768205,
          1.711050997063578,
          2.1205522537638624,
          2.250443736999009,
          1.9752439280991174,
          1.6610958089276349,
          1.8611482586260095,
          2.0355113694282716,
          2.224100028008749,
          2.0261120305131675,
          1.9159452623087108,
          1.7686632317170121,
          2.0989899643226857,
          1.7400665981655699,
          2.010240382611759,
          1.8322032504038586,
          1.8227445460274783,
          2.089485388864828,
          2.1177911512906182,
          2.042920195670481,
          2.285152009969088,
          1.7394851854216569,
          2.321842813804844,
          2.089818835024075,
          1.67392240301418,
          1.9795174275605716,
          2.0345463904271153,
          1.7664009647306034,
          2.5021288704807505,
          2.033843902419225,
          2.1905589455870658,
          2.3077374931949914,
          1.8646861224741689,
          1.78246510501454,
          2.002841960676821,
          2.139706060475335,
          1.830751124732755,
          1.6821174571491126,
          1.696557259536604,
          2.1555213500778185,
          2.20690818167752,
          2.0589413912425694,
          2.370375178995895,
          2.1699480764737182,
          1.8752659167226686,
          1.6215521382222675,
          1.9486349740850997,
          1.8729157182118013,
          1.9111822621512033,
          2.3139283600266807,
          2.0038979918307827,
          1.99636828654868,
          2.471886961418049,
          1.6657948489115235,
          2.0900407328212194,
          2.229796357259976,
          1.9258687962312213,
          2.0484401403504866,
          2.211278216994138,
          1.9624300590402588,
          1.7611524049492615,
          1.8595536998485036,
          2.429318950872132,
          1.8848304835136238,
          2.324519062874082,
          2.2505976108123003,
          2.071237699279534,
          1.890061921283566,
          1.9909802261358391,
          2.1653996147225536,
          1.8537281758365092,
          2.622023598928672,
          1.970382369629531,
          2.3863522115727247,
          2.20781823220232,
          1.7709999934704408,
          1.565915381285511,
          2.2829561235828004,
          2.3647444673537006,
          2.1275332065056385,
          2.1511307926276997,
          1.9331573796728332,
          1.743710598561179,
          2.0140643472794233,
          2.0285869922671127,
          2.187106067159891,
          2.1046768842412225,
          1.8569329856211545,
          2.0769938931819807,
          1.6871727144030766,
          1.8792789086115615,
          1.8574911770771694,
          2.332105178350165,
          2.138030731855995,
          1.8985018877746078,
          2.3370149697771043,
          1.829384159313692,
          1.7109812565149232,
          2.472316054083041,
          1.9262399529235485,
          2.271558076045446,
          7.748270757031968,
          8.261433312572407,
          7.892619968967124,
          8.266586801140493,
          7.950201391206081,
          7.545143351992175,
          8.371876999370361,
          7.695928642259082,
          7.522272510892583,
          8.137551047696936,
          7.612378684237457,
          7.901959823868424,
          7.930117882777943,
          7.6242907501402915,
          8.426448295172602,
          8.131825286614673,
          7.813466642912396,
          8.01450335714498,
          7.7739593287849535,
          8.363706091137244,
          8.192190382994164,
          7.93733036432774,
          7.817979123238623,
          7.2635977446028175,
          7.726559668463256,
          7.873228123511637,
          7.979741007940838,
          8.110353509557713,
          8.140439585989355,
          7.532057347689098,
          7.421946906826974,
          7.579472120855344,
          8.120025776461263,
          7.954724071289993,
          7.27254059165966,
          8.2483752017046,
          8.169054098026045,
          7.8645294367939105,
          7.901688257288624,
          8.37934771676037,
          8.841016955168518,
          8.53763070698912,
          8.010961357640838,
          8.457762331267567,
          8.417257965761047,
          7.936653245551198,
          7.122965875033625,
          8.987078195296377,
          7.39694811502101,
          8.039870356634305,
          8.11984448745755,
          7.628337698344668,
          8.108750783004435,
          8.421892701772116,
          8.632829887225578,
          7.98624765873127,
          8.072729261521754,
          8.476648199132635,
          7.712340456881484,
          7.946759252987984,
          8.118171706943878,
          7.991502069668396,
          7.966019497730748,
          7.940973800417636,
          7.779565480040545,
          7.820703852780096,
          8.16028498247495,
          8.700868275210265,
          7.863442553575224,
          7.434430449643392,
          8.444561569105973,
          7.327838943939381,
          7.2406289046891725,
          7.914271750335572,
          7.309468289868835,
          8.298013088739625,
          7.993746451142549,
          7.518248448323954,
          7.472583501618966,
          8.058705145176631,
          8.555472577070239,
          8.752663283643285,
          8.642410411963239,
          8.282893373185193,
          8.177165380124679,
          7.855086136453214,
          8.86296688873736,
          8.295944912222438,
          8.12292379356738,
          8.21344489465865,
          7.567681002876618,
          8.158694316536865,
          8.376806224835134,
          8.044074356104167,
          8.090718357812701,
          8.53469827316834,
          7.64791850167628,
          7.999435210379362,
          8.579071250003564,
          7.089299082980488,
          8.375719912970844,
          7.8716599459669725,
          7.672854301752876,
          7.280305791954167,
          7.39445080945514,
          8.21510643508382,
          8.854419651616272,
          7.643732024057414,
          7.474707500719502,
          8.25987654209371,
          8.144069864771973,
          8.412670603162749,
          7.805920850341607,
          7.952578903771137,
          7.746039298831013,
          8.184875662227222,
          7.338546950566835,
          7.481856108330284,
          7.460035265355452,
          8.365002787249868,
          7.9494788048861675,
          7.436175404865246,
          7.633017781377768,
          9.375124483368916,
          8.101421493363361,
          7.434870125304715,
          8.394057531413095,
          7.8426596180431964,
          7.765654174820533,
          8.061243232244479,
          7.461670231607532,
          8.108824296593372,
          8.475484640125101,
          7.7998618758056075,
          7.564218694345203,
          7.965658466930692,
          8.238651904556365,
          7.824920534035105,
          7.982793091371647,
          7.887797016405492,
          8.56306452062997,
          7.817222129343304,
          7.185598273501079,
          8.372088569358517,
          7.744773627614929,
          8.778081067347621,
          7.611170877354126,
          8.589583069284283,
          7.75268819520334,
          7.384494901148159,
          8.043044533208421,
          7.294140673098706,
          8.15622606227463,
          7.990226321746142,
          7.858264801150858,
          7.228469074643458,
          7.662076496834289,
          7.7215744001118765,
          8.724876618590562,
          8.231490899589636,
          7.909417913721877,
          7.817321624783362,
          7.2235389231162195,
          7.203538363559629,
          8.005491138998003,
          8.056035931464999,
          7.606737617680718,
          8.719428596440869,
          8.541146074824315,
          7.616826330363023,
          9.039417034096779,
          7.101713841839588,
          7.870574468404597,
          9.017594624047364,
          8.694728842319936,
          7.792877964686407,
          8.699786742842413,
          8.074963362942242,
          7.087641329386742,
          8.593745203770395,
          7.776285716640804,
          8.16298238240954,
          8.587543880951364,
          8.42237785607392,
          7.7294606325458535,
          7.812845890931877,
          8.514148789175842,
          8.695817438971574,
          7.636407534055325,
          9.008279371394169,
          8.968846833422822,
          8.284746608642365,
          8.083950285984287,
          8.55860434762805,
          8.239518082312111,
          8.481619083911763,
          8.139916650407581,
          8.11402624512071,
          8.343672227850934,
          8.168675841189845,
          8.110210581646882,
          8.448226654518281,
          8.166231237874825,
          8.085238095300394,
          8.667649384084092,
          8.18279755105616,
          6.789480066281494,
          8.910294531896586,
          7.927041174708843,
          7.409612574173998,
          7.358741082807451,
          7.951803789898745,
          8.599384808302517,
          7.065922273984443,
          8.530700028128571,
          8.56614715466413,
          7.820011445426425,
          8.528882241910985,
          8.348417384427561,
          8.173883705999605,
          8.637023531169614,
          7.765819239924694,
          7.328212926414491,
          7.486427692236489,
          8.751853437118395,
          7.554682236635983,
          7.551538635085501,
          8.154951125647143,
          7.172186397975443,
          7.384447391456974,
          9.098558846069752,
          7.527921542139877,
          8.03997468203058,
          7.890075702432482,
          8.948188426226078,
          8.605325744373541,
          7.904171305800726,
          7.99422740585407,
          7.618518150414344,
          8.224445427680523,
          7.864649584065888,
          8.22548192169124,
          8.17176320762652,
          7.917473418909725,
          7.517339039507354,
          7.444782103403317,
          8.114805750181493,
          7.713601132688978,
          7.96444785310628,
          7.652593511534953,
          7.529153387452015,
          8.413444208190155,
          7.057124633705653,
          9.314263151295673,
          8.743208690480643,
          8.45313090880104,
          7.91614219882306,
          7.882812963090285,
          7.716540079538184,
          7.957178819988876,
          8.189182753263102,
          7.529644721137509,
          7.805901406974364,
          7.791819523426448,
          7.724320562661081,
          8.970434205102164,
          7.855941394983172,
          7.214656180480973,
          7.926584354816119,
          7.793240586712327,
          7.408956485074505,
          8.540864378733216,
          7.029120082858675,
          8.569234222154511,
          7.399905207346769,
          7.276664797659364,
          8.240162479115977,
          8.057616765010415,
          7.33110577871412,
          7.562362748988707,
          8.417243260635086,
          7.186350914279959,
          7.764428373887914,
          7.69588978552088,
          7.95666660920386,
          8.152078104558207,
          7.366824600018704,
          8.347894713216379,
          7.967534844739348,
          8.069456110395686,
          7.886293207465992,
          8.460113573040964,
          7.766215481552903,
          7.617719618005027,
          8.277464311116134,
          8.001243250004881,
          8.26136203487261,
          7.408002063617676,
          8.614397005638395,
          8.161967024047344,
          7.888892421429594,
          8.447533004039007,
          8.235548936350922,
          7.364787138129391,
          7.968014744944233,
          7.882223473845505,
          8.2820022886361,
          7.755069737121247,
          8.719546922135613,
          9.42838207755851,
          8.400802397661481,
          8.748229182127037,
          7.367311261894115,
          7.70325703991488,
          8.759871809530154,
          7.197164967306828,
          8.053428914299895,
          7.185436933633456,
          8.646322227029822,
          8.088904769071691,
          8.739825738207598,
          9.13896054594727,
          8.21055302239382,
          8.104481865128166,
          7.942239757670054,
          7.628184673720226,
          7.3183855311818276,
          7.435246639115764,
          7.778245124403522,
          7.803380449895309,
          7.881919244595997,
          7.96816030251464,
          8.041663337042012,
          7.284536955004087,
          8.093367494973284,
          7.0406147040018014,
          8.101551722366555,
          8.283455749706075,
          7.65921953729697,
          7.666203539580379,
          7.966054311656042,
          8.846483462172479,
          8.118467467284189,
          8.528252199280992,
          8.403425909360715,
          8.37191815289879,
          8.514026034686568,
          9.571358235409532,
          8.556825975042926,
          7.802045637524274,
          7.796212412405304,
          7.598089878564978,
          7.9230992599122265,
          7.084731603226617,
          7.119142467514954,
          7.165674476412026,
          8.205247163832855,
          7.814503049387743,
          7.8470859764375165,
          8.548764108671,
          8.774235363372547,
          8.257780971674226,
          8.008568789442071,
          7.689177043349378,
          8.510730606768767,
          8.562095074143276,
          8.950023068470092,
          7.713882136447923,
          7.557285730946452,
          7.383691261651086,
          7.628954071846536,
          7.921394639701959,
          8.060410984837326,
          7.142716990630417,
          8.274567616748342,
          8.702150026224963,
          7.9205351288039445,
          8.656620864142836,
          7.69060948262826,
          9.30334213818545,
          8.444865233234758,
          8.16756040820781,
          8.769862353373943,
          8.739105792780794,
          8.100788950185553,
          7.511828412744802,
          7.985396286316626,
          7.8308559525902055,
          8.4692336533763,
          8.511059061704959,
          7.603533865186872,
          8.192602528403812,
          8.275558766787718,
          8.018159060080146,
          8.080140235972864,
          8.294196433352493,
          8.351948988073826,
          7.4841554288377115,
          8.283904292094617,
          8.735310546628297,
          7.420197917076667,
          7.437483525106384,
          7.877469207308967,
          8.024712750464117,
          8.261233011011772,
          8.287498239179941,
          7.806264970954256,
          8.76355255421251,
          7.059764660548278,
          8.369040714866342,
          8.020918400202943,
          7.410369873954803,
          8.891537749991507,
          8.347101685901942,
          8.286370074834872,
          7.99855142303473,
          9.200437871559483,
          6.982427532361736,
          7.779288463552216,
          7.934756821128152,
          8.089119607455288,
          7.664293599396198,
          7.672421770238951,
          8.09987975121156,
          7.557329047579571,
          7.827083307304355,
          7.690433044605964,
          7.974245466617405,
          7.7311116941721,
          7.970181630828222,
          7.890841725708535,
          7.102078531313862,
          7.405698509737236,
          7.95546685583998,
          8.266854769280616,
          6.997397264566981,
          7.796110053563504,
          7.991789159970343,
          8.817077155975944,
          7.9753064411646175,
          8.033430533110552,
          7.81704390101642,
          8.196475794987824,
          8.065912638237405,
          7.74577174307139,
          7.3778442980301415,
          7.834750460311606,
          8.385023851756,
          7.728327301912087,
          7.609394807318566,
          8.095231618686077,
          6.195700637722717,
          7.896441896783049,
          8.048039911259576,
          7.441473096754665,
          8.212734460016462,
          8.023459915601121,
          8.501533262967833,
          7.406229684818331,
          8.328054301098105,
          8.564624939292178,
          8.681175366096934,
          7.634698981972726,
          9.359014524799369,
          8.41623713929097,
          8.179120253602278,
          7.84492566810662,
          6.719850067321326,
          8.399298444824568,
          8.053853561462246,
          8.565653116427889,
          8.332442483944332,
          8.290778488307954,
          8.042107765011233,
          7.46325616731977,
          6.54254185423082,
          7.246851882977303,
          8.115492575943666,
          7.4538345110401405,
          7.6956598318582925,
          7.732718348891574,
          7.734794836940586,
          8.653613500260459,
          8.475035440792041,
          7.725460315709026,
          7.324890896574542,
          7.580491125150047,
          8.201397392938958,
          7.707160486829411,
          7.612984420165087,
          7.4108609771751155,
          7.650008482480162,
          8.678289123779916,
          7.971837503826367,
          7.846092692185573,
          8.538657958041716,
          7.895381955618574,
          7.523894821877997,
          9.035221473632257,
          7.996726408588243,
          7.484625026065084,
          8.762893758784992,
          9.674651623620663,
          8.308753249413297,
          8.253922129810565,
          7.874990075169283,
          7.498110246146282,
          8.169218846370201,
          8.678645332762384,
          8.148421841717854,
          7.635984482523532,
          8.20842093323845,
          7.304307451492811,
          8.148876863570663,
          7.699668260467932,
          8.30378688896409,
          7.214164452214286,
          7.890103443725427,
          7.646553071308725,
          8.411055286960831,
          7.923451551047451,
          8.396532001002841,
          7.751526115237265,
          8.274518727005786,
          7.858463357255758,
          7.815466209521713,
          7.101277593686731,
          8.48068431589921,
          7.526085458406469,
          7.6009110445948505,
          7.456175193855961,
          8.573803169554687,
          8.899788439450681,
          7.96495664125537,
          6.769567764919081,
          8.545942200918192,
          8.181464714164893,
          8.05701046475785,
          7.818445778911426,
          8.300481376027728,
          8.504775082744752,
          6.8093270494447555,
          7.648974074375362,
          8.114043425565363,
          8.673803868841413,
          8.060933658014216,
          7.771068967609049,
          6.901919263921291,
          7.6535682053607985,
          8.145554585386964,
          7.876957672161916,
          8.680334215435257,
          7.6298752427822,
          7.509123085052867,
          8.472811185670523,
          8.45715934953165,
          7.917978247842182,
          8.236704846391829,
          7.899484075946593,
          7.971561296161361,
          7.513200665323721,
          7.730977566353379,
          7.762629990522246,
          7.509584858361373,
          6.731158600302488,
          7.447601113514684,
          8.213283666294853,
          8.201738859688097,
          7.808638294483406,
          7.816711827953227,
          7.153595486132682,
          7.607906787438077,
          8.32157514717003,
          8.802926951320169,
          8.03445817889107,
          8.732957778510244,
          7.793437460109051,
          8.134577795881281,
          8.010832104641173,
          8.724661386279191,
          9.004734018298823,
          7.494870613471854,
          8.495460248560274,
          8.277396224764498,
          8.18810073106422,
          8.285735203147022,
          7.357394138274648,
          7.830875235449159,
          7.55339849035688,
          8.244151421749917,
          7.449444652872735,
          7.837823888003953,
          8.258440207622451,
          8.182167195791042,
          8.49728890737621,
          8.594656709995329,
          8.233870776778724,
          7.514331256839868,
          8.171885261077525,
          6.888032488955314,
          8.113971625043794,
          7.843990772630638,
          7.855018419131017,
          7.43310328374432,
          7.267157508751015,
          8.339392024126878,
          7.474095008612013,
          8.36755965997427,
          8.435039106647052,
          8.173130642349655,
          7.282437947229826,
          7.735403254351165,
          7.844280127380181,
          7.9438293449248185,
          7.087706721855811,
          8.654135076903014,
          8.141309356374448,
          7.096507487317708,
          8.73176719402737,
          7.156378331094714,
          8.014047140810641,
          7.063181320596832,
          7.4249275984399565,
          8.451198550556974,
          7.279434344321652,
          8.336515912628924,
          6.860300005291883,
          7.45000463389434,
          7.9032364197394225,
          6.993443306421017,
          7.312478425882425,
          8.148812322723161,
          8.095374176867026,
          8.192778917765914,
          7.860488389780801,
          8.674529565153636,
          8.451943256913202,
          7.667815960950542,
          8.315133004570846,
          8.05602894941373,
          7.525823370175023,
          7.304872423147154,
          8.127430362988752,
          8.411189352072384,
          8.254436595765458,
          8.586906639860693,
          8.552606365642726,
          7.841067633139443,
          8.076649406499826,
          8.471914672596437,
          8.571764833780895,
          8.079070440694801,
          7.555700124228547,
          6.620260923882978,
          8.120297437264306,
          7.7818336235127505,
          7.1709937262058565,
          7.479462185649872,
          8.392584425625328,
          8.02537073661078,
          8.017100248540197,
          8.15243991038685,
          8.274162723105427,
          7.9542330324661785,
          7.9824689134414735,
          8.147012300262245,
          7.778446464513644,
          7.6223117369907305,
          7.7021767764055475,
          8.657190539678972,
          8.745092717684308,
          7.816608884704268,
          8.811222197707313,
          8.084424253618653,
          8.026722327581869,
          8.071464900758164,
          8.21205368082821,
          7.969708880927014,
          7.053100037831426,
          8.739528756805358,
          8.513330665530617,
          7.945968745189552,
          7.9158032627134665,
          7.508746788262634,
          7.334807564019032,
          8.130479498675195,
          8.211428954405644,
          7.200527546599706,
          7.351730006115237,
          7.9358279992778975,
          7.446835863250608,
          7.736742676655233,
          8.03671263836944,
          8.746578470449428,
          8.266938526636979,
          8.608654661345946,
          8.512662312813033,
          8.153730441459809,
          8.274025534189605,
          7.159099066272942,
          7.472599070465162,
          8.13825229700071,
          7.483487425833324,
          8.31168411605449,
          7.757960413686737,
          7.777916047381322,
          8.594402639403691,
          8.079432688564216,
          8.70850975217159,
          8.07418339126786,
          8.538628341567165,
          8.924635635396452,
          7.922874407045834,
          6.957209046787908,
          8.053449444819469,
          7.5296074807664315,
          6.980709551918305,
          7.7869599608793765,
          8.486700450363804,
          8.178765506882883,
          9.285859975480534,
          8.120139443744817,
          7.567612471228172,
          8.272109961504837,
          7.691720323329351,
          8.174051097475402,
          7.091031994226852,
          7.792809205472521,
          7.4246511199111636,
          8.088103751892485,
          7.643431263754369,
          8.546574551086742,
          8.84754673730122,
          7.710286771685647,
          7.7844863509786935,
          8.701845801275637,
          8.185779864506118,
          8.286878223026065,
          8.250593495551879,
          8.036558168179173,
          7.5455833167387505,
          8.144769981376554,
          7.6046713969668085,
          7.625065075602118,
          8.77773547802394,
          8.242034096477383,
          7.5761415674653145,
          8.537586011428578,
          7.773850024095033,
          8.541111134996923
         ],
         "xaxis": "x3",
         "xbins": {
          "end": 10,
          "start": 0
         },
         "yaxis": "y3"
        },
        {
         "marker": {
          "line": {
           "color": "black",
           "width": 1
          }
         },
         "name": "D",
         "nbinsx": 15,
         "type": "histogram",
         "x": [
          5.767455734002676,
          5.88297996356624,
          5.766994098816883,
          5.662479713650065,
          5.312240424246728,
          6.137147755197476,
          6.380020500122155,
          5.1352382879841665,
          6.648218631703877,
          6.292993489259544,
          6.035368812029953,
          5.8040244872782525,
          5.878901958128833,
          6.015075046447072,
          5.46624549491111,
          6.550542393532502,
          6.609484431994013,
          5.74434988728582,
          5.781222269585377,
          6.2320906454363785,
          5.95656460241673,
          6.141482786666724,
          6.560659455501787,
          5.086644118578088,
          6.115567302698908,
          5.626301576110151,
          6.523409080078792,
          5.916593685381408,
          4.759283561368746,
          5.401967720162928,
          5.731511500445118,
          5.65549226979524,
          6.249174245819734,
          5.581409196283995,
          5.759526269320389,
          6.590877700357687,
          5.662865135845921,
          6.479504435463854,
          5.849260257785926,
          6.085621948904184,
          6.832147745691184,
          5.558655771330522,
          5.69703401508597,
          5.669656075185756,
          4.907874450183847,
          6.0186403886700965,
          5.510804127019442,
          6.865251501784521,
          6.218632580149358,
          6.227832682216748,
          6.905788038022488,
          6.497790892463149,
          5.985324968639119,
          5.515709365764119,
          5.722108056833479,
          5.078128597368301,
          5.314879320523664,
          6.018551854861467,
          5.736275271635762,
          5.9194914217029995,
          5.3847613902107065,
          6.409435424340286,
          6.420712398628519,
          6.064384116602912,
          6.0883229491067095,
          5.939280255454476,
          5.272842957776438,
          5.467700864522381,
          6.435570929887508,
          6.291889381015753,
          5.388971584457191,
          6.1050537071634015,
          6.483587321802812,
          6.113761822709307,
          5.899488486101737,
          5.543045826032816,
          6.2885587422973845,
          6.027317728707498,
          6.360860556439484,
          5.541369214964736,
          5.639689054197432,
          6.496685693617642,
          5.7879787816740365,
          5.575628946784646,
          6.515305971456026,
          6.6672007317459405,
          6.211080612967485,
          6.298032291893372,
          6.033186815585548,
          6.029443368012276,
          6.1804580658983985,
          4.988434206355462,
          6.020952103345484,
          5.6844626417998745,
          6.013433663287547,
          6.488160391553937,
          5.745924331800344,
          6.052091484650992,
          6.4413041095836014,
          6.269168559720365,
          5.916480959906482,
          5.601873131755545,
          5.502808817274001,
          5.86129070122828,
          6.404385427892271,
          5.4699900628444045,
          6.515294931687976,
          5.970408709990701,
          6.858990735098496,
          6.469109929142499,
          6.010200967241949,
          5.846529387619676,
          5.9149827348641,
          5.446568404082993,
          5.126029552783342,
          6.220692999317528,
          5.956567692780535,
          6.285119079792404,
          6.196402926630054,
          5.3461116337908905,
          5.617469652166704,
          6.1779836354598086,
          6.128885031942237,
          5.78986163314408,
          6.215335707926549,
          5.261598766536026,
          5.713569774487792,
          7.30895007720239,
          5.551211243773334,
          5.714720149276928,
          5.3472002795966285,
          6.0118006458242075,
          6.431753872205718,
          6.938656900394523,
          5.7752295951579145,
          6.331773661646818,
          6.269639625575417,
          6.926480405038341,
          5.981475527772624,
          5.4427167312311635,
          6.666615872122385,
          5.893985744864305,
          6.4423438340639985,
          5.8062141724302,
          5.818135641110516,
          5.689373716740463,
          5.505097473971903,
          4.644842263963079,
          5.755672710741308,
          6.067624768242064,
          5.995781887737108,
          5.95193824427827,
          6.173700806972664,
          6.792923552419523,
          6.7129164456239545,
          5.80501336254262,
          5.891936890148989,
          5.911354731435584,
          5.634884396521806,
          5.6415512113791335,
          5.470845027297068,
          6.425930854489419,
          6.584655993559726,
          6.14289011269571,
          6.191038799598374,
          6.942120825795809,
          5.418091789424649,
          6.33662275718121,
          5.942818589650592,
          6.024921269144338,
          5.790044886750493,
          5.442426762359436,
          5.4392657889919676,
          5.071058877636872,
          5.578487521486434,
          7.057892479393191,
          5.898476787404375,
          5.946866638249443,
          5.63772284573885,
          5.62745120471931,
          6.110159916516604,
          5.99468339375505,
          6.273379900453401,
          5.568958752080071,
          5.826254427508738,
          5.940430376133182,
          5.76959022349827,
          6.24926668959773,
          6.601882326622727,
          5.615095027422683,
          7.236008900539777,
          5.686815244984835,
          5.721438031695549,
          6.743471037702644,
          5.839079051376486,
          5.36305156206498,
          5.708840078769472,
          5.5974331006468185,
          6.351811979908661,
          6.0207876954891475,
          5.607226383276453,
          5.85637318987205,
          6.036088312727891,
          5.823718070895938,
          6.5223143737260365,
          5.682430931747366,
          6.124019584040615,
          6.048077580931882,
          5.768071642345761,
          5.881179572264112,
          5.807018001138652,
          5.57389635019833,
          6.259231476160465,
          6.3811215825560215,
          5.682263242554879,
          5.857686366995044,
          5.548649389917838,
          6.535431594884532,
          6.431177129450546,
          5.3366209785255165,
          6.028519911217022,
          5.951192008148148,
          6.304295654677822,
          6.07958562788628,
          5.838527665909068,
          6.049775825628525,
          6.269510704904387,
          5.506692760861371,
          6.972364551068112,
          6.524739381809886,
          5.4397012227055646,
          6.341020930556405,
          6.092768248169301,
          5.581549378950921,
          5.7801877868163425,
          7.089633856504902,
          5.4345949671533,
          5.788256091289939,
          6.194396258146385,
          5.868963611234318,
          5.6177079861354,
          6.490734827132012,
          5.331374994802849,
          6.016558539868665,
          5.597212333991504,
          5.513374203067433,
          5.413707319334119,
          5.4636663792368685,
          5.5857562856854726,
          6.486716446523218,
          6.598963408665229,
          6.7641286838431425,
          5.323175725405724,
          5.986901160680091,
          6.102071399320803,
          6.228689206369579,
          6.064565591477904,
          5.624993707458086,
          6.048187595123622,
          5.467825498276238,
          6.559626852310011,
          5.221533012205031,
          6.216648171684996,
          5.398472872112843,
          5.06374690328305,
          5.6005907707842395,
          4.7273542259880355,
          5.058626167737209,
          5.634772897157175,
          6.564864742173559,
          5.062032506800109,
          5.6434682860830785,
          6.697301783630772,
          7.2541802200994665,
          6.045442860755138,
          5.983820298837604,
          5.94283412488054,
          6.1272992115305716,
          6.377750111990324,
          6.056518369949647,
          6.547771431069599,
          6.398028733546698,
          6.8884954978290605,
          6.623779853751278,
          5.754194106608512,
          6.2580271021175005,
          6.4030656616819295,
          5.952534050064372,
          4.932026113596679,
          5.173075742268297,
          5.423163083088106,
          5.286800044957044,
          5.2672286207348495,
          6.725089098168486,
          6.098225756162831,
          5.201291655297207,
          5.6616327493819085,
          5.516422709887327,
          6.970491451139751,
          5.585536296925547,
          6.040302263301947,
          6.610116429123172,
          5.720901800857634,
          6.986129498689347,
          6.096377435870802,
          5.7443842355608545,
          6.8247590866050905,
          6.000277792817711,
          6.081792939014916,
          6.911317529899479,
          6.217441206687921,
          6.609559222564387,
          6.035111047346005,
          6.472316667849785,
          5.658337833190786,
          5.780591449878781,
          6.704530505218676,
          5.847830667108599,
          6.04497720343715,
          6.338137717113317,
          5.952707976885774,
          5.8417306115144045,
          5.824223156755624,
          6.423123457814396,
          5.62754036152167,
          5.498064690267675,
          4.624375967231415,
          7.185014126221218,
          5.803045971270927,
          5.65683020149751,
          5.749578881813581,
          5.775526764355557,
          6.5858650240163605,
          6.40932282980132,
          6.571537051228241,
          5.473079350458953,
          5.291928618240228,
          6.740726936308452,
          6.238039742729097,
          5.883803827117954,
          5.672494537323364,
          5.730447434393815,
          5.251879503427421,
          5.113034670261158,
          6.035081681070889,
          5.790426434126128,
          6.04874727171983,
          5.614420318041867,
          5.544775933746086,
          5.942165094444695,
          6.28045721420186,
          6.591112953040409,
          6.242069457386188,
          5.865560717086517,
          5.7413032068484995,
          5.757520288417514,
          6.595352864930089,
          5.718571739333856,
          5.444110209514409,
          7.582627138266364,
          5.89586998398591,
          5.0449991569323,
          5.434470048669794,
          6.171563459330262,
          6.23159768186824,
          6.88480727654468,
          6.517987778508497,
          6.237436569313318,
          6.1186288437821155,
          6.074332223502835,
          5.376904753528578,
          5.708806972062339,
          5.848475848269989,
          6.232395389927423,
          6.477549754939306,
          6.255500388290569,
          5.558961229938086,
          6.623845851651228,
          6.258335460205893,
          6.04106395942704,
          5.987027589869835,
          5.727836058763174,
          5.997760691791775,
          6.08467681716642,
          5.904218593375415,
          6.359107553244908,
          6.3694961827195025,
          5.1862447014866975,
          5.233797493193483,
          4.881561706690107,
          5.351240863311217,
          6.293060607365299,
          5.878819563129595,
          5.921223863905035,
          6.353694107291699,
          5.796322225305328,
          5.578159044716268,
          5.842036291938761,
          6.164969374077167,
          6.184216356619075,
          5.857760370276005,
          5.362289581235336,
          7.13308390361146,
          6.226336241236892,
          5.460741519792039,
          5.413695371232287,
          5.870784825832177,
          5.753235237564494,
          6.83312843436231,
          5.809669523730399,
          6.657882400920701,
          5.608512359274842,
          5.979946784947679,
          5.570851975643853,
          5.471505189385143,
          6.248009483977845,
          6.920219981571832,
          5.49716308056225,
          5.3107415834778005,
          5.86466641088395,
          6.37376115181372,
          6.122369474539136,
          6.062822209946894,
          5.951590394333129,
          6.545524936074492,
          6.3913969676017235,
          6.645376344613032,
          5.4391342667938485,
          5.584210218016639,
          6.025686155140987,
          6.131195138634454,
          5.943958825478775,
          5.650921962130289,
          6.405081254034688,
          6.427443325841337,
          6.7375944635429805,
          6.07797838268069,
          6.175334224146282,
          5.5467792713089334,
          5.525389866932732,
          5.737598050488524,
          6.2607661618719375,
          6.010205233307609,
          5.610333397975056,
          6.0581889475477455,
          5.7129744758160514,
          5.239005737625426,
          6.613542161770907,
          5.848531074554878,
          6.846051900213368,
          6.037031393948565,
          5.604149389918802,
          5.95476447795749,
          6.43066141997271,
          6.217733061232062,
          5.919624571070017,
          5.230914682018726,
          5.7681920576609045,
          5.991257992811816,
          6.1775002099855945,
          6.63085657955281,
          5.532266247974482,
          5.750553475951486,
          6.640198043735976,
          6.420560745139676,
          5.939210768245639,
          5.498550168970964,
          6.0281899291929655,
          6.16534879661575,
          5.363773180033969,
          6.339336851489823,
          5.376319908416492,
          6.072664703507428,
          6.344095932701616,
          5.135718924872277,
          6.604916725843465,
          5.374130217617638,
          5.363448043610348,
          6.395243181960753,
          6.487725797615237,
          5.859356797474335,
          6.6847737870741994,
          6.183699872907025,
          6.6958863751962285,
          4.736577460970478,
          5.6413150294990855,
          7.074923771189569,
          5.067577664199124,
          5.517485428354153,
          6.251389046328885,
          6.333820557340079,
          6.304582398566517,
          6.212465130155311,
          5.793464825716455,
          5.401391823969835,
          6.397319942854747,
          5.0884523174131076,
          5.391009947931016,
          6.099798117156218,
          6.105861723104867,
          6.186637244691373,
          6.697659441496755,
          6.230924462260647,
          7.204318787134945,
          5.4556096559180585,
          6.4002673335214855,
          6.788090923262275,
          6.1714139960734045,
          6.580880843074894,
          6.2609672366781695,
          5.457700456781279,
          5.680098446254462,
          4.977673530700807,
          5.6174298393258,
          6.23085862256194,
          6.462631936996937,
          5.658550420373753,
          6.614907870052253,
          7.0094965828311775,
          5.449159754568233,
          6.008983616158084,
          6.420769984344522,
          6.477515261529923,
          4.8394384961501205,
          5.668014746032599,
          6.420152598006481,
          5.592329385909319,
          5.887974529641811,
          6.566909074958854,
          6.188053136899145,
          6.344945666502215,
          5.885259813006582,
          5.288159593090526,
          5.82835746669968,
          6.051961626467278,
          6.2526166794230535,
          5.005152685968026,
          5.885440864671145,
          6.451488882679935,
          5.5535154559567905,
          5.69363759614305,
          6.262055998813412,
          4.794874449869125,
          6.440674893415672,
          6.2669519347694855,
          5.783849056551687,
          5.492430700175329,
          5.461069526733651,
          5.084335543393866,
          5.52589964102549,
          6.037043504495634,
          6.14714884787057,
          4.857994855331778,
          6.372682806469489,
          6.237501824886317,
          6.736137097887346,
          5.958709808819763,
          6.823954022137411,
          5.660949014876846,
          6.540312225584709,
          6.45398769226546,
          5.916408349572694,
          6.182269694519336,
          6.457430887444,
          6.239953328390307,
          6.9861831147642555,
          6.075490308172487,
          6.223258434009599,
          5.97614898960273,
          5.407441508163365,
          6.139006452025946,
          5.324106658703218,
          6.205062762212419,
          5.3531967479856615,
          5.633671988204585,
          6.066583497432784,
          5.9843730941914535,
          6.781064835502248,
          6.059770940927928,
          6.236084897498566,
          5.699945549543598,
          6.40659626851075,
          5.912435715139412,
          5.843597658140876,
          6.158395154377343,
          6.1556263552933705,
          5.6790814450795875,
          5.952040795044106,
          6.049667799506471,
          6.078091606695705,
          6.52114791861104,
          5.914311954927792,
          5.848012026602999,
          6.154002209890719,
          6.300390731643205,
          6.621210812531737,
          6.02589934351692,
          7.3759477290968825,
          6.606838055380255,
          6.167923218483031,
          5.854867584111685,
          5.4976143444730585,
          6.031639957569045,
          5.215837741808512,
          6.095038532005049,
          6.684749400561178,
          5.70009958533295,
          5.461270393885601,
          5.5749212587210035,
          5.694883790583472,
          6.047419872238064,
          6.191741374201009,
          6.989509303214697,
          5.872646898692917,
          6.070654922816995,
          6.068181691779514,
          6.335177197605672,
          6.774748497732718,
          5.563227265376726,
          6.046528525104048,
          6.001589854894076,
          5.3463538877624,
          6.0424530076395735,
          5.423178403333461,
          6.727491953996807,
          6.751941152828942,
          5.454540931456269,
          6.249691574889084,
          6.907196080191258,
          6.774463844239401,
          5.678667706905863,
          6.132552947878897,
          5.661594329855112,
          6.251189544276921,
          6.292283967449354,
          6.884712358385931,
          6.30343771463609,
          6.83485681725718,
          6.456703942877739,
          6.28184890089619,
          6.31050113813785,
          6.318217111653498,
          5.735817003898696,
          6.359162348994973,
          5.5448708347588145,
          6.284704235071563,
          5.190945578897916,
          6.901882427213875,
          5.036801041087856,
          6.025204863191213,
          6.314996453726893,
          5.497678513752795,
          6.499325296622658,
          6.242111882459359,
          6.107334669642494,
          5.465025105494282,
          6.219855936583455,
          6.449063090320239,
          5.997435852269152,
          5.218951772842173,
          5.636499006731043,
          6.15042829801162,
          6.7563883846595285,
          6.581911576019938,
          5.934004280641033,
          5.482983947913579,
          6.325329523760052,
          6.282908810541192,
          6.597113792688851,
          6.63861856974702,
          5.69528737090632,
          5.728637798606979,
          5.693876316162538,
          5.4413405949244575,
          5.7976415110774795,
          5.856118051921718,
          6.645857853303405,
          6.261657108322174,
          5.456479547118875,
          6.167045162003157,
          5.831806089702828,
          6.353497577234217,
          6.629496432904157,
          5.662999183948079,
          7.033471021413691,
          6.582494169813225,
          5.685753383562276,
          5.570593073914167,
          5.462657433385821,
          5.433037681439765,
          5.731117870908608,
          6.2322736332305135,
          6.231494343355053,
          6.922340179701783,
          5.853182691958623,
          5.586715417536029,
          6.1573884629248425,
          5.909038655966545,
          5.7977637449099735,
          6.042503611788114,
          5.142363078673368,
          5.89384015498755,
          6.332410001736656,
          5.741841268747739,
          5.953356270061135,
          4.749691110860014,
          5.084689186256076,
          5.116328381634846,
          6.272687075753462,
          6.280787312244554,
          6.652744582205546,
          6.030287496226239,
          6.343546212647781,
          5.542131845923682,
          5.942986359754497,
          6.557905443264753,
          5.013541944102181,
          5.940040250167543,
          6.013296767374247,
          5.800965878003746,
          4.450561897277599,
          5.632769033428916,
          6.357745574485049,
          5.233142536766864,
          6.128022175737588,
          6.51117063149241,
          6.490672097945758,
          6.387140948776877,
          6.63606936057786,
          5.5145424993816,
          6.166945219024,
          6.706798117049418,
          6.152266769056837,
          6.1616645961763306,
          6.222387640772631,
          6.6471517410737,
          5.735348178942681,
          6.266808836605244,
          6.1245652444302285,
          5.261777000352997,
          5.642351397471172,
          5.3432911677327475,
          5.752178699486235,
          6.274696702637794,
          5.627644361183694,
          5.2842502510715255,
          5.874794909513116,
          5.99936420503774,
          5.560551285868397,
          6.1938866982163026,
          6.420317155539299,
          5.662648662012794,
          6.364207345122098,
          4.989118972541258,
          7.2190695544190175,
          6.024376234539855,
          7.091183723431771,
          5.5355747897803225,
          6.5745833886237115,
          6.440499137600281,
          6.236706899799255,
          6.9972298453714545,
          5.869939181622277,
          5.950937373337964,
          6.163385390029625,
          6.729335419621309,
          6.370898900846439,
          5.994998294436293,
          6.057224882439446,
          6.507283573698823,
          6.828842062342916,
          5.7666395631158816,
          6.7065879038852225,
          6.432888102898506,
          6.5916001177730426,
          5.99773032336874,
          5.809590712109178,
          5.959688943261296,
          5.606290134225133,
          5.429003728065726,
          6.490772287665598,
          5.764465578668183,
          6.406729709602292,
          6.480820768199967,
          5.324199825583575,
          6.072517923935953,
          6.110816487094836,
          5.6713989152900925,
          5.647719903875182,
          6.217185681251068,
          6.186764425611138,
          5.7331234885071325,
          7.43903730612854,
          6.446096285452651,
          6.478331167027099,
          6.489872989422681,
          5.709217235832676,
          5.652245449916488,
          6.092032479979739,
          6.087284560623517,
          7.244621456073186,
          6.312506721430859,
          5.375699265588799,
          6.4547761141845585,
          5.7488339010759555,
          5.4381574502098315,
          5.477645954674764,
          5.997256096722317,
          5.782681536314606,
          6.024212651199492,
          5.791699320678087,
          6.45065990745692,
          6.297224868200721,
          5.799677086317468,
          5.679943675603456,
          6.756252938200453,
          6.28117334894575,
          6.335030231872464,
          5.243047110282285,
          6.319191628245599,
          6.055521243062504,
          5.478927501409856,
          5.54153304633436,
          5.7165211598283365,
          5.24822190272122,
          6.129766356859134,
          5.861168905430829,
          5.260643769115342,
          5.68850515360756,
          6.0941824580652355,
          6.101361118821161,
          5.971427549769334,
          6.094274172282669,
          5.7925859919548115,
          5.669201638818861,
          5.676904163624495,
          5.489726245241002,
          5.635830193756693,
          6.587519989093771,
          6.6208850848796805,
          5.86920844833364,
          5.651949550424126,
          5.247692550991574,
          5.783642149445047,
          5.7221383208943,
          5.347803571011733,
          6.065722635452853,
          6.6509402867069545,
          5.870298747088599,
          6.2734462004995315,
          6.042659838787943,
          6.1918731740281965,
          5.563891786412072,
          6.206862049164273,
          5.565560802159937,
          6.41379609503277,
          6.829366884999458,
          5.78244921078843,
          6.378517058945333,
          6.4775598236126415,
          5.708784220861605,
          7.189536117419742,
          6.6212680004811775,
          6.757371606282399,
          6.552703471278001,
          5.522514307410528,
          6.694927729444994,
          5.861651450948781,
          5.6987676275233925,
          6.079846065399362,
          5.794282712212398,
          5.305759432480221,
          6.041508354493414,
          6.420396311905205,
          6.480087045000961,
          5.508557813692985,
          5.905200912349968,
          5.6804249444977275,
          6.167946372264742,
          6.40239894911932,
          6.05984916549412,
          6.350123450732992,
          5.770995362656079,
          5.4042663613309525,
          5.56368206348077,
          6.201422223039351,
          6.217340957340422,
          6.01689851285455,
          5.264351187585242,
          6.044127468365358,
          6.924059901418517,
          5.84024892221779,
          6.183357604885625,
          5.941685645534506,
          6.244844131846411,
          6.544202306108462,
          5.638898327992979,
          7.02707799419665,
          6.266800347083468,
          6.060907415325534,
          6.088995532286796,
          5.375931215588693,
          6.585261633563733,
          7.019128672257681,
          5.3974976450759655,
          5.543617540694327,
          5.637742672052941,
          4.800634358266936,
          5.796416763024745,
          5.974256387080907,
          6.83668006605312,
          5.975529968597359,
          5.949500911396981,
          5.988224173038614,
          5.7631253346775395,
          6.169726950818745,
          5.721794839216873,
          5.588189336193322,
          6.731074715552474,
          5.551267977703204,
          5.011105380291115,
          6.469616390711994,
          6.066716574361839,
          6.263269873731734,
          6.405262373101877,
          6.266717413547705,
          5.386885427130495,
          6.686915405723047,
          6.799166654422637,
          6.326022697411807,
          6.471675181356824,
          6.380701010385147,
          5.7729708811079545,
          6.08988203404655,
          6.027188221424332,
          6.010012613628044,
          5.647234051855856,
          5.907937541034941,
          6.007681499691366,
          5.907592616337891,
          6.290498019133182,
          5.7345573716073135,
          5.443295088073102,
          5.710038838421652,
          6.311061228461695,
          5.600587147764894,
          5.55783751038515,
          5.560781275763031,
          6.153243731840207,
          5.508472289199666,
          5.959678813806208,
          6.46998017724306,
          5.4906356158958864,
          6.127983664006712,
          5.517410387993503,
          5.573477090908921,
          7.304183353894997,
          5.54850558094042,
          6.653187734645637,
          6.860751495581384,
          5.879308290725958,
          6.065452513293264,
          5.952612013796447,
          6.208875692867895,
          5.532672846845356,
          6.101478551458444,
          5.601757860073753,
          5.932440105380295,
          5.445245875123994,
          5.615318435076722,
          7.030107763530946,
          5.686594475765511,
          5.3271596509425585,
          6.811966693078169,
          6.239292472898558,
          5.534667385715341,
          6.180481324873894,
          6.078439058222491,
          5.785028290211985,
          6.0640769019033405,
          6.2150054332230695,
          5.353649044012879,
          5.520821371511127,
          6.090122461277984,
          5.2709593612110455,
          5.574422188893204,
          6.813137505853973,
          6.084671899073884,
          5.77126246316208,
          6.168177676166666,
          5.585953313051322,
          4.772701150290316,
          6.577905262830847,
          5.717427282282881,
          6.610806851333388,
          7.189696662882657,
          6.135501312770909,
          6.488016520913459,
          5.83386004409876,
          5.7455254845228785,
          5.5976180111421225,
          5.895148232545469,
          5.7200476737292565,
          5.677017686526867,
          5.620215024820943,
          5.888585677658068,
          6.307488540328921,
          5.5714894756392335,
          5.202048647416969,
          6.187844372430346,
          6.0201605242580545,
          6.187670774171212,
          5.860607922266349,
          5.9768021527193325,
          5.350330182653753,
          6.426238210252861,
          5.725431834356511,
          6.901692821633582,
          6.091443061479079,
          6.286344220803582,
          5.473980294418537,
          6.561428163868655,
          6.056019700854966,
          5.230751145471875,
          5.994732759046794,
          6.40093840187121,
          5.239711805148905,
          5.287568532743382,
          6.702276824337492,
          6.390823875049058,
          6.288179004993562,
          5.257469815466064,
          4.99181267965186,
          5.007697604552971,
          5.734904193169682,
          4.98972648830264,
          5.777360334401301,
          5.387362419855448,
          6.203936700615372,
          6.262895702013559,
          6.237826214618779,
          6.293075294749007,
          5.754703636348387,
          5.5557243232727105,
          5.428779120012661,
          6.380155649531658,
          5.546368939518352,
          5.9338410083705675,
          6.067217323897325,
          5.581242527549312,
          5.835714724560879,
          7.02687219689924,
          5.678836057064473,
          5.22921236050782,
          6.339557544848701,
          5.961382721014951,
          6.459054501996301,
          5.737893920183546,
          5.285551822711121,
          6.287845537975039,
          5.814203692509081,
          6.574943403606645,
          5.695368752452297,
          5.451845165217587,
          6.307320643434114,
          5.212672581628794,
          6.360057024493225,
          6.286217053360398,
          5.829583831544841,
          5.6615163577736904,
          6.265534344513684,
          6.380834714299222,
          5.583106045703725,
          5.59841357977566,
          5.799539037627682,
          6.125086272070895,
          6.921489801542816,
          5.612356665185342,
          6.35555887009606,
          5.6130816051122965,
          6.0503401669462,
          6.182554864525355,
          6.534872504699742,
          6.073639719396987,
          6.404390728583288,
          5.859762345779525,
          5.753123186168113,
          5.92745088370783,
          6.241753273092366,
          6.416467311515292,
          5.6977565615980295,
          5.6042863531418705,
          6.1627915662210855,
          5.753816930519005,
          6.457595655012845,
          5.3898034553430705,
          5.955277618409831,
          6.098850825035442,
          6.733685647305508,
          7.0804633231294325,
          6.023563630635067,
          6.238736006585165,
          6.624830105996902,
          6.5053883330100835,
          6.227567517098994,
          6.873218014570312,
          6.312978146134478,
          5.647672961304149,
          6.7255469393840634,
          5.963641823380719,
          5.782233284979997,
          5.8602135735379735,
          6.445949075798757,
          5.810938179480248,
          6.101464189453819,
          5.8435663895504595,
          5.910148482269565,
          6.403918666755695,
          6.532568440538756,
          6.406600659013733,
          5.651221867116109,
          6.0610381468779595,
          5.3026766726389525,
          5.832935276913451,
          6.207107190980459,
          5.578192442959918,
          6.406342814826094,
          5.1115230777911265,
          5.786098571292052,
          7.0315775112472,
          6.7284968829837,
          6.062084330448973,
          5.495847181070437,
          5.52349152609144,
          5.48539497414108,
          7.212297855793535,
          5.276901946944326,
          6.46324588349447,
          6.34744063202917,
          5.780885700646618,
          6.1986457186817505,
          5.864556216965752,
          5.996628885216209,
          5.803498233640629,
          6.1250685788749255,
          6.272259365861599,
          6.147085617062585,
          5.003367424639212,
          5.203364462072804,
          6.370944795082909,
          5.668672100732773,
          6.44135045615743,
          6.248822868140049,
          6.164748410579875,
          5.5022600520255205,
          5.70108657907723,
          5.07844632930075,
          5.574986354114194,
          6.3875147614871075,
          6.51729428770995,
          4.877740290045256,
          5.61652042071719,
          5.717850521768781,
          5.924479477372223,
          6.154258237389909,
          6.2576231930205255,
          5.2888518915326745,
          5.714168048013812,
          5.925030894095085,
          5.992416951427302,
          6.525356494633335,
          6.310241638468994,
          5.106019834693835,
          5.185440812054181,
          6.515264517555161,
          7.129871447696272,
          6.710409391990142,
          5.2346810732735465,
          6.246633956162477,
          5.277436538923451,
          5.639744938943071,
          6.2602329600236475,
          6.5927293189362,
          6.7306377226514424,
          5.156719881185566,
          5.285043542658439,
          5.306418983819655,
          5.98748192367169,
          5.658426723467874,
          6.585398047975061,
          6.152936185985756,
          6.038538290998017,
          6.6688892828071005,
          5.310989190341299,
          6.254031463777785,
          5.936465229375121,
          7.202672703541851,
          5.481000577562582,
          6.573352366422018,
          6.565934151432653,
          5.963070605910382,
          4.703993503870662,
          5.569479065428424,
          5.841231347973135,
          6.30823110148428,
          6.870229828156158,
          5.632990848262291,
          5.11784648823657,
          5.9887194953577385,
          5.54137985244054,
          6.1130441001459035,
          5.4023137017009715,
          5.526830141516784,
          5.793984606446583,
          4.81138307081849,
          6.315279228838517,
          5.620217457780794,
          5.749781450851384,
          6.175892166174765,
          5.165085171420876,
          4.981217329703335,
          6.98762270222208,
          6.2727934430711665,
          5.063751991373283,
          5.783049806917374,
          5.740594872236669,
          5.733937092218041,
          5.808890385075265,
          6.367057264560377,
          5.752625950857811,
          6.328935014527529,
          5.9999843616181,
          5.586525134332243,
          5.831930345180906,
          5.706265273723944,
          5.691071239702469,
          5.312098090930089,
          6.4032555426256845,
          6.006243356176039,
          6.455616168111986,
          6.077503750099548,
          6.471787763083586,
          6.3412555319043316,
          6.712718060964685,
          5.363740128762264,
          5.804949681646798,
          5.810399835850427,
          6.206257699508778,
          5.450494204395783,
          6.394188111231449,
          5.741577989548073,
          4.835064299043919,
          5.856644452288577,
          5.838891865385025,
          6.374689742397991,
          5.892788167493967,
          5.61642094721123,
          5.858515413220517,
          5.460635698990063,
          6.299722116578367,
          5.7798793022957575,
          6.9925990741096395,
          4.635754726116389,
          6.360613706428477,
          5.756343765606113,
          5.56418020587794,
          6.516145639205651,
          5.8165491264971685,
          5.967524424955157,
          5.93500869742542,
          5.801153010793068,
          5.692480676564504,
          5.3751703471417915,
          6.012804305861251,
          5.372666551376234,
          6.7477432053647215,
          6.36402768655873,
          6.438935869546007,
          5.884594128102292,
          5.86450712525609,
          5.356785368772875,
          5.7271615985112385,
          7.171533015957502,
          5.835526342970678,
          5.694307397133739,
          6.066847920046251,
          6.087236733873914,
          6.025003423373411,
          5.340111863541431,
          6.240682480429612,
          5.584763032840068,
          5.323747608190695,
          5.098272198618713,
          6.792159298951836,
          6.022164247060332,
          6.295565411917515,
          6.308289671147249,
          6.076515843980788,
          5.727516744742416,
          6.097366399725561,
          6.488183017330864,
          5.604243499544985,
          5.518694643317256,
          5.7321022145070035,
          6.209421742342668,
          5.9690443507573825,
          6.508722524809658,
          5.962028342568514,
          5.890153848571771,
          6.059569566765736,
          6.728734037916345,
          6.138511025420891,
          5.343299767474397,
          5.748253326143819,
          6.428101470388743,
          6.217186221188508,
          5.4426515547612215,
          5.819690766525026,
          6.8201165221610385,
          5.932811942122137,
          4.928148117850565,
          6.585589910409755,
          5.618071321644394,
          6.566932901250269,
          6.139416080309464,
          6.336227008281243,
          5.9139182447544005,
          4.974271596177473,
          5.767136833057765,
          6.8177454864165625,
          5.812925782878899,
          6.178274745649721,
          6.645386918326959,
          6.026421589220585,
          5.710291328886863,
          6.680407707345914,
          5.867685709688522,
          6.121354483904766,
          5.880857131315849,
          6.284424589730875,
          6.155433986611201,
          5.443493121420352,
          6.464670845436436,
          5.589572413680542,
          6.06338928353705,
          6.227067952654867,
          5.539819782933771,
          6.814987875638641,
          6.535734236294954,
          6.147529130820441,
          5.908276851098011,
          5.6578488155902145,
          5.837916215712165,
          5.621310029348259,
          6.108382135737439,
          6.759302706563189,
          7.014044349149595,
          5.750592622748068,
          5.810307586006355,
          5.466413289494416,
          5.920605487217317,
          6.585657349004225,
          6.790057413367792,
          6.184908965773354,
          5.327800986134272,
          6.284852341308016,
          5.795936057603993,
          6.233380492778335,
          5.764813913512,
          5.124393166623645,
          5.923586836449611,
          6.649066494030725,
          6.06890993592102,
          5.9529071210427436,
          5.527016645028211,
          5.6507261993423334,
          5.809826407118035,
          5.4692371926841075,
          5.439717090690237,
          5.885213686172902,
          5.7630742789452665,
          5.545117206309123,
          5.848284375393066,
          5.634178481467191,
          5.702034514714935,
          6.5306153732394066,
          6.11748538731211,
          6.188688584305168,
          7.1226300782246526,
          7.346658950444056,
          6.579699398628977,
          5.836136825083166,
          5.284352602516483,
          6.141853936453379,
          5.619434098961554,
          5.464582094534081,
          6.884942090726899,
          5.637773342048787,
          6.515402810822822,
          5.95496291711709,
          5.770913294873805,
          6.476234730864949,
          5.105275675568256,
          6.360935205891171,
          5.905159589530357,
          5.955648965721409,
          6.519649381555959,
          6.489392797599829,
          5.724552448662634,
          5.739488899413433,
          6.069027417352537,
          5.817151832279145,
          6.516033467758257,
          6.062920500205174,
          5.354082768705634,
          5.8145911034415025,
          5.652109016928616,
          6.142135758732059,
          6.043456231825763,
          5.837500282473326,
          5.864860587499691,
          5.924219616574695,
          5.58234968776586,
          5.599312876855292,
          6.1575561649961426,
          5.45797490663059,
          6.5022636464312615,
          5.662595189654925,
          6.118619687725627,
          6.749438077110227,
          5.283287948200647,
          6.3163047552954446,
          6.337977993167784,
          6.357079286333825,
          4.8406888822851055,
          5.648321654866659,
          6.4847037643359835,
          5.522100153491779,
          5.6505257379523925,
          5.400149899952508,
          6.0009112603800805,
          5.049650618243906,
          7.067485906088082,
          5.986080960803302,
          5.319881555645582,
          5.664602268258853,
          6.524706176787387,
          5.865293050307235,
          6.475542931009749,
          5.434419644622868,
          6.0051798771306135,
          5.713846493348012,
          6.609894011985694,
          5.355200914034384,
          5.8454587729018845,
          6.192086275084255,
          6.002750826143101,
          6.593947251933228,
          6.291739906493436,
          5.925803863292839,
          6.174924837239518,
          6.519725056771332,
          6.747820762096578,
          5.613622133235457,
          6.62748136321253,
          5.542040425416101,
          6.518675865308442,
          6.823494795994671,
          6.286875291508368,
          5.769743556692845,
          6.194652292413161,
          6.564299655766975,
          5.579475118671559,
          6.108039259420693,
          6.262977745396614,
          6.068591301662413,
          6.430653087790668,
          6.029569295783501,
          4.717595457765089,
          5.83566776647596,
          6.151336457557046,
          6.371067707081892,
          4.7414951093873166,
          6.527917561672719,
          6.272498355135943,
          5.982909328900514,
          6.215615324215807,
          5.7262764489626115,
          6.570050384047178,
          6.114786107791355,
          5.524056631202732,
          6.040828948763013,
          5.83536737578558,
          6.239223268352759,
          5.569786183034839,
          6.144819783880146,
          6.134082565218734,
          5.839831517969509,
          5.727434193949225,
          6.204202427888537
         ],
         "xaxis": "x4",
         "xbins": {
          "end": 10,
          "start": 0
         },
         "yaxis": "y4"
        }
       ],
       "layout": {
        "height": 300,
        "template": {
         "data": {
          "bar": [
           {
            "error_x": {
             "color": "#2a3f5f"
            },
            "error_y": {
             "color": "#2a3f5f"
            },
            "marker": {
             "line": {
              "color": "#E5ECF6",
              "width": 0.5
             },
             "pattern": {
              "fillmode": "overlay",
              "size": 10,
              "solidity": 0.2
             }
            },
            "type": "bar"
           }
          ],
          "barpolar": [
           {
            "marker": {
             "line": {
              "color": "#E5ECF6",
              "width": 0.5
             },
             "pattern": {
              "fillmode": "overlay",
              "size": 10,
              "solidity": 0.2
             }
            },
            "type": "barpolar"
           }
          ],
          "carpet": [
           {
            "aaxis": {
             "endlinecolor": "#2a3f5f",
             "gridcolor": "white",
             "linecolor": "white",
             "minorgridcolor": "white",
             "startlinecolor": "#2a3f5f"
            },
            "baxis": {
             "endlinecolor": "#2a3f5f",
             "gridcolor": "white",
             "linecolor": "white",
             "minorgridcolor": "white",
             "startlinecolor": "#2a3f5f"
            },
            "type": "carpet"
           }
          ],
          "choropleth": [
           {
            "colorbar": {
             "outlinewidth": 0,
             "ticks": ""
            },
            "type": "choropleth"
           }
          ],
          "contour": [
           {
            "colorbar": {
             "outlinewidth": 0,
             "ticks": ""
            },
            "colorscale": [
             [
              0,
              "#0d0887"
             ],
             [
              0.1111111111111111,
              "#46039f"
             ],
             [
              0.2222222222222222,
              "#7201a8"
             ],
             [
              0.3333333333333333,
              "#9c179e"
             ],
             [
              0.4444444444444444,
              "#bd3786"
             ],
             [
              0.5555555555555556,
              "#d8576b"
             ],
             [
              0.6666666666666666,
              "#ed7953"
             ],
             [
              0.7777777777777778,
              "#fb9f3a"
             ],
             [
              0.8888888888888888,
              "#fdca26"
             ],
             [
              1,
              "#f0f921"
             ]
            ],
            "type": "contour"
           }
          ],
          "contourcarpet": [
           {
            "colorbar": {
             "outlinewidth": 0,
             "ticks": ""
            },
            "type": "contourcarpet"
           }
          ],
          "heatmap": [
           {
            "colorbar": {
             "outlinewidth": 0,
             "ticks": ""
            },
            "colorscale": [
             [
              0,
              "#0d0887"
             ],
             [
              0.1111111111111111,
              "#46039f"
             ],
             [
              0.2222222222222222,
              "#7201a8"
             ],
             [
              0.3333333333333333,
              "#9c179e"
             ],
             [
              0.4444444444444444,
              "#bd3786"
             ],
             [
              0.5555555555555556,
              "#d8576b"
             ],
             [
              0.6666666666666666,
              "#ed7953"
             ],
             [
              0.7777777777777778,
              "#fb9f3a"
             ],
             [
              0.8888888888888888,
              "#fdca26"
             ],
             [
              1,
              "#f0f921"
             ]
            ],
            "type": "heatmap"
           }
          ],
          "heatmapgl": [
           {
            "colorbar": {
             "outlinewidth": 0,
             "ticks": ""
            },
            "colorscale": [
             [
              0,
              "#0d0887"
             ],
             [
              0.1111111111111111,
              "#46039f"
             ],
             [
              0.2222222222222222,
              "#7201a8"
             ],
             [
              0.3333333333333333,
              "#9c179e"
             ],
             [
              0.4444444444444444,
              "#bd3786"
             ],
             [
              0.5555555555555556,
              "#d8576b"
             ],
             [
              0.6666666666666666,
              "#ed7953"
             ],
             [
              0.7777777777777778,
              "#fb9f3a"
             ],
             [
              0.8888888888888888,
              "#fdca26"
             ],
             [
              1,
              "#f0f921"
             ]
            ],
            "type": "heatmapgl"
           }
          ],
          "histogram": [
           {
            "marker": {
             "pattern": {
              "fillmode": "overlay",
              "size": 10,
              "solidity": 0.2
             }
            },
            "type": "histogram"
           }
          ],
          "histogram2d": [
           {
            "colorbar": {
             "outlinewidth": 0,
             "ticks": ""
            },
            "colorscale": [
             [
              0,
              "#0d0887"
             ],
             [
              0.1111111111111111,
              "#46039f"
             ],
             [
              0.2222222222222222,
              "#7201a8"
             ],
             [
              0.3333333333333333,
              "#9c179e"
             ],
             [
              0.4444444444444444,
              "#bd3786"
             ],
             [
              0.5555555555555556,
              "#d8576b"
             ],
             [
              0.6666666666666666,
              "#ed7953"
             ],
             [
              0.7777777777777778,
              "#fb9f3a"
             ],
             [
              0.8888888888888888,
              "#fdca26"
             ],
             [
              1,
              "#f0f921"
             ]
            ],
            "type": "histogram2d"
           }
          ],
          "histogram2dcontour": [
           {
            "colorbar": {
             "outlinewidth": 0,
             "ticks": ""
            },
            "colorscale": [
             [
              0,
              "#0d0887"
             ],
             [
              0.1111111111111111,
              "#46039f"
             ],
             [
              0.2222222222222222,
              "#7201a8"
             ],
             [
              0.3333333333333333,
              "#9c179e"
             ],
             [
              0.4444444444444444,
              "#bd3786"
             ],
             [
              0.5555555555555556,
              "#d8576b"
             ],
             [
              0.6666666666666666,
              "#ed7953"
             ],
             [
              0.7777777777777778,
              "#fb9f3a"
             ],
             [
              0.8888888888888888,
              "#fdca26"
             ],
             [
              1,
              "#f0f921"
             ]
            ],
            "type": "histogram2dcontour"
           }
          ],
          "mesh3d": [
           {
            "colorbar": {
             "outlinewidth": 0,
             "ticks": ""
            },
            "type": "mesh3d"
           }
          ],
          "parcoords": [
           {
            "line": {
             "colorbar": {
              "outlinewidth": 0,
              "ticks": ""
             }
            },
            "type": "parcoords"
           }
          ],
          "pie": [
           {
            "automargin": true,
            "type": "pie"
           }
          ],
          "scatter": [
           {
            "fillpattern": {
             "fillmode": "overlay",
             "size": 10,
             "solidity": 0.2
            },
            "type": "scatter"
           }
          ],
          "scatter3d": [
           {
            "line": {
             "colorbar": {
              "outlinewidth": 0,
              "ticks": ""
             }
            },
            "marker": {
             "colorbar": {
              "outlinewidth": 0,
              "ticks": ""
             }
            },
            "type": "scatter3d"
           }
          ],
          "scattercarpet": [
           {
            "marker": {
             "colorbar": {
              "outlinewidth": 0,
              "ticks": ""
             }
            },
            "type": "scattercarpet"
           }
          ],
          "scattergeo": [
           {
            "marker": {
             "colorbar": {
              "outlinewidth": 0,
              "ticks": ""
             }
            },
            "type": "scattergeo"
           }
          ],
          "scattergl": [
           {
            "marker": {
             "colorbar": {
              "outlinewidth": 0,
              "ticks": ""
             }
            },
            "type": "scattergl"
           }
          ],
          "scattermapbox": [
           {
            "marker": {
             "colorbar": {
              "outlinewidth": 0,
              "ticks": ""
             }
            },
            "type": "scattermapbox"
           }
          ],
          "scatterpolar": [
           {
            "marker": {
             "colorbar": {
              "outlinewidth": 0,
              "ticks": ""
             }
            },
            "type": "scatterpolar"
           }
          ],
          "scatterpolargl": [
           {
            "marker": {
             "colorbar": {
              "outlinewidth": 0,
              "ticks": ""
             }
            },
            "type": "scatterpolargl"
           }
          ],
          "scatterternary": [
           {
            "marker": {
             "colorbar": {
              "outlinewidth": 0,
              "ticks": ""
             }
            },
            "type": "scatterternary"
           }
          ],
          "surface": [
           {
            "colorbar": {
             "outlinewidth": 0,
             "ticks": ""
            },
            "colorscale": [
             [
              0,
              "#0d0887"
             ],
             [
              0.1111111111111111,
              "#46039f"
             ],
             [
              0.2222222222222222,
              "#7201a8"
             ],
             [
              0.3333333333333333,
              "#9c179e"
             ],
             [
              0.4444444444444444,
              "#bd3786"
             ],
             [
              0.5555555555555556,
              "#d8576b"
             ],
             [
              0.6666666666666666,
              "#ed7953"
             ],
             [
              0.7777777777777778,
              "#fb9f3a"
             ],
             [
              0.8888888888888888,
              "#fdca26"
             ],
             [
              1,
              "#f0f921"
             ]
            ],
            "type": "surface"
           }
          ],
          "table": [
           {
            "cells": {
             "fill": {
              "color": "#EBF0F8"
             },
             "line": {
              "color": "white"
             }
            },
            "header": {
             "fill": {
              "color": "#C8D4E3"
             },
             "line": {
              "color": "white"
             }
            },
            "type": "table"
           }
          ]
         },
         "layout": {
          "annotationdefaults": {
           "arrowcolor": "#2a3f5f",
           "arrowhead": 0,
           "arrowwidth": 1
          },
          "autotypenumbers": "strict",
          "coloraxis": {
           "colorbar": {
            "outlinewidth": 0,
            "ticks": ""
           }
          },
          "colorscale": {
           "diverging": [
            [
             0,
             "#8e0152"
            ],
            [
             0.1,
             "#c51b7d"
            ],
            [
             0.2,
             "#de77ae"
            ],
            [
             0.3,
             "#f1b6da"
            ],
            [
             0.4,
             "#fde0ef"
            ],
            [
             0.5,
             "#f7f7f7"
            ],
            [
             0.6,
             "#e6f5d0"
            ],
            [
             0.7,
             "#b8e186"
            ],
            [
             0.8,
             "#7fbc41"
            ],
            [
             0.9,
             "#4d9221"
            ],
            [
             1,
             "#276419"
            ]
           ],
           "sequential": [
            [
             0,
             "#0d0887"
            ],
            [
             0.1111111111111111,
             "#46039f"
            ],
            [
             0.2222222222222222,
             "#7201a8"
            ],
            [
             0.3333333333333333,
             "#9c179e"
            ],
            [
             0.4444444444444444,
             "#bd3786"
            ],
            [
             0.5555555555555556,
             "#d8576b"
            ],
            [
             0.6666666666666666,
             "#ed7953"
            ],
            [
             0.7777777777777778,
             "#fb9f3a"
            ],
            [
             0.8888888888888888,
             "#fdca26"
            ],
            [
             1,
             "#f0f921"
            ]
           ],
           "sequentialminus": [
            [
             0,
             "#0d0887"
            ],
            [
             0.1111111111111111,
             "#46039f"
            ],
            [
             0.2222222222222222,
             "#7201a8"
            ],
            [
             0.3333333333333333,
             "#9c179e"
            ],
            [
             0.4444444444444444,
             "#bd3786"
            ],
            [
             0.5555555555555556,
             "#d8576b"
            ],
            [
             0.6666666666666666,
             "#ed7953"
            ],
            [
             0.7777777777777778,
             "#fb9f3a"
            ],
            [
             0.8888888888888888,
             "#fdca26"
            ],
            [
             1,
             "#f0f921"
            ]
           ]
          },
          "colorway": [
           "#636efa",
           "#EF553B",
           "#00cc96",
           "#ab63fa",
           "#FFA15A",
           "#19d3f3",
           "#FF6692",
           "#B6E880",
           "#FF97FF",
           "#FECB52"
          ],
          "font": {
           "color": "#2a3f5f"
          },
          "geo": {
           "bgcolor": "white",
           "lakecolor": "white",
           "landcolor": "#E5ECF6",
           "showlakes": true,
           "showland": true,
           "subunitcolor": "white"
          },
          "hoverlabel": {
           "align": "left"
          },
          "hovermode": "closest",
          "mapbox": {
           "style": "light"
          },
          "paper_bgcolor": "white",
          "plot_bgcolor": "#E5ECF6",
          "polar": {
           "angularaxis": {
            "gridcolor": "white",
            "linecolor": "white",
            "ticks": ""
           },
           "bgcolor": "#E5ECF6",
           "radialaxis": {
            "gridcolor": "white",
            "linecolor": "white",
            "ticks": ""
           }
          },
          "scene": {
           "xaxis": {
            "backgroundcolor": "#E5ECF6",
            "gridcolor": "white",
            "gridwidth": 2,
            "linecolor": "white",
            "showbackground": true,
            "ticks": "",
            "zerolinecolor": "white"
           },
           "yaxis": {
            "backgroundcolor": "#E5ECF6",
            "gridcolor": "white",
            "gridwidth": 2,
            "linecolor": "white",
            "showbackground": true,
            "ticks": "",
            "zerolinecolor": "white"
           },
           "zaxis": {
            "backgroundcolor": "#E5ECF6",
            "gridcolor": "white",
            "gridwidth": 2,
            "linecolor": "white",
            "showbackground": true,
            "ticks": "",
            "zerolinecolor": "white"
           }
          },
          "shapedefaults": {
           "line": {
            "color": "#2a3f5f"
           }
          },
          "ternary": {
           "aaxis": {
            "gridcolor": "white",
            "linecolor": "white",
            "ticks": ""
           },
           "baxis": {
            "gridcolor": "white",
            "linecolor": "white",
            "ticks": ""
           },
           "bgcolor": "#E5ECF6",
           "caxis": {
            "gridcolor": "white",
            "linecolor": "white",
            "ticks": ""
           }
          },
          "title": {
           "x": 0.05
          },
          "xaxis": {
           "automargin": true,
           "gridcolor": "white",
           "linecolor": "white",
           "ticks": "",
           "title": {
            "standoff": 15
           },
           "zerolinecolor": "white",
           "zerolinewidth": 2
          },
          "yaxis": {
           "automargin": true,
           "gridcolor": "white",
           "linecolor": "white",
           "ticks": "",
           "title": {
            "standoff": 15
           },
           "zerolinecolor": "white",
           "zerolinewidth": 2
          }
         }
        },
        "title": {
         "text": "Row of Histograms"
        },
        "width": 750,
        "xaxis": {
         "anchor": "y",
         "domain": [
          0,
          0.2125
         ],
         "range": [
          -0.5,
          10.5
         ],
         "title": {
          "text": "A"
         }
        },
        "xaxis2": {
         "anchor": "y2",
         "domain": [
          0.2625,
          0.475
         ],
         "range": [
          -0.5,
          10.5
         ],
         "title": {
          "text": "B"
         }
        },
        "xaxis3": {
         "anchor": "y3",
         "domain": [
          0.525,
          0.7375
         ],
         "range": [
          -0.5,
          10.5
         ],
         "title": {
          "text": "C"
         }
        },
        "xaxis4": {
         "anchor": "y4",
         "domain": [
          0.7875,
          1
         ],
         "range": [
          -0.5,
          10.5
         ],
         "title": {
          "text": "D"
         }
        },
        "yaxis": {
         "anchor": "x",
         "domain": [
          0,
          1
         ]
        },
        "yaxis2": {
         "anchor": "x2",
         "domain": [
          0,
          1
         ]
        },
        "yaxis3": {
         "anchor": "x3",
         "domain": [
          0,
          1
         ]
        },
        "yaxis4": {
         "anchor": "x4",
         "domain": [
          0,
          1
         ]
        }
       }
      },
      "text/html": [
       "<div>                            <div id=\"15365e5d-c7fb-493b-9788-d7ed76bd0b02\" class=\"plotly-graph-div\" style=\"height:300px; width:750px;\"></div>            <script type=\"text/javascript\">                require([\"plotly\"], function(Plotly) {                    window.PLOTLYENV=window.PLOTLYENV || {};                                    if (document.getElementById(\"15365e5d-c7fb-493b-9788-d7ed76bd0b02\")) {                    Plotly.newPlot(                        \"15365e5d-c7fb-493b-9788-d7ed76bd0b02\",                        [{\"marker\":{\"line\":{\"color\":\"black\",\"width\":1}},\"name\":\"A\",\"nbinsx\":30,\"x\":[2.8097431245405193,8.63580674018521,1.6973544864380075,5.897435604620731,4.847374073962245,3.5359624570221526,0.23038745553902396,7.822046345858454,3.1092248525751645,1.9538603237016972,8.166942230602478,2.0399088597371504,6.849623100660908,9.286334161350485,9.006419859724856,5.119290687256025,7.880886101237198,2.2199545812832744,3.544153384286547,0.32181827242689476,7.309012223569942,4.573500581374744,1.4242133098254617,6.567728328312192,8.98127562135006,1.4474812735450904,8.395195738948907,9.079073060251776,8.192666624818685,8.06299751381793,9.222945136232044,5.0290094590920855,2.8938528654955444,2.002353007609922,5.36489936471114,9.108521799493834,8.162368220203224,5.3928797224173906,7.395230147325396,8.220395729863236,4.817155726457056,4.186449101773593,7.608584404307502,0.5096877570951264,0.3229461591122118,1.1739052559484375,5.7349334757828965,2.6999365287040433,4.831805902977509,9.673299059761517,8.729927371796792,1.617069842227048,6.9764038498840275,8.990360789438926,4.016730824159808,7.291728629660589,6.327556127485976,4.469268302283958,1.2751928892237163,7.26653235268749,0.9093616374772739,5.412450108324186,9.888996146670767,0.5204893379686282,3.226025970602712,7.159905937293713,6.1268569715015495,0.2888266060072542,3.393657454057456,7.7269027616426005,0.9003518339604988,0.3215662954320053,1.5358438907101657,0.5058526038368272,1.2059406254375526,2.1607308096601785,0.1110716067677453,2.5198760880677042,9.368142941805907,5.366066429415895,6.694980265613173,6.6807087126328,4.617281870078318,7.918595769510364,2.353917546956236,5.271278120426076,4.934300171917682,0.28199038508870844,5.926436858508906,5.314481622159207,0.6518227843339541,5.166991905618376,3.9079717281351964,8.0545208306067,1.455537854528448,8.442312037520477,6.841128692799727,7.65646862883151,1.2736224224769965,1.1646866727449012,2.682416917397709,1.3645573816030931,8.597930484137715,5.759752151143035,4.090070146320991,6.513205245653527,2.7556392334805304,6.668172230633913,1.7340713689304088,2.486537444720489,3.2686106907342727,8.023190002168217,4.418241334608873,5.861987320044162,4.848169365525209,2.352029155917892,5.318040571118251,7.297058431175173,3.8233866641966587,6.086122744074032,5.890395157879757,7.308472305161993,3.055702501904758,7.3338599558043125,9.793188715828453,0.794219657553733,2.7394889334786052,1.7359433029902738,9.212341949613995,2.133192885420346,8.057396053579584,2.246535127977931,8.501287592758244,8.790857109432302,2.152206369973099,7.14429923652983,1.5202215127352636,1.3218595684552759,8.651898890127374,9.28222094493671,1.6452125261524708,7.8864323539954295,1.5329449241369897,9.034398423789714,0.002156071061015785,5.444009869683384,9.605171647498933,7.360629903530086,1.7747010542726571,3.5169672524583317,0.01562730968755255,7.586808942665165,3.940001743972105,5.852440216718634,4.409845812774159,8.197045570412548,9.89547414705379,9.560652908295985,1.108718844732186,0.7785521974196197,2.5473356247303913,9.94367219843778,8.728366565321938,4.035386451252135,1.3323489252212428,5.870765594503174,7.751068708855623,8.378439409880624,9.154984804142302,3.6810663306934446,1.6590200556921475,7.730724167763557,4.814961688614995,6.111448004954305,3.90061938447365,6.283695384111639,6.2921781255008655,5.544825400406291,9.228705763633373,0.0746554877065686,5.139879762043945,9.948468375777566,2.179583224509263,9.054691899583435,1.7399702734783407,6.061733266891557,3.236854154329587,7.942859485054232,9.316080620325241,9.852572356256209,2.0523084368448528,2.927785262738851,8.646097111259976,0.6275922734754136,2.556271882847916,3.100088909477674,7.652414623757976,0.4489669445599387,1.5916809583062885,0.7088810749355545,1.548396323956942,5.765123358156541,0.4188877056918472,0.5261039685786773,5.937153002257967,5.722417261367169,8.866233590476213,9.733780073949394,6.049150113077637,4.69106413550927,4.617741309106088,3.511718533925101,1.5571325151460613,7.033789964215701,3.767039144644233,1.240315926636718,6.558828053195814,1.8017643857855248,2.514940774481728,9.362463534723409,2.2915257898330266,2.383701398350422,7.518770539835476,8.402091213645978,2.9313464889362892,8.790625333471851,6.6146975234868135,5.287878631052902,3.73310351840178,4.225848252633941,6.240819180379455,9.683592237518347,0.41034032257099007,4.1376546414994,0.3700364714877702,7.8743335391699105,3.7291877361119905,6.56547552892043,0.29257020412826185,3.4169397248468645,8.027209493071371,5.472729473517775,8.661342072436062,7.205479384970673,3.0912023017696386,3.532148495157028,3.838349775072152,1.3659712748448405,8.977421512637141,9.486907703140806,6.509266855428239,4.762994292306591,8.322805812267989,8.345974541103944,8.134714664590245,9.399974953178592,0.8155551806720229,1.8054863659538423,3.3943170239907294,3.2633092466123403,9.00659513991547,7.969341496922706,2.2422636463351964,0.11134325801448908,6.631595904142296,2.9625363206818847,9.316001601750143,9.32084944572212,2.7450174112974093,2.8635158275287242,8.256342419407256,3.7760511523162976,3.4963864952612966,5.030826436550444,9.597449657194426,8.39245935072068,0.25537559979155855,0.12571333150595887,1.102658604649206,7.114389566456988,0.373892611430342,2.744631794450356,1.9414224142266645,0.7087465261095582,2.3666403175666617,3.3489892399061483,7.921349690054087,4.787842889140499,3.832303597719532,4.0061108131120715,2.624109131155495,8.031770087307017,9.806177016521278,1.7273285017497508,5.934309716530057,8.82901214900383,9.39098075670579,9.175489497095256,9.3936600500023,4.833181699996734,2.9455051087465476,9.592348215845734,2.979975388802256,3.453314531929709,2.5135636877464806,3.913905990712042,0.47151051767742147,3.132028963837473,5.837664548055147,1.6983812358228434,6.090529285418374,0.3935351646899654,1.5169453932995491,6.767801933332727,1.5550189126473468,6.127957662863923,6.609537895558772,0.711713843833186,8.603674171245242,1.7536845767668119,6.4473137380407,9.506313909208062,8.631229096829635,0.34840739213952254,1.9463706387728341,2.173986447563739,0.9333779934816977,3.0107318061807575,7.7133524699247396,4.475052754296085,2.8505784458504504,8.354397130866241,4.7420763811250755,5.354973336474478,4.0877970132608965,4.10084338419704,1.0081256971595431,2.7000623767404894,4.577776664050904,0.11556253810780404,7.1771394365163586,9.573965513708819,7.778553172262354,8.656795513417222,4.116759822714817,2.523270476381272,5.542828375835207,3.2413696097886424,3.1000769031781603,1.5617263152684269,0.017016598731369736,0.1812737433960876,0.627137520649107,4.140745992071761,7.043798059707327,7.029155521295841,3.008406000171834,7.5867698830722095,9.790538325410603,6.004883858359294,0.8551235249115119,7.949758844162364,7.0810822074531465,5.096384208701182,7.375028006672322,0.053024404922035195,1.379119491581663,3.611423929396451,2.426250269197422,0.33749497134910933,5.420246999914847,7.8995643353036415,8.135828228105154,6.820344064170239,6.7188899743610335,5.2665696239324795,6.717205488508187,5.434210035623609,8.977910698988241,8.534460654566745,7.148035947476936,6.784271188940868,6.900907458899454,7.982998623068614,1.3021202472486926,7.724409155528166,5.358686459373024,9.621760234954769,9.038077962796907,8.804129163972842,6.905112776641856,9.766086795784663,4.705475786394205,8.36727606944175,3.099525388600828,8.197657178960439,1.2849066373029239,1.8627865034630542,6.511874665477287,6.581177306280598,3.285005688688043,4.273915245175958,8.230626622333409,1.7495203441927765,7.933207517158687,7.209168728267429,8.005711424928402,1.677620792842096,6.556167970172798,9.482093151154274,5.741801357229343,8.950197402753348,2.4642977540846713,5.3969921100567,9.253577652390408,8.099927374270639,7.967954020200365,4.435541139386597,4.274615272084183,8.403538831118338,9.55486492678705,0.3318171723333718,5.6584184476889625,7.018313543607729,5.915742559162947,8.892961784511758,6.148344016205507,8.301639151685,3.594162829038927,7.301038589855439,8.542206076461039,2.2669566202481892,7.762804909744977,1.1429504394132706,1.2876776508111798,8.268292523563247,7.698910367241752,0.45438268437076657,3.3844355256714254,3.4113043185568745,7.81036659086022,9.315513819184856,7.419478849558336,3.200186818817227,5.2952268038989985,4.658203886278718,6.883318851392631,2.990176662661821,9.345015757250799,5.421454444153495,6.356428480236655,7.814251694405944,2.8172641647225314,4.513474567276798,4.802033501225555,4.296632923337479,5.9217540612118995,3.3469673435032377,5.136643469886476,0.584630079726588,8.822618351792501,3.8214897705557496,3.5602035822128055,5.4237082268929,3.7183561313297164,8.36310048779477,7.929499943384145,8.077577666624636,0.9828527646653973,8.940374664182471,8.44521964450586,2.6873728930885497,3.0391786795460973,4.243778048969449,7.252502318313273,6.102947270240127,7.722066218276797,7.621645721107754,8.617103061851013,7.820538945666611,9.652039373494896,5.308457346857814,7.754492815266082,1.1893261737294936,4.9724752024405925,8.008790219557778,5.232327815399672,2.5658881847917603,7.850524828425655,9.683439019610384,5.640045523304639,3.7230329333628873,7.419466471360697,7.579290419023904,8.303253960430512,4.813464193900411,7.994658500930953,6.380422230028209,3.4116921698530067,3.3629858645750277,1.2008837891757929,4.339013520514592,8.91513422618149,2.573228603363582,1.1810554972646825,8.738783524495002,9.77380498672257,4.996355598835836,7.110233174672002,0.20002776489706608,4.127445790919193,1.7330244393271,8.55474245603458,0.4217264381734309,3.17073127204063,9.846998084155736,2.693039042799481,7.22817124351018,1.4729100687090413,9.517038238813608,1.8182119207761682,6.583615166322851,2.153829196121122,1.2227967102584536,5.88742690418901,8.212158403103977,7.807067188878581,0.31707319003675627,2.30771060790796,4.723194011599081,7.717608600468081,4.410158779487348,6.600571824255295,7.347259781476031,6.976634594625951,4.275829674828412,6.052203982558934,7.090374328023815,7.777272458861408,5.489390050530587,3.950062348898722,0.43633444384153286,6.7117354110225405,9.747725993114093,2.3436656385150654,9.894344089284186,9.965841908082943,0.23321921105493248,6.870790630380142,1.925539326768031,5.894330547049927,2.347967911829052,9.906835795142173,2.6063139003010063,9.637408223916475,8.724095317234516,7.39903815688287,0.8272210335504648,3.932161772674607,1.0989884537988226,9.477308587798523,4.940442575164251,1.428142930530496,6.801375496115337,7.246822003181088,9.989306550587555,9.193337479735117,4.187866354578045,4.969820679494521,7.57647159570085,4.9890177551587565,5.004014303181666,4.230601365065658,0.07849600342686447,7.251358885484274,0.9938804438886395,6.191306007342579,8.648363019652596,0.9328107110121109,3.767907686085551,2.7940222304105644,7.532390029529829,1.1533920676479492,6.717953028017783,3.465042237363666,4.418542484350079,7.8726894384557955,7.490658063011509,1.2272452427875347,2.819609005867969,1.9367756647519707,3.7252199797891263,9.560472350346558,4.589377118494678,3.531768330191688,3.9505728112182026,0.9817584825015024,6.477120681184268,2.433693386124199,7.810996645701831,8.91619721752092,4.5877875981106335,4.875904634580613,6.804950651511186,2.145660178888428,4.435176785578612,6.835314051435644,9.81619982531926,6.5101080953203585,2.6655965826249375,4.654265746156135,4.10857183648273,5.162138728167714,7.049368764241706,2.48341380382033,6.725238769562822,6.948635053683388,1.260981814470843,7.841905402603297,4.144729490539673,5.717927606814632,9.82792878068481,4.231425644962519,0.7191082635046941,8.899067659636728,1.2056585673424214,5.005250287601422,8.006490514084815,8.07181993464469,4.540012435161957,7.9809151563088685,0.16720619776214085,1.885155739813248,6.423086342940961,4.4428723872488725,2.598971184848422,0.6191368320972435,7.918119867922581,3.1398095061301303,5.103527428917513,7.182937636076993,7.806336053560571,2.304656743038076,1.6314668270122124,6.497431038781569,1.4162757690994565,8.978267481434228,6.8009526291287745,2.58698118533398,5.219556357517957,3.5025662655658554,7.863415970281423,2.7117150387596434,4.4065448156940725,1.0730702361168531,0.785967568000655,5.550598134033619,0.45128661905151746,7.884663148596006,1.7205854708667578,8.333577467759394,7.445534959606176,0.6245710763559309,4.255803982284506,3.481297765584946,7.352100542971316,6.247161593631331,9.427236269091848,3.094678995006576,1.6012082242213832,8.169116282237889,7.776248658569518,7.561768530633463,3.3671160194190906,2.9430030291179357,1.5169405479221443,1.844784781061014,8.990592565357705,3.394896757543824,2.256913483178411,2.2519172102036897,0.41767345258635236,2.3108783517125007,1.7106436225939126,6.949430473954312,4.719438658161643,1.5799269260866688,4.972313948856797,4.152920335057935,2.2277490419537704,2.755708360659337,4.841534496368291,5.9157457748134785,5.171911143417765,2.3983425203822515,9.033249577703701,1.686834031219211,6.811034834980559,5.971975659237706,2.292201301191823,1.0355921743438545,2.628977180483738,9.231915737167352,6.454203166216722,7.288704337753741,8.264372213184744,0.5599336002215483,7.961988523326004,3.9754663821002723,8.236748866975615,0.8073983423516395,8.939388594509136,9.49181244025356,8.154015886433383,4.769152020870797,4.282501936649583,1.3300348836879017,3.0473670160276347,0.7026219423034208,6.220960557835962,8.099436500062371,3.45572166156198,9.824184320989675,0.849113285931693,8.976180011358373,5.654247748977589,1.48803030369275,0.7059348287520129,5.317558242538097,5.504715328207532,9.255930131874727,6.221508225844426,0.668129466548173,3.764710322717142,5.829787982854903,1.0557012073247385,2.157095824999523,0.699939301692698,6.946506689544513,2.7039151321178956,4.876497584089796,4.810262824748674,1.5946778328213762,3.097656457302538,9.58524811985463,4.726850725403188,7.172554005586553,6.47957224815463,9.092727658262383,2.0269654091976785,1.3969218348411683,4.546082840617417,4.243064263523845,3.791770249647348,5.407544758762598,0.16118289334049907,0.30834341946266997,0.7152205217040963,5.155931656519943,4.59748196548643,1.3030759798347313,2.383492738827171,4.657388734177968,8.389732962559698,8.427743478297039,4.711078448904615,2.7064639239910013,3.1339120210367923,9.112910017048893,4.0419988497466175,7.765360838507476,6.551620709754547,7.089750114505541,9.476837579690065,1.444528294215074,2.5804597949787746,8.734014960019241,3.127666111798609,6.634373967978665,9.839453025236377,9.836645370800976,1.6900322007992108,0.7581743721886192,9.20952878987807,9.398890839316703,8.050035275699132,6.291345716953187,6.589510016149271,6.247853295385129,6.887026722117263,4.358664795740307,5.24098636743283,0.33482148043141313,6.847894745921668,0.19646000553388165,6.700304704895097,9.087919349785468,7.5467972516769555,0.7187732476113395,2.826041599864989,9.391884813865634,4.26530984944173,4.537228845407711,6.029891743012346,4.1678007081497235,2.6491681333131876,5.545594768276052,9.559300464994484,6.331538817675114,8.673197119989432,2.1741824590667234,1.4968398173056474,3.8500880948871465,9.803957723143233,7.39341059695449,8.192661360947108,8.12856367735932,8.430760982056329,0.5697613616834007,9.29743916267668,9.671947444887454,2.4301153562572866,7.8252647545513065,5.675403830395661,7.2176359055782955,5.827804270244697,0.7066575823175958,9.309171573623509,7.193284792604299,1.448785408402028,8.691845435650329,7.07269562000615,5.838765654853129,1.1151838111994605,4.350604435636631,9.56009248598547,2.2991798160734325,1.211741273297613,5.4690514419025895,3.3622145995886052,2.140620515318341,5.710045144390134,1.2614923037421,2.155779984030841,7.42247766650312,9.179869349472135,9.296564361997781,4.13892084376545,8.968865404706834,7.461547353797341,4.556215040495345,8.914823180002276,0.5185107270867462,4.9011220017918085,9.063917809142854,3.501025369656224,5.807722147335095,6.482871158591968,1.6779434663581638,9.110071277218516,9.89336507814852,3.392161483831967,7.789648793206384,0.6268756397947195,6.20375298572291,0.12344197318122307,9.225132186945391,1.466538213208578,9.528821137587627,6.491730275724251,8.150601515928933,3.227872340877748,6.637129223996741,2.6049222008565875,1.139545991860006,4.408724809829283,8.270554275372,6.582473896548228,2.450657015192764,3.1940203167332983,3.318778122420377,5.753094594415222,4.756767908873743,8.493310799048071,2.247614290637844,1.4534187512088326,3.505878995595263,1.9112630618548498,5.565199614581493,1.5987667446883813,8.600335672130045,7.195755652513408,2.7933197657822117,1.0959070857274156,7.544966585864282,8.374423644017462,9.178634376320288,0.3326825291949298,7.433642578764061,0.8925669884164811,1.8883597803877983,4.803786228371505,6.630282790251163,3.514465644072237,0.14848092415276515,2.8566931966489815,3.1765554649025485,8.006103957826594,3.11960322613257,5.737298060955695,2.942351938210873,0.621319097241958,9.766156821221347,0.10297869313204755,3.3398235358172434,3.517520180575373,7.5054479946082715,3.7239871516219427,6.2827877093686,7.367259409968149,4.86417344025524,6.70719028718291,0.08108107054555114,1.866793359719201,0.8778196982379227,5.527611489123055,9.171356761033788,4.602699098789444,3.6830928161990952,7.135518390585018,8.905030419580566,3.2342252411596517,8.985413694879757,5.046160720367889,3.8969080285641655,1.6408209242944383,6.692866438392212,3.9391178262966453,3.468145289098058,2.274609972242798,0.31075774159324054,9.237206736596548,6.233152771680822,3.449301869113354,6.319758044208931,3.2316366071487135,7.886194406412182,8.2220575139408,7.787517917506397,4.330637975407001,3.0039576897131703,9.552116431998284,6.9972760037727175,1.823396910538042,3.69819345975988,0.33061950210584445,2.0201232518542165,0.1152035380207328,5.137108371283529,5.188824988535909,2.9679300924954175,4.906812608245237,2.0436691957527486,4.502938413173317,6.153183399999166,9.831095705887154,0.14453473746476542,4.074051565533951,2.7473338638785916,9.5913779338543,8.812567815299166,1.5483746712633295,7.317038152974574,9.951781021826344,6.135590409056812,0.7793672889824044,7.805241471015464,4.303226279631249,0.3917225640004329,8.661096424172625,7.031125824911156,5.803143940458366,6.809352477885778,6.406625800667154,6.9839993930948765,3.199460940973272,6.18787075030027,4.364501928691648,4.0314506822338645,0.7094558516022487,0.7048695986706166,9.235189680092073,8.390711924306835,7.391113396755223,7.519523453534872,4.660891604281253,8.588858090609433,0.032546279289332736,2.155980551729173,1.8594332458879492,8.401305778217436,8.123832710474337,5.000706063218256,8.157612373586504,7.569353239074771,8.88934067021593,8.633096580563185,7.641227796011218,3.2597317142173035,8.679964601472122,1.9637243240404634,2.3580965864846415,0.47438843735050695,2.358564875236163,0.35807284530578354,2.5036209142711585,5.7377095691918045,9.748958978984412,9.975259034645687,4.2090162155781865,3.259174147208711,5.78391099477151,3.699713925787229,0.5963263398929641,1.8735829951767247,8.990477788517635,8.559638954479002,9.423901058799466,6.607030511572481,1.4419148587003505,5.794972778769934,1.3601586376002495,5.580908992005503,7.520536711931679,1.2566258535529384,0.5647540304854881,8.717362308532891,3.2944298174967193,7.641138885268176,1.3191694876488325,7.823486607798111,7.5653062653630885,5.548420184715854,6.697499588144666,8.477920094670402,0.10797625896551533,8.554060127728224,9.560319145854415,6.704527822641319,7.50107866736366,5.181563267385878,4.062099865435189,6.911059550850574,7.427330263786099,2.388776086825658,5.488802321336211,1.9822857350117595,5.427794835353954,2.9619585165792195,7.795491447102153,9.33664655913434,3.516769990841031,2.665743754964567,6.46553757791785,9.812198735894723,9.358933534955362,8.483697835364993,5.399290783133671,4.156093668456052,1.7247702498483886,3.634352718441206,7.011891142384943,6.734304596134665,6.911960991938066,1.605951607045335,7.792518431990274,9.10636976825577,3.9443852308837037,8.036290074464448,3.9445791809603747,1.7375738078032588,0.15111580400170688,0.5763687133383844,9.13724439476345,2.077590992210221,6.849662678153228,8.23852453363784,2.67454467881222,9.702396876109832,3.6362325889788005,5.812438196414529,8.389265414479551,5.273389789709677,7.214197006726306,6.8354869851849145,7.44246290084377,0.2541481178965843,1.4050075361673409,3.6708791101876814,1.5743581306814536,7.440255054368404,2.094459052666784,6.016896683010544,4.507818341447742,0.17578035092254418,8.273067521918634,8.723401185189521,3.9214817558874016,7.1067281460374065,3.383757696980373,4.64215292751483,4.9421937102147755,1.945067014199624,1.2026649607651385,2.5061380022171442,4.8392797478991145,2.058267195608731,6.530946732839543,8.1621551321606,6.696819954877035,7.250896069469127,0.6088894887248864,1.600769280290012,5.827496297494255,8.785735055905699,7.516648149745815,6.3511801752833,2.8527832106986617,2.47357620670949,9.392932418923907,2.4369278060234176,6.216561818854213,3.6444791682594255,2.2360840562352227,8.798545630812688,3.346961349079063,4.23370316604231,0.8076618929740653,2.0178849264018215,8.604577613820307,6.784396641307072,3.7183680024703514,2.632002130706118,8.998003462930138,5.572804019802598,4.678735618747407,1.4215971819464979,6.980560427092328,8.268692792453487,9.831295266307055,5.342816938515764,2.43519039807126,9.493238434358513,6.846833599879899,4.916912228141372,8.596918297715998,8.332869305815754,9.049723009282525,8.338164657954025,0.6416833046172787,9.506242134412725,9.606230481911432,4.681593535007034,7.028975685144286,3.594454547020499,6.83394195223081,3.821804891566339,0.21591658785971468,4.093428680669314,3.478772390278465,6.041437088581354,1.7291383991361653,8.933098374415788,3.2887828247794957,9.803839167343197,7.731210623469494,0.23089389944441652,8.42334376769347,5.185792497428099,2.29582816317755,0.36335337335867024,6.456319550368745,2.9918943546396157,9.807889184302393,8.189684769396305,5.460400980036379,4.72584447000224,5.129950177350491,1.9575853156032208,9.955453466495426,5.805012260084551,8.95146338422764,5.396745311483344,3.945375282610769,3.831547197524637,7.568507353539365,2.789835583366862,3.5284503973385273,5.123216116493904,5.734519637554936,0.823159403912922,5.403736631344074,8.810122562464922,6.322329454640321,2.034729471539225,7.92525868813121,3.4921833450363016,2.737991963366686,2.0551004620813185,2.410074688886384,4.617711553772149,3.247922216993576,5.02058409772428,3.2821008222669725,1.2747710570110449,9.83854078614227,8.339762474840644,6.692996410715453,0.8220688747440286,3.809229345365802,3.086175332901031,5.085167710368075,3.86700303006676,3.362627349392194,0.34578369898890626,6.318729803388472,4.8751561856741805,3.1837573561834374,8.51701194811686,3.8993678101617557,5.3998946157352385,7.3543926339038475,5.90818953672244,4.754216832428141,0.8257084185440366,4.418879019443266,4.912381804056448,6.473975102040602,0.9030138714217584,2.2349662432446915,0.3887156704030137,1.7894886831008072,3.7660724318992633,8.743857522238638,8.654182850147423,5.014049033074148,1.661501620148037,4.475704055830843,6.269187642636833,5.525818146964405,4.685679597014996,6.330196801980442,3.6920178964745434,2.2613071232294657,6.974042189188864,5.408313264693491,3.4381820562393948,1.1064076565862513,2.504096681516147,0.5513462479331932,2.4651181762747965,0.995025217306984,9.076055529808698,3.3124736177450176,4.766137322015716,4.178500150137674,0.7221583376187224,6.397164375299589,0.1944563596693638,4.743874281101191,9.997029360011869,8.830708751287816,8.307340450805974,5.512077287285692,9.064629411658586,0.4500026959716408,9.936901504322854,5.3946952085646585,7.838121258750846,2.822097161016676,6.253989405793322,2.591392208276977,7.604542569988446,3.590962013543584,6.512451908581659,2.0853381285311423,2.3609216852671633,5.008992933412374,0.39869943992058343,1.2225969462576247,9.216121297679639,9.390202248220847,5.76145365788461,0.0662847551898782,4.979884870561239,9.757838447084591,2.5813476376015423,7.040203208697308,1.322611583136416,2.608281171813079,5.447159657678238,1.9447575562120456,8.258741654300207,8.279995875543026,1.4722004663324972,7.000023112446055,4.135137263831471,1.6949713992978954,7.735707614942657,9.68268971024389,7.5702866364031,3.997427582549543,0.10532203666989814,6.835568621855746,7.3817610362550905,4.150550534350118,2.434276255761029,1.1479378692759212,5.114813530839478,0.7715857341101262,9.562129838635096,6.742802123160343,0.46274156162362967,2.7347033087389896,8.32827000859904,3.6139902898873166,5.345389515090035,4.902391639491653,6.361898124449583,1.5631935981791634,7.809599418640935,9.857517835624511,3.8246628699082184,6.127851609495893,9.7126245219566,9.850701542726325,2.216957835613722,9.116116348000888,0.593617737727834,5.222877336302187,6.198685836914365,6.874459297709969,3.5647251366955137,3.008361929269178,1.96591271518047,5.12714580871214,7.695646459376212,1.144728504600917,9.364112128879254,6.331526723297393,9.999822015119928,0.28462088488836246,4.905451073335937,3.8040167068164776,1.7304351190349077,7.371501336962702,2.386500309122254,2.217322666030711,6.588322768546658,1.1843214639575872,9.391370931834928,7.386173176916783,9.984789796252246,4.759500015557382,4.313691547461048,7.383878749764578,7.704930829401625,2.5001082611049585,9.667541650315103,1.784405248904053,0.3514565516638879,9.217363819461237,8.614398496496861,0.8230159460576658,5.099874163012227,5.261331085786423,9.876753201895657,9.08760777795729,5.585094635327491,2.190048900000389,3.662229496574615,1.1473644905802194,9.176569089474288,7.928920781383914,4.481837999044301,3.9464101075010163,9.15429444809091,4.477108106939007,6.729597457043202,6.588698428635233,6.384360923333206,4.08178254004543,1.1430683418199494,9.623478067453647,9.597364701914918,0.3348041443076477,4.425418334313608,8.380089176279228,6.055179374812417,6.244834043760081,7.9026611629796655,0.08123334681814476,0.31322836716927704,4.652507915515259,0.6115978231811625,1.9532849576906752,3.1705488547609963,7.023673073291441,0.08032248456937952,3.8312557644516265,5.338512851919305,9.993785332256127,5.693624549762425,1.3908263476865068,4.79546015136313,6.755258369714868,6.738336636329876,8.949146137296891,2.9022470083394603,8.441526619867844,7.090325444335134,3.6136705022309537,7.201628484999455,2.214218961170501,7.128279098558325,5.107088064345957,1.6481583507268227,1.4467844494045412,6.6842765146841,9.040182705013374,6.343574061286975,6.005733899952702,9.549490610640646,7.470338886594665,4.663941174671221,1.0001195948700903,3.3874871504162063,1.6092511919319774,0.9555934037092284,5.206290570765293,6.698424995625832,0.6152238220004025,5.193134022445359,2.1605727352439508,5.85750294010513,6.0926490379399425,4.218579196076318,8.743545914839633,6.303897847864228,3.9094946720177437,8.061184330714708,2.2318005059866506,2.595771805771955,2.4564631601358355,7.24617403096251,7.509303766268114,1.129745402602218,3.152204945517946,8.945915266387871,2.2212116894501777,4.183762045574667,3.0840899304719316,2.905767840898105,9.21330456374126,8.226014934736321,9.807515863026333,6.39433536888223,8.735945745464582,1.6583341780378202,9.520653624276509,1.3897204362255922,2.1202801408304905,6.721441671239451,6.121832552539149,6.6204946535042755,9.072530290622652,4.727687134926449,2.702613895676981,5.98130159651947,4.51599524389032,0.5468629457426499,9.849537500508458,5.863883072933084,6.074078490419408,9.472999253274073,7.431704913883003,9.042992186417553,8.342090639874659,1.7174536596540957,7.8975527558439165,4.555163094509746,5.025781820933959,5.1022516792315695,8.458555763450125,5.182226531002731,1.11120600095448,3.700413887721118,8.96786051614415,6.953187317480798,6.7952492995942935],\"type\":\"histogram\",\"xaxis\":\"x\",\"yaxis\":\"y\",\"xbins\":{\"end\":10,\"start\":0}},{\"marker\":{\"line\":{\"color\":\"black\",\"width\":1}},\"name\":\"B\",\"nbinsx\":15,\"x\":[4.841420931010966,7.010168526191677,6.429528138185225,5.468258142172303,3.31047477816349,3.624715398618957,8.449341776406827,5.7437667079611066,6.475131334133006,5.871399198351354,6.216182843818099,6.348032035976477,4.571382503688931,6.472610880528684,5.848545412642452,5.373245759706934,4.59980838491801,3.647658594627943,4.539244322249851,4.254204882273111,5.532696551621249,6.440181596893442,5.517453684669446,7.603439107565264,3.6373827639090552,4.934514371369666,4.084171970273562,5.331936422173876,2.9205995383961385,3.750304418792873,3.5714948174790986,4.4852430403499035,8.051883304954567,2.493466221825524,7.6308693378721415,7.113405901562558,1.8418027279523912,6.459960551296436,5.122600932449751,3.8916578937363306,5.829858308315957,6.174737854979077,7.037165445816223,3.116014870859354,3.9894670303260624,6.023087895616468,4.477135503851958,5.3835233081402505,5.425332047112266,6.668904366087077,5.458855605796623,5.081848589230468,4.632863459960665,5.622845227924481,6.5073191903894365,6.297171071377273,5.641037336651211,4.762368439260067,1.8470328458790624,6.153218299587888,3.1503464517022364,4.51135666833741,4.279687705439663,4.600360737556233,6.348744522427842,5.998687937987241,5.671183722608452,6.201433940058273,3.5145595027813017,4.4259178361791935,3.156289942360599,5.782335387416657,2.690103424277099,3.50351489379465,3.3244460192631275,4.988427721493146,3.8479572398578736,6.239619697743075,2.620363822334816,4.319244683174243,6.099828776407533,4.248982132165508,5.620984403684246,5.3163738665098315,4.96185510542973,6.124209322873511,2.5518903585114723,3.781908932123426,5.353411909949128,4.292062691947937,2.904111349666671,4.210863961589391,3.6182057653974673,4.522717459398066,2.9120729834895203,5.57244639156507,5.7341400789498405,3.6940567700197726,6.999162934292534,6.283300825930882,3.432099907986496,3.0838594108041986,3.343043469472935,4.38209857335333,6.786640721615319,4.918246892437182,3.7897996445927093,4.3337369394959335,3.561174442703095,4.791805074457628,5.170738175620911,5.3747667888167925,5.529971120923738,7.003319697173788,5.879835496455754,5.474630846193126,8.063156945902751,4.946274995712424,5.7736189038143975,2.0554889385859734,4.228643678374423,4.655817206325338,5.5915313261057245,7.6254657922982245,2.5163455987718617,6.0468590237618605,5.657749392251219,7.798180505272811,3.1574664896133156,4.942406237208827,3.056250725230583,7.553500747273996,5.8940281253926265,5.2081979290123295,6.594316893826879,2.911523152135582,6.47813771882791,5.509487497512295,7.114484476532735,4.455501419353274,5.883654525580867,2.467348315942846,4.9476117717433175,5.239845893539292,4.740961695909434,5.298822921408428,4.197261104169442,5.945199433863563,7.7285447553348945,7.650834185589687,4.761691866817363,4.819988865439409,2.966211491057542,7.361833118814495,4.702242759361323,7.656053000062759,5.534431626062307,3.9559461158370866,6.543255192797232,4.5328784855077915,4.812049051235721,5.22006168083736,6.4511948883862695,5.510584519234824,4.36432486768076,2.1206420454173127,3.1933505081511693,5.118693499639125,7.5438594074181555,3.1457503347402893,4.338470346685356,6.874320952339906,2.347798416763547,7.310127829627041,3.790075020995001,2.871805043949685,5.133060920793774,6.712258327588456,6.8552528762372145,7.57102339435172,4.2836985772184795,6.222189059059574,6.638489386023997,4.16759504865515,2.9495059348978856,5.793417681199893,3.9011038986615842,4.046902911201441,3.6055732873891446,7.136666640287267,6.109091182925598,3.083676993231017,3.9041858133621163,7.063634324367733,4.520547330261357,5.706357477992956,3.4756958589138676,8.374989786606124,5.63481683202287,1.2680165688700837,3.323503357009876,7.715949444767113,1.078998060771017,6.125987989040894,5.854447018150617,3.5045699784826145,5.152234526651988,3.67444435719156,7.283885220083223,6.06773651520371,4.107048176123121,5.485270181745923,8.733727361597975,4.113870655632393,5.3455764381827855,3.910418451126471,6.457020527943103,6.465557687610946,6.242821030398202,6.955832753454189,8.37943844343272,4.736974242630677,4.775165089735149,5.17656599312502,5.126955588365836,1.7222305707265502,4.441642878057369,5.011555098252468,4.754489400379601,5.5772045455273815,5.8898165010809365,5.155724572837168,4.549552582002723,-0.2074453995008012,3.9072868171930253,5.810243724937993,2.792793319982847,5.995027594849985,4.042472918565654,6.365202042972836,3.8142719963162546,3.400885279840296,6.795346070624498,4.606359254430067,7.537839518624507,7.3188004279081085,6.076299265763236,3.5757182455313496,4.684244017579492,4.325973166944138,5.494329744444059,5.779018163028677,4.591593033780191,5.529319318812839,4.801722952045085,5.370131265824546,4.425265653642531,4.450589296906766,4.933128012866057,3.007197342012924,3.248010444695665,6.479610171484263,3.3531296771267276,5.022321293030212,5.229400301939767,4.320709855110782,6.029908662612193,3.0893087095352185,4.676710257235794,4.233304297642893,4.525887116549832,6.424578596832138,2.4857148143465517,3.6543265059371293,3.4087764357828463,5.148190837962148,7.06314580781727,4.971239717431411,4.842087192272999,7.7883720958104,4.046995007065988,4.262832058582574,5.116024516177872,1.612461529760111,5.686654025822144,6.495118951907983,5.746157001757105,4.896478197589682,5.179784983226815,4.992901265293231,5.747434084372386,3.578055305027874,1.2696371131684199,5.62124915474408,4.151035761841937,4.238120892318764,5.574946792042631,6.243639241154472,6.035344457010282,4.652370579379896,3.2026846675419542,6.451945329784287,5.271089968878679,4.078928739932389,4.5252732099511395,3.2944392403409473,2.867581936458075,5.362352219559658,3.908525564252276,4.553898065066706,6.106690167427711,7.22943302100302,4.796720368408259,8.827950396100892,6.066468212269134,2.455764763226925,1.2832142904749078,2.590738284899123,4.9666358729842255,7.015608669820545,3.77615658102071,6.4297470312200495,7.666590050741277,6.031254772062486,4.2383189110411745,7.07526285126658,5.842765454382131,6.815492868164181,3.6164507003420754,3.9015706505620256,5.0635432255551,6.050826207402585,5.866000459877795,9.77612285958292,7.008923890691416,5.811953656793319,5.592120574880028,4.358277364304492,3.825015078060914,5.00901893313161,6.275846601689799,4.505161558116148,5.030075751504273,4.4207336156249415,5.526922312231455,6.01361565409996,4.5941044082985085,5.956548046980648,7.110686600716112,4.861744013458718,5.425691850172831,5.493967884641349,3.8227133441116825,3.54654711842334,3.2911875009408913,4.957756770932683,2.999768763644335,5.7139767498622005,5.007130851212856,2.2729890028719426,4.351055012084519,6.590336687465351,6.361782233828514,4.74999855207191,4.010930757352069,2.582629648128851,6.025405422733857,5.121923287702328,6.15420143503737,8.11377578333805,8.503477678436877,5.648749577627993,5.193523824646013,3.867947874739876,6.098772588715811,2.0843564377042014,6.015988013822206,5.527574460846942,6.046627146996032,4.306768821184744,6.013635343975,4.362670587107193,5.459970191163778,5.108881214523828,8.89653289757846,6.577162696982617,6.705232344932979,2.3218955903338783,4.4220561593602365,2.9509823519730105,3.305738127807592,7.417922009750934,2.947625589832418,5.074209157017584,5.391801958458629,4.39238730104115,5.416364008206171,3.870622963961895,5.008131111439021,3.8486191647848047,2.710038861245617,5.646924399321025,3.6285074777167616,4.3630784717598345,4.846030225985203,3.072004266745679,3.709833472946416,4.638878429677582,4.865196418634192,6.827359042789584,4.521902173416567,5.4866281582586165,4.7361112382043,4.841875649825803,6.082091430548061,6.331781203904344,4.86812877153475,5.910439878072608,3.158249394470283,2.340632900389133,3.5980619505046842,4.832056881571496,6.310085872135909,3.6395879496619834,4.752144461791715,4.739596014974008,6.379456919522243,6.912261278948256,6.81714643271782,5.839091851644705,5.33155153953966,6.040698410983662,6.191089152172035,3.3622932971263033,5.490632198085659,6.110243213477407,5.612983889079256,4.368909711394307,6.3093730291001755,4.569819883181841,3.4329298418054,3.08013130604184,6.4704376095224365,4.931851995682943,6.343721171692273,3.897538554505363,4.474148135029014,4.842113055035202,3.72855248996458,5.559418124101008,6.839749199898852,5.079253580916371,4.691247939281225,3.778049291222934,3.4436642760812335,3.7024149272560942,5.527822491400089,6.500797405309027,3.9126223329632515,2.9087033043971315,5.91329230547686,2.449679529523438,5.834389676495175,4.096185251620562,7.718879921513116,4.63432365426059,6.398044956620379,2.550237777670171,6.398398304121658,4.995182866400511,5.824915732732661,3.9773282219961965,5.809803950627618,6.249714145581022,4.221467552024725,7.606636555036856,3.668948701790029,7.627747791167275,5.24320805273523,5.669609468032228,5.179872050170002,4.270002122172065,7.971329584763943,3.3496688876060894,5.128390057139383,5.16822243933473,7.213288001318177,4.509539596390317,4.836884103707167,4.629079763390514,4.768632460483684,4.915475290409876,5.182818340180748,3.153382538112629,3.0267140374044423,5.798697977063854,5.08449973271464,5.66249830625233,6.460914525025857,4.891028998914347,5.851286621006484,4.485140983570731,5.167981944894811,5.631307493349413,3.257913355756454,5.877640941433946,6.338620792194039,4.9501023327693705,3.437714143178907,3.9838904113817257,2.315708937564232,5.812613752203317,5.000917655841651,5.345289908602022,3.620810134669404,4.456537836570746,8.298144987029538,6.269292901376118,4.039019479891549,2.59937070464738,4.610386562956901,3.9181096172614214,4.171261292709069,5.228284812457406,5.089032129718167,4.747285359713498,3.9998688532536506,3.610683113871895,5.909166047793739,5.1409836687207076,3.4367607634296817,3.716889698287117,3.4798173595439814,7.863212896039939,5.363671642301558,4.938615724635063,5.641549369833945,4.286511968619033,7.845195529515372,6.708068589082315,5.8712062412193555,5.209910617857074,5.71375807111769,7.237066254960137,7.266772468456852,6.183507076489301,6.795704885827936,7.1601864695504,7.592121877801066,5.801815401892647,6.514483059359094,5.848452514715038,4.678253199895482,7.404751823594926,4.621295223346678,4.624392685985831,4.165312970601143,4.361162061865117,6.136561168451123,5.9686453811404245,6.014324834307545,5.701395546148898,3.9642009247219034,3.475575035661352,6.636984729158597,5.214920549420941,7.337317854847489,5.475146383616172,5.8001165928995535,4.335562017367032,2.9990199037810314,5.297915072591145,4.097894128564726,6.73450022370328,5.438337729188436,6.517776784557705,9.039144209724375,2.831949864563413,3.0286159198138973,4.328608443398079,5.6302493271793965,3.0391591681318535,3.643198586536073,6.500058410336244,4.212839348752885,4.268950893740702,7.2296594933874765,3.9614668151082513,4.1479801547753485,7.1791492720797905,5.858535279017682,7.223158550236308,4.076196382924015,8.107519719268938,4.401896489937265,5.801504000267589,4.763764272242135,6.308802122002618,6.10479336499445,5.721661643958791,5.661464844693671,5.3057595798570665,8.598227128837783,6.199717319378571,5.1425335432683665,5.343865362389858,5.837289103637837,7.534647283288855,4.136984784439651,5.1157840801360654,5.311780176210071,6.0098755464408775,4.822910977346288,4.110432505931179,6.69937441164144,3.721584024869653,4.018562687625488,5.147075898246965,5.888460910054783,3.7947234651526163,2.854151972564528,6.031270611397279,4.237469050854146,3.30377787607026,6.17750607706888,5.15207777047865,7.088197724288415,5.542495154448933,4.454080347540333,3.877370084815114,4.581228365657189,4.590647696919708,8.58792589185644,4.1052967540101175,4.909841268814636,4.407775125451842,5.781283154387226,4.741556414428567,3.8239942666270648,2.520533513518628,8.997393877348042,3.654441032689546,4.352778328447913,4.003889957112993,6.559618871683018,1.896156830940627,3.844427781197063,6.202418091722273,5.599805914762383,5.106663591069715,3.8610218553468942,5.705090147457394,4.925068509687091,6.170058528103377,5.808401495551174,5.398888647914634,5.5984773224212345,6.129028966533355,3.6844024673416946,4.553761697945999,5.004690820189634,2.754529314173607,3.468369985633573,6.417949907315438,6.479537301652748,4.571690879261106,5.726763112948934,3.679321887471999,4.302665871389645,3.477004277070895,3.392145830743166,5.882034955377317,5.344720675813819,4.949846635975976,5.281210183929233,4.827649183560097,6.243118022824371,5.437339026674581,4.698214209486047,5.321667049575314,5.070187241374472,5.52969357225785,5.10608226397309,5.2369102649878725,2.2105790735570134,7.657852052195024,5.289399008137639,3.0569223537548993,4.747369196021623,5.7498401393311305,6.4600526626798835,3.2573122445212275,5.053107352690842,7.104711709619149,4.150479120681436,6.604635290574779,3.4808472381150843,3.1431829953140564,5.333311524421218,3.512676658497197,2.7855917329929163,1.5175102827845124,3.213346483131035,8.072495221031783,3.8427398519464235,4.81958098889072,5.964367303416974,2.791716804149234,4.487688092347732,4.760535727557266,6.2940369896814286,5.518304624166621,7.617427683789095,6.2468159373088366,7.102531172794983,6.68290446363089,6.677758630711141,2.322733240356057,5.9373820170951035,4.501807427742835,3.068728598628864,7.404985254874337,5.800091616241399,3.09253135664146,7.358647935605978,4.2626251884912705,2.425021609635527,4.238245037837847,4.877693970539051,6.429251273970132,4.10412412996983,7.09346064266662,7.622235739304829,6.989568164709501,3.4816010435264797,4.211991824102487,6.293032610157613,7.3355960266802125,4.878179945065116,5.16450808370218,7.36169147154741,5.881307215719711,3.4902025580057527,4.090246667067175,6.451675159337386,4.015937716642498,3.561651983643833,1.8127274735929815,2.9053000965614917,7.667547036198754,5.069292037083628,3.492070602136572,5.801816814628909,7.464881008042066,5.020025269911503,3.1309862735272525,6.308397508456334,4.970787142551214,5.4372470209844925,3.223264421500105,4.801644831825215,4.341626040612172,2.6898718071947716,5.773992426214766,3.0500200791589727,5.167751674294901,3.347023324057458,5.452527487347141,3.412625444303568,2.9931442077195793,2.418964977663321,5.646902893093849,7.712113815569281,5.616451645245808,3.747318685738403,5.339007511087917,6.53309976567091,5.619623332003612,2.164592979014496,7.008486941052524,5.496886360420851,3.5548795498057837,3.405583923455272,2.7440738721364184,6.034335835234978,2.565766038557491,5.729089969154912,6.4087417609809805,4.338368565843542,5.807976635639275,5.989225489001131,3.899810205608649,4.34565623588455,5.912934954409041,2.514807799712324,4.564589486250214,5.3491382717717775,8.30324112209483,3.973745442592459,5.95393055772112,3.074815597704493,4.497386977604865,7.361251897639226,8.226540308854013,4.7539630727102855,3.6733133123787933,5.177099274460838,4.509699514139919,1.9850415390998348,4.0504786525198595,5.786096689073042,3.8011654137274613,4.233000839846991,3.9566725213399945,6.134880869751214,3.2396291585604953,2.3233710758283124,5.346840397300669,7.219257884887539,4.46672271485587,4.260476161086209,5.780912972627582,4.959746021224513,5.841145983398345,3.024545704372553,4.544003677716616,6.411034431777263,3.793087481972684,5.509591402145826,0.8040875274940023,7.552723404217733,6.441792678332905,5.1872919822939965,3.3261896449495865,5.118695679467742,4.0473615438806165,3.10881974899685,4.65014389218871,7.328677884880262,5.786837987972247,4.306833852343798,2.6737428748973393,5.931634160046745,6.823184450892028,4.717802367153313,4.240643366802017,4.278927941369815,3.1953617057216883,5.135357421196061,4.391973669355981,4.110220552703861,5.453450961170748,3.697216478933157,6.7299569833536435,2.6486527842977887,1.6370247962350462,3.082017119733414,6.696944374003129,5.583087328682217,5.930961504849924,4.451311430365865,4.039074193012001,8.231509967847154,4.344732258856232,3.3865162663122965,3.070596580929258,4.146309974686906,3.902339697974308,4.087279615039714,2.928715150340805,6.07356200697849,4.545811906233686,4.60629551525572,4.845980168469508,3.7812552814401257,3.84799179684548,3.858516975343496,3.928849312162094,6.017414536896627,8.45395871748336,1.4503976431144947,5.556264006623476,9.681830627418181,6.767594904221778,5.648877014860005,6.379049302862237,4.843354017450248,6.363776052387647,3.8234876641854685,4.9376958461891505,6.399632025085122,5.725503450399647,6.086361651613564,4.567269542526696,4.7181433628227625,2.5065473732540604,5.346792591797811,5.929993515814931,3.1105890682052264,3.759723409715801,4.722192739516031,6.001678031069495,3.4045054760958964,7.009643884990799,6.30575951957463,1.8941171701180153,5.678030800445269,5.6651108719908585,5.400418421391283,5.848121417755045,4.847839312659426,7.9502695009048905,7.0150183793498675,5.346555004052369,4.345118087398906,2.2144613177136567,5.263425980439469,3.9709075471405573,6.759194740243265,6.644706165427353,8.291375828466403,6.621669756398409,3.236286797132211,4.264258058110309,3.178001057290044,6.808567071777668,5.2377611980104275,5.116066796757207,4.130737935243691,7.753329916486201,5.592118047571683,2.4642846155209157,4.148237929449422,5.900092043229594,5.691723263085487,4.464554257923079,5.670815927313763,6.471235618447444,4.50624077452368,5.527272855129621,5.606696790230495,2.915685835600189,4.128572617283934,6.3364325316834575,4.601138540121426,2.834109152106453,4.147286180435788,6.483520190793471,2.749337434365898,1.3647252310054458,2.953739006259961,6.115035398413714,4.098332857671778,5.5166461301671665,6.129232373063824,6.133355006836238,6.729767508468571,2.0803920956254727,4.410457746769069,6.219922520418898,7.123544223419392,3.948941638790692,2.9460830140845418,3.2509489313295403,4.865997972424324,6.207689290013573,4.405132947131173,4.292305721756479,4.335583564642954,4.325954998043985,4.922299546934372,5.326189012222228,3.816882277160608,5.64561323866036,5.319603222760957,2.357795812286043,1.909287726031236,5.898610309485272,8.099542017953397,3.3116365220402413,5.799922692102836,6.524862275766564,5.507551163336914,3.3862031678955016,4.178929197023228,6.6019649706660015,6.160738464133,5.946156341456152,3.589657526491428,7.000589692009732,4.458898761888777,5.08477869743352,5.045688125556981,4.00440686479579,4.939315849708103,5.009410030354346,2.5025180987443547,4.443068519464997,4.720396598353363,4.718903741635217,4.824389748825672,6.292836739811904,5.0166443791945365,4.941631897394085,5.703003732131003,4.839047888733604,6.070434405646882,7.181410417470605,3.986428741355769,7.584937097337036,4.28201074198657,3.8450247603586285,7.155589843358536,4.4745702641529945,3.9208840825108053,3.0200046428587903,5.284907767229101,2.367370014041131,4.680456754678877,3.7211384366350826,3.0151053401146086,4.957026988861393,4.121804044175354,3.590030052956724,5.865222332555576,2.9862368965567736,5.209780825433,2.09844992199601,2.881340575083315,4.521492067654531,5.489152564210727,4.8739123288888875,5.389516420950011,5.425351506869792,3.375273723872443,4.663588998018221,4.818736363245674,7.031680249761105,3.4427912325466545,6.586891309063591,6.265119134880109,4.167674512652422,6.234890008573971,2.111377527951681,5.391373778811924,6.9239101538247905,5.585458204987475,4.756189154768723,6.27807090733781,5.674978832361242,5.702097326900859,5.5406844963504165,4.0989693266029334,5.541135442888374,3.692692298687953,3.5514000130282453,6.972674370696351,7.125378580096271,5.50565705782615,4.266090805208181,4.191882523976902,5.38605285163835,3.737525295762956,3.1947873273335405,4.546523973776086,4.536814525907937,4.679857787911415,5.755294554740971,5.790864465519456,3.4921919191144624,6.49654263446313,3.2886547351344646,4.009537747839038,3.1468454697652795,2.965389186607558,6.324509044543544,6.029978739021093,5.448107687947257,4.723847743846639,4.895601720147825,3.8181572583899097,7.423414594706078,3.0850740975749957,5.055623910900107,6.300444304943378,5.378431422296935,2.3758587863747476,5.315700526154365,3.238132279367833,4.141678486710382,4.649836141822028,6.810274894691433,2.4318269970851394,3.6565233698722386,8.634545234889906,5.532924246764301,6.301778970184795,4.792333267603182,5.819032934252435,4.923965290849832,5.723846106065424,5.860778575034505,4.047265880563412,6.2912215996078515,3.561576807277594,3.6748635075165548,6.501467827801369,5.6609325161161586,5.221363611030176,5.470823998003386,7.095006724638156,9.19421819167552,3.5304051745545633,6.846950851707568,3.7575581149557817,2.815935000605373,5.950415560831112,3.325631861114702,6.6567992224804655,4.388457730262125,4.512195383017609,5.8241105955497465,2.9034778218929387,4.509507620811503,6.130073026433836,2.6164356202572634,4.865483569726169,8.823271420292567,7.597236977105098,3.204359731649801,3.0679329233196615,6.456497269459794,6.495310532687685,6.100067831066593,5.271287500100558,6.835844273510148,4.6532485875758365,2.3181190043658857,6.820786695176165,5.943396117949467,5.7937140009767365,5.095829491488799,6.414422128111412,3.256953371068029,6.760359911861164,4.685344438320379,6.851221534784966,6.015927787680924,4.479596946549082,6.182561370310605,3.3588407133225835,4.5804800131518775,2.9627267277946263,5.983279802717013,5.879874796810633,5.641204449134813,5.011030842834887,3.763671113258641,5.805288442679095,5.164871556620282,3.5432676955021636,4.461583629860229,5.386980473142851,7.251505582642827,3.0407601348905424,6.308649042883743,4.178260914257665,6.303201856633375,7.830408333756858,5.612920582426174,4.326347377056928,6.355773607130926,5.769770803163562,5.148750982467616,6.586962241385901,5.06102212731723,5.9712996094414095,3.9210229206651412,5.130294179972369,2.966244058373113,4.168074667960374,5.788219644869955,5.540873352515423,5.8761514412360984,7.727883400177985,3.066044415359442,6.9593506808158985,4.473645257688785,4.860371433676233,4.418341510085728,5.509859304670478,4.370676991104989,4.642768561169911,9.216802986195212,4.764932540172384,3.726297145093572,5.174038844308649,7.195844383365053,2.048623681599169,3.7113698601833853,4.87042086615303,6.339049085334273,4.866000868890277,6.186089975942991,5.860210267874022,6.387968439451276,6.501218937298123,3.728477924746331,4.111085380814164,3.2965868185025995,7.51206234037922,4.304794144620939,2.663381587710098,4.722904770572644,3.6696927711722873,5.728300860509135,4.6855186822892625,1.6608342085852676,7.371770533723098,2.540855970784199,5.4654235767004495,4.811394688406741,1.6166975619448665,5.210199226404546,6.147522508951459,4.635223578433875,6.493000507972358,2.9721612308700287,6.257336247249392,1.4691361797447682,2.0952547083696675,3.3924810188931436,6.317948309479457,3.652428089140537,7.226674645374816,6.4851604196817645,7.481214709367294,7.450217905522695,4.588301798087007,2.9724048236963574,6.794043879786243,5.780024516150117,4.84073966188484,4.843722517044865,6.336840039110053,3.732384870279259,4.606277578332134,6.310904286573469,5.192691400295404,4.954788885378375,3.808295930430982,3.7224618196716266,3.133883096466145,5.0022627054561175,3.765377421625379,3.8274575946637617,6.433820254454762,4.441586165788602,3.4456007599569705,7.260229147316567,7.203473292296898,6.365549371337195,3.3165259430008422,1.2587664771438316,7.076606929917273,5.757033093404361,5.157516083380578,5.0537898860213755,4.5848083460831,4.371502173204562,4.179497596715974,6.837954209459548,6.171752033669246,4.935083821169503,5.803071464819218,4.478420767288804,6.730351142015573,3.9622885070900344,5.610904877536863,5.829437507920317,4.861404281561879,7.786492290089601,4.661880090222709,6.933734075422253,6.777161962268646,2.4407666026421224,5.659536572376737,3.3065305715434445,3.9032667629658215,4.778405275875939,5.620328566173732,4.726263466970704,4.526344601715063,5.519691932556679,3.1341853045951984,4.735638039130454,7.709771445673007,5.990463755710639,4.646710102584842,5.23212656072965,5.609596664139887,6.746856664438628,3.974356638479498,3.3039220831918037,4.856473854529864,3.763265091960329,4.427515395141992,5.719796557448434,3.8499056342122433,6.688267242216457,3.29335171091237,3.733437772954189,8.113736045748144,6.519214339087645,5.222418893031629,4.474140572463666,5.458272622184344,2.7001902923085837,4.856603090505519,7.22547747649358,6.632295327818288,4.709972153664915,4.586537524282156,4.546638421008468,2.5960603031210168,4.526146446385549,5.924995013089819,4.268838522527907,6.815539387700512,5.349100744253853,2.0085564626476424,5.586075263959285,2.6774943795231354,5.0291940846187835,7.784257991231446,4.942932030997588,3.6725471943056354,6.999050620733577,4.162944235548745,3.0721527843195187,4.628263278860003,8.344293594117776,5.769031640704664,6.897171104748352,6.665868208262586,3.985460544372437,2.997845609637828,3.067795975175361,5.724333611336248,4.446236774426625,2.08093859677989,6.457874449809694,5.960733980284248,4.070561607503587,4.018130278691341,5.2387310212082205,4.31049137581793,4.522232292442755,4.6939999575538245,6.622444042460746,4.407015787814455,5.267695382176277,5.024719893796008,4.816809418841366,5.754261055418294,2.809136353053222,5.490616895811427,4.397171176321496,4.670812879996758,4.8167789417599005,5.154873594644784,7.286823183887893,6.410498423648498,3.4138094514272677,5.200863779333215,3.679579608485758,6.477422077137646,5.767249984355035,3.8786537123980547,4.19032660975832,3.73508003275208,3.2443005955309214,2.69353023596713,5.830233953615715,6.402833594947042,5.486207834675088,5.005499822582423,3.152591327674424,3.610521075000239,6.833624885362786,6.5173672487040575,1.5671622254218462,4.977336062280186,5.777584801172498,2.0823382935460493,6.41805233762263,6.803609435864818,5.313458710077907,5.192876140952784,3.7133697527047955,3.9942762407990777,4.967986057304743,3.5082167091396284,3.231406739364745,5.903109867516764,3.695720185359667,4.6763715281483735,5.2122971620383245,6.143493081067347,5.921391214974585,4.026529160488089,5.09774137974427,4.400546704145565,6.493619778797904,2.550518834458487,3.9702777528983377,5.62233390018752,6.033895938135179,2.760648348005036,7.791441181728886,4.253306654529816,3.9639586701894958,3.81132875027382,5.913817390136938,4.647867223224373,5.1005073113146855,4.585977227268749,4.664934026528568,3.480605585632032,6.561910993966236,6.9323411471253,5.837259260280724,3.8068409637775407,5.066849617308818,6.219117833742831,3.1675187872467885,3.200275566648297,3.5871508004187476,1.7847970255980847,2.71867536307753,5.387063127585923,4.928387255621111,2.786808339988945,4.8630235080133835,6.447719585012736,4.069433908186637,3.2214512512760907,7.643496522776304,3.2549238483559395,5.038881604327151,5.450453516711574,5.386887662982455,3.6484335087254722,4.499780054304423,6.182865189529789,5.64112821213708,4.176628255271685,5.869169381913499,1.5496510758398845,4.604422808172824,4.830338151343106,3.328725373863489,3.302990437219595,6.862511915236008,5.421010706740908,4.334192684717201,5.815095809052357,3.9114369420021013,3.945469229218151,4.683267288412476,4.189813367656941,4.972393485710446,4.795091610606384,4.370016844137459,3.086206413150024,4.37293604102887,1.8904536673646195,5.109212830766868,5.084947799606908,7.7875733230499815,3.9859288020426855,6.050233368855738,6.911257698482073,5.4813553308504295,6.090365735547507,6.3093518870724274,5.954449902155027,4.9019150436978975,5.120039644479687,6.5437462863630556,5.773275934865468,2.281858608376518,3.6006462594472,4.315401236031625,3.964135324063885,5.817928804721826,1.9814564117972928,6.053633317159978,5.449474869396727,4.783827846117638],\"type\":\"histogram\",\"xaxis\":\"x2\",\"yaxis\":\"y2\",\"xbins\":{\"end\":10,\"start\":0}},{\"marker\":{\"line\":{\"color\":\"black\",\"width\":1}},\"name\":\"C\",\"nbinsx\":45,\"x\":[1.7809967245864535,2.5003055966085554,1.7495131939231028,1.6163493854895248,2.480076834482417,2.1164285814832082,1.9521043984065167,1.851973065719077,1.5498042927573425,2.0687073047308457,1.5761117923473615,2.0707505289230492,1.9536137309741561,2.2780490939166658,2.002926863978518,1.710553456154679,2.655677822281188,2.510421029905542,1.558780827361832,1.9779581779616937,2.0203040854914334,2.326917003133512,1.968110434070793,2.300700018698068,2.2396850779407034,2.2409570765634017,1.7388264002258815,2.3609385188935086,2.5624111245147367,2.2974905764675055,1.9810844319761711,2.055469076683648,1.6032389958952271,1.648824089157221,1.7339301314935727,2.193458362330391,1.96253050034519,1.9037055015491893,1.7216952808702168,1.7343839535907102,1.756957526927443,2.0236029145149534,2.2037735759373906,2.1091089066990736,2.0745937121568727,1.9218979526051296,2.24428047957867,1.9066796402939017,1.9736438683015014,2.291728235154083,1.8022990908490768,1.7872483804917012,2.018265641619637,1.9600838779162881,1.9908864446325862,1.8365917708358146,2.0660951691422493,1.8870171554350654,1.8340342755836199,1.7390814564489114,2.174459331570098,1.7371644519561902,2.0038818440359574,1.9554342376566254,1.9525020373329682,1.5426626703201802,2.053712060123276,2.1306765702314543,2.1952693736571076,1.5337320760180895,2.278838561843026,1.8782782183105957,2.0181866183122925,2.089483224443801,1.8916584591849412,1.7149475754542995,2.0626416330205766,1.835172517567792,1.9570634544030463,2.0549007385056686,1.9311027641266962,1.878437068620025,2.371168178693216,1.7503976889530553,2.313379863575022,1.7840056786164857,2.5280495277423336,1.8234282498838719,2.124984324536793,1.8681479617155858,2.46739932419369,1.3495035856533755,2.6676255638165003,1.9517436435165019,1.9860664269068986,1.7354730745019915,1.7094918314159793,2.0547235158414203,2.168152741285985,1.6594468870455437,2.131394239489735,2.003601287674332,2.0634569686670323,2.2354577419663846,1.8018487616705985,1.8873708490208438,2.0298692896100365,1.5992234152975993,2.1068856500560256,2.1037935305279625,1.9383380723379606,2.2321935008242306,2.534850862277093,2.08473545570386,2.0095530236024333,2.340716778140193,2.0436937614450836,1.7922387274957168,2.061560771295248,1.6345797586924258,1.806084337059598,2.8017156006312063,2.2613368272510166,1.5616626917389524,2.2936256336438974,2.2977109831802323,1.9545732240008487,1.6434441664893087,2.1508404164530335,2.3060166091829744,1.746627783088611,1.935426216219538,1.907546491133526,1.7520003333863445,1.9658072300158715,1.978731129481495,1.8894625182465414,2.2778024238839274,1.6475136822114822,2.0306869562533576,2.3296453172641627,1.610656380819226,1.7446048124017104,1.9870151466167096,1.7398880182302991,1.7116601652299042,2.247938040926757,2.015494697431087,2.119990888666506,2.287812643882938,2.0986290375580334,2.081233924515843,1.9532262463241814,1.727609390592687,2.2371607588718603,1.6514760266842385,1.9301665294600248,2.3130041699801236,2.326620468775219,2.1395353511838886,2.6084280746766444,1.8540363409606313,2.2688173854798217,1.9621275334026802,2.3787014573263825,2.3159282238063845,1.7595016323331931,1.681560370772028,1.7595529164151085,2.2877986091481364,2.298579389354951,2.2977636954152953,2.169696947412022,1.544570153061196,2.1961421774849477,1.989631275495045,1.7169860689718188,2.0356782722214586,1.5792415705477365,1.9226185388616999,1.6123403574014423,2.3883827305627525,2.0368393463844354,1.575978036118347,2.379208996724163,1.936997635216276,2.236691113171953,2.2965300944393503,2.101071932606468,1.7362463331584186,2.297090607542523,1.6986018505364062,2.073047323576625,1.8804535979019192,2.3271862503464438,2.3324262045187565,1.8138866008357524,2.0491425855219467,2.209169090216706,1.8646805575968703,1.5754646835156993,1.9881728998897898,1.4787145641656432,1.6009279358999864,2.1197946547599353,2.134587628809415,1.8023820714371663,1.6838699633450591,2.0237743723702906,2.326779229786266,2.0518130230104394,2.3362451765737795,1.9580406845378395,1.918714767020874,2.014073973169773,2.0907349722189257,1.906510838951782,1.874410174755818,2.17254076669332,1.9152363548521818,2.255773241632187,2.1281388889185933,1.756725155827538,1.9860701512181484,1.9639772984078592,2.1910891220781163,2.0346446495000903,1.67872184222032,1.845104486391045,2.743019527451262,2.043497754532737,2.4326260141097733,2.4728369811677497,2.099635265398821,1.8856272353426542,2.008491666166501,1.5985419473279707,2.090111260129626,1.6117969811442037,1.714707129275701,2.2997118124658784,1.8802748951977832,2.1213962826208896,1.9594526011912545,2.230028641663841,1.752711481697626,2.2719834049364183,1.908883533107381,1.8866952590740371,2.23120030451089,1.9638795080922606,1.663128340172817,1.6710707022078934,2.2740025518877003,1.8828352194815816,1.7875892312994668,1.8860790545072559,2.666247117648362,2.000491204724821,2.0140601011977957,1.7991605397342205,2.4449810437840775,1.9811732693236321,1.8140322006192235,2.2367259434969826,2.138055908172587,1.8993270387616858,2.003515079033969,1.9041875772275658,2.003825168282015,1.942725243943018,1.734662630151829,2.2637814362606288,2.576492988838127,2.2467821483872474,2.043731725314335,2.147411111483057,1.8730784829220297,1.8977619712119174,1.9028690794496281,1.9927230451137432,1.996292193743923,1.9162029369987699,1.9494150903655072,2.0907096401404104,2.1527728261125234,1.654605845173955,1.782139567882336,2.0197412904663823,1.5720595864126066,1.9409698315653006,2.1978911497309643,2.175569493174343,2.056072704629157,1.77826451510919,2.0864117265326967,2.233719769044177,2.1057879118245935,1.6874391405414748,2.030947138208434,2.1634988046979107,1.9656843066203369,1.770400669637011,2.11974262910338,2.0550208885756365,2.084702090928718,1.7964617092526953,1.811509256481455,1.515832007127357,1.7820401728108946,1.867519185669061,2.219981561996939,2.0313432548221186,1.68747544579213,1.8850089264473777,2.1351945019040883,2.3460303348529346,2.063207567083593,1.865139501984569,1.8492263872928167,1.79479270072922,1.5812818968252482,1.7385769569798772,2.297427428755011,1.5950749109416562,2.1148319283800965,1.77293559076233,1.6773169813728037,2.0217936508610355,1.7217467189922875,1.553063746971369,1.5727785223226607,1.9545611994517842,1.8490243880377304,1.9491783243729877,1.8346383112728608,1.8769551812210674,1.9885295295381678,1.910605004255405,1.7452103327258777,2.164557077881935,1.8370113791077827,1.5764553072814367,2.2948183718321298,1.812661255505586,2.0801705430841686,1.6976654376220786,2.216180583335837,1.898293668578908,2.324914931119268,2.254971102988494,1.7523619947886608,2.404247970938993,1.7322979712467004,1.829372927484117,1.934181064404765,2.135590083178767,2.1471985521199444,1.906798667060266,2.1517031322477367,2.2521133679393732,2.01487118371736,2.1720634155204475,1.6112814748402728,2.336727722288544,2.053102332966668,2.404069346685955,1.8726649188610163,1.5627055062063375,1.5231287361934398,2.2348994038966365,1.9751934797851392,1.696218001946997,1.7703761255229091,2.514246555068096,2.424493307668513,2.3308998570838453,2.5250325091047254,1.9749643753021588,1.8954241197221415,1.5098435240755548,2.167065176484379,1.7233727547214657,1.6530488975835986,2.0711027498992274,1.7205133464895934,1.954795808338995,2.0993992632977445,1.8872985500324084,1.6919191151240454,2.1071260994489314,1.8322388079433698,2.274193602772827,2.0866849567515007,2.085629834365439,2.2507274566480016,2.2270587757878126,2.0211066744598782,2.2008149778738275,1.9728901687195943,1.7423137613807098,1.9204911750640774,2.3393522199923704,2.1278594347651225,2.2713066921826313,2.1057042158083075,2.236811519960087,1.814244980921841,1.3309790815708011,1.672282269132717,1.9245303133337277,2.3313749507756776,1.6787052063225567,1.7489701891905516,2.0938380478428864,2.166305747024515,2.1002644775024724,1.8531730237246622,2.0229601835102624,1.8059826958173013,1.928283472622169,1.9547763581886852,2.4688036184415947,2.18503043257148,1.6941420768676236,2.248828464586062,1.8921083529119505,1.7002624597598748,2.210143877395011,1.8528759764620872,1.9384880483955524,2.0566041133722366,1.9397679373804517,1.7599031094260114,2.033993247757191,2.0476654634885927,1.9383419167009859,2.222439901819351,2.139629953613824,2.0989350390566694,2.6688458407524736,2.2710002957508415,2.310979427283917,1.9094629228712174,2.0788775824453913,2.2354120919322313,1.6114111316406785,2.1091046810020657,2.1539878374582613,2.0462767920150733,1.9581420283393876,2.250934653204744,1.5139077294598622,1.855949143918902,1.8564795009175796,2.079136697400254,2.3885577736134485,2.536002049033172,2.1403494698829486,2.1992724117416986,2.2371500057987777,1.895169100867269,1.8900455514131471,1.650732212536148,1.949972404806121,1.6355513129131996,2.0433221735226823,2.1688403901649105,2.0832683827699374,2.429600666943977,1.8714707338435186,2.0480132100321526,2.1245507812928706,2.1397121462009183,2.32067878901064,2.00807310608054,1.780477015955705,2.0334092748537813,2.0741975640541526,2.121179152757923,1.688417635784495,1.6249664284551317,2.092277556253181,2.3222195954721725,1.913934952764263,2.266779409141042,2.3993113804441486,2.0692676899409608,2.2843107897342723,2.4379345507360006,2.010621646079422,1.7292816265923228,2.0888572869236044,2.0757757745815777,1.8747727553142375,2.1223744868262555,1.8144447668104173,1.9907949152662332,2.174263536008798,2.0451718947709634,1.8877594650073464,2.2970384084021074,2.101298787004266,2.1627728415153844,1.9648251088272413,1.8162740754776534,1.5078079155604964,2.1259139737652024,2.0625505323301563,2.1706814059257535,2.508660958021098,2.2755264179898145,2.0863013966829014,2.1596085217145045,1.9654786356618978,2.138949937626224,1.8184972211427073,1.804238262405129,1.7884498870679804,1.9942948211357097,2.0590261723131724,2.010598551792192,2.1986316872793092,1.978418282043931,2.155902994130972,2.3056042004991357,2.359481095400966,1.625164180249155,1.739159279427163,1.7283628082726397,1.9578895997902785,2.100500171414741,2.159708484841205,1.6177278030333935,1.6852456678287955,1.9342934350435632,1.5914923632387767,2.5827051909938015,1.762927262279286,2.2432893135392975,1.8960712952145697,2.0457067590459266,2.545168528058322,2.024234713394957,1.9043939969819303,1.916472101186626,2.0320559673050016,1.534881641443308,1.8410957022447723,1.771541511623743,1.7993730443133187,1.9911704298478938,1.879229285683572,1.945271545416086,1.737726286989108,2.4831212448020596,1.9280896564506995,1.9056869913735957,2.0430452447076424,2.225415921341446,1.8683205378811927,1.9819145418135056,1.9386883274566125,2.1470199156477183,1.9339979480782263,2.279198919863448,2.061374449259715,1.9464733391330722,2.298427758746008,1.7359387044534431,1.818893038516793,1.8864425634151845,2.0757962545337088,2.259546611042152,1.9435415598191275,2.1439612560434997,1.8276591982367445,2.1924302253852646,2.1079835289096125,2.6583694384150345,1.2239374772015112,1.53824552689547,1.7289135798503437,2.0644698790982488,2.2389553961470705,1.9831349860084728,1.654474028541774,2.026767601106611,1.887972050722584,2.052325263563302,1.8418451389898718,1.5782940951125033,2.0617182022990743,1.7116668190375472,1.7642685950995038,1.4438234253558888,1.8777150035044479,1.5598751064727066,2.067458014286632,1.873315820833923,1.8426975572920266,2.1422462078666946,2.1758219544833195,1.871261003980855,1.9617693392772162,2.039972856280613,1.9555431881924452,1.34289806013069,2.2839234374450443,2.102172432630232,1.7624419316775919,2.1847542019442487,1.6963636609491448,2.0075286999544497,2.0070187258403496,2.1663276632825004,2.0856757053273145,2.3079806516553476,1.755494725029619,1.7871417833683023,2.2785892067706692,1.8238439966823081,2.2795075615378364,2.2318027559116786,2.4998892345315555,2.151660530797113,1.9073372872152798,1.9043228562825434,2.2274930356126657,2.0747021918293282,1.676513987449787,2.3884910166369697,2.1674439221769517,1.8818342323091617,2.082668287381623,1.9452098752129967,2.092111549007404,1.862591433349006,2.2121430741925927,2.166985629801596,2.2425239207463292,1.9856974065898085,2.020400491902266,2.064615727364651,1.7839302274352442,1.5120357945284546,1.532388234916125,2.190089799063482,1.8012342021602674,2.3263734342768205,1.711050997063578,2.1205522537638624,2.250443736999009,1.9752439280991174,1.6610958089276349,1.8611482586260095,2.0355113694282716,2.224100028008749,2.0261120305131675,1.9159452623087108,1.7686632317170121,2.0989899643226857,1.7400665981655699,2.010240382611759,1.8322032504038586,1.8227445460274783,2.089485388864828,2.1177911512906182,2.042920195670481,2.285152009969088,1.7394851854216569,2.321842813804844,2.089818835024075,1.67392240301418,1.9795174275605716,2.0345463904271153,1.7664009647306034,2.5021288704807505,2.033843902419225,2.1905589455870658,2.3077374931949914,1.8646861224741689,1.78246510501454,2.002841960676821,2.139706060475335,1.830751124732755,1.6821174571491126,1.696557259536604,2.1555213500778185,2.20690818167752,2.0589413912425694,2.370375178995895,2.1699480764737182,1.8752659167226686,1.6215521382222675,1.9486349740850997,1.8729157182118013,1.9111822621512033,2.3139283600266807,2.0038979918307827,1.99636828654868,2.471886961418049,1.6657948489115235,2.0900407328212194,2.229796357259976,1.9258687962312213,2.0484401403504866,2.211278216994138,1.9624300590402588,1.7611524049492615,1.8595536998485036,2.429318950872132,1.8848304835136238,2.324519062874082,2.2505976108123003,2.071237699279534,1.890061921283566,1.9909802261358391,2.1653996147225536,1.8537281758365092,2.622023598928672,1.970382369629531,2.3863522115727247,2.20781823220232,1.7709999934704408,1.565915381285511,2.2829561235828004,2.3647444673537006,2.1275332065056385,2.1511307926276997,1.9331573796728332,1.743710598561179,2.0140643472794233,2.0285869922671127,2.187106067159891,2.1046768842412225,1.8569329856211545,2.0769938931819807,1.6871727144030766,1.8792789086115615,1.8574911770771694,2.332105178350165,2.138030731855995,1.8985018877746078,2.3370149697771043,1.829384159313692,1.7109812565149232,2.472316054083041,1.9262399529235485,2.271558076045446,7.748270757031968,8.261433312572407,7.892619968967124,8.266586801140493,7.950201391206081,7.545143351992175,8.371876999370361,7.695928642259082,7.522272510892583,8.137551047696936,7.612378684237457,7.901959823868424,7.930117882777943,7.6242907501402915,8.426448295172602,8.131825286614673,7.813466642912396,8.01450335714498,7.7739593287849535,8.363706091137244,8.192190382994164,7.93733036432774,7.817979123238623,7.2635977446028175,7.726559668463256,7.873228123511637,7.979741007940838,8.110353509557713,8.140439585989355,7.532057347689098,7.421946906826974,7.579472120855344,8.120025776461263,7.954724071289993,7.27254059165966,8.2483752017046,8.169054098026045,7.8645294367939105,7.901688257288624,8.37934771676037,8.841016955168518,8.53763070698912,8.010961357640838,8.457762331267567,8.417257965761047,7.936653245551198,7.122965875033625,8.987078195296377,7.39694811502101,8.039870356634305,8.11984448745755,7.628337698344668,8.108750783004435,8.421892701772116,8.632829887225578,7.98624765873127,8.072729261521754,8.476648199132635,7.712340456881484,7.946759252987984,8.118171706943878,7.991502069668396,7.966019497730748,7.940973800417636,7.779565480040545,7.820703852780096,8.16028498247495,8.700868275210265,7.863442553575224,7.434430449643392,8.444561569105973,7.327838943939381,7.2406289046891725,7.914271750335572,7.309468289868835,8.298013088739625,7.993746451142549,7.518248448323954,7.472583501618966,8.058705145176631,8.555472577070239,8.752663283643285,8.642410411963239,8.282893373185193,8.177165380124679,7.855086136453214,8.86296688873736,8.295944912222438,8.12292379356738,8.21344489465865,7.567681002876618,8.158694316536865,8.376806224835134,8.044074356104167,8.090718357812701,8.53469827316834,7.64791850167628,7.999435210379362,8.579071250003564,7.089299082980488,8.375719912970844,7.8716599459669725,7.672854301752876,7.280305791954167,7.39445080945514,8.21510643508382,8.854419651616272,7.643732024057414,7.474707500719502,8.25987654209371,8.144069864771973,8.412670603162749,7.805920850341607,7.952578903771137,7.746039298831013,8.184875662227222,7.338546950566835,7.481856108330284,7.460035265355452,8.365002787249868,7.9494788048861675,7.436175404865246,7.633017781377768,9.375124483368916,8.101421493363361,7.434870125304715,8.394057531413095,7.8426596180431964,7.765654174820533,8.061243232244479,7.461670231607532,8.108824296593372,8.475484640125101,7.7998618758056075,7.564218694345203,7.965658466930692,8.238651904556365,7.824920534035105,7.982793091371647,7.887797016405492,8.56306452062997,7.817222129343304,7.185598273501079,8.372088569358517,7.744773627614929,8.778081067347621,7.611170877354126,8.589583069284283,7.75268819520334,7.384494901148159,8.043044533208421,7.294140673098706,8.15622606227463,7.990226321746142,7.858264801150858,7.228469074643458,7.662076496834289,7.7215744001118765,8.724876618590562,8.231490899589636,7.909417913721877,7.817321624783362,7.2235389231162195,7.203538363559629,8.005491138998003,8.056035931464999,7.606737617680718,8.719428596440869,8.541146074824315,7.616826330363023,9.039417034096779,7.101713841839588,7.870574468404597,9.017594624047364,8.694728842319936,7.792877964686407,8.699786742842413,8.074963362942242,7.087641329386742,8.593745203770395,7.776285716640804,8.16298238240954,8.587543880951364,8.42237785607392,7.7294606325458535,7.812845890931877,8.514148789175842,8.695817438971574,7.636407534055325,9.008279371394169,8.968846833422822,8.284746608642365,8.083950285984287,8.55860434762805,8.239518082312111,8.481619083911763,8.139916650407581,8.11402624512071,8.343672227850934,8.168675841189845,8.110210581646882,8.448226654518281,8.166231237874825,8.085238095300394,8.667649384084092,8.18279755105616,6.789480066281494,8.910294531896586,7.927041174708843,7.409612574173998,7.358741082807451,7.951803789898745,8.599384808302517,7.065922273984443,8.530700028128571,8.56614715466413,7.820011445426425,8.528882241910985,8.348417384427561,8.173883705999605,8.637023531169614,7.765819239924694,7.328212926414491,7.486427692236489,8.751853437118395,7.554682236635983,7.551538635085501,8.154951125647143,7.172186397975443,7.384447391456974,9.098558846069752,7.527921542139877,8.03997468203058,7.890075702432482,8.948188426226078,8.605325744373541,7.904171305800726,7.99422740585407,7.618518150414344,8.224445427680523,7.864649584065888,8.22548192169124,8.17176320762652,7.917473418909725,7.517339039507354,7.444782103403317,8.114805750181493,7.713601132688978,7.96444785310628,7.652593511534953,7.529153387452015,8.413444208190155,7.057124633705653,9.314263151295673,8.743208690480643,8.45313090880104,7.91614219882306,7.882812963090285,7.716540079538184,7.957178819988876,8.189182753263102,7.529644721137509,7.805901406974364,7.791819523426448,7.724320562661081,8.970434205102164,7.855941394983172,7.214656180480973,7.926584354816119,7.793240586712327,7.408956485074505,8.540864378733216,7.029120082858675,8.569234222154511,7.399905207346769,7.276664797659364,8.240162479115977,8.057616765010415,7.33110577871412,7.562362748988707,8.417243260635086,7.186350914279959,7.764428373887914,7.69588978552088,7.95666660920386,8.152078104558207,7.366824600018704,8.347894713216379,7.967534844739348,8.069456110395686,7.886293207465992,8.460113573040964,7.766215481552903,7.617719618005027,8.277464311116134,8.001243250004881,8.26136203487261,7.408002063617676,8.614397005638395,8.161967024047344,7.888892421429594,8.447533004039007,8.235548936350922,7.364787138129391,7.968014744944233,7.882223473845505,8.2820022886361,7.755069737121247,8.719546922135613,9.42838207755851,8.400802397661481,8.748229182127037,7.367311261894115,7.70325703991488,8.759871809530154,7.197164967306828,8.053428914299895,7.185436933633456,8.646322227029822,8.088904769071691,8.739825738207598,9.13896054594727,8.21055302239382,8.104481865128166,7.942239757670054,7.628184673720226,7.3183855311818276,7.435246639115764,7.778245124403522,7.803380449895309,7.881919244595997,7.96816030251464,8.041663337042012,7.284536955004087,8.093367494973284,7.0406147040018014,8.101551722366555,8.283455749706075,7.65921953729697,7.666203539580379,7.966054311656042,8.846483462172479,8.118467467284189,8.528252199280992,8.403425909360715,8.37191815289879,8.514026034686568,9.571358235409532,8.556825975042926,7.802045637524274,7.796212412405304,7.598089878564978,7.9230992599122265,7.084731603226617,7.119142467514954,7.165674476412026,8.205247163832855,7.814503049387743,7.8470859764375165,8.548764108671,8.774235363372547,8.257780971674226,8.008568789442071,7.689177043349378,8.510730606768767,8.562095074143276,8.950023068470092,7.713882136447923,7.557285730946452,7.383691261651086,7.628954071846536,7.921394639701959,8.060410984837326,7.142716990630417,8.274567616748342,8.702150026224963,7.9205351288039445,8.656620864142836,7.69060948262826,9.30334213818545,8.444865233234758,8.16756040820781,8.769862353373943,8.739105792780794,8.100788950185553,7.511828412744802,7.985396286316626,7.8308559525902055,8.4692336533763,8.511059061704959,7.603533865186872,8.192602528403812,8.275558766787718,8.018159060080146,8.080140235972864,8.294196433352493,8.351948988073826,7.4841554288377115,8.283904292094617,8.735310546628297,7.420197917076667,7.437483525106384,7.877469207308967,8.024712750464117,8.261233011011772,8.287498239179941,7.806264970954256,8.76355255421251,7.059764660548278,8.369040714866342,8.020918400202943,7.410369873954803,8.891537749991507,8.347101685901942,8.286370074834872,7.99855142303473,9.200437871559483,6.982427532361736,7.779288463552216,7.934756821128152,8.089119607455288,7.664293599396198,7.672421770238951,8.09987975121156,7.557329047579571,7.827083307304355,7.690433044605964,7.974245466617405,7.7311116941721,7.970181630828222,7.890841725708535,7.102078531313862,7.405698509737236,7.95546685583998,8.266854769280616,6.997397264566981,7.796110053563504,7.991789159970343,8.817077155975944,7.9753064411646175,8.033430533110552,7.81704390101642,8.196475794987824,8.065912638237405,7.74577174307139,7.3778442980301415,7.834750460311606,8.385023851756,7.728327301912087,7.609394807318566,8.095231618686077,6.195700637722717,7.896441896783049,8.048039911259576,7.441473096754665,8.212734460016462,8.023459915601121,8.501533262967833,7.406229684818331,8.328054301098105,8.564624939292178,8.681175366096934,7.634698981972726,9.359014524799369,8.41623713929097,8.179120253602278,7.84492566810662,6.719850067321326,8.399298444824568,8.053853561462246,8.565653116427889,8.332442483944332,8.290778488307954,8.042107765011233,7.46325616731977,6.54254185423082,7.246851882977303,8.115492575943666,7.4538345110401405,7.6956598318582925,7.732718348891574,7.734794836940586,8.653613500260459,8.475035440792041,7.725460315709026,7.324890896574542,7.580491125150047,8.201397392938958,7.707160486829411,7.612984420165087,7.4108609771751155,7.650008482480162,8.678289123779916,7.971837503826367,7.846092692185573,8.538657958041716,7.895381955618574,7.523894821877997,9.035221473632257,7.996726408588243,7.484625026065084,8.762893758784992,9.674651623620663,8.308753249413297,8.253922129810565,7.874990075169283,7.498110246146282,8.169218846370201,8.678645332762384,8.148421841717854,7.635984482523532,8.20842093323845,7.304307451492811,8.148876863570663,7.699668260467932,8.30378688896409,7.214164452214286,7.890103443725427,7.646553071308725,8.411055286960831,7.923451551047451,8.396532001002841,7.751526115237265,8.274518727005786,7.858463357255758,7.815466209521713,7.101277593686731,8.48068431589921,7.526085458406469,7.6009110445948505,7.456175193855961,8.573803169554687,8.899788439450681,7.96495664125537,6.769567764919081,8.545942200918192,8.181464714164893,8.05701046475785,7.818445778911426,8.300481376027728,8.504775082744752,6.8093270494447555,7.648974074375362,8.114043425565363,8.673803868841413,8.060933658014216,7.771068967609049,6.901919263921291,7.6535682053607985,8.145554585386964,7.876957672161916,8.680334215435257,7.6298752427822,7.509123085052867,8.472811185670523,8.45715934953165,7.917978247842182,8.236704846391829,7.899484075946593,7.971561296161361,7.513200665323721,7.730977566353379,7.762629990522246,7.509584858361373,6.731158600302488,7.447601113514684,8.213283666294853,8.201738859688097,7.808638294483406,7.816711827953227,7.153595486132682,7.607906787438077,8.32157514717003,8.802926951320169,8.03445817889107,8.732957778510244,7.793437460109051,8.134577795881281,8.010832104641173,8.724661386279191,9.004734018298823,7.494870613471854,8.495460248560274,8.277396224764498,8.18810073106422,8.285735203147022,7.357394138274648,7.830875235449159,7.55339849035688,8.244151421749917,7.449444652872735,7.837823888003953,8.258440207622451,8.182167195791042,8.49728890737621,8.594656709995329,8.233870776778724,7.514331256839868,8.171885261077525,6.888032488955314,8.113971625043794,7.843990772630638,7.855018419131017,7.43310328374432,7.267157508751015,8.339392024126878,7.474095008612013,8.36755965997427,8.435039106647052,8.173130642349655,7.282437947229826,7.735403254351165,7.844280127380181,7.9438293449248185,7.087706721855811,8.654135076903014,8.141309356374448,7.096507487317708,8.73176719402737,7.156378331094714,8.014047140810641,7.063181320596832,7.4249275984399565,8.451198550556974,7.279434344321652,8.336515912628924,6.860300005291883,7.45000463389434,7.9032364197394225,6.993443306421017,7.312478425882425,8.148812322723161,8.095374176867026,8.192778917765914,7.860488389780801,8.674529565153636,8.451943256913202,7.667815960950542,8.315133004570846,8.05602894941373,7.525823370175023,7.304872423147154,8.127430362988752,8.411189352072384,8.254436595765458,8.586906639860693,8.552606365642726,7.841067633139443,8.076649406499826,8.471914672596437,8.571764833780895,8.079070440694801,7.555700124228547,6.620260923882978,8.120297437264306,7.7818336235127505,7.1709937262058565,7.479462185649872,8.392584425625328,8.02537073661078,8.017100248540197,8.15243991038685,8.274162723105427,7.9542330324661785,7.9824689134414735,8.147012300262245,7.778446464513644,7.6223117369907305,7.7021767764055475,8.657190539678972,8.745092717684308,7.816608884704268,8.811222197707313,8.084424253618653,8.026722327581869,8.071464900758164,8.21205368082821,7.969708880927014,7.053100037831426,8.739528756805358,8.513330665530617,7.945968745189552,7.9158032627134665,7.508746788262634,7.334807564019032,8.130479498675195,8.211428954405644,7.200527546599706,7.351730006115237,7.9358279992778975,7.446835863250608,7.736742676655233,8.03671263836944,8.746578470449428,8.266938526636979,8.608654661345946,8.512662312813033,8.153730441459809,8.274025534189605,7.159099066272942,7.472599070465162,8.13825229700071,7.483487425833324,8.31168411605449,7.757960413686737,7.777916047381322,8.594402639403691,8.079432688564216,8.70850975217159,8.07418339126786,8.538628341567165,8.924635635396452,7.922874407045834,6.957209046787908,8.053449444819469,7.5296074807664315,6.980709551918305,7.7869599608793765,8.486700450363804,8.178765506882883,9.285859975480534,8.120139443744817,7.567612471228172,8.272109961504837,7.691720323329351,8.174051097475402,7.091031994226852,7.792809205472521,7.4246511199111636,8.088103751892485,7.643431263754369,8.546574551086742,8.84754673730122,7.710286771685647,7.7844863509786935,8.701845801275637,8.185779864506118,8.286878223026065,8.250593495551879,8.036558168179173,7.5455833167387505,8.144769981376554,7.6046713969668085,7.625065075602118,8.77773547802394,8.242034096477383,7.5761415674653145,8.537586011428578,7.773850024095033,8.541111134996923],\"type\":\"histogram\",\"xaxis\":\"x3\",\"yaxis\":\"y3\",\"xbins\":{\"end\":10,\"start\":0}},{\"marker\":{\"line\":{\"color\":\"black\",\"width\":1}},\"name\":\"D\",\"nbinsx\":15,\"x\":[5.767455734002676,5.88297996356624,5.766994098816883,5.662479713650065,5.312240424246728,6.137147755197476,6.380020500122155,5.1352382879841665,6.648218631703877,6.292993489259544,6.035368812029953,5.8040244872782525,5.878901958128833,6.015075046447072,5.46624549491111,6.550542393532502,6.609484431994013,5.74434988728582,5.781222269585377,6.2320906454363785,5.95656460241673,6.141482786666724,6.560659455501787,5.086644118578088,6.115567302698908,5.626301576110151,6.523409080078792,5.916593685381408,4.759283561368746,5.401967720162928,5.731511500445118,5.65549226979524,6.249174245819734,5.581409196283995,5.759526269320389,6.590877700357687,5.662865135845921,6.479504435463854,5.849260257785926,6.085621948904184,6.832147745691184,5.558655771330522,5.69703401508597,5.669656075185756,4.907874450183847,6.0186403886700965,5.510804127019442,6.865251501784521,6.218632580149358,6.227832682216748,6.905788038022488,6.497790892463149,5.985324968639119,5.515709365764119,5.722108056833479,5.078128597368301,5.314879320523664,6.018551854861467,5.736275271635762,5.9194914217029995,5.3847613902107065,6.409435424340286,6.420712398628519,6.064384116602912,6.0883229491067095,5.939280255454476,5.272842957776438,5.467700864522381,6.435570929887508,6.291889381015753,5.388971584457191,6.1050537071634015,6.483587321802812,6.113761822709307,5.899488486101737,5.543045826032816,6.2885587422973845,6.027317728707498,6.360860556439484,5.541369214964736,5.639689054197432,6.496685693617642,5.7879787816740365,5.575628946784646,6.515305971456026,6.6672007317459405,6.211080612967485,6.298032291893372,6.033186815585548,6.029443368012276,6.1804580658983985,4.988434206355462,6.020952103345484,5.6844626417998745,6.013433663287547,6.488160391553937,5.745924331800344,6.052091484650992,6.4413041095836014,6.269168559720365,5.916480959906482,5.601873131755545,5.502808817274001,5.86129070122828,6.404385427892271,5.4699900628444045,6.515294931687976,5.970408709990701,6.858990735098496,6.469109929142499,6.010200967241949,5.846529387619676,5.9149827348641,5.446568404082993,5.126029552783342,6.220692999317528,5.956567692780535,6.285119079792404,6.196402926630054,5.3461116337908905,5.617469652166704,6.1779836354598086,6.128885031942237,5.78986163314408,6.215335707926549,5.261598766536026,5.713569774487792,7.30895007720239,5.551211243773334,5.714720149276928,5.3472002795966285,6.0118006458242075,6.431753872205718,6.938656900394523,5.7752295951579145,6.331773661646818,6.269639625575417,6.926480405038341,5.981475527772624,5.4427167312311635,6.666615872122385,5.893985744864305,6.4423438340639985,5.8062141724302,5.818135641110516,5.689373716740463,5.505097473971903,4.644842263963079,5.755672710741308,6.067624768242064,5.995781887737108,5.95193824427827,6.173700806972664,6.792923552419523,6.7129164456239545,5.80501336254262,5.891936890148989,5.911354731435584,5.634884396521806,5.6415512113791335,5.470845027297068,6.425930854489419,6.584655993559726,6.14289011269571,6.191038799598374,6.942120825795809,5.418091789424649,6.33662275718121,5.942818589650592,6.024921269144338,5.790044886750493,5.442426762359436,5.4392657889919676,5.071058877636872,5.578487521486434,7.057892479393191,5.898476787404375,5.946866638249443,5.63772284573885,5.62745120471931,6.110159916516604,5.99468339375505,6.273379900453401,5.568958752080071,5.826254427508738,5.940430376133182,5.76959022349827,6.24926668959773,6.601882326622727,5.615095027422683,7.236008900539777,5.686815244984835,5.721438031695549,6.743471037702644,5.839079051376486,5.36305156206498,5.708840078769472,5.5974331006468185,6.351811979908661,6.0207876954891475,5.607226383276453,5.85637318987205,6.036088312727891,5.823718070895938,6.5223143737260365,5.682430931747366,6.124019584040615,6.048077580931882,5.768071642345761,5.881179572264112,5.807018001138652,5.57389635019833,6.259231476160465,6.3811215825560215,5.682263242554879,5.857686366995044,5.548649389917838,6.535431594884532,6.431177129450546,5.3366209785255165,6.028519911217022,5.951192008148148,6.304295654677822,6.07958562788628,5.838527665909068,6.049775825628525,6.269510704904387,5.506692760861371,6.972364551068112,6.524739381809886,5.4397012227055646,6.341020930556405,6.092768248169301,5.581549378950921,5.7801877868163425,7.089633856504902,5.4345949671533,5.788256091289939,6.194396258146385,5.868963611234318,5.6177079861354,6.490734827132012,5.331374994802849,6.016558539868665,5.597212333991504,5.513374203067433,5.413707319334119,5.4636663792368685,5.5857562856854726,6.486716446523218,6.598963408665229,6.7641286838431425,5.323175725405724,5.986901160680091,6.102071399320803,6.228689206369579,6.064565591477904,5.624993707458086,6.048187595123622,5.467825498276238,6.559626852310011,5.221533012205031,6.216648171684996,5.398472872112843,5.06374690328305,5.6005907707842395,4.7273542259880355,5.058626167737209,5.634772897157175,6.564864742173559,5.062032506800109,5.6434682860830785,6.697301783630772,7.2541802200994665,6.045442860755138,5.983820298837604,5.94283412488054,6.1272992115305716,6.377750111990324,6.056518369949647,6.547771431069599,6.398028733546698,6.8884954978290605,6.623779853751278,5.754194106608512,6.2580271021175005,6.4030656616819295,5.952534050064372,4.932026113596679,5.173075742268297,5.423163083088106,5.286800044957044,5.2672286207348495,6.725089098168486,6.098225756162831,5.201291655297207,5.6616327493819085,5.516422709887327,6.970491451139751,5.585536296925547,6.040302263301947,6.610116429123172,5.720901800857634,6.986129498689347,6.096377435870802,5.7443842355608545,6.8247590866050905,6.000277792817711,6.081792939014916,6.911317529899479,6.217441206687921,6.609559222564387,6.035111047346005,6.472316667849785,5.658337833190786,5.780591449878781,6.704530505218676,5.847830667108599,6.04497720343715,6.338137717113317,5.952707976885774,5.8417306115144045,5.824223156755624,6.423123457814396,5.62754036152167,5.498064690267675,4.624375967231415,7.185014126221218,5.803045971270927,5.65683020149751,5.749578881813581,5.775526764355557,6.5858650240163605,6.40932282980132,6.571537051228241,5.473079350458953,5.291928618240228,6.740726936308452,6.238039742729097,5.883803827117954,5.672494537323364,5.730447434393815,5.251879503427421,5.113034670261158,6.035081681070889,5.790426434126128,6.04874727171983,5.614420318041867,5.544775933746086,5.942165094444695,6.28045721420186,6.591112953040409,6.242069457386188,5.865560717086517,5.7413032068484995,5.757520288417514,6.595352864930089,5.718571739333856,5.444110209514409,7.582627138266364,5.89586998398591,5.0449991569323,5.434470048669794,6.171563459330262,6.23159768186824,6.88480727654468,6.517987778508497,6.237436569313318,6.1186288437821155,6.074332223502835,5.376904753528578,5.708806972062339,5.848475848269989,6.232395389927423,6.477549754939306,6.255500388290569,5.558961229938086,6.623845851651228,6.258335460205893,6.04106395942704,5.987027589869835,5.727836058763174,5.997760691791775,6.08467681716642,5.904218593375415,6.359107553244908,6.3694961827195025,5.1862447014866975,5.233797493193483,4.881561706690107,5.351240863311217,6.293060607365299,5.878819563129595,5.921223863905035,6.353694107291699,5.796322225305328,5.578159044716268,5.842036291938761,6.164969374077167,6.184216356619075,5.857760370276005,5.362289581235336,7.13308390361146,6.226336241236892,5.460741519792039,5.413695371232287,5.870784825832177,5.753235237564494,6.83312843436231,5.809669523730399,6.657882400920701,5.608512359274842,5.979946784947679,5.570851975643853,5.471505189385143,6.248009483977845,6.920219981571832,5.49716308056225,5.3107415834778005,5.86466641088395,6.37376115181372,6.122369474539136,6.062822209946894,5.951590394333129,6.545524936074492,6.3913969676017235,6.645376344613032,5.4391342667938485,5.584210218016639,6.025686155140987,6.131195138634454,5.943958825478775,5.650921962130289,6.405081254034688,6.427443325841337,6.7375944635429805,6.07797838268069,6.175334224146282,5.5467792713089334,5.525389866932732,5.737598050488524,6.2607661618719375,6.010205233307609,5.610333397975056,6.0581889475477455,5.7129744758160514,5.239005737625426,6.613542161770907,5.848531074554878,6.846051900213368,6.037031393948565,5.604149389918802,5.95476447795749,6.43066141997271,6.217733061232062,5.919624571070017,5.230914682018726,5.7681920576609045,5.991257992811816,6.1775002099855945,6.63085657955281,5.532266247974482,5.750553475951486,6.640198043735976,6.420560745139676,5.939210768245639,5.498550168970964,6.0281899291929655,6.16534879661575,5.363773180033969,6.339336851489823,5.376319908416492,6.072664703507428,6.344095932701616,5.135718924872277,6.604916725843465,5.374130217617638,5.363448043610348,6.395243181960753,6.487725797615237,5.859356797474335,6.6847737870741994,6.183699872907025,6.6958863751962285,4.736577460970478,5.6413150294990855,7.074923771189569,5.067577664199124,5.517485428354153,6.251389046328885,6.333820557340079,6.304582398566517,6.212465130155311,5.793464825716455,5.401391823969835,6.397319942854747,5.0884523174131076,5.391009947931016,6.099798117156218,6.105861723104867,6.186637244691373,6.697659441496755,6.230924462260647,7.204318787134945,5.4556096559180585,6.4002673335214855,6.788090923262275,6.1714139960734045,6.580880843074894,6.2609672366781695,5.457700456781279,5.680098446254462,4.977673530700807,5.6174298393258,6.23085862256194,6.462631936996937,5.658550420373753,6.614907870052253,7.0094965828311775,5.449159754568233,6.008983616158084,6.420769984344522,6.477515261529923,4.8394384961501205,5.668014746032599,6.420152598006481,5.592329385909319,5.887974529641811,6.566909074958854,6.188053136899145,6.344945666502215,5.885259813006582,5.288159593090526,5.82835746669968,6.051961626467278,6.2526166794230535,5.005152685968026,5.885440864671145,6.451488882679935,5.5535154559567905,5.69363759614305,6.262055998813412,4.794874449869125,6.440674893415672,6.2669519347694855,5.783849056551687,5.492430700175329,5.461069526733651,5.084335543393866,5.52589964102549,6.037043504495634,6.14714884787057,4.857994855331778,6.372682806469489,6.237501824886317,6.736137097887346,5.958709808819763,6.823954022137411,5.660949014876846,6.540312225584709,6.45398769226546,5.916408349572694,6.182269694519336,6.457430887444,6.239953328390307,6.9861831147642555,6.075490308172487,6.223258434009599,5.97614898960273,5.407441508163365,6.139006452025946,5.324106658703218,6.205062762212419,5.3531967479856615,5.633671988204585,6.066583497432784,5.9843730941914535,6.781064835502248,6.059770940927928,6.236084897498566,5.699945549543598,6.40659626851075,5.912435715139412,5.843597658140876,6.158395154377343,6.1556263552933705,5.6790814450795875,5.952040795044106,6.049667799506471,6.078091606695705,6.52114791861104,5.914311954927792,5.848012026602999,6.154002209890719,6.300390731643205,6.621210812531737,6.02589934351692,7.3759477290968825,6.606838055380255,6.167923218483031,5.854867584111685,5.4976143444730585,6.031639957569045,5.215837741808512,6.095038532005049,6.684749400561178,5.70009958533295,5.461270393885601,5.5749212587210035,5.694883790583472,6.047419872238064,6.191741374201009,6.989509303214697,5.872646898692917,6.070654922816995,6.068181691779514,6.335177197605672,6.774748497732718,5.563227265376726,6.046528525104048,6.001589854894076,5.3463538877624,6.0424530076395735,5.423178403333461,6.727491953996807,6.751941152828942,5.454540931456269,6.249691574889084,6.907196080191258,6.774463844239401,5.678667706905863,6.132552947878897,5.661594329855112,6.251189544276921,6.292283967449354,6.884712358385931,6.30343771463609,6.83485681725718,6.456703942877739,6.28184890089619,6.31050113813785,6.318217111653498,5.735817003898696,6.359162348994973,5.5448708347588145,6.284704235071563,5.190945578897916,6.901882427213875,5.036801041087856,6.025204863191213,6.314996453726893,5.497678513752795,6.499325296622658,6.242111882459359,6.107334669642494,5.465025105494282,6.219855936583455,6.449063090320239,5.997435852269152,5.218951772842173,5.636499006731043,6.15042829801162,6.7563883846595285,6.581911576019938,5.934004280641033,5.482983947913579,6.325329523760052,6.282908810541192,6.597113792688851,6.63861856974702,5.69528737090632,5.728637798606979,5.693876316162538,5.4413405949244575,5.7976415110774795,5.856118051921718,6.645857853303405,6.261657108322174,5.456479547118875,6.167045162003157,5.831806089702828,6.353497577234217,6.629496432904157,5.662999183948079,7.033471021413691,6.582494169813225,5.685753383562276,5.570593073914167,5.462657433385821,5.433037681439765,5.731117870908608,6.2322736332305135,6.231494343355053,6.922340179701783,5.853182691958623,5.586715417536029,6.1573884629248425,5.909038655966545,5.7977637449099735,6.042503611788114,5.142363078673368,5.89384015498755,6.332410001736656,5.741841268747739,5.953356270061135,4.749691110860014,5.084689186256076,5.116328381634846,6.272687075753462,6.280787312244554,6.652744582205546,6.030287496226239,6.343546212647781,5.542131845923682,5.942986359754497,6.557905443264753,5.013541944102181,5.940040250167543,6.013296767374247,5.800965878003746,4.450561897277599,5.632769033428916,6.357745574485049,5.233142536766864,6.128022175737588,6.51117063149241,6.490672097945758,6.387140948776877,6.63606936057786,5.5145424993816,6.166945219024,6.706798117049418,6.152266769056837,6.1616645961763306,6.222387640772631,6.6471517410737,5.735348178942681,6.266808836605244,6.1245652444302285,5.261777000352997,5.642351397471172,5.3432911677327475,5.752178699486235,6.274696702637794,5.627644361183694,5.2842502510715255,5.874794909513116,5.99936420503774,5.560551285868397,6.1938866982163026,6.420317155539299,5.662648662012794,6.364207345122098,4.989118972541258,7.2190695544190175,6.024376234539855,7.091183723431771,5.5355747897803225,6.5745833886237115,6.440499137600281,6.236706899799255,6.9972298453714545,5.869939181622277,5.950937373337964,6.163385390029625,6.729335419621309,6.370898900846439,5.994998294436293,6.057224882439446,6.507283573698823,6.828842062342916,5.7666395631158816,6.7065879038852225,6.432888102898506,6.5916001177730426,5.99773032336874,5.809590712109178,5.959688943261296,5.606290134225133,5.429003728065726,6.490772287665598,5.764465578668183,6.406729709602292,6.480820768199967,5.324199825583575,6.072517923935953,6.110816487094836,5.6713989152900925,5.647719903875182,6.217185681251068,6.186764425611138,5.7331234885071325,7.43903730612854,6.446096285452651,6.478331167027099,6.489872989422681,5.709217235832676,5.652245449916488,6.092032479979739,6.087284560623517,7.244621456073186,6.312506721430859,5.375699265588799,6.4547761141845585,5.7488339010759555,5.4381574502098315,5.477645954674764,5.997256096722317,5.782681536314606,6.024212651199492,5.791699320678087,6.45065990745692,6.297224868200721,5.799677086317468,5.679943675603456,6.756252938200453,6.28117334894575,6.335030231872464,5.243047110282285,6.319191628245599,6.055521243062504,5.478927501409856,5.54153304633436,5.7165211598283365,5.24822190272122,6.129766356859134,5.861168905430829,5.260643769115342,5.68850515360756,6.0941824580652355,6.101361118821161,5.971427549769334,6.094274172282669,5.7925859919548115,5.669201638818861,5.676904163624495,5.489726245241002,5.635830193756693,6.587519989093771,6.6208850848796805,5.86920844833364,5.651949550424126,5.247692550991574,5.783642149445047,5.7221383208943,5.347803571011733,6.065722635452853,6.6509402867069545,5.870298747088599,6.2734462004995315,6.042659838787943,6.1918731740281965,5.563891786412072,6.206862049164273,5.565560802159937,6.41379609503277,6.829366884999458,5.78244921078843,6.378517058945333,6.4775598236126415,5.708784220861605,7.189536117419742,6.6212680004811775,6.757371606282399,6.552703471278001,5.522514307410528,6.694927729444994,5.861651450948781,5.6987676275233925,6.079846065399362,5.794282712212398,5.305759432480221,6.041508354493414,6.420396311905205,6.480087045000961,5.508557813692985,5.905200912349968,5.6804249444977275,6.167946372264742,6.40239894911932,6.05984916549412,6.350123450732992,5.770995362656079,5.4042663613309525,5.56368206348077,6.201422223039351,6.217340957340422,6.01689851285455,5.264351187585242,6.044127468365358,6.924059901418517,5.84024892221779,6.183357604885625,5.941685645534506,6.244844131846411,6.544202306108462,5.638898327992979,7.02707799419665,6.266800347083468,6.060907415325534,6.088995532286796,5.375931215588693,6.585261633563733,7.019128672257681,5.3974976450759655,5.543617540694327,5.637742672052941,4.800634358266936,5.796416763024745,5.974256387080907,6.83668006605312,5.975529968597359,5.949500911396981,5.988224173038614,5.7631253346775395,6.169726950818745,5.721794839216873,5.588189336193322,6.731074715552474,5.551267977703204,5.011105380291115,6.469616390711994,6.066716574361839,6.263269873731734,6.405262373101877,6.266717413547705,5.386885427130495,6.686915405723047,6.799166654422637,6.326022697411807,6.471675181356824,6.380701010385147,5.7729708811079545,6.08988203404655,6.027188221424332,6.010012613628044,5.647234051855856,5.907937541034941,6.007681499691366,5.907592616337891,6.290498019133182,5.7345573716073135,5.443295088073102,5.710038838421652,6.311061228461695,5.600587147764894,5.55783751038515,5.560781275763031,6.153243731840207,5.508472289199666,5.959678813806208,6.46998017724306,5.4906356158958864,6.127983664006712,5.517410387993503,5.573477090908921,7.304183353894997,5.54850558094042,6.653187734645637,6.860751495581384,5.879308290725958,6.065452513293264,5.952612013796447,6.208875692867895,5.532672846845356,6.101478551458444,5.601757860073753,5.932440105380295,5.445245875123994,5.615318435076722,7.030107763530946,5.686594475765511,5.3271596509425585,6.811966693078169,6.239292472898558,5.534667385715341,6.180481324873894,6.078439058222491,5.785028290211985,6.0640769019033405,6.2150054332230695,5.353649044012879,5.520821371511127,6.090122461277984,5.2709593612110455,5.574422188893204,6.813137505853973,6.084671899073884,5.77126246316208,6.168177676166666,5.585953313051322,4.772701150290316,6.577905262830847,5.717427282282881,6.610806851333388,7.189696662882657,6.135501312770909,6.488016520913459,5.83386004409876,5.7455254845228785,5.5976180111421225,5.895148232545469,5.7200476737292565,5.677017686526867,5.620215024820943,5.888585677658068,6.307488540328921,5.5714894756392335,5.202048647416969,6.187844372430346,6.0201605242580545,6.187670774171212,5.860607922266349,5.9768021527193325,5.350330182653753,6.426238210252861,5.725431834356511,6.901692821633582,6.091443061479079,6.286344220803582,5.473980294418537,6.561428163868655,6.056019700854966,5.230751145471875,5.994732759046794,6.40093840187121,5.239711805148905,5.287568532743382,6.702276824337492,6.390823875049058,6.288179004993562,5.257469815466064,4.99181267965186,5.007697604552971,5.734904193169682,4.98972648830264,5.777360334401301,5.387362419855448,6.203936700615372,6.262895702013559,6.237826214618779,6.293075294749007,5.754703636348387,5.5557243232727105,5.428779120012661,6.380155649531658,5.546368939518352,5.9338410083705675,6.067217323897325,5.581242527549312,5.835714724560879,7.02687219689924,5.678836057064473,5.22921236050782,6.339557544848701,5.961382721014951,6.459054501996301,5.737893920183546,5.285551822711121,6.287845537975039,5.814203692509081,6.574943403606645,5.695368752452297,5.451845165217587,6.307320643434114,5.212672581628794,6.360057024493225,6.286217053360398,5.829583831544841,5.6615163577736904,6.265534344513684,6.380834714299222,5.583106045703725,5.59841357977566,5.799539037627682,6.125086272070895,6.921489801542816,5.612356665185342,6.35555887009606,5.6130816051122965,6.0503401669462,6.182554864525355,6.534872504699742,6.073639719396987,6.404390728583288,5.859762345779525,5.753123186168113,5.92745088370783,6.241753273092366,6.416467311515292,5.6977565615980295,5.6042863531418705,6.1627915662210855,5.753816930519005,6.457595655012845,5.3898034553430705,5.955277618409831,6.098850825035442,6.733685647305508,7.0804633231294325,6.023563630635067,6.238736006585165,6.624830105996902,6.5053883330100835,6.227567517098994,6.873218014570312,6.312978146134478,5.647672961304149,6.7255469393840634,5.963641823380719,5.782233284979997,5.8602135735379735,6.445949075798757,5.810938179480248,6.101464189453819,5.8435663895504595,5.910148482269565,6.403918666755695,6.532568440538756,6.406600659013733,5.651221867116109,6.0610381468779595,5.3026766726389525,5.832935276913451,6.207107190980459,5.578192442959918,6.406342814826094,5.1115230777911265,5.786098571292052,7.0315775112472,6.7284968829837,6.062084330448973,5.495847181070437,5.52349152609144,5.48539497414108,7.212297855793535,5.276901946944326,6.46324588349447,6.34744063202917,5.780885700646618,6.1986457186817505,5.864556216965752,5.996628885216209,5.803498233640629,6.1250685788749255,6.272259365861599,6.147085617062585,5.003367424639212,5.203364462072804,6.370944795082909,5.668672100732773,6.44135045615743,6.248822868140049,6.164748410579875,5.5022600520255205,5.70108657907723,5.07844632930075,5.574986354114194,6.3875147614871075,6.51729428770995,4.877740290045256,5.61652042071719,5.717850521768781,5.924479477372223,6.154258237389909,6.2576231930205255,5.2888518915326745,5.714168048013812,5.925030894095085,5.992416951427302,6.525356494633335,6.310241638468994,5.106019834693835,5.185440812054181,6.515264517555161,7.129871447696272,6.710409391990142,5.2346810732735465,6.246633956162477,5.277436538923451,5.639744938943071,6.2602329600236475,6.5927293189362,6.7306377226514424,5.156719881185566,5.285043542658439,5.306418983819655,5.98748192367169,5.658426723467874,6.585398047975061,6.152936185985756,6.038538290998017,6.6688892828071005,5.310989190341299,6.254031463777785,5.936465229375121,7.202672703541851,5.481000577562582,6.573352366422018,6.565934151432653,5.963070605910382,4.703993503870662,5.569479065428424,5.841231347973135,6.30823110148428,6.870229828156158,5.632990848262291,5.11784648823657,5.9887194953577385,5.54137985244054,6.1130441001459035,5.4023137017009715,5.526830141516784,5.793984606446583,4.81138307081849,6.315279228838517,5.620217457780794,5.749781450851384,6.175892166174765,5.165085171420876,4.981217329703335,6.98762270222208,6.2727934430711665,5.063751991373283,5.783049806917374,5.740594872236669,5.733937092218041,5.808890385075265,6.367057264560377,5.752625950857811,6.328935014527529,5.9999843616181,5.586525134332243,5.831930345180906,5.706265273723944,5.691071239702469,5.312098090930089,6.4032555426256845,6.006243356176039,6.455616168111986,6.077503750099548,6.471787763083586,6.3412555319043316,6.712718060964685,5.363740128762264,5.804949681646798,5.810399835850427,6.206257699508778,5.450494204395783,6.394188111231449,5.741577989548073,4.835064299043919,5.856644452288577,5.838891865385025,6.374689742397991,5.892788167493967,5.61642094721123,5.858515413220517,5.460635698990063,6.299722116578367,5.7798793022957575,6.9925990741096395,4.635754726116389,6.360613706428477,5.756343765606113,5.56418020587794,6.516145639205651,5.8165491264971685,5.967524424955157,5.93500869742542,5.801153010793068,5.692480676564504,5.3751703471417915,6.012804305861251,5.372666551376234,6.7477432053647215,6.36402768655873,6.438935869546007,5.884594128102292,5.86450712525609,5.356785368772875,5.7271615985112385,7.171533015957502,5.835526342970678,5.694307397133739,6.066847920046251,6.087236733873914,6.025003423373411,5.340111863541431,6.240682480429612,5.584763032840068,5.323747608190695,5.098272198618713,6.792159298951836,6.022164247060332,6.295565411917515,6.308289671147249,6.076515843980788,5.727516744742416,6.097366399725561,6.488183017330864,5.604243499544985,5.518694643317256,5.7321022145070035,6.209421742342668,5.9690443507573825,6.508722524809658,5.962028342568514,5.890153848571771,6.059569566765736,6.728734037916345,6.138511025420891,5.343299767474397,5.748253326143819,6.428101470388743,6.217186221188508,5.4426515547612215,5.819690766525026,6.8201165221610385,5.932811942122137,4.928148117850565,6.585589910409755,5.618071321644394,6.566932901250269,6.139416080309464,6.336227008281243,5.9139182447544005,4.974271596177473,5.767136833057765,6.8177454864165625,5.812925782878899,6.178274745649721,6.645386918326959,6.026421589220585,5.710291328886863,6.680407707345914,5.867685709688522,6.121354483904766,5.880857131315849,6.284424589730875,6.155433986611201,5.443493121420352,6.464670845436436,5.589572413680542,6.06338928353705,6.227067952654867,5.539819782933771,6.814987875638641,6.535734236294954,6.147529130820441,5.908276851098011,5.6578488155902145,5.837916215712165,5.621310029348259,6.108382135737439,6.759302706563189,7.014044349149595,5.750592622748068,5.810307586006355,5.466413289494416,5.920605487217317,6.585657349004225,6.790057413367792,6.184908965773354,5.327800986134272,6.284852341308016,5.795936057603993,6.233380492778335,5.764813913512,5.124393166623645,5.923586836449611,6.649066494030725,6.06890993592102,5.9529071210427436,5.527016645028211,5.6507261993423334,5.809826407118035,5.4692371926841075,5.439717090690237,5.885213686172902,5.7630742789452665,5.545117206309123,5.848284375393066,5.634178481467191,5.702034514714935,6.5306153732394066,6.11748538731211,6.188688584305168,7.1226300782246526,7.346658950444056,6.579699398628977,5.836136825083166,5.284352602516483,6.141853936453379,5.619434098961554,5.464582094534081,6.884942090726899,5.637773342048787,6.515402810822822,5.95496291711709,5.770913294873805,6.476234730864949,5.105275675568256,6.360935205891171,5.905159589530357,5.955648965721409,6.519649381555959,6.489392797599829,5.724552448662634,5.739488899413433,6.069027417352537,5.817151832279145,6.516033467758257,6.062920500205174,5.354082768705634,5.8145911034415025,5.652109016928616,6.142135758732059,6.043456231825763,5.837500282473326,5.864860587499691,5.924219616574695,5.58234968776586,5.599312876855292,6.1575561649961426,5.45797490663059,6.5022636464312615,5.662595189654925,6.118619687725627,6.749438077110227,5.283287948200647,6.3163047552954446,6.337977993167784,6.357079286333825,4.8406888822851055,5.648321654866659,6.4847037643359835,5.522100153491779,5.6505257379523925,5.400149899952508,6.0009112603800805,5.049650618243906,7.067485906088082,5.986080960803302,5.319881555645582,5.664602268258853,6.524706176787387,5.865293050307235,6.475542931009749,5.434419644622868,6.0051798771306135,5.713846493348012,6.609894011985694,5.355200914034384,5.8454587729018845,6.192086275084255,6.002750826143101,6.593947251933228,6.291739906493436,5.925803863292839,6.174924837239518,6.519725056771332,6.747820762096578,5.613622133235457,6.62748136321253,5.542040425416101,6.518675865308442,6.823494795994671,6.286875291508368,5.769743556692845,6.194652292413161,6.564299655766975,5.579475118671559,6.108039259420693,6.262977745396614,6.068591301662413,6.430653087790668,6.029569295783501,4.717595457765089,5.83566776647596,6.151336457557046,6.371067707081892,4.7414951093873166,6.527917561672719,6.272498355135943,5.982909328900514,6.215615324215807,5.7262764489626115,6.570050384047178,6.114786107791355,5.524056631202732,6.040828948763013,5.83536737578558,6.239223268352759,5.569786183034839,6.144819783880146,6.134082565218734,5.839831517969509,5.727434193949225,6.204202427888537],\"type\":\"histogram\",\"xaxis\":\"x4\",\"yaxis\":\"y4\",\"xbins\":{\"end\":10,\"start\":0}}],                        {\"template\":{\"data\":{\"histogram2dcontour\":[{\"type\":\"histogram2dcontour\",\"colorbar\":{\"outlinewidth\":0,\"ticks\":\"\"},\"colorscale\":[[0.0,\"#0d0887\"],[0.1111111111111111,\"#46039f\"],[0.2222222222222222,\"#7201a8\"],[0.3333333333333333,\"#9c179e\"],[0.4444444444444444,\"#bd3786\"],[0.5555555555555556,\"#d8576b\"],[0.6666666666666666,\"#ed7953\"],[0.7777777777777778,\"#fb9f3a\"],[0.8888888888888888,\"#fdca26\"],[1.0,\"#f0f921\"]]}],\"choropleth\":[{\"type\":\"choropleth\",\"colorbar\":{\"outlinewidth\":0,\"ticks\":\"\"}}],\"histogram2d\":[{\"type\":\"histogram2d\",\"colorbar\":{\"outlinewidth\":0,\"ticks\":\"\"},\"colorscale\":[[0.0,\"#0d0887\"],[0.1111111111111111,\"#46039f\"],[0.2222222222222222,\"#7201a8\"],[0.3333333333333333,\"#9c179e\"],[0.4444444444444444,\"#bd3786\"],[0.5555555555555556,\"#d8576b\"],[0.6666666666666666,\"#ed7953\"],[0.7777777777777778,\"#fb9f3a\"],[0.8888888888888888,\"#fdca26\"],[1.0,\"#f0f921\"]]}],\"heatmap\":[{\"type\":\"heatmap\",\"colorbar\":{\"outlinewidth\":0,\"ticks\":\"\"},\"colorscale\":[[0.0,\"#0d0887\"],[0.1111111111111111,\"#46039f\"],[0.2222222222222222,\"#7201a8\"],[0.3333333333333333,\"#9c179e\"],[0.4444444444444444,\"#bd3786\"],[0.5555555555555556,\"#d8576b\"],[0.6666666666666666,\"#ed7953\"],[0.7777777777777778,\"#fb9f3a\"],[0.8888888888888888,\"#fdca26\"],[1.0,\"#f0f921\"]]}],\"heatmapgl\":[{\"type\":\"heatmapgl\",\"colorbar\":{\"outlinewidth\":0,\"ticks\":\"\"},\"colorscale\":[[0.0,\"#0d0887\"],[0.1111111111111111,\"#46039f\"],[0.2222222222222222,\"#7201a8\"],[0.3333333333333333,\"#9c179e\"],[0.4444444444444444,\"#bd3786\"],[0.5555555555555556,\"#d8576b\"],[0.6666666666666666,\"#ed7953\"],[0.7777777777777778,\"#fb9f3a\"],[0.8888888888888888,\"#fdca26\"],[1.0,\"#f0f921\"]]}],\"contourcarpet\":[{\"type\":\"contourcarpet\",\"colorbar\":{\"outlinewidth\":0,\"ticks\":\"\"}}],\"contour\":[{\"type\":\"contour\",\"colorbar\":{\"outlinewidth\":0,\"ticks\":\"\"},\"colorscale\":[[0.0,\"#0d0887\"],[0.1111111111111111,\"#46039f\"],[0.2222222222222222,\"#7201a8\"],[0.3333333333333333,\"#9c179e\"],[0.4444444444444444,\"#bd3786\"],[0.5555555555555556,\"#d8576b\"],[0.6666666666666666,\"#ed7953\"],[0.7777777777777778,\"#fb9f3a\"],[0.8888888888888888,\"#fdca26\"],[1.0,\"#f0f921\"]]}],\"surface\":[{\"type\":\"surface\",\"colorbar\":{\"outlinewidth\":0,\"ticks\":\"\"},\"colorscale\":[[0.0,\"#0d0887\"],[0.1111111111111111,\"#46039f\"],[0.2222222222222222,\"#7201a8\"],[0.3333333333333333,\"#9c179e\"],[0.4444444444444444,\"#bd3786\"],[0.5555555555555556,\"#d8576b\"],[0.6666666666666666,\"#ed7953\"],[0.7777777777777778,\"#fb9f3a\"],[0.8888888888888888,\"#fdca26\"],[1.0,\"#f0f921\"]]}],\"mesh3d\":[{\"type\":\"mesh3d\",\"colorbar\":{\"outlinewidth\":0,\"ticks\":\"\"}}],\"scatter\":[{\"fillpattern\":{\"fillmode\":\"overlay\",\"size\":10,\"solidity\":0.2},\"type\":\"scatter\"}],\"parcoords\":[{\"type\":\"parcoords\",\"line\":{\"colorbar\":{\"outlinewidth\":0,\"ticks\":\"\"}}}],\"scatterpolargl\":[{\"type\":\"scatterpolargl\",\"marker\":{\"colorbar\":{\"outlinewidth\":0,\"ticks\":\"\"}}}],\"bar\":[{\"error_x\":{\"color\":\"#2a3f5f\"},\"error_y\":{\"color\":\"#2a3f5f\"},\"marker\":{\"line\":{\"color\":\"#E5ECF6\",\"width\":0.5},\"pattern\":{\"fillmode\":\"overlay\",\"size\":10,\"solidity\":0.2}},\"type\":\"bar\"}],\"scattergeo\":[{\"type\":\"scattergeo\",\"marker\":{\"colorbar\":{\"outlinewidth\":0,\"ticks\":\"\"}}}],\"scatterpolar\":[{\"type\":\"scatterpolar\",\"marker\":{\"colorbar\":{\"outlinewidth\":0,\"ticks\":\"\"}}}],\"histogram\":[{\"marker\":{\"pattern\":{\"fillmode\":\"overlay\",\"size\":10,\"solidity\":0.2}},\"type\":\"histogram\"}],\"scattergl\":[{\"type\":\"scattergl\",\"marker\":{\"colorbar\":{\"outlinewidth\":0,\"ticks\":\"\"}}}],\"scatter3d\":[{\"type\":\"scatter3d\",\"line\":{\"colorbar\":{\"outlinewidth\":0,\"ticks\":\"\"}},\"marker\":{\"colorbar\":{\"outlinewidth\":0,\"ticks\":\"\"}}}],\"scattermapbox\":[{\"type\":\"scattermapbox\",\"marker\":{\"colorbar\":{\"outlinewidth\":0,\"ticks\":\"\"}}}],\"scatterternary\":[{\"type\":\"scatterternary\",\"marker\":{\"colorbar\":{\"outlinewidth\":0,\"ticks\":\"\"}}}],\"scattercarpet\":[{\"type\":\"scattercarpet\",\"marker\":{\"colorbar\":{\"outlinewidth\":0,\"ticks\":\"\"}}}],\"carpet\":[{\"aaxis\":{\"endlinecolor\":\"#2a3f5f\",\"gridcolor\":\"white\",\"linecolor\":\"white\",\"minorgridcolor\":\"white\",\"startlinecolor\":\"#2a3f5f\"},\"baxis\":{\"endlinecolor\":\"#2a3f5f\",\"gridcolor\":\"white\",\"linecolor\":\"white\",\"minorgridcolor\":\"white\",\"startlinecolor\":\"#2a3f5f\"},\"type\":\"carpet\"}],\"table\":[{\"cells\":{\"fill\":{\"color\":\"#EBF0F8\"},\"line\":{\"color\":\"white\"}},\"header\":{\"fill\":{\"color\":\"#C8D4E3\"},\"line\":{\"color\":\"white\"}},\"type\":\"table\"}],\"barpolar\":[{\"marker\":{\"line\":{\"color\":\"#E5ECF6\",\"width\":0.5},\"pattern\":{\"fillmode\":\"overlay\",\"size\":10,\"solidity\":0.2}},\"type\":\"barpolar\"}],\"pie\":[{\"automargin\":true,\"type\":\"pie\"}]},\"layout\":{\"autotypenumbers\":\"strict\",\"colorway\":[\"#636efa\",\"#EF553B\",\"#00cc96\",\"#ab63fa\",\"#FFA15A\",\"#19d3f3\",\"#FF6692\",\"#B6E880\",\"#FF97FF\",\"#FECB52\"],\"font\":{\"color\":\"#2a3f5f\"},\"hovermode\":\"closest\",\"hoverlabel\":{\"align\":\"left\"},\"paper_bgcolor\":\"white\",\"plot_bgcolor\":\"#E5ECF6\",\"polar\":{\"bgcolor\":\"#E5ECF6\",\"angularaxis\":{\"gridcolor\":\"white\",\"linecolor\":\"white\",\"ticks\":\"\"},\"radialaxis\":{\"gridcolor\":\"white\",\"linecolor\":\"white\",\"ticks\":\"\"}},\"ternary\":{\"bgcolor\":\"#E5ECF6\",\"aaxis\":{\"gridcolor\":\"white\",\"linecolor\":\"white\",\"ticks\":\"\"},\"baxis\":{\"gridcolor\":\"white\",\"linecolor\":\"white\",\"ticks\":\"\"},\"caxis\":{\"gridcolor\":\"white\",\"linecolor\":\"white\",\"ticks\":\"\"}},\"coloraxis\":{\"colorbar\":{\"outlinewidth\":0,\"ticks\":\"\"}},\"colorscale\":{\"sequential\":[[0.0,\"#0d0887\"],[0.1111111111111111,\"#46039f\"],[0.2222222222222222,\"#7201a8\"],[0.3333333333333333,\"#9c179e\"],[0.4444444444444444,\"#bd3786\"],[0.5555555555555556,\"#d8576b\"],[0.6666666666666666,\"#ed7953\"],[0.7777777777777778,\"#fb9f3a\"],[0.8888888888888888,\"#fdca26\"],[1.0,\"#f0f921\"]],\"sequentialminus\":[[0.0,\"#0d0887\"],[0.1111111111111111,\"#46039f\"],[0.2222222222222222,\"#7201a8\"],[0.3333333333333333,\"#9c179e\"],[0.4444444444444444,\"#bd3786\"],[0.5555555555555556,\"#d8576b\"],[0.6666666666666666,\"#ed7953\"],[0.7777777777777778,\"#fb9f3a\"],[0.8888888888888888,\"#fdca26\"],[1.0,\"#f0f921\"]],\"diverging\":[[0,\"#8e0152\"],[0.1,\"#c51b7d\"],[0.2,\"#de77ae\"],[0.3,\"#f1b6da\"],[0.4,\"#fde0ef\"],[0.5,\"#f7f7f7\"],[0.6,\"#e6f5d0\"],[0.7,\"#b8e186\"],[0.8,\"#7fbc41\"],[0.9,\"#4d9221\"],[1,\"#276419\"]]},\"xaxis\":{\"gridcolor\":\"white\",\"linecolor\":\"white\",\"ticks\":\"\",\"title\":{\"standoff\":15},\"zerolinecolor\":\"white\",\"automargin\":true,\"zerolinewidth\":2},\"yaxis\":{\"gridcolor\":\"white\",\"linecolor\":\"white\",\"ticks\":\"\",\"title\":{\"standoff\":15},\"zerolinecolor\":\"white\",\"automargin\":true,\"zerolinewidth\":2},\"scene\":{\"xaxis\":{\"backgroundcolor\":\"#E5ECF6\",\"gridcolor\":\"white\",\"linecolor\":\"white\",\"showbackground\":true,\"ticks\":\"\",\"zerolinecolor\":\"white\",\"gridwidth\":2},\"yaxis\":{\"backgroundcolor\":\"#E5ECF6\",\"gridcolor\":\"white\",\"linecolor\":\"white\",\"showbackground\":true,\"ticks\":\"\",\"zerolinecolor\":\"white\",\"gridwidth\":2},\"zaxis\":{\"backgroundcolor\":\"#E5ECF6\",\"gridcolor\":\"white\",\"linecolor\":\"white\",\"showbackground\":true,\"ticks\":\"\",\"zerolinecolor\":\"white\",\"gridwidth\":2}},\"shapedefaults\":{\"line\":{\"color\":\"#2a3f5f\"}},\"annotationdefaults\":{\"arrowcolor\":\"#2a3f5f\",\"arrowhead\":0,\"arrowwidth\":1},\"geo\":{\"bgcolor\":\"white\",\"landcolor\":\"#E5ECF6\",\"subunitcolor\":\"white\",\"showland\":true,\"showlakes\":true,\"lakecolor\":\"white\"},\"title\":{\"x\":0.05},\"mapbox\":{\"style\":\"light\"}}},\"xaxis\":{\"anchor\":\"y\",\"domain\":[0.0,0.2125],\"title\":{\"text\":\"A\"},\"range\":[-0.5,10.5]},\"yaxis\":{\"anchor\":\"x\",\"domain\":[0.0,1.0]},\"xaxis2\":{\"anchor\":\"y2\",\"domain\":[0.2625,0.475],\"title\":{\"text\":\"B\"},\"range\":[-0.5,10.5]},\"yaxis2\":{\"anchor\":\"x2\",\"domain\":[0.0,1.0]},\"xaxis3\":{\"anchor\":\"y3\",\"domain\":[0.525,0.7375],\"title\":{\"text\":\"C\"},\"range\":[-0.5,10.5]},\"yaxis3\":{\"anchor\":\"x3\",\"domain\":[0.0,1.0]},\"xaxis4\":{\"anchor\":\"y4\",\"domain\":[0.7875,1.0],\"title\":{\"text\":\"D\"},\"range\":[-0.5,10.5]},\"yaxis4\":{\"anchor\":\"x4\",\"domain\":[0.0,1.0]},\"title\":{\"text\":\"Row of Histograms\"},\"height\":300,\"width\":750},                        {\"responsive\": true}                    ).then(function(){\n",
       "                            \n",
       "var gd = document.getElementById('15365e5d-c7fb-493b-9788-d7ed76bd0b02');\n",
       "var x = new MutationObserver(function (mutations, observer) {{\n",
       "        var display = window.getComputedStyle(gd).display;\n",
       "        if (!display || display === 'none') {{\n",
       "            console.log([gd, 'removed!']);\n",
       "            Plotly.purge(gd);\n",
       "            observer.disconnect();\n",
       "        }}\n",
       "}});\n",
       "\n",
       "// Listen for the removal of the full notebook cells\n",
       "var notebookContainer = gd.closest('#notebook-container');\n",
       "if (notebookContainer) {{\n",
       "    x.observe(notebookContainer, {childList: true});\n",
       "}}\n",
       "\n",
       "// Listen for the clearing of the current output cell\n",
       "var outputEl = gd.closest('.output');\n",
       "if (outputEl) {{\n",
       "    x.observe(outputEl, {childList: true});\n",
       "}}\n",
       "\n",
       "                        })                };                });            </script>        </div>"
      ]
     },
     "metadata": {},
     "output_type": "display_data"
    }
   ],
   "source": [
    "from scipy import stats\n",
    "import plotly.graph_objects as go\n",
    "from plotly.subplots import make_subplots\n",
    "import numpy as np\n",
    "\n",
    "n = 1500\n",
    "data1 = stats.uniform.rvs(0, 10, size=n)\n",
    "data2 = stats.norm.rvs(5, 1.5, size=n)\n",
    "data3 = np.r_[stats.norm.rvs(2, 0.25, size=int(n/2)), stats.norm.rvs(8, 0.5, size=int(n/2))]\n",
    "data4 = stats.norm.rvs(6, 0.5, size=n)\n",
    "\n",
    "fig = make_subplots(rows=1, cols=4)\n",
    "\n",
    "fig.add_trace(go.Histogram(x=data1, name='A', nbinsx=30, marker=dict(line=dict(color='black', width=1))), row=1, col=1)\n",
    "fig.add_trace(go.Histogram(x=data2, name='B', nbinsx=15, marker=dict(line=dict(color='black', width=1))), row=1, col=2)\n",
    "fig.add_trace(go.Histogram(x=data3, name='C', nbinsx=45, marker=dict(line=dict(color='black', width=1))), row=1, col=3)\n",
    "fig.add_trace(go.Histogram(x=data4, name='D', nbinsx=15, marker=dict(line=dict(color='black', width=1))), row=1, col=4)\n",
    "\n",
    "fig.update_layout(height=300, width=750, title_text=\"Row of Histograms\")\n",
    "fig.update_xaxes(title_text=\"A\", row=1, col=1)\n",
    "fig.update_xaxes(title_text=\"B\", row=1, col=2)\n",
    "fig.update_xaxes(title_text=\"C\", row=1, col=3)\n",
    "fig.update_xaxes(title_text=\"D\", row=1, col=4)\n",
    "fig.update_xaxes(range=[-0.5, 10.5])\n",
    "\n",
    "for trace in fig.data:\n",
    "    trace.xbins = dict(start=0, end=10)\n",
    "    \n",
    "# This code was produced by just making requests to Microsoft Copilot\n",
    "# https://github.com/pointOfive/stat130chat130/blob/main/CHATLOG/wk3/COP/SLS/0001_concise_makeAplotV1.md\n",
    "\n",
    "fig.show() # USE `fig.show(renderer=\"png\")` FOR ALL GitHub and MarkUs SUBMISSIONS"
   ]
  },
  {
   "cell_type": "code",
   "execution_count": null,
   "id": "447dd03c",
   "metadata": {},
   "outputs": [],
   "source": [
    "1)Data set B and data set D have similar means and similar variances."
   ]
  },
  {
   "cell_type": "code",
   "execution_count": null,
   "id": "c4bd125f",
   "metadata": {},
   "outputs": [],
   "source": [
    "2)Data set A and Data set C have similar means but quite different variances."
   ]
  },
  {
   "cell_type": "code",
   "execution_count": null,
   "id": "bf604c38",
   "metadata": {},
   "outputs": [],
   "source": [
    "3)Data set C and Data set D have similar variances but quite different means."
   ]
  },
  {
   "cell_type": "code",
   "execution_count": null,
   "id": "d72163f2",
   "metadata": {},
   "outputs": [],
   "source": [
    "4)Data set A and Data set D have quite different means and quite different variances."
   ]
  },
  {
   "cell_type": "code",
   "execution_count": null,
   "id": "dabe7aea",
   "metadata": {},
   "outputs": [],
   "source": [
    "5. Start a new ChatBot session to explore the general relationship between the mean and median and \"right\" and \"left\" skewness\n",
    "(and why this is); what the following code does and how it works; and then explain (in your own words) the relationship between \n",
    "the mean and median and \"right\" and \"left\" skewness and what causes this, using and extending the code to demonstrate your explanation\n",
    "through a sequence of notebook cells."
   ]
  },
  {
   "cell_type": "code",
   "execution_count": null,
   "id": "34603148",
   "metadata": {},
   "outputs": [],
   "source": [
    "If the mean is greater than the median, then it is a right skewed. If the median is greater than the median, then it is a left skewed."
   ]
  },
  {
   "cell_type": "code",
   "execution_count": null,
   "id": "7531889b",
   "metadata": {},
   "outputs": [],
   "source": [
    "6. Go find an interesting dataset and use summary statistics and visualizations to understand and demonstate some interesting aspects\n",
    "of the data\n",
    "1)Your approach should likely follow what was suggested for the Week 02 TUT Communication Activity from TUT\n",
    "2)In the Week 03 TUT Communication Activity from TUT you will be put in groups and determine which group members dataset introduction\n",
    "will be presented by the group"
   ]
  },
  {
   "cell_type": "code",
   "execution_count": null,
   "id": "2431d299",
   "metadata": {},
   "outputs": [],
   "source": [
    "I said:\n",
    "Go find an interesting dataset and use summary statistics and visualizations to understand and demonstate some interesting aspects\n",
    "of the data\n",
    "\n",
    "ChatGPT said:\n",
    "\n",
    "To explore and visualize some interesting aspects of a dataset, there are various options you could consider. For example:\n",
    "\n",
    "New York City Squirrel Census: This dataset includes detailed observations of squirrels in Central Park, covering aspects like\n",
    "behavior, coat color, and locations of sightings. You could analyze and visualize data to answer questions like which squirrel b\n",
    "ehaviors are most common or which coat colors dominate in different areas of the park.\n",
    "\n",
    "Fake Job Posts: This dataset from Kaggle contains real and fake job postings. It can be used to build machine learning models to \n",
    "predict the authenticity of job postings based on their content. This is ideal for classification tasks and can help in\n",
    "understanding the characteristics of fraudulent job posts.\n",
    "\n",
    "Pokémon Dataset: Covering all seven generations, this dataset provides attributes like base stats, abilities, and more for Pokémon. \n",
    "You can use this to identify trends, such as which Pokémon type tends to have the highest overall base stats or how the distribution\n",
    "of stats has changed over generations.\n",
    "\n",
    "Bigfoot Sightings: This dataset contains geographical and meteorological data on Bigfoot sightings. You could analyze this data to\n",
    "find patterns, such as which regions have the most sightings or if sightings are correlated with particular weather conditions.\n",
    "\n",
    "Million Song Dataset: If you are interested in music, this dataset includes audio features from a million songs, which you can use\n",
    "to perform predictive analysis on what makes a song popular.\n",
    "\n",
    "These datasets and many others can be found on platforms like Kaggle, data.world, and Data.gov, which host a variety of open datasets\n",
    "for different analysis tasks. Using these datasets, you can calculate summary statistics and create visualizations \n",
    "(e.g., histograms, scatter plots) to explore relationships, distributions, and trends, depending on the nature of your analysis."
   ]
  },
  {
   "cell_type": "code",
   "execution_count": null,
   "id": "338c909e",
   "metadata": {},
   "outputs": [],
   "source": [
    "7. Watch the classic Gapminder Video, then have a look at the plotly version and recreate the animation \n",
    "(perhaps after optionally exploring and changing the style, if you wish)"
   ]
  },
  {
   "cell_type": "code",
   "execution_count": null,
   "id": "2a1b167f",
   "metadata": {},
   "outputs": [],
   "source": [
    "I siad: Watch the classic Gapminder Video, then have a look at the plotly version and recreate the animation \n",
    "    (perhaps after optionally exploring and changing the style, if you wish)\n",
    "\n",
    "ChatGPT said:\n",
    "\n",
    "The classic Gapminder video by Hans Rosling, which visualizes the evolution of global health and wealth over time, has been\n",
    "recreated using the Plotly library. The animated visualization shows how different countries' life expectancy and GDP per capita\n",
    "have evolved, distinguishing regions through colors and scaling country points based on population.\n",
    "\n",
    "To recreate this visualization in Python, you can use the Gapminder dataset, which is available on the Plotly website. You can\n",
    "load the data into a Pandas DataFrame and then use Plotly Express to create an interactive bubble chart. The main parameters to set\n",
    "are x='gdpPercap', y='lifeExp', size='pop', color='continent', and animation_frame='year'.\n",
    "\n",
    "For more detailed instructions, refer to the GitHub repository that provides a complete notebook for this visualization here​(GitHub).\n",
    "This resource demonstrates how to customize animations and set up sliders to control the year transitions, along with play/pause \n",
    "buttons for a smoother interactive experience.\n",
    "\n",
    "Would you like to see a basic implementation of this animation using Plotly?"
   ]
  },
  {
   "cell_type": "code",
   "execution_count": null,
   "id": "ed66e5f7",
   "metadata": {},
   "outputs": [],
   "source": [
    "8. Provide a second version of the figure from the previous problem where you edit the fig = px.scatter() function from the \n",
    "Gapminder code so that x is \"percent change\", y is \"rank\", size is \"percent\", and color=\"sex\", animation_frame is \"year\", and \n",
    "animation_group and hover_name are \"name\". Then use size_max=50, range_x=[-0.005,0.005]) and remove the log_x=True and range_y\n",
    "parameters"
   ]
  },
  {
   "cell_type": "code",
   "execution_count": null,
   "id": "981891ab",
   "metadata": {},
   "outputs": [],
   "source": [
    "bn = pd.read_csv('https://raw.githubusercontent.com/hadley/data-baby-names/master/baby-names.csv')\n",
    "bn['name'] = bn['name']+\" \"+bn['sex'] # make identical boy and girl names distinct\n",
    "bn['rank'] = bn.groupby('year')['percent'].rank(ascending=False)\n",
    "bn = bn.sort_values(['name','year'])\n",
    "# the next three lines create the increaes or decrease in name prevalence from the last year \n",
    "bn['percent change'] = bn['percent'].diff()\n",
    "new_name = [True]+list(bn.name[:-1].values!=bn.name[1:].values)\n",
    "bn.loc[new_name,'percentage change'] = bn.loc[new_name,'percent'] \n",
    "bn = bn.sort_values('year')\n",
    "bn = bn[bn.percent>0.001] # restrict to \"common\" names\n",
    "fig = px.scatter(bn, x=\"\", y=\"\", animation_frame=\"\", animation_group=\"\",\n",
    "                 size=\"\", color=\"\", hover_name=\"\",size_max=50, range_x=[-0.005,0.005]) # range_y removed\n",
    "fig.update_yaxes(autorange='reversed') # this lets us put rank 1 on the top\n",
    "fig.show(renderer=\"png\") # USE `fig.show(renderer=\"png\")` FOR ALL GitHub and MarkUs SUBMISSIONS"
   ]
  },
  {
   "cell_type": "code",
   "execution_count": null,
   "id": "41180146",
   "metadata": {},
   "outputs": [],
   "source": [
    "9. Have you reviewed the course wiki-textbook and interacted with a ChatBot \n",
    "(or, if that wasn't sufficient, real people in the course piazza discussion board or TA office hours) to help you understand all\n",
    " the material in the tutorial and lecture that you didn't quite follow when you first saw it?"
   ]
  },
  {
   "cell_type": "code",
   "execution_count": null,
   "id": "cbafea64",
   "metadata": {},
   "outputs": [],
   "source": [
    "Yeah, here are some contents I didn't understand when I first saw it. Such as what is kernel density estimators and I used \n",
    "chatbot to figure it out."
   ]
  }
 ],
 "metadata": {
  "kernelspec": {
   "display_name": "Python 3 (ipykernel)",
   "language": "python",
   "name": "python3"
  },
  "language_info": {
   "codemirror_mode": {
    "name": "ipython",
    "version": 3
   },
   "file_extension": ".py",
   "mimetype": "text/x-python",
   "name": "python",
   "nbconvert_exporter": "python",
   "pygments_lexer": "ipython3",
   "version": "3.11.6"
  }
 },
 "nbformat": 4,
 "nbformat_minor": 5
}
